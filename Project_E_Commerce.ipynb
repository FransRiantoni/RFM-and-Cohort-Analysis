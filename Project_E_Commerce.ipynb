{
  "nbformat": 4,
  "nbformat_minor": 0,
  "metadata": {
    "colab": {
      "name": "Project_E_Commerce.ipynb",
      "provenance": [],
      "collapsed_sections": []
    },
    "kernelspec": {
      "name": "python3",
      "display_name": "Python 3"
    }
  },
  "cells": [
    {
      "cell_type": "markdown",
      "metadata": {
        "id": "5kFzrdBM4GMo"
      },
      "source": [
        "# Import Libraries"
      ]
    },
    {
      "cell_type": "code",
      "metadata": {
        "id": "VDEc9DegsvNQ"
      },
      "source": [
        "import pandas as pd\r\n",
        "import matplotlib.pyplot as plt\r\n",
        "import numpy as np\r\n",
        "import seaborn as sns\r\n",
        "sns.set()\r\n",
        "sns.set_theme(style=\"darkgrid\")\r\n",
        "\r\n",
        "pd.set_option('display.max_rows', 10000)\r\n",
        "pd.set_option('display.max_columns', 100)"
      ],
      "execution_count": 2,
      "outputs": []
    },
    {
      "cell_type": "markdown",
      "metadata": {
        "id": "8dJVrTmO4jtK"
      },
      "source": [
        "pada proses pembacaan data, kadang kala mengalami kesulitan dalam input data dikarenakan perbedaan algoritma/format file yang ada. untuk itu peran \"encoding=...\" akan menyesuaikan format data dengan kemampuan komputer saat membacanya. sebagai contoh untuk data .csv atau .xlsx yang berformat utf-8 adalah format paling umum, namun terkadang komputer tidak mengenal format tersebut,sehingga digunakan 'ISO-8859-1' sebagai pengenal data tersebut sama seperti data utf-8."
      ]
    },
    {
      "cell_type": "markdown",
      "metadata": {
        "id": "mL-5Q-uj5xkM"
      },
      "source": [
        "hal krusial pertama yang harus dilakukan ialah mengenali isi data, sehingga kita perlu melihat kolom (features), baris, jumlah data atau hanya sekedar memastikan data terbaca dengan baik dengan mengunakan .head() dan .tail()"
      ]
    },
    {
      "cell_type": "code",
      "metadata": {
        "colab": {
          "base_uri": "https://localhost:8080/"
        },
        "id": "gsE4cvnCXm3G",
        "outputId": "e9b9f5e1-42aa-4b9a-8b4a-dd9bb3b63114"
      },
      "source": [
        "data=pd.read_csv('data.csv',encoding='ISO-8859-1',header=0,na_values=[\"\"])\r\n",
        "print(data.head(15))\r\n",
        "print(data.tail())"
      ],
      "execution_count": 3,
      "outputs": [
        {
          "output_type": "stream",
          "text": [
            "   InvoiceNo StockCode                          Description  Quantity  \\\n",
            "0     536365    85123A   WHITE HANGING HEART T-LIGHT HOLDER         6   \n",
            "1     536365     71053                  WHITE METAL LANTERN         6   \n",
            "2     536365    84406B       CREAM CUPID HEARTS COAT HANGER         8   \n",
            "3     536365    84029G  KNITTED UNION FLAG HOT WATER BOTTLE         6   \n",
            "4     536365    84029E       RED WOOLLY HOTTIE WHITE HEART.         6   \n",
            "5     536365     22752         SET 7 BABUSHKA NESTING BOXES         2   \n",
            "6     536365     21730    GLASS STAR FROSTED T-LIGHT HOLDER         6   \n",
            "7     536366     22633               HAND WARMER UNION JACK         6   \n",
            "8     536366     22632            HAND WARMER RED POLKA DOT         6   \n",
            "9     536367     84879        ASSORTED COLOUR BIRD ORNAMENT        32   \n",
            "10    536367     22745           POPPY'S PLAYHOUSE BEDROOM          6   \n",
            "11    536367     22748            POPPY'S PLAYHOUSE KITCHEN         6   \n",
            "12    536367     22749    FELTCRAFT PRINCESS CHARLOTTE DOLL         8   \n",
            "13    536367     22310              IVORY KNITTED MUG COSY          6   \n",
            "14    536367     84969   BOX OF 6 ASSORTED COLOUR TEASPOONS         6   \n",
            "\n",
            "       InvoiceDate  UnitPrice  CustomerID         Country  \n",
            "0   12/1/2010 8:26       2.55     17850.0  United Kingdom  \n",
            "1   12/1/2010 8:26       3.39     17850.0  United Kingdom  \n",
            "2   12/1/2010 8:26       2.75     17850.0  United Kingdom  \n",
            "3   12/1/2010 8:26       3.39     17850.0  United Kingdom  \n",
            "4   12/1/2010 8:26       3.39     17850.0  United Kingdom  \n",
            "5   12/1/2010 8:26       7.65     17850.0  United Kingdom  \n",
            "6   12/1/2010 8:26       4.25     17850.0  United Kingdom  \n",
            "7   12/1/2010 8:28       1.85     17850.0  United Kingdom  \n",
            "8   12/1/2010 8:28       1.85     17850.0  United Kingdom  \n",
            "9   12/1/2010 8:34       1.69     13047.0  United Kingdom  \n",
            "10  12/1/2010 8:34       2.10     13047.0  United Kingdom  \n",
            "11  12/1/2010 8:34       2.10     13047.0  United Kingdom  \n",
            "12  12/1/2010 8:34       3.75     13047.0  United Kingdom  \n",
            "13  12/1/2010 8:34       1.65     13047.0  United Kingdom  \n",
            "14  12/1/2010 8:34       4.25     13047.0  United Kingdom  \n",
            "       InvoiceNo StockCode                      Description  Quantity  \\\n",
            "541904    581587     22613      PACK OF 20 SPACEBOY NAPKINS        12   \n",
            "541905    581587     22899     CHILDREN'S APRON DOLLY GIRL          6   \n",
            "541906    581587     23254    CHILDRENS CUTLERY DOLLY GIRL          4   \n",
            "541907    581587     23255  CHILDRENS CUTLERY CIRCUS PARADE         4   \n",
            "541908    581587     22138    BAKING SET 9 PIECE RETROSPOT          3   \n",
            "\n",
            "            InvoiceDate  UnitPrice  CustomerID Country  \n",
            "541904  12/9/2011 12:50       0.85     12680.0  France  \n",
            "541905  12/9/2011 12:50       2.10     12680.0  France  \n",
            "541906  12/9/2011 12:50       4.15     12680.0  France  \n",
            "541907  12/9/2011 12:50       4.15     12680.0  France  \n",
            "541908  12/9/2011 12:50       4.95     12680.0  France  \n"
          ],
          "name": "stdout"
        }
      ]
    },
    {
      "cell_type": "markdown",
      "metadata": {
        "id": "J7ac08VC4hzk"
      },
      "source": [
        "Pendalaman kondisi data dilakukan dengan deskriptif analisis, dimana hal yang perlu diperhatikan dimulai dari jumlah data, tipe data, banyak kolom dan baris,jumlah data yang unik, hingga melihat central tendensi berupa mean,median,modus,Q1-Q2-Q3,Std. Tujuan dilakukannya hal ini akan memudakan kita mengerti tindakan selanjutnya jika kita sudah mengenali kondisi setiap feature yang ada."
      ]
    },
    {
      "cell_type": "markdown",
      "metadata": {
        "id": "jBz_86U4YPW1"
      },
      "source": [
        "**Descriptive Analysis**"
      ]
    },
    {
      "cell_type": "code",
      "metadata": {
        "colab": {
          "base_uri": "https://localhost:8080/"
        },
        "id": "Ky3SOrMOfvAZ",
        "outputId": "1a99830a-eb36-493e-ea6c-63970dbcb9df"
      },
      "source": [
        "print(data.info())\r\n",
        "print(data.columns)\r\n",
        "print('Jumlah dimensi data', data.shape)\r\n",
        "print(data.nunique())\r\n",
        "print(data.dtypes)\r\n",
        "print(data.describe())"
      ],
      "execution_count": 4,
      "outputs": [
        {
          "output_type": "stream",
          "text": [
            "<class 'pandas.core.frame.DataFrame'>\n",
            "RangeIndex: 541909 entries, 0 to 541908\n",
            "Data columns (total 8 columns):\n",
            " #   Column       Non-Null Count   Dtype  \n",
            "---  ------       --------------   -----  \n",
            " 0   InvoiceNo    541909 non-null  object \n",
            " 1   StockCode    541909 non-null  object \n",
            " 2   Description  540455 non-null  object \n",
            " 3   Quantity     541909 non-null  int64  \n",
            " 4   InvoiceDate  541909 non-null  object \n",
            " 5   UnitPrice    541909 non-null  float64\n",
            " 6   CustomerID   406829 non-null  float64\n",
            " 7   Country      541909 non-null  object \n",
            "dtypes: float64(2), int64(1), object(5)\n",
            "memory usage: 33.1+ MB\n",
            "None\n",
            "Index(['InvoiceNo', 'StockCode', 'Description', 'Quantity', 'InvoiceDate',\n",
            "       'UnitPrice', 'CustomerID', 'Country'],\n",
            "      dtype='object')\n",
            "Jumlah dimensi data (541909, 8)\n",
            "InvoiceNo      25900\n",
            "StockCode       4070\n",
            "Description     4223\n",
            "Quantity         722\n",
            "InvoiceDate    23260\n",
            "UnitPrice       1630\n",
            "CustomerID      4372\n",
            "Country           38\n",
            "dtype: int64\n",
            "InvoiceNo       object\n",
            "StockCode       object\n",
            "Description     object\n",
            "Quantity         int64\n",
            "InvoiceDate     object\n",
            "UnitPrice      float64\n",
            "CustomerID     float64\n",
            "Country         object\n",
            "dtype: object\n",
            "            Quantity      UnitPrice     CustomerID\n",
            "count  541909.000000  541909.000000  406829.000000\n",
            "mean        9.552250       4.611114   15287.690570\n",
            "std       218.081158      96.759853    1713.600303\n",
            "min    -80995.000000  -11062.060000   12346.000000\n",
            "25%         1.000000       1.250000   13953.000000\n",
            "50%         3.000000       2.080000   15152.000000\n",
            "75%        10.000000       4.130000   16791.000000\n",
            "max     80995.000000   38970.000000   18287.000000\n"
          ],
          "name": "stdout"
        }
      ]
    },
    {
      "cell_type": "markdown",
      "metadata": {
        "id": "fKHWna7nffjV"
      },
      "source": [
        "**Cleaning DATASET**"
      ]
    },
    {
      "cell_type": "markdown",
      "metadata": {
        "id": "SQ2ES1bI7O1I"
      },
      "source": [
        "Bagian ini adalah bagian tersulit karena membutuhkan ketelitian dan kebiasaan akan membersihkan data. perlu berbagai tindakan validasi dilakukan untuk memastikan data tersebut memang sudah benar clean. hal yang paling umum dibersihkan ialah mengenai data missing, outlier, duplicate,serta convert type data waktu.\r\n",
        "\r\n",
        "selain itu, dalam cleaning dataset kemampuan dalam subsetting untuk mensorting-filtering data sangat dibutuhkan."
      ]
    },
    {
      "cell_type": "code",
      "metadata": {
        "id": "axMcy33UfAb6"
      },
      "source": [
        "#Dropping kolom Country yang dianggap tidak penting\r\n",
        "#data=data[['InvoiceNo', 'StockCode', 'Description', 'Quantity', 'InvoiceDate','UnitPrice', 'CustomerID']]"
      ],
      "execution_count": 5,
      "outputs": []
    },
    {
      "cell_type": "code",
      "metadata": {
        "id": "OG87UV7GsQuk",
        "colab": {
          "base_uri": "https://localhost:8080/"
        },
        "outputId": "9a487869-65ca-4acd-cb4e-e636948173f2"
      },
      "source": [
        "#Menghapus data yang duplicate dan melihat asal pelanggan\r\n",
        "print('Input data yang duplicate: {}'.format(data.duplicated().sum()))\r\n",
        "data.drop_duplicates(inplace = True)"
      ],
      "execution_count": 6,
      "outputs": [
        {
          "output_type": "stream",
          "text": [
            "Input data yang duplicate: 5268\n"
          ],
          "name": "stdout"
        }
      ]
    },
    {
      "cell_type": "code",
      "metadata": {
        "colab": {
          "base_uri": "https://localhost:8080/"
        },
        "id": "0iEtHkfThZP_",
        "outputId": "70bb9514-d54b-42a7-b218-4bf02c8e94f4"
      },
      "source": [
        "#mengubah format data datetime.\r\n",
        "data['InvoiceDate'] = pd.to_datetime(data.InvoiceDate, format='%m/%d/%Y %H:%M')   #data['InvoiceDate'] = pd.to_datetime(data.InvoiceDate.dt.strftime('%m/%d/%Y %H:%M')\r\n",
        "\r\n",
        "#data['year'] = data['InvoiceDate'].str.split('-').str[0].astype(int) + 10\r\n",
        "#data['InvoiceDate'] = data['InvoiceDate'].str.replace('[0-:]*.$','') + data['year'].astype(str)\r\n",
        "#Mengubah ke 10 tahun depan.\r\n",
        "#data['InvoiceDate'] = data['InvoiceDate'] + timedelta(days=365*10)\r\n",
        "\r\n",
        "data['InvoiceDate'] = data['InvoiceDate'].astype(str).str.replace(r'2010','2020') #'r' digunakan untuk fokus pada digit/number/huruf tersebut.\r\n",
        "data['InvoiceDate'] = data['InvoiceDate'].astype(str).str.replace(r'2011','2021')\r\n",
        "#print(data['year'].head())\r\n",
        "print(data['InvoiceDate'])"
      ],
      "execution_count": 7,
      "outputs": [
        {
          "output_type": "stream",
          "text": [
            "0         2020-12-01 08:26:00\n",
            "1         2020-12-01 08:26:00\n",
            "2         2020-12-01 08:26:00\n",
            "3         2020-12-01 08:26:00\n",
            "4         2020-12-01 08:26:00\n",
            "                 ...         \n",
            "541904    2021-12-09 12:50:00\n",
            "541905    2021-12-09 12:50:00\n",
            "541906    2021-12-09 12:50:00\n",
            "541907    2021-12-09 12:50:00\n",
            "541908    2021-12-09 12:50:00\n",
            "Name: InvoiceDate, Length: 536641, dtype: object\n"
          ],
          "name": "stdout"
        }
      ]
    },
    {
      "cell_type": "code",
      "metadata": {
        "colab": {
          "base_uri": "https://localhost:8080/"
        },
        "id": "nFjtdehVgYIl",
        "outputId": "708da80f-ffce-491a-8f23-2c0a4dc5dfdf"
      },
      "source": [
        "#Melakukan pengecekan missing data\r\n",
        "print(data.isnull().sum().sort_values(ascending=False))"
      ],
      "execution_count": 8,
      "outputs": [
        {
          "output_type": "stream",
          "text": [
            "CustomerID     135037\n",
            "Description      1454\n",
            "Country             0\n",
            "UnitPrice           0\n",
            "InvoiceDate         0\n",
            "Quantity            0\n",
            "StockCode           0\n",
            "InvoiceNo           0\n",
            "dtype: int64\n"
          ],
          "name": "stdout"
        }
      ]
    },
    {
      "cell_type": "code",
      "metadata": {
        "colab": {
          "base_uri": "https://localhost:8080/"
        },
        "id": "eBY8pYCnhSBq",
        "outputId": "f3584be7-37ed-4190-945d-d54843e05f74"
      },
      "source": [
        "print(data[data.isna().any(axis=1)])"
      ],
      "execution_count": 9,
      "outputs": [
        {
          "output_type": "stream",
          "text": [
            "       InvoiceNo StockCode                      Description  Quantity  \\\n",
            "622       536414     22139                              NaN        56   \n",
            "1443      536544     21773  DECORATIVE ROSE BATHROOM BOTTLE         1   \n",
            "1444      536544     21774  DECORATIVE CATS BATHROOM BOTTLE         2   \n",
            "1445      536544     21786               POLKADOT RAIN HAT          4   \n",
            "1446      536544     21787            RAIN PONCHO RETROSPOT         2   \n",
            "...          ...       ...                              ...       ...   \n",
            "541536    581498    85099B          JUMBO BAG RED RETROSPOT         5   \n",
            "541537    581498    85099C   JUMBO  BAG BAROQUE BLACK WHITE         4   \n",
            "541538    581498     85150    LADIES & GENTLEMEN METAL SIGN         1   \n",
            "541539    581498     85174                S/4 CACTI CANDLES         1   \n",
            "541540    581498       DOT                   DOTCOM POSTAGE         1   \n",
            "\n",
            "                InvoiceDate  UnitPrice  CustomerID         Country  \n",
            "622     2020-12-01 11:52:00       0.00         NaN  United Kingdom  \n",
            "1443    2020-12-01 14:32:00       2.51         NaN  United Kingdom  \n",
            "1444    2020-12-01 14:32:00       2.51         NaN  United Kingdom  \n",
            "1445    2020-12-01 14:32:00       0.85         NaN  United Kingdom  \n",
            "1446    2020-12-01 14:32:00       1.66         NaN  United Kingdom  \n",
            "...                     ...        ...         ...             ...  \n",
            "541536  2021-12-09 10:26:00       4.13         NaN  United Kingdom  \n",
            "541537  2021-12-09 10:26:00       4.13         NaN  United Kingdom  \n",
            "541538  2021-12-09 10:26:00       4.96         NaN  United Kingdom  \n",
            "541539  2021-12-09 10:26:00      10.79         NaN  United Kingdom  \n",
            "541540  2021-12-09 10:26:00    1714.17         NaN  United Kingdom  \n",
            "\n",
            "[135037 rows x 8 columns]\n"
          ],
          "name": "stdout"
        }
      ]
    },
    {
      "cell_type": "markdown",
      "metadata": {
        "id": "_S6s_fB89up-"
      },
      "source": [
        "Data ID merupakan number yang identik, sehingga tidak sesuai jika dilakukan pendekatan statistik untuk memperbaiki kondisi data yang hilang. sehingga solusi terbaik dalam hal missing values ini hanyalah dilakukan proses dropping/penghilangan data."
      ]
    },
    {
      "cell_type": "code",
      "metadata": {
        "colab": {
          "base_uri": "https://localhost:8080/"
        },
        "id": "4m6s846iCJ6G",
        "outputId": "1f4e261f-c069-46a2-9c5f-35b93fdc7e7a"
      },
      "source": [
        "#Customer ID dan Description itu termasuk hal yang unik sehingga baikknya di drop saja.\r\n",
        "data= data.loc[(data['CustomerID'].notnull()) & (data['Description'].notnull())]\r\n",
        "print(data.head(10))"
      ],
      "execution_count": 10,
      "outputs": [
        {
          "output_type": "stream",
          "text": [
            "  InvoiceNo StockCode                          Description  Quantity  \\\n",
            "0    536365    85123A   WHITE HANGING HEART T-LIGHT HOLDER         6   \n",
            "1    536365     71053                  WHITE METAL LANTERN         6   \n",
            "2    536365    84406B       CREAM CUPID HEARTS COAT HANGER         8   \n",
            "3    536365    84029G  KNITTED UNION FLAG HOT WATER BOTTLE         6   \n",
            "4    536365    84029E       RED WOOLLY HOTTIE WHITE HEART.         6   \n",
            "5    536365     22752         SET 7 BABUSHKA NESTING BOXES         2   \n",
            "6    536365     21730    GLASS STAR FROSTED T-LIGHT HOLDER         6   \n",
            "7    536366     22633               HAND WARMER UNION JACK         6   \n",
            "8    536366     22632            HAND WARMER RED POLKA DOT         6   \n",
            "9    536367     84879        ASSORTED COLOUR BIRD ORNAMENT        32   \n",
            "\n",
            "           InvoiceDate  UnitPrice  CustomerID         Country  \n",
            "0  2020-12-01 08:26:00       2.55     17850.0  United Kingdom  \n",
            "1  2020-12-01 08:26:00       3.39     17850.0  United Kingdom  \n",
            "2  2020-12-01 08:26:00       2.75     17850.0  United Kingdom  \n",
            "3  2020-12-01 08:26:00       3.39     17850.0  United Kingdom  \n",
            "4  2020-12-01 08:26:00       3.39     17850.0  United Kingdom  \n",
            "5  2020-12-01 08:26:00       7.65     17850.0  United Kingdom  \n",
            "6  2020-12-01 08:26:00       4.25     17850.0  United Kingdom  \n",
            "7  2020-12-01 08:28:00       1.85     17850.0  United Kingdom  \n",
            "8  2020-12-01 08:28:00       1.85     17850.0  United Kingdom  \n",
            "9  2020-12-01 08:34:00       1.69     13047.0  United Kingdom  \n"
          ],
          "name": "stdout"
        }
      ]
    },
    {
      "cell_type": "code",
      "metadata": {
        "colab": {
          "base_uri": "https://localhost:8080/"
        },
        "id": "z7sfhA3ciQ5F",
        "outputId": "ead51058-e4b3-49bd-de45-01c914a3c35d"
      },
      "source": [
        "#print(data['CustomerID'].values) / #print(data['CustomerID'].unique())\r\n",
        "print('Jumlah pelanggan sesungguhnya',data['CustomerID'].nunique())\r\n",
        "print(data.isnull().sum())\r\n",
        "print(data['CustomerID'].describe())\r\n",
        "data.shape"
      ],
      "execution_count": 11,
      "outputs": [
        {
          "output_type": "stream",
          "text": [
            "Jumlah pelanggan sesungguhnya 4372\n",
            "InvoiceNo      0\n",
            "StockCode      0\n",
            "Description    0\n",
            "Quantity       0\n",
            "InvoiceDate    0\n",
            "UnitPrice      0\n",
            "CustomerID     0\n",
            "Country        0\n",
            "dtype: int64\n",
            "count    401604.000000\n",
            "mean      15281.160818\n",
            "std        1714.006089\n",
            "min       12346.000000\n",
            "25%       13939.000000\n",
            "50%       15145.000000\n",
            "75%       16784.000000\n",
            "max       18287.000000\n",
            "Name: CustomerID, dtype: float64\n"
          ],
          "name": "stdout"
        },
        {
          "output_type": "execute_result",
          "data": {
            "text/plain": [
              "(401604, 8)"
            ]
          },
          "metadata": {
            "tags": []
          },
          "execution_count": 11
        }
      ]
    },
    {
      "cell_type": "code",
      "metadata": {
        "id": "qqNM-bl3qxZC"
      },
      "source": [
        "data['Description'] = data.Description.str.lower()"
      ],
      "execution_count": 12,
      "outputs": []
    },
    {
      "cell_type": "code",
      "metadata": {
        "colab": {
          "base_uri": "https://localhost:8080/",
          "height": 297
        },
        "id": "x6BU8YpNrjEL",
        "outputId": "221bc181-82eb-4758-c234-9697bb1537fe"
      },
      "source": [
        "data.describe()"
      ],
      "execution_count": 13,
      "outputs": [
        {
          "output_type": "execute_result",
          "data": {
            "text/html": [
              "<div>\n",
              "<style scoped>\n",
              "    .dataframe tbody tr th:only-of-type {\n",
              "        vertical-align: middle;\n",
              "    }\n",
              "\n",
              "    .dataframe tbody tr th {\n",
              "        vertical-align: top;\n",
              "    }\n",
              "\n",
              "    .dataframe thead th {\n",
              "        text-align: right;\n",
              "    }\n",
              "</style>\n",
              "<table border=\"1\" class=\"dataframe\">\n",
              "  <thead>\n",
              "    <tr style=\"text-align: right;\">\n",
              "      <th></th>\n",
              "      <th>Quantity</th>\n",
              "      <th>UnitPrice</th>\n",
              "      <th>CustomerID</th>\n",
              "    </tr>\n",
              "  </thead>\n",
              "  <tbody>\n",
              "    <tr>\n",
              "      <th>count</th>\n",
              "      <td>401604.000000</td>\n",
              "      <td>401604.000000</td>\n",
              "      <td>401604.000000</td>\n",
              "    </tr>\n",
              "    <tr>\n",
              "      <th>mean</th>\n",
              "      <td>12.183273</td>\n",
              "      <td>3.474064</td>\n",
              "      <td>15281.160818</td>\n",
              "    </tr>\n",
              "    <tr>\n",
              "      <th>std</th>\n",
              "      <td>250.283037</td>\n",
              "      <td>69.764035</td>\n",
              "      <td>1714.006089</td>\n",
              "    </tr>\n",
              "    <tr>\n",
              "      <th>min</th>\n",
              "      <td>-80995.000000</td>\n",
              "      <td>0.000000</td>\n",
              "      <td>12346.000000</td>\n",
              "    </tr>\n",
              "    <tr>\n",
              "      <th>25%</th>\n",
              "      <td>2.000000</td>\n",
              "      <td>1.250000</td>\n",
              "      <td>13939.000000</td>\n",
              "    </tr>\n",
              "    <tr>\n",
              "      <th>50%</th>\n",
              "      <td>5.000000</td>\n",
              "      <td>1.950000</td>\n",
              "      <td>15145.000000</td>\n",
              "    </tr>\n",
              "    <tr>\n",
              "      <th>75%</th>\n",
              "      <td>12.000000</td>\n",
              "      <td>3.750000</td>\n",
              "      <td>16784.000000</td>\n",
              "    </tr>\n",
              "    <tr>\n",
              "      <th>max</th>\n",
              "      <td>80995.000000</td>\n",
              "      <td>38970.000000</td>\n",
              "      <td>18287.000000</td>\n",
              "    </tr>\n",
              "  </tbody>\n",
              "</table>\n",
              "</div>"
            ],
            "text/plain": [
              "            Quantity      UnitPrice     CustomerID\n",
              "count  401604.000000  401604.000000  401604.000000\n",
              "mean       12.183273       3.474064   15281.160818\n",
              "std       250.283037      69.764035    1714.006089\n",
              "min    -80995.000000       0.000000   12346.000000\n",
              "25%         2.000000       1.250000   13939.000000\n",
              "50%         5.000000       1.950000   15145.000000\n",
              "75%        12.000000       3.750000   16784.000000\n",
              "max     80995.000000   38970.000000   18287.000000"
            ]
          },
          "metadata": {
            "tags": []
          },
          "execution_count": 13
        }
      ]
    },
    {
      "cell_type": "code",
      "metadata": {
        "colab": {
          "base_uri": "https://localhost:8080/"
        },
        "id": "xF4-0TXeumeK",
        "outputId": "1dfd6d74-825a-45bc-9cd6-5e16f8a15507"
      },
      "source": [
        "#Menghilangkan nilai terendah (Minus) karena merupakan satuan yang tidak mungkin.\r\n",
        "data= data[(data.Quantity > 0) & (data.UnitPrice >= 0)]\r\n",
        "print(data.describe())"
      ],
      "execution_count": 14,
      "outputs": [
        {
          "output_type": "stream",
          "text": [
            "            Quantity      UnitPrice     CustomerID\n",
            "count  392732.000000  392732.000000  392732.000000\n",
            "mean       13.153718       3.125596   15287.734822\n",
            "std       181.588420      22.240725    1713.567773\n",
            "min         1.000000       0.000000   12346.000000\n",
            "25%         2.000000       1.250000   13955.000000\n",
            "50%         6.000000       1.950000   15150.000000\n",
            "75%        12.000000       3.750000   16791.000000\n",
            "max     80995.000000    8142.750000   18287.000000\n"
          ],
          "name": "stdout"
        }
      ]
    },
    {
      "cell_type": "markdown",
      "metadata": {
        "id": "lR6nsT_LmegT"
      },
      "source": [
        "# **EDA (Explatory Data Analysis)**\r\n",
        "\r\n"
      ]
    },
    {
      "cell_type": "code",
      "metadata": {
        "id": "o1wz_OdUj10u"
      },
      "source": [
        "#Menghitung Jumlah Revenue\r\n",
        "data['Revenue_Tot']=data['Quantity']*data['UnitPrice']"
      ],
      "execution_count": 15,
      "outputs": []
    },
    {
      "cell_type": "code",
      "metadata": {
        "colab": {
          "base_uri": "https://localhost:8080/"
        },
        "id": "liqAspe_LgNB",
        "outputId": "1544f86a-8517-42a2-c96f-0d7c151b58bf"
      },
      "source": [
        "data2 = data.copy()\r\n",
        "print(data2.head())"
      ],
      "execution_count": 16,
      "outputs": [
        {
          "output_type": "stream",
          "text": [
            "  InvoiceNo StockCode                          Description  Quantity  \\\n",
            "0    536365    85123A   white hanging heart t-light holder         6   \n",
            "1    536365     71053                  white metal lantern         6   \n",
            "2    536365    84406B       cream cupid hearts coat hanger         8   \n",
            "3    536365    84029G  knitted union flag hot water bottle         6   \n",
            "4    536365    84029E       red woolly hottie white heart.         6   \n",
            "\n",
            "           InvoiceDate  UnitPrice  CustomerID         Country  Revenue_Tot  \n",
            "0  2020-12-01 08:26:00       2.55     17850.0  United Kingdom        15.30  \n",
            "1  2020-12-01 08:26:00       3.39     17850.0  United Kingdom        20.34  \n",
            "2  2020-12-01 08:26:00       2.75     17850.0  United Kingdom        22.00  \n",
            "3  2020-12-01 08:26:00       3.39     17850.0  United Kingdom        20.34  \n",
            "4  2020-12-01 08:26:00       3.39     17850.0  United Kingdom        20.34  \n"
          ],
          "name": "stdout"
        }
      ]
    },
    {
      "cell_type": "code",
      "metadata": {
        "colab": {
          "base_uri": "https://localhost:8080/"
        },
        "id": "RQ4tA4kVVmBy",
        "outputId": "d21c76ce-eff2-40bf-afcb-0c6420c4a32b"
      },
      "source": [
        "#Melihat jumlah produk, jumlah transaksi, dan pelanggan\r\n",
        "cust_x_prod = pd.DataFrame([{'products': len(data2['StockCode'].value_counts()),    \r\n",
        "               'transactions': len(data2['InvoiceNo'].value_counts()),\r\n",
        "               'customers': len(data2['CustomerID'].value_counts()),  \r\n",
        "              }], columns = ['products', 'transactions', 'customers'], index = ['quantity'])\r\n",
        "print(cust_x_prod)\r\n",
        "\r\n",
        "#Berkurangnya jumlah customer mungkin karena adanya drop nilai untuk quantity dan unit pricenya yang diatas nol, \r\n",
        "#sehingga hal ini memastikan setiap orang pasti membayar jika membeli."
      ],
      "execution_count": 17,
      "outputs": [
        {
          "output_type": "stream",
          "text": [
            "          products  transactions  customers\n",
            "quantity      3665         18536       4339\n"
          ],
          "name": "stdout"
        }
      ]
    },
    {
      "cell_type": "code",
      "metadata": {
        "colab": {
          "base_uri": "https://localhost:8080/"
        },
        "id": "0zEBYPueWn0h",
        "outputId": "bb3050a8-1f6e-4f91-d8b7-eb9505468618"
      },
      "source": [
        "#Tanggal beli sebagai petunjuk untuk membuktikan jumlah transaksi pelanggan untuk jumlah produk yang dibeli.\r\n",
        "temp = data2.groupby(by=['CustomerID', 'InvoiceNo'], as_index=False)['InvoiceDate'].count()\r\n",
        "jlh_produk = temp.rename(columns = {'InvoiceDate':'Jumlah Produk'})\r\n",
        "print(jlh_produk[:15].sort_values('Jumlah Produk',ascending=False))\r\n",
        "print(jlh_produk.sum())"
      ],
      "execution_count": 18,
      "outputs": [
        {
          "output_type": "stream",
          "text": [
            "    CustomerID InvoiceNo  Jumlah Produk\n",
            "12     12349.0    577609             73\n",
            "6      12347.0    573511             47\n",
            "1      12347.0    537626             31\n",
            "2      12347.0    542237             29\n",
            "3      12347.0    549222             24\n",
            "5      12347.0    562032             22\n",
            "4      12347.0    556201             18\n",
            "8      12348.0    539318             17\n",
            "13     12350.0    543037             17\n",
            "14     12352.0    544156             15\n",
            "7      12347.0    581180             11\n",
            "9      12348.0    541998              6\n",
            "10     12348.0    548955              5\n",
            "11     12348.0    568172              3\n",
            "0      12346.0    541431              1\n",
            "CustomerID                                             2.82975e+08\n",
            "InvoiceNo        5414315376265422375492225562015620325735115811...\n",
            "Jumlah Produk                                               392732\n",
            "dtype: object\n"
          ],
          "name": "stdout"
        }
      ]
    },
    {
      "cell_type": "code",
      "metadata": {
        "colab": {
          "base_uri": "https://localhost:8080/"
        },
        "id": "rtxRwEX_P8Xj",
        "outputId": "4f7d2bd5-d711-413f-ace3-19341afe2a1e"
      },
      "source": [
        "#Formating data InvoiceDate menjadi datetime\r\n",
        "data2['InvoiceDate'] = pd.to_datetime(data.InvoiceDate, format='%Y/%m/%d %H:%M')\r\n",
        "print(data2.info())"
      ],
      "execution_count": 19,
      "outputs": [
        {
          "output_type": "stream",
          "text": [
            "<class 'pandas.core.frame.DataFrame'>\n",
            "Int64Index: 392732 entries, 0 to 541908\n",
            "Data columns (total 9 columns):\n",
            " #   Column       Non-Null Count   Dtype         \n",
            "---  ------       --------------   -----         \n",
            " 0   InvoiceNo    392732 non-null  object        \n",
            " 1   StockCode    392732 non-null  object        \n",
            " 2   Description  392732 non-null  object        \n",
            " 3   Quantity     392732 non-null  int64         \n",
            " 4   InvoiceDate  392732 non-null  datetime64[ns]\n",
            " 5   UnitPrice    392732 non-null  float64       \n",
            " 6   CustomerID   392732 non-null  float64       \n",
            " 7   Country      392732 non-null  object        \n",
            " 8   Revenue_Tot  392732 non-null  float64       \n",
            "dtypes: datetime64[ns](1), float64(3), int64(1), object(4)\n",
            "memory usage: 30.0+ MB\n",
            "None\n"
          ],
          "name": "stdout"
        }
      ]
    },
    {
      "cell_type": "code",
      "metadata": {
        "colab": {
          "base_uri": "https://localhost:8080/",
          "height": 359
        },
        "id": "T3abiKt1oWek",
        "outputId": "3d4db4eb-d151-4251-ec71-2e1c9b592fb4"
      },
      "source": [
        "#Overview data hasil Cleaning\r\n",
        "data.head(10)"
      ],
      "execution_count": 20,
      "outputs": [
        {
          "output_type": "execute_result",
          "data": {
            "text/html": [
              "<div>\n",
              "<style scoped>\n",
              "    .dataframe tbody tr th:only-of-type {\n",
              "        vertical-align: middle;\n",
              "    }\n",
              "\n",
              "    .dataframe tbody tr th {\n",
              "        vertical-align: top;\n",
              "    }\n",
              "\n",
              "    .dataframe thead th {\n",
              "        text-align: right;\n",
              "    }\n",
              "</style>\n",
              "<table border=\"1\" class=\"dataframe\">\n",
              "  <thead>\n",
              "    <tr style=\"text-align: right;\">\n",
              "      <th></th>\n",
              "      <th>InvoiceNo</th>\n",
              "      <th>StockCode</th>\n",
              "      <th>Description</th>\n",
              "      <th>Quantity</th>\n",
              "      <th>InvoiceDate</th>\n",
              "      <th>UnitPrice</th>\n",
              "      <th>CustomerID</th>\n",
              "      <th>Country</th>\n",
              "      <th>Revenue_Tot</th>\n",
              "    </tr>\n",
              "  </thead>\n",
              "  <tbody>\n",
              "    <tr>\n",
              "      <th>0</th>\n",
              "      <td>536365</td>\n",
              "      <td>85123A</td>\n",
              "      <td>white hanging heart t-light holder</td>\n",
              "      <td>6</td>\n",
              "      <td>2020-12-01 08:26:00</td>\n",
              "      <td>2.55</td>\n",
              "      <td>17850.0</td>\n",
              "      <td>United Kingdom</td>\n",
              "      <td>15.30</td>\n",
              "    </tr>\n",
              "    <tr>\n",
              "      <th>1</th>\n",
              "      <td>536365</td>\n",
              "      <td>71053</td>\n",
              "      <td>white metal lantern</td>\n",
              "      <td>6</td>\n",
              "      <td>2020-12-01 08:26:00</td>\n",
              "      <td>3.39</td>\n",
              "      <td>17850.0</td>\n",
              "      <td>United Kingdom</td>\n",
              "      <td>20.34</td>\n",
              "    </tr>\n",
              "    <tr>\n",
              "      <th>2</th>\n",
              "      <td>536365</td>\n",
              "      <td>84406B</td>\n",
              "      <td>cream cupid hearts coat hanger</td>\n",
              "      <td>8</td>\n",
              "      <td>2020-12-01 08:26:00</td>\n",
              "      <td>2.75</td>\n",
              "      <td>17850.0</td>\n",
              "      <td>United Kingdom</td>\n",
              "      <td>22.00</td>\n",
              "    </tr>\n",
              "    <tr>\n",
              "      <th>3</th>\n",
              "      <td>536365</td>\n",
              "      <td>84029G</td>\n",
              "      <td>knitted union flag hot water bottle</td>\n",
              "      <td>6</td>\n",
              "      <td>2020-12-01 08:26:00</td>\n",
              "      <td>3.39</td>\n",
              "      <td>17850.0</td>\n",
              "      <td>United Kingdom</td>\n",
              "      <td>20.34</td>\n",
              "    </tr>\n",
              "    <tr>\n",
              "      <th>4</th>\n",
              "      <td>536365</td>\n",
              "      <td>84029E</td>\n",
              "      <td>red woolly hottie white heart.</td>\n",
              "      <td>6</td>\n",
              "      <td>2020-12-01 08:26:00</td>\n",
              "      <td>3.39</td>\n",
              "      <td>17850.0</td>\n",
              "      <td>United Kingdom</td>\n",
              "      <td>20.34</td>\n",
              "    </tr>\n",
              "    <tr>\n",
              "      <th>5</th>\n",
              "      <td>536365</td>\n",
              "      <td>22752</td>\n",
              "      <td>set 7 babushka nesting boxes</td>\n",
              "      <td>2</td>\n",
              "      <td>2020-12-01 08:26:00</td>\n",
              "      <td>7.65</td>\n",
              "      <td>17850.0</td>\n",
              "      <td>United Kingdom</td>\n",
              "      <td>15.30</td>\n",
              "    </tr>\n",
              "    <tr>\n",
              "      <th>6</th>\n",
              "      <td>536365</td>\n",
              "      <td>21730</td>\n",
              "      <td>glass star frosted t-light holder</td>\n",
              "      <td>6</td>\n",
              "      <td>2020-12-01 08:26:00</td>\n",
              "      <td>4.25</td>\n",
              "      <td>17850.0</td>\n",
              "      <td>United Kingdom</td>\n",
              "      <td>25.50</td>\n",
              "    </tr>\n",
              "    <tr>\n",
              "      <th>7</th>\n",
              "      <td>536366</td>\n",
              "      <td>22633</td>\n",
              "      <td>hand warmer union jack</td>\n",
              "      <td>6</td>\n",
              "      <td>2020-12-01 08:28:00</td>\n",
              "      <td>1.85</td>\n",
              "      <td>17850.0</td>\n",
              "      <td>United Kingdom</td>\n",
              "      <td>11.10</td>\n",
              "    </tr>\n",
              "    <tr>\n",
              "      <th>8</th>\n",
              "      <td>536366</td>\n",
              "      <td>22632</td>\n",
              "      <td>hand warmer red polka dot</td>\n",
              "      <td>6</td>\n",
              "      <td>2020-12-01 08:28:00</td>\n",
              "      <td>1.85</td>\n",
              "      <td>17850.0</td>\n",
              "      <td>United Kingdom</td>\n",
              "      <td>11.10</td>\n",
              "    </tr>\n",
              "    <tr>\n",
              "      <th>9</th>\n",
              "      <td>536367</td>\n",
              "      <td>84879</td>\n",
              "      <td>assorted colour bird ornament</td>\n",
              "      <td>32</td>\n",
              "      <td>2020-12-01 08:34:00</td>\n",
              "      <td>1.69</td>\n",
              "      <td>13047.0</td>\n",
              "      <td>United Kingdom</td>\n",
              "      <td>54.08</td>\n",
              "    </tr>\n",
              "  </tbody>\n",
              "</table>\n",
              "</div>"
            ],
            "text/plain": [
              "  InvoiceNo StockCode                          Description  Quantity  \\\n",
              "0    536365    85123A   white hanging heart t-light holder         6   \n",
              "1    536365     71053                  white metal lantern         6   \n",
              "2    536365    84406B       cream cupid hearts coat hanger         8   \n",
              "3    536365    84029G  knitted union flag hot water bottle         6   \n",
              "4    536365    84029E       red woolly hottie white heart.         6   \n",
              "5    536365     22752         set 7 babushka nesting boxes         2   \n",
              "6    536365     21730    glass star frosted t-light holder         6   \n",
              "7    536366     22633               hand warmer union jack         6   \n",
              "8    536366     22632            hand warmer red polka dot         6   \n",
              "9    536367     84879        assorted colour bird ornament        32   \n",
              "\n",
              "           InvoiceDate  UnitPrice  CustomerID         Country  Revenue_Tot  \n",
              "0  2020-12-01 08:26:00       2.55     17850.0  United Kingdom        15.30  \n",
              "1  2020-12-01 08:26:00       3.39     17850.0  United Kingdom        20.34  \n",
              "2  2020-12-01 08:26:00       2.75     17850.0  United Kingdom        22.00  \n",
              "3  2020-12-01 08:26:00       3.39     17850.0  United Kingdom        20.34  \n",
              "4  2020-12-01 08:26:00       3.39     17850.0  United Kingdom        20.34  \n",
              "5  2020-12-01 08:26:00       7.65     17850.0  United Kingdom        15.30  \n",
              "6  2020-12-01 08:26:00       4.25     17850.0  United Kingdom        25.50  \n",
              "7  2020-12-01 08:28:00       1.85     17850.0  United Kingdom        11.10  \n",
              "8  2020-12-01 08:28:00       1.85     17850.0  United Kingdom        11.10  \n",
              "9  2020-12-01 08:34:00       1.69     13047.0  United Kingdom        54.08  "
            ]
          },
          "metadata": {
            "tags": []
          },
          "execution_count": 20
        }
      ]
    },
    {
      "cell_type": "markdown",
      "metadata": {
        "id": "S3fZvrHxcsvr"
      },
      "source": [
        "# **Cohort Data Analysis**\r\n",
        "\r\n"
      ]
    },
    {
      "cell_type": "code",
      "metadata": {
        "colab": {
          "base_uri": "https://localhost:8080/",
          "height": 204
        },
        "id": "aRC2ZHJDcr5_",
        "outputId": "e84ea9aa-4709-405c-a97d-6835fc497dbe"
      },
      "source": [
        "# Mengindikasi Cohort Month berdasarkan date pembelian pertama.\r\n",
        "from datetime import datetime\r\n",
        "import datetime as dt\r\n",
        "\r\n",
        "data2['order_month']=data2['InvoiceDate'].dt.to_period('M')\r\n",
        "data2['cohor_month']=data2.groupby('CustomerID')['InvoiceDate'].transform('min').dt.to_period('M')\r\n",
        "data2[['order_month','cohor_month']].head()"
      ],
      "execution_count": 21,
      "outputs": [
        {
          "output_type": "execute_result",
          "data": {
            "text/html": [
              "<div>\n",
              "<style scoped>\n",
              "    .dataframe tbody tr th:only-of-type {\n",
              "        vertical-align: middle;\n",
              "    }\n",
              "\n",
              "    .dataframe tbody tr th {\n",
              "        vertical-align: top;\n",
              "    }\n",
              "\n",
              "    .dataframe thead th {\n",
              "        text-align: right;\n",
              "    }\n",
              "</style>\n",
              "<table border=\"1\" class=\"dataframe\">\n",
              "  <thead>\n",
              "    <tr style=\"text-align: right;\">\n",
              "      <th></th>\n",
              "      <th>order_month</th>\n",
              "      <th>cohor_month</th>\n",
              "    </tr>\n",
              "  </thead>\n",
              "  <tbody>\n",
              "    <tr>\n",
              "      <th>0</th>\n",
              "      <td>2020-12</td>\n",
              "      <td>2020-12</td>\n",
              "    </tr>\n",
              "    <tr>\n",
              "      <th>1</th>\n",
              "      <td>2020-12</td>\n",
              "      <td>2020-12</td>\n",
              "    </tr>\n",
              "    <tr>\n",
              "      <th>2</th>\n",
              "      <td>2020-12</td>\n",
              "      <td>2020-12</td>\n",
              "    </tr>\n",
              "    <tr>\n",
              "      <th>3</th>\n",
              "      <td>2020-12</td>\n",
              "      <td>2020-12</td>\n",
              "    </tr>\n",
              "    <tr>\n",
              "      <th>4</th>\n",
              "      <td>2020-12</td>\n",
              "      <td>2020-12</td>\n",
              "    </tr>\n",
              "  </tbody>\n",
              "</table>\n",
              "</div>"
            ],
            "text/plain": [
              "  order_month cohor_month\n",
              "0     2020-12     2020-12\n",
              "1     2020-12     2020-12\n",
              "2     2020-12     2020-12\n",
              "3     2020-12     2020-12\n",
              "4     2020-12     2020-12"
            ]
          },
          "metadata": {
            "tags": []
          },
          "execution_count": 21
        }
      ]
    },
    {
      "cell_type": "code",
      "metadata": {
        "colab": {
          "base_uri": "https://localhost:8080/"
        },
        "id": "qrcL4gW5h1M_",
        "outputId": "05a8b384-13a5-48e5-8deb-f5bfd3fc5a9d"
      },
      "source": [
        "def get_date_(df,columns):\r\n",
        "  year = df[columns].dt.year\r\n",
        "  month = df[columns].dt.month\r\n",
        "  day = df[columns].dt.day\r\n",
        "  return year,month,day\r\n",
        "\r\n",
        "year_order,month_order,_ = get_date_(data2,'order_month') #Fungsi ( ,_ memiliki arti pembagian)\r\n",
        "year_cohor,month_cohor,_ = get_date_(data2,'cohor_month')\r\n",
        "\r\n",
        "#Selisih tahun\r\n",
        "Year = year_order-year_cohor\r\n",
        "Month = month_order-month_cohor\r\n",
        "\r\n",
        "#Indexing for Cohor\r\n",
        "data2['cohor_index']=Year*12 + Month\r\n",
        "#print(data2.head())\r\n",
        "print(data2.cohor_index.unique())"
      ],
      "execution_count": 22,
      "outputs": [
        {
          "output_type": "stream",
          "text": [
            "[ 0  1  2  3  4  5  6  7  8  9 10 11 12]\n"
          ],
          "name": "stdout"
        }
      ]
    },
    {
      "cell_type": "code",
      "metadata": {
        "colab": {
          "base_uri": "https://localhost:8080/",
          "height": 483
        },
        "id": "HqlyXVcDrEPV",
        "outputId": "75dd15bc-2a40-4ca8-d2a1-5766aa1f2f2f"
      },
      "source": [
        "#Pembuatan data cohor untuk analisa\r\n",
        "cohor_1 = data2.groupby(['cohor_month','cohor_index'])['CustomerID'].apply(pd.Series.nunique).reset_index()\r\n",
        "\r\n",
        "#perhitungan jumlah cohor setiap ID\r\n",
        "cohor_sum = cohor_1.pivot_table(index='cohor_month',columns='cohor_index',values='CustomerID')\r\n",
        "cohor_sum"
      ],
      "execution_count": 23,
      "outputs": [
        {
          "output_type": "execute_result",
          "data": {
            "text/html": [
              "<div>\n",
              "<style scoped>\n",
              "    .dataframe tbody tr th:only-of-type {\n",
              "        vertical-align: middle;\n",
              "    }\n",
              "\n",
              "    .dataframe tbody tr th {\n",
              "        vertical-align: top;\n",
              "    }\n",
              "\n",
              "    .dataframe thead th {\n",
              "        text-align: right;\n",
              "    }\n",
              "</style>\n",
              "<table border=\"1\" class=\"dataframe\">\n",
              "  <thead>\n",
              "    <tr style=\"text-align: right;\">\n",
              "      <th>cohor_index</th>\n",
              "      <th>0</th>\n",
              "      <th>1</th>\n",
              "      <th>2</th>\n",
              "      <th>3</th>\n",
              "      <th>4</th>\n",
              "      <th>5</th>\n",
              "      <th>6</th>\n",
              "      <th>7</th>\n",
              "      <th>8</th>\n",
              "      <th>9</th>\n",
              "      <th>10</th>\n",
              "      <th>11</th>\n",
              "      <th>12</th>\n",
              "    </tr>\n",
              "    <tr>\n",
              "      <th>cohor_month</th>\n",
              "      <th></th>\n",
              "      <th></th>\n",
              "      <th></th>\n",
              "      <th></th>\n",
              "      <th></th>\n",
              "      <th></th>\n",
              "      <th></th>\n",
              "      <th></th>\n",
              "      <th></th>\n",
              "      <th></th>\n",
              "      <th></th>\n",
              "      <th></th>\n",
              "      <th></th>\n",
              "    </tr>\n",
              "  </thead>\n",
              "  <tbody>\n",
              "    <tr>\n",
              "      <th>2020-12</th>\n",
              "      <td>885.0</td>\n",
              "      <td>324.0</td>\n",
              "      <td>286.0</td>\n",
              "      <td>340.0</td>\n",
              "      <td>321.0</td>\n",
              "      <td>352.0</td>\n",
              "      <td>321.0</td>\n",
              "      <td>309.0</td>\n",
              "      <td>313.0</td>\n",
              "      <td>350.0</td>\n",
              "      <td>331.0</td>\n",
              "      <td>445.0</td>\n",
              "      <td>235.0</td>\n",
              "    </tr>\n",
              "    <tr>\n",
              "      <th>2021-01</th>\n",
              "      <td>417.0</td>\n",
              "      <td>92.0</td>\n",
              "      <td>111.0</td>\n",
              "      <td>96.0</td>\n",
              "      <td>134.0</td>\n",
              "      <td>120.0</td>\n",
              "      <td>103.0</td>\n",
              "      <td>101.0</td>\n",
              "      <td>125.0</td>\n",
              "      <td>136.0</td>\n",
              "      <td>152.0</td>\n",
              "      <td>49.0</td>\n",
              "      <td>NaN</td>\n",
              "    </tr>\n",
              "    <tr>\n",
              "      <th>2021-02</th>\n",
              "      <td>380.0</td>\n",
              "      <td>71.0</td>\n",
              "      <td>71.0</td>\n",
              "      <td>108.0</td>\n",
              "      <td>103.0</td>\n",
              "      <td>94.0</td>\n",
              "      <td>96.0</td>\n",
              "      <td>106.0</td>\n",
              "      <td>94.0</td>\n",
              "      <td>116.0</td>\n",
              "      <td>26.0</td>\n",
              "      <td>NaN</td>\n",
              "      <td>NaN</td>\n",
              "    </tr>\n",
              "    <tr>\n",
              "      <th>2021-03</th>\n",
              "      <td>452.0</td>\n",
              "      <td>68.0</td>\n",
              "      <td>114.0</td>\n",
              "      <td>90.0</td>\n",
              "      <td>101.0</td>\n",
              "      <td>76.0</td>\n",
              "      <td>121.0</td>\n",
              "      <td>104.0</td>\n",
              "      <td>126.0</td>\n",
              "      <td>39.0</td>\n",
              "      <td>NaN</td>\n",
              "      <td>NaN</td>\n",
              "      <td>NaN</td>\n",
              "    </tr>\n",
              "    <tr>\n",
              "      <th>2021-04</th>\n",
              "      <td>300.0</td>\n",
              "      <td>64.0</td>\n",
              "      <td>61.0</td>\n",
              "      <td>63.0</td>\n",
              "      <td>59.0</td>\n",
              "      <td>68.0</td>\n",
              "      <td>65.0</td>\n",
              "      <td>78.0</td>\n",
              "      <td>22.0</td>\n",
              "      <td>NaN</td>\n",
              "      <td>NaN</td>\n",
              "      <td>NaN</td>\n",
              "      <td>NaN</td>\n",
              "    </tr>\n",
              "    <tr>\n",
              "      <th>2021-05</th>\n",
              "      <td>284.0</td>\n",
              "      <td>54.0</td>\n",
              "      <td>49.0</td>\n",
              "      <td>49.0</td>\n",
              "      <td>59.0</td>\n",
              "      <td>66.0</td>\n",
              "      <td>75.0</td>\n",
              "      <td>27.0</td>\n",
              "      <td>NaN</td>\n",
              "      <td>NaN</td>\n",
              "      <td>NaN</td>\n",
              "      <td>NaN</td>\n",
              "      <td>NaN</td>\n",
              "    </tr>\n",
              "    <tr>\n",
              "      <th>2021-06</th>\n",
              "      <td>242.0</td>\n",
              "      <td>42.0</td>\n",
              "      <td>38.0</td>\n",
              "      <td>64.0</td>\n",
              "      <td>56.0</td>\n",
              "      <td>81.0</td>\n",
              "      <td>23.0</td>\n",
              "      <td>NaN</td>\n",
              "      <td>NaN</td>\n",
              "      <td>NaN</td>\n",
              "      <td>NaN</td>\n",
              "      <td>NaN</td>\n",
              "      <td>NaN</td>\n",
              "    </tr>\n",
              "    <tr>\n",
              "      <th>2021-07</th>\n",
              "      <td>188.0</td>\n",
              "      <td>34.0</td>\n",
              "      <td>39.0</td>\n",
              "      <td>42.0</td>\n",
              "      <td>51.0</td>\n",
              "      <td>21.0</td>\n",
              "      <td>NaN</td>\n",
              "      <td>NaN</td>\n",
              "      <td>NaN</td>\n",
              "      <td>NaN</td>\n",
              "      <td>NaN</td>\n",
              "      <td>NaN</td>\n",
              "      <td>NaN</td>\n",
              "    </tr>\n",
              "    <tr>\n",
              "      <th>2021-08</th>\n",
              "      <td>169.0</td>\n",
              "      <td>35.0</td>\n",
              "      <td>42.0</td>\n",
              "      <td>41.0</td>\n",
              "      <td>21.0</td>\n",
              "      <td>NaN</td>\n",
              "      <td>NaN</td>\n",
              "      <td>NaN</td>\n",
              "      <td>NaN</td>\n",
              "      <td>NaN</td>\n",
              "      <td>NaN</td>\n",
              "      <td>NaN</td>\n",
              "      <td>NaN</td>\n",
              "    </tr>\n",
              "    <tr>\n",
              "      <th>2021-09</th>\n",
              "      <td>299.0</td>\n",
              "      <td>70.0</td>\n",
              "      <td>90.0</td>\n",
              "      <td>34.0</td>\n",
              "      <td>NaN</td>\n",
              "      <td>NaN</td>\n",
              "      <td>NaN</td>\n",
              "      <td>NaN</td>\n",
              "      <td>NaN</td>\n",
              "      <td>NaN</td>\n",
              "      <td>NaN</td>\n",
              "      <td>NaN</td>\n",
              "      <td>NaN</td>\n",
              "    </tr>\n",
              "    <tr>\n",
              "      <th>2021-10</th>\n",
              "      <td>358.0</td>\n",
              "      <td>86.0</td>\n",
              "      <td>41.0</td>\n",
              "      <td>NaN</td>\n",
              "      <td>NaN</td>\n",
              "      <td>NaN</td>\n",
              "      <td>NaN</td>\n",
              "      <td>NaN</td>\n",
              "      <td>NaN</td>\n",
              "      <td>NaN</td>\n",
              "      <td>NaN</td>\n",
              "      <td>NaN</td>\n",
              "      <td>NaN</td>\n",
              "    </tr>\n",
              "    <tr>\n",
              "      <th>2021-11</th>\n",
              "      <td>324.0</td>\n",
              "      <td>36.0</td>\n",
              "      <td>NaN</td>\n",
              "      <td>NaN</td>\n",
              "      <td>NaN</td>\n",
              "      <td>NaN</td>\n",
              "      <td>NaN</td>\n",
              "      <td>NaN</td>\n",
              "      <td>NaN</td>\n",
              "      <td>NaN</td>\n",
              "      <td>NaN</td>\n",
              "      <td>NaN</td>\n",
              "      <td>NaN</td>\n",
              "    </tr>\n",
              "    <tr>\n",
              "      <th>2021-12</th>\n",
              "      <td>41.0</td>\n",
              "      <td>NaN</td>\n",
              "      <td>NaN</td>\n",
              "      <td>NaN</td>\n",
              "      <td>NaN</td>\n",
              "      <td>NaN</td>\n",
              "      <td>NaN</td>\n",
              "      <td>NaN</td>\n",
              "      <td>NaN</td>\n",
              "      <td>NaN</td>\n",
              "      <td>NaN</td>\n",
              "      <td>NaN</td>\n",
              "      <td>NaN</td>\n",
              "    </tr>\n",
              "  </tbody>\n",
              "</table>\n",
              "</div>"
            ],
            "text/plain": [
              "cohor_index     0      1      2      3      4      5      6      7      8   \\\n",
              "cohor_month                                                                  \n",
              "2020-12      885.0  324.0  286.0  340.0  321.0  352.0  321.0  309.0  313.0   \n",
              "2021-01      417.0   92.0  111.0   96.0  134.0  120.0  103.0  101.0  125.0   \n",
              "2021-02      380.0   71.0   71.0  108.0  103.0   94.0   96.0  106.0   94.0   \n",
              "2021-03      452.0   68.0  114.0   90.0  101.0   76.0  121.0  104.0  126.0   \n",
              "2021-04      300.0   64.0   61.0   63.0   59.0   68.0   65.0   78.0   22.0   \n",
              "2021-05      284.0   54.0   49.0   49.0   59.0   66.0   75.0   27.0    NaN   \n",
              "2021-06      242.0   42.0   38.0   64.0   56.0   81.0   23.0    NaN    NaN   \n",
              "2021-07      188.0   34.0   39.0   42.0   51.0   21.0    NaN    NaN    NaN   \n",
              "2021-08      169.0   35.0   42.0   41.0   21.0    NaN    NaN    NaN    NaN   \n",
              "2021-09      299.0   70.0   90.0   34.0    NaN    NaN    NaN    NaN    NaN   \n",
              "2021-10      358.0   86.0   41.0    NaN    NaN    NaN    NaN    NaN    NaN   \n",
              "2021-11      324.0   36.0    NaN    NaN    NaN    NaN    NaN    NaN    NaN   \n",
              "2021-12       41.0    NaN    NaN    NaN    NaN    NaN    NaN    NaN    NaN   \n",
              "\n",
              "cohor_index     9      10     11     12  \n",
              "cohor_month                              \n",
              "2020-12      350.0  331.0  445.0  235.0  \n",
              "2021-01      136.0  152.0   49.0    NaN  \n",
              "2021-02      116.0   26.0    NaN    NaN  \n",
              "2021-03       39.0    NaN    NaN    NaN  \n",
              "2021-04        NaN    NaN    NaN    NaN  \n",
              "2021-05        NaN    NaN    NaN    NaN  \n",
              "2021-06        NaN    NaN    NaN    NaN  \n",
              "2021-07        NaN    NaN    NaN    NaN  \n",
              "2021-08        NaN    NaN    NaN    NaN  \n",
              "2021-09        NaN    NaN    NaN    NaN  \n",
              "2021-10        NaN    NaN    NaN    NaN  \n",
              "2021-11        NaN    NaN    NaN    NaN  \n",
              "2021-12        NaN    NaN    NaN    NaN  "
            ]
          },
          "metadata": {
            "tags": []
          },
          "execution_count": 23
        }
      ]
    },
    {
      "cell_type": "code",
      "metadata": {
        "colab": {
          "base_uri": "https://localhost:8080/",
          "height": 483
        },
        "id": "C5VN0cyKt1Zm",
        "outputId": "7e9c6b02-b933-4e9f-d356-f46b93d33070"
      },
      "source": [
        "#size cohornya\r\n",
        "sz_cohor = cohor_sum.iloc[:,0]\r\n",
        "\r\n",
        "#pembagian Retention\r\n",
        "Retention=cohor_sum.divide(sz_cohor,axis=0)\r\n",
        "Retention.round(1)*100"
      ],
      "execution_count": 24,
      "outputs": [
        {
          "output_type": "execute_result",
          "data": {
            "text/html": [
              "<div>\n",
              "<style scoped>\n",
              "    .dataframe tbody tr th:only-of-type {\n",
              "        vertical-align: middle;\n",
              "    }\n",
              "\n",
              "    .dataframe tbody tr th {\n",
              "        vertical-align: top;\n",
              "    }\n",
              "\n",
              "    .dataframe thead th {\n",
              "        text-align: right;\n",
              "    }\n",
              "</style>\n",
              "<table border=\"1\" class=\"dataframe\">\n",
              "  <thead>\n",
              "    <tr style=\"text-align: right;\">\n",
              "      <th>cohor_index</th>\n",
              "      <th>0</th>\n",
              "      <th>1</th>\n",
              "      <th>2</th>\n",
              "      <th>3</th>\n",
              "      <th>4</th>\n",
              "      <th>5</th>\n",
              "      <th>6</th>\n",
              "      <th>7</th>\n",
              "      <th>8</th>\n",
              "      <th>9</th>\n",
              "      <th>10</th>\n",
              "      <th>11</th>\n",
              "      <th>12</th>\n",
              "    </tr>\n",
              "    <tr>\n",
              "      <th>cohor_month</th>\n",
              "      <th></th>\n",
              "      <th></th>\n",
              "      <th></th>\n",
              "      <th></th>\n",
              "      <th></th>\n",
              "      <th></th>\n",
              "      <th></th>\n",
              "      <th></th>\n",
              "      <th></th>\n",
              "      <th></th>\n",
              "      <th></th>\n",
              "      <th></th>\n",
              "      <th></th>\n",
              "    </tr>\n",
              "  </thead>\n",
              "  <tbody>\n",
              "    <tr>\n",
              "      <th>2020-12</th>\n",
              "      <td>100.0</td>\n",
              "      <td>40.0</td>\n",
              "      <td>30.0</td>\n",
              "      <td>40.0</td>\n",
              "      <td>40.0</td>\n",
              "      <td>40.0</td>\n",
              "      <td>40.0</td>\n",
              "      <td>30.0</td>\n",
              "      <td>40.0</td>\n",
              "      <td>40.0</td>\n",
              "      <td>40.0</td>\n",
              "      <td>50.0</td>\n",
              "      <td>30.0</td>\n",
              "    </tr>\n",
              "    <tr>\n",
              "      <th>2021-01</th>\n",
              "      <td>100.0</td>\n",
              "      <td>20.0</td>\n",
              "      <td>30.0</td>\n",
              "      <td>20.0</td>\n",
              "      <td>30.0</td>\n",
              "      <td>30.0</td>\n",
              "      <td>20.0</td>\n",
              "      <td>20.0</td>\n",
              "      <td>30.0</td>\n",
              "      <td>30.0</td>\n",
              "      <td>40.0</td>\n",
              "      <td>10.0</td>\n",
              "      <td>NaN</td>\n",
              "    </tr>\n",
              "    <tr>\n",
              "      <th>2021-02</th>\n",
              "      <td>100.0</td>\n",
              "      <td>20.0</td>\n",
              "      <td>20.0</td>\n",
              "      <td>30.0</td>\n",
              "      <td>30.0</td>\n",
              "      <td>20.0</td>\n",
              "      <td>30.0</td>\n",
              "      <td>30.0</td>\n",
              "      <td>20.0</td>\n",
              "      <td>30.0</td>\n",
              "      <td>10.0</td>\n",
              "      <td>NaN</td>\n",
              "      <td>NaN</td>\n",
              "    </tr>\n",
              "    <tr>\n",
              "      <th>2021-03</th>\n",
              "      <td>100.0</td>\n",
              "      <td>20.0</td>\n",
              "      <td>30.0</td>\n",
              "      <td>20.0</td>\n",
              "      <td>20.0</td>\n",
              "      <td>20.0</td>\n",
              "      <td>30.0</td>\n",
              "      <td>20.0</td>\n",
              "      <td>30.0</td>\n",
              "      <td>10.0</td>\n",
              "      <td>NaN</td>\n",
              "      <td>NaN</td>\n",
              "      <td>NaN</td>\n",
              "    </tr>\n",
              "    <tr>\n",
              "      <th>2021-04</th>\n",
              "      <td>100.0</td>\n",
              "      <td>20.0</td>\n",
              "      <td>20.0</td>\n",
              "      <td>20.0</td>\n",
              "      <td>20.0</td>\n",
              "      <td>20.0</td>\n",
              "      <td>20.0</td>\n",
              "      <td>30.0</td>\n",
              "      <td>10.0</td>\n",
              "      <td>NaN</td>\n",
              "      <td>NaN</td>\n",
              "      <td>NaN</td>\n",
              "      <td>NaN</td>\n",
              "    </tr>\n",
              "    <tr>\n",
              "      <th>2021-05</th>\n",
              "      <td>100.0</td>\n",
              "      <td>20.0</td>\n",
              "      <td>20.0</td>\n",
              "      <td>20.0</td>\n",
              "      <td>20.0</td>\n",
              "      <td>20.0</td>\n",
              "      <td>30.0</td>\n",
              "      <td>10.0</td>\n",
              "      <td>NaN</td>\n",
              "      <td>NaN</td>\n",
              "      <td>NaN</td>\n",
              "      <td>NaN</td>\n",
              "      <td>NaN</td>\n",
              "    </tr>\n",
              "    <tr>\n",
              "      <th>2021-06</th>\n",
              "      <td>100.0</td>\n",
              "      <td>20.0</td>\n",
              "      <td>20.0</td>\n",
              "      <td>30.0</td>\n",
              "      <td>20.0</td>\n",
              "      <td>30.0</td>\n",
              "      <td>10.0</td>\n",
              "      <td>NaN</td>\n",
              "      <td>NaN</td>\n",
              "      <td>NaN</td>\n",
              "      <td>NaN</td>\n",
              "      <td>NaN</td>\n",
              "      <td>NaN</td>\n",
              "    </tr>\n",
              "    <tr>\n",
              "      <th>2021-07</th>\n",
              "      <td>100.0</td>\n",
              "      <td>20.0</td>\n",
              "      <td>20.0</td>\n",
              "      <td>20.0</td>\n",
              "      <td>30.0</td>\n",
              "      <td>10.0</td>\n",
              "      <td>NaN</td>\n",
              "      <td>NaN</td>\n",
              "      <td>NaN</td>\n",
              "      <td>NaN</td>\n",
              "      <td>NaN</td>\n",
              "      <td>NaN</td>\n",
              "      <td>NaN</td>\n",
              "    </tr>\n",
              "    <tr>\n",
              "      <th>2021-08</th>\n",
              "      <td>100.0</td>\n",
              "      <td>20.0</td>\n",
              "      <td>20.0</td>\n",
              "      <td>20.0</td>\n",
              "      <td>10.0</td>\n",
              "      <td>NaN</td>\n",
              "      <td>NaN</td>\n",
              "      <td>NaN</td>\n",
              "      <td>NaN</td>\n",
              "      <td>NaN</td>\n",
              "      <td>NaN</td>\n",
              "      <td>NaN</td>\n",
              "      <td>NaN</td>\n",
              "    </tr>\n",
              "    <tr>\n",
              "      <th>2021-09</th>\n",
              "      <td>100.0</td>\n",
              "      <td>20.0</td>\n",
              "      <td>30.0</td>\n",
              "      <td>10.0</td>\n",
              "      <td>NaN</td>\n",
              "      <td>NaN</td>\n",
              "      <td>NaN</td>\n",
              "      <td>NaN</td>\n",
              "      <td>NaN</td>\n",
              "      <td>NaN</td>\n",
              "      <td>NaN</td>\n",
              "      <td>NaN</td>\n",
              "      <td>NaN</td>\n",
              "    </tr>\n",
              "    <tr>\n",
              "      <th>2021-10</th>\n",
              "      <td>100.0</td>\n",
              "      <td>20.0</td>\n",
              "      <td>10.0</td>\n",
              "      <td>NaN</td>\n",
              "      <td>NaN</td>\n",
              "      <td>NaN</td>\n",
              "      <td>NaN</td>\n",
              "      <td>NaN</td>\n",
              "      <td>NaN</td>\n",
              "      <td>NaN</td>\n",
              "      <td>NaN</td>\n",
              "      <td>NaN</td>\n",
              "      <td>NaN</td>\n",
              "    </tr>\n",
              "    <tr>\n",
              "      <th>2021-11</th>\n",
              "      <td>100.0</td>\n",
              "      <td>10.0</td>\n",
              "      <td>NaN</td>\n",
              "      <td>NaN</td>\n",
              "      <td>NaN</td>\n",
              "      <td>NaN</td>\n",
              "      <td>NaN</td>\n",
              "      <td>NaN</td>\n",
              "      <td>NaN</td>\n",
              "      <td>NaN</td>\n",
              "      <td>NaN</td>\n",
              "      <td>NaN</td>\n",
              "      <td>NaN</td>\n",
              "    </tr>\n",
              "    <tr>\n",
              "      <th>2021-12</th>\n",
              "      <td>100.0</td>\n",
              "      <td>NaN</td>\n",
              "      <td>NaN</td>\n",
              "      <td>NaN</td>\n",
              "      <td>NaN</td>\n",
              "      <td>NaN</td>\n",
              "      <td>NaN</td>\n",
              "      <td>NaN</td>\n",
              "      <td>NaN</td>\n",
              "      <td>NaN</td>\n",
              "      <td>NaN</td>\n",
              "      <td>NaN</td>\n",
              "      <td>NaN</td>\n",
              "    </tr>\n",
              "  </tbody>\n",
              "</table>\n",
              "</div>"
            ],
            "text/plain": [
              "cohor_index     0     1     2     3     4     5     6     7     8     9   \\\n",
              "cohor_month                                                                \n",
              "2020-12      100.0  40.0  30.0  40.0  40.0  40.0  40.0  30.0  40.0  40.0   \n",
              "2021-01      100.0  20.0  30.0  20.0  30.0  30.0  20.0  20.0  30.0  30.0   \n",
              "2021-02      100.0  20.0  20.0  30.0  30.0  20.0  30.0  30.0  20.0  30.0   \n",
              "2021-03      100.0  20.0  30.0  20.0  20.0  20.0  30.0  20.0  30.0  10.0   \n",
              "2021-04      100.0  20.0  20.0  20.0  20.0  20.0  20.0  30.0  10.0   NaN   \n",
              "2021-05      100.0  20.0  20.0  20.0  20.0  20.0  30.0  10.0   NaN   NaN   \n",
              "2021-06      100.0  20.0  20.0  30.0  20.0  30.0  10.0   NaN   NaN   NaN   \n",
              "2021-07      100.0  20.0  20.0  20.0  30.0  10.0   NaN   NaN   NaN   NaN   \n",
              "2021-08      100.0  20.0  20.0  20.0  10.0   NaN   NaN   NaN   NaN   NaN   \n",
              "2021-09      100.0  20.0  30.0  10.0   NaN   NaN   NaN   NaN   NaN   NaN   \n",
              "2021-10      100.0  20.0  10.0   NaN   NaN   NaN   NaN   NaN   NaN   NaN   \n",
              "2021-11      100.0  10.0   NaN   NaN   NaN   NaN   NaN   NaN   NaN   NaN   \n",
              "2021-12      100.0   NaN   NaN   NaN   NaN   NaN   NaN   NaN   NaN   NaN   \n",
              "\n",
              "cohor_index    10    11    12  \n",
              "cohor_month                    \n",
              "2020-12      40.0  50.0  30.0  \n",
              "2021-01      40.0  10.0   NaN  \n",
              "2021-02      10.0   NaN   NaN  \n",
              "2021-03       NaN   NaN   NaN  \n",
              "2021-04       NaN   NaN   NaN  \n",
              "2021-05       NaN   NaN   NaN  \n",
              "2021-06       NaN   NaN   NaN  \n",
              "2021-07       NaN   NaN   NaN  \n",
              "2021-08       NaN   NaN   NaN  \n",
              "2021-09       NaN   NaN   NaN  \n",
              "2021-10       NaN   NaN   NaN  \n",
              "2021-11       NaN   NaN   NaN  \n",
              "2021-12       NaN   NaN   NaN  "
            ]
          },
          "metadata": {
            "tags": []
          },
          "execution_count": 24
        }
      ]
    },
    {
      "cell_type": "code",
      "metadata": {
        "colab": {
          "base_uri": "https://localhost:8080/",
          "height": 573
        },
        "id": "nBo_9r32vni1",
        "outputId": "339f93f9-2b6b-49a1-f058-7b3d5dcd7761"
      },
      "source": [
        "#Visualisasi RETENTION\r\n",
        "plt.figure(figsize=(10,9))\r\n",
        "plt.title(\"Retention Rate\")\r\n",
        "sns.heatmap(data = Retention,annot = True,fmt = '.0%',vmin = 0.0,vmax = 0.5,cmap = \"YlOrBr\")\r\n",
        "\r\n",
        "plt.show()"
      ],
      "execution_count": 25,
      "outputs": [
        {
          "output_type": "display_data",
          "data": {
            "image/png": "[encoded data removed]",
            "text/plain": [
              "<Figure size 720x648 with 2 Axes>"
            ]
          },
          "metadata": {
            "tags": []
          }
        }
      ]
    },
    {
      "cell_type": "code",
      "metadata": {
        "colab": {
          "base_uri": "https://localhost:8080/",
          "height": 483
        },
        "id": "fviTvY3u0XHV",
        "outputId": "321cf72d-e4e0-4b10-dc92-2378001bdcac"
      },
      "source": [
        "#Cohor untuk kuantitas\r\n",
        "cohor_data2 = data2.groupby(['cohor_month','cohor_index'])['Quantity'].mean().reset_index()\r\n",
        "average_quantity  = cohor_data2.pivot_table(index = 'cohor_month',columns = 'cohor_index',values ='Quantity').round(2)\r\n",
        "average_quantity"
      ],
      "execution_count": 26,
      "outputs": [
        {
          "output_type": "execute_result",
          "data": {
            "text/html": [
              "<div>\n",
              "<style scoped>\n",
              "    .dataframe tbody tr th:only-of-type {\n",
              "        vertical-align: middle;\n",
              "    }\n",
              "\n",
              "    .dataframe tbody tr th {\n",
              "        vertical-align: top;\n",
              "    }\n",
              "\n",
              "    .dataframe thead th {\n",
              "        text-align: right;\n",
              "    }\n",
              "</style>\n",
              "<table border=\"1\" class=\"dataframe\">\n",
              "  <thead>\n",
              "    <tr style=\"text-align: right;\">\n",
              "      <th>cohor_index</th>\n",
              "      <th>0</th>\n",
              "      <th>1</th>\n",
              "      <th>2</th>\n",
              "      <th>3</th>\n",
              "      <th>4</th>\n",
              "      <th>5</th>\n",
              "      <th>6</th>\n",
              "      <th>7</th>\n",
              "      <th>8</th>\n",
              "      <th>9</th>\n",
              "      <th>10</th>\n",
              "      <th>11</th>\n",
              "      <th>12</th>\n",
              "    </tr>\n",
              "    <tr>\n",
              "      <th>cohor_month</th>\n",
              "      <th></th>\n",
              "      <th></th>\n",
              "      <th></th>\n",
              "      <th></th>\n",
              "      <th></th>\n",
              "      <th></th>\n",
              "      <th></th>\n",
              "      <th></th>\n",
              "      <th></th>\n",
              "      <th></th>\n",
              "      <th></th>\n",
              "      <th></th>\n",
              "      <th></th>\n",
              "    </tr>\n",
              "  </thead>\n",
              "  <tbody>\n",
              "    <tr>\n",
              "      <th>2020-12</th>\n",
              "      <td>12.12</td>\n",
              "      <td>15.67</td>\n",
              "      <td>15.73</td>\n",
              "      <td>15.93</td>\n",
              "      <td>13.63</td>\n",
              "      <td>14.92</td>\n",
              "      <td>16.11</td>\n",
              "      <td>15.64</td>\n",
              "      <td>18.27</td>\n",
              "      <td>17.70</td>\n",
              "      <td>19.05</td>\n",
              "      <td>13.60</td>\n",
              "      <td>15.38</td>\n",
              "    </tr>\n",
              "    <tr>\n",
              "      <th>2021-01</th>\n",
              "      <td>17.47</td>\n",
              "      <td>13.47</td>\n",
              "      <td>12.71</td>\n",
              "      <td>15.28</td>\n",
              "      <td>12.86</td>\n",
              "      <td>15.39</td>\n",
              "      <td>14.97</td>\n",
              "      <td>14.99</td>\n",
              "      <td>11.63</td>\n",
              "      <td>10.62</td>\n",
              "      <td>9.63</td>\n",
              "      <td>10.18</td>\n",
              "      <td>NaN</td>\n",
              "    </tr>\n",
              "    <tr>\n",
              "      <th>2021-02</th>\n",
              "      <td>11.20</td>\n",
              "      <td>13.74</td>\n",
              "      <td>19.02</td>\n",
              "      <td>12.04</td>\n",
              "      <td>12.34</td>\n",
              "      <td>12.33</td>\n",
              "      <td>13.57</td>\n",
              "      <td>13.40</td>\n",
              "      <td>10.97</td>\n",
              "      <td>12.42</td>\n",
              "      <td>13.39</td>\n",
              "      <td>NaN</td>\n",
              "      <td>NaN</td>\n",
              "    </tr>\n",
              "    <tr>\n",
              "      <th>2021-03</th>\n",
              "      <td>9.96</td>\n",
              "      <td>11.74</td>\n",
              "      <td>13.31</td>\n",
              "      <td>10.12</td>\n",
              "      <td>13.76</td>\n",
              "      <td>13.01</td>\n",
              "      <td>13.46</td>\n",
              "      <td>13.85</td>\n",
              "      <td>11.32</td>\n",
              "      <td>9.70</td>\n",
              "      <td>NaN</td>\n",
              "      <td>NaN</td>\n",
              "      <td>NaN</td>\n",
              "    </tr>\n",
              "    <tr>\n",
              "      <th>2021-04</th>\n",
              "      <td>10.04</td>\n",
              "      <td>10.42</td>\n",
              "      <td>9.77</td>\n",
              "      <td>11.87</td>\n",
              "      <td>11.96</td>\n",
              "      <td>8.69</td>\n",
              "      <td>10.00</td>\n",
              "      <td>9.68</td>\n",
              "      <td>7.57</td>\n",
              "      <td>NaN</td>\n",
              "      <td>NaN</td>\n",
              "      <td>NaN</td>\n",
              "      <td>NaN</td>\n",
              "    </tr>\n",
              "    <tr>\n",
              "      <th>2021-05</th>\n",
              "      <td>11.46</td>\n",
              "      <td>9.75</td>\n",
              "      <td>14.21</td>\n",
              "      <td>12.76</td>\n",
              "      <td>11.22</td>\n",
              "      <td>8.76</td>\n",
              "      <td>10.76</td>\n",
              "      <td>113.76</td>\n",
              "      <td>NaN</td>\n",
              "      <td>NaN</td>\n",
              "      <td>NaN</td>\n",
              "      <td>NaN</td>\n",
              "      <td>NaN</td>\n",
              "    </tr>\n",
              "    <tr>\n",
              "      <th>2021-06</th>\n",
              "      <td>10.66</td>\n",
              "      <td>14.73</td>\n",
              "      <td>10.87</td>\n",
              "      <td>13.66</td>\n",
              "      <td>10.69</td>\n",
              "      <td>9.96</td>\n",
              "      <td>9.51</td>\n",
              "      <td>NaN</td>\n",
              "      <td>NaN</td>\n",
              "      <td>NaN</td>\n",
              "      <td>NaN</td>\n",
              "      <td>NaN</td>\n",
              "      <td>NaN</td>\n",
              "    </tr>\n",
              "    <tr>\n",
              "      <th>2021-07</th>\n",
              "      <td>9.92</td>\n",
              "      <td>13.75</td>\n",
              "      <td>7.40</td>\n",
              "      <td>8.18</td>\n",
              "      <td>6.21</td>\n",
              "      <td>7.16</td>\n",
              "      <td>NaN</td>\n",
              "      <td>NaN</td>\n",
              "      <td>NaN</td>\n",
              "      <td>NaN</td>\n",
              "      <td>NaN</td>\n",
              "      <td>NaN</td>\n",
              "      <td>NaN</td>\n",
              "    </tr>\n",
              "    <tr>\n",
              "      <th>2021-08</th>\n",
              "      <td>10.08</td>\n",
              "      <td>6.20</td>\n",
              "      <td>5.44</td>\n",
              "      <td>6.15</td>\n",
              "      <td>7.06</td>\n",
              "      <td>NaN</td>\n",
              "      <td>NaN</td>\n",
              "      <td>NaN</td>\n",
              "      <td>NaN</td>\n",
              "      <td>NaN</td>\n",
              "      <td>NaN</td>\n",
              "      <td>NaN</td>\n",
              "      <td>NaN</td>\n",
              "    </tr>\n",
              "    <tr>\n",
              "      <th>2021-09</th>\n",
              "      <td>12.14</td>\n",
              "      <td>6.32</td>\n",
              "      <td>8.09</td>\n",
              "      <td>8.96</td>\n",
              "      <td>NaN</td>\n",
              "      <td>NaN</td>\n",
              "      <td>NaN</td>\n",
              "      <td>NaN</td>\n",
              "      <td>NaN</td>\n",
              "      <td>NaN</td>\n",
              "      <td>NaN</td>\n",
              "      <td>NaN</td>\n",
              "      <td>NaN</td>\n",
              "    </tr>\n",
              "    <tr>\n",
              "      <th>2021-10</th>\n",
              "      <td>9.00</td>\n",
              "      <td>7.28</td>\n",
              "      <td>8.49</td>\n",
              "      <td>NaN</td>\n",
              "      <td>NaN</td>\n",
              "      <td>NaN</td>\n",
              "      <td>NaN</td>\n",
              "      <td>NaN</td>\n",
              "      <td>NaN</td>\n",
              "      <td>NaN</td>\n",
              "      <td>NaN</td>\n",
              "      <td>NaN</td>\n",
              "      <td>NaN</td>\n",
              "    </tr>\n",
              "    <tr>\n",
              "      <th>2021-11</th>\n",
              "      <td>9.06</td>\n",
              "      <td>10.03</td>\n",
              "      <td>NaN</td>\n",
              "      <td>NaN</td>\n",
              "      <td>NaN</td>\n",
              "      <td>NaN</td>\n",
              "      <td>NaN</td>\n",
              "      <td>NaN</td>\n",
              "      <td>NaN</td>\n",
              "      <td>NaN</td>\n",
              "      <td>NaN</td>\n",
              "      <td>NaN</td>\n",
              "      <td>NaN</td>\n",
              "    </tr>\n",
              "    <tr>\n",
              "      <th>2021-12</th>\n",
              "      <td>15.19</td>\n",
              "      <td>NaN</td>\n",
              "      <td>NaN</td>\n",
              "      <td>NaN</td>\n",
              "      <td>NaN</td>\n",
              "      <td>NaN</td>\n",
              "      <td>NaN</td>\n",
              "      <td>NaN</td>\n",
              "      <td>NaN</td>\n",
              "      <td>NaN</td>\n",
              "      <td>NaN</td>\n",
              "      <td>NaN</td>\n",
              "      <td>NaN</td>\n",
              "    </tr>\n",
              "  </tbody>\n",
              "</table>\n",
              "</div>"
            ],
            "text/plain": [
              "cohor_index     0      1      2      3      4      5      6       7      8   \\\n",
              "cohor_month                                                                   \n",
              "2020-12      12.12  15.67  15.73  15.93  13.63  14.92  16.11   15.64  18.27   \n",
              "2021-01      17.47  13.47  12.71  15.28  12.86  15.39  14.97   14.99  11.63   \n",
              "2021-02      11.20  13.74  19.02  12.04  12.34  12.33  13.57   13.40  10.97   \n",
              "2021-03       9.96  11.74  13.31  10.12  13.76  13.01  13.46   13.85  11.32   \n",
              "2021-04      10.04  10.42   9.77  11.87  11.96   8.69  10.00    9.68   7.57   \n",
              "2021-05      11.46   9.75  14.21  12.76  11.22   8.76  10.76  113.76    NaN   \n",
              "2021-06      10.66  14.73  10.87  13.66  10.69   9.96   9.51     NaN    NaN   \n",
              "2021-07       9.92  13.75   7.40   8.18   6.21   7.16    NaN     NaN    NaN   \n",
              "2021-08      10.08   6.20   5.44   6.15   7.06    NaN    NaN     NaN    NaN   \n",
              "2021-09      12.14   6.32   8.09   8.96    NaN    NaN    NaN     NaN    NaN   \n",
              "2021-10       9.00   7.28   8.49    NaN    NaN    NaN    NaN     NaN    NaN   \n",
              "2021-11       9.06  10.03    NaN    NaN    NaN    NaN    NaN     NaN    NaN   \n",
              "2021-12      15.19    NaN    NaN    NaN    NaN    NaN    NaN     NaN    NaN   \n",
              "\n",
              "cohor_index     9      10     11     12  \n",
              "cohor_month                              \n",
              "2020-12      17.70  19.05  13.60  15.38  \n",
              "2021-01      10.62   9.63  10.18    NaN  \n",
              "2021-02      12.42  13.39    NaN    NaN  \n",
              "2021-03       9.70    NaN    NaN    NaN  \n",
              "2021-04        NaN    NaN    NaN    NaN  \n",
              "2021-05        NaN    NaN    NaN    NaN  \n",
              "2021-06        NaN    NaN    NaN    NaN  \n",
              "2021-07        NaN    NaN    NaN    NaN  \n",
              "2021-08        NaN    NaN    NaN    NaN  \n",
              "2021-09        NaN    NaN    NaN    NaN  \n",
              "2021-10        NaN    NaN    NaN    NaN  \n",
              "2021-11        NaN    NaN    NaN    NaN  \n",
              "2021-12        NaN    NaN    NaN    NaN  "
            ]
          },
          "metadata": {
            "tags": []
          },
          "execution_count": 26
        }
      ]
    },
    {
      "cell_type": "code",
      "metadata": {
        "id": "uh37vCCsZ8RO"
      },
      "source": [
        "#Retention.mean()*100\r\n",
        "#data2[data2['Quantity']==80995]"
      ],
      "execution_count": 27,
      "outputs": []
    },
    {
      "cell_type": "code",
      "metadata": {
        "colab": {
          "base_uri": "https://localhost:8080/",
          "height": 573
        },
        "id": "8nELQO1FR3ss",
        "outputId": "6845cb5b-051a-4b5e-c2d3-1befd05655f6"
      },
      "source": [
        "plt.figure(figsize = (11,9))\r\n",
        "plt.title('Average Quantity')\r\n",
        "sns.heatmap(data = average_quantity, annot = True, cmap = \"PuRd_r\")\r\n",
        "plt.show()"
      ],
      "execution_count": 28,
      "outputs": [
        {
          "output_type": "display_data",
          "data": {
            "image/png": "[encoded data removed]",
            "text/plain": [
              "<Figure size 792x648 with 2 Axes>"
            ]
          },
          "metadata": {
            "tags": []
          }
        }
      ]
    },
    {
      "cell_type": "code",
      "metadata": {
        "colab": {
          "base_uri": "https://localhost:8080/"
        },
        "id": "jmITnJJuhMAS",
        "outputId": "9c914063-f6f4-401c-b766-dc228bf95cee"
      },
      "source": [
        "data2['Revenue_Tot'].describe()"
      ],
      "execution_count": 29,
      "outputs": [
        {
          "output_type": "execute_result",
          "data": {
            "text/plain": [
              "count    392732.000000\n",
              "mean         22.629195\n",
              "std         311.083465\n",
              "min           0.000000\n",
              "25%           4.950000\n",
              "50%          12.390000\n",
              "75%          19.800000\n",
              "max      168469.600000\n",
              "Name: Revenue_Tot, dtype: float64"
            ]
          },
          "metadata": {
            "tags": []
          },
          "execution_count": 29
        }
      ]
    },
    {
      "cell_type": "code",
      "metadata": {
        "colab": {
          "base_uri": "https://localhost:8080/",
          "height": 483
        },
        "id": "ZaSJP18C2K7N",
        "outputId": "b68def1a-d694-4b3a-ed93-90b93e7bc5ec"
      },
      "source": [
        "#Cohor untuk avarage sale\r\n",
        "cohort_data3 = data2.groupby(['cohor_month','cohor_index'])['Revenue_Tot'].mean().reset_index()\r\n",
        "average_sales  = cohort_data3.pivot_table(index = 'cohor_month',\r\n",
        "                                           columns = 'cohor_index',\r\n",
        "                                      values = 'Revenue_Tot').round(3)\r\n",
        "average_sales"
      ],
      "execution_count": 30,
      "outputs": [
        {
          "output_type": "execute_result",
          "data": {
            "text/html": [
              "<div>\n",
              "<style scoped>\n",
              "    .dataframe tbody tr th:only-of-type {\n",
              "        vertical-align: middle;\n",
              "    }\n",
              "\n",
              "    .dataframe tbody tr th {\n",
              "        vertical-align: top;\n",
              "    }\n",
              "\n",
              "    .dataframe thead th {\n",
              "        text-align: right;\n",
              "    }\n",
              "</style>\n",
              "<table border=\"1\" class=\"dataframe\">\n",
              "  <thead>\n",
              "    <tr style=\"text-align: right;\">\n",
              "      <th>cohor_index</th>\n",
              "      <th>0</th>\n",
              "      <th>1</th>\n",
              "      <th>2</th>\n",
              "      <th>3</th>\n",
              "      <th>4</th>\n",
              "      <th>5</th>\n",
              "      <th>6</th>\n",
              "      <th>7</th>\n",
              "      <th>8</th>\n",
              "      <th>9</th>\n",
              "      <th>10</th>\n",
              "      <th>11</th>\n",
              "      <th>12</th>\n",
              "    </tr>\n",
              "    <tr>\n",
              "      <th>cohor_month</th>\n",
              "      <th></th>\n",
              "      <th></th>\n",
              "      <th></th>\n",
              "      <th></th>\n",
              "      <th></th>\n",
              "      <th></th>\n",
              "      <th></th>\n",
              "      <th></th>\n",
              "      <th></th>\n",
              "      <th></th>\n",
              "      <th></th>\n",
              "      <th></th>\n",
              "      <th></th>\n",
              "    </tr>\n",
              "  </thead>\n",
              "  <tbody>\n",
              "    <tr>\n",
              "      <th>2020-12</th>\n",
              "      <td>22.219</td>\n",
              "      <td>27.263</td>\n",
              "      <td>26.860</td>\n",
              "      <td>27.186</td>\n",
              "      <td>21.192</td>\n",
              "      <td>28.136</td>\n",
              "      <td>28.338</td>\n",
              "      <td>27.431</td>\n",
              "      <td>29.235</td>\n",
              "      <td>33.463</td>\n",
              "      <td>33.993</td>\n",
              "      <td>23.631</td>\n",
              "      <td>25.841</td>\n",
              "    </tr>\n",
              "    <tr>\n",
              "      <th>2021-01</th>\n",
              "      <td>26.879</td>\n",
              "      <td>25.100</td>\n",
              "      <td>20.968</td>\n",
              "      <td>31.234</td>\n",
              "      <td>22.472</td>\n",
              "      <td>26.280</td>\n",
              "      <td>25.243</td>\n",
              "      <td>25.493</td>\n",
              "      <td>19.069</td>\n",
              "      <td>22.332</td>\n",
              "      <td>19.720</td>\n",
              "      <td>19.781</td>\n",
              "      <td>NaN</td>\n",
              "    </tr>\n",
              "    <tr>\n",
              "      <th>2021-02</th>\n",
              "      <td>17.866</td>\n",
              "      <td>20.848</td>\n",
              "      <td>21.447</td>\n",
              "      <td>19.355</td>\n",
              "      <td>17.692</td>\n",
              "      <td>16.968</td>\n",
              "      <td>22.166</td>\n",
              "      <td>22.902</td>\n",
              "      <td>18.790</td>\n",
              "      <td>22.184</td>\n",
              "      <td>23.504</td>\n",
              "      <td>NaN</td>\n",
              "      <td>NaN</td>\n",
              "    </tr>\n",
              "    <tr>\n",
              "      <th>2021-03</th>\n",
              "      <td>17.588</td>\n",
              "      <td>21.140</td>\n",
              "      <td>22.694</td>\n",
              "      <td>18.018</td>\n",
              "      <td>21.106</td>\n",
              "      <td>19.003</td>\n",
              "      <td>22.034</td>\n",
              "      <td>19.990</td>\n",
              "      <td>16.796</td>\n",
              "      <td>13.197</td>\n",
              "      <td>NaN</td>\n",
              "      <td>NaN</td>\n",
              "      <td>NaN</td>\n",
              "    </tr>\n",
              "    <tr>\n",
              "      <th>2021-04</th>\n",
              "      <td>16.951</td>\n",
              "      <td>21.029</td>\n",
              "      <td>19.493</td>\n",
              "      <td>18.737</td>\n",
              "      <td>19.548</td>\n",
              "      <td>14.999</td>\n",
              "      <td>15.252</td>\n",
              "      <td>15.967</td>\n",
              "      <td>12.343</td>\n",
              "      <td>NaN</td>\n",
              "      <td>NaN</td>\n",
              "      <td>NaN</td>\n",
              "      <td>NaN</td>\n",
              "    </tr>\n",
              "    <tr>\n",
              "      <th>2021-05</th>\n",
              "      <td>20.483</td>\n",
              "      <td>17.341</td>\n",
              "      <td>22.222</td>\n",
              "      <td>20.897</td>\n",
              "      <td>18.588</td>\n",
              "      <td>14.110</td>\n",
              "      <td>17.018</td>\n",
              "      <td>234.534</td>\n",
              "      <td>NaN</td>\n",
              "      <td>NaN</td>\n",
              "      <td>NaN</td>\n",
              "      <td>NaN</td>\n",
              "      <td>NaN</td>\n",
              "    </tr>\n",
              "    <tr>\n",
              "      <th>2021-06</th>\n",
              "      <td>23.984</td>\n",
              "      <td>16.286</td>\n",
              "      <td>19.950</td>\n",
              "      <td>20.449</td>\n",
              "      <td>15.345</td>\n",
              "      <td>16.705</td>\n",
              "      <td>13.220</td>\n",
              "      <td>NaN</td>\n",
              "      <td>NaN</td>\n",
              "      <td>NaN</td>\n",
              "      <td>NaN</td>\n",
              "      <td>NaN</td>\n",
              "      <td>NaN</td>\n",
              "    </tr>\n",
              "    <tr>\n",
              "      <th>2021-07</th>\n",
              "      <td>14.958</td>\n",
              "      <td>23.532</td>\n",
              "      <td>11.787</td>\n",
              "      <td>13.018</td>\n",
              "      <td>10.885</td>\n",
              "      <td>11.684</td>\n",
              "      <td>NaN</td>\n",
              "      <td>NaN</td>\n",
              "      <td>NaN</td>\n",
              "      <td>NaN</td>\n",
              "      <td>NaN</td>\n",
              "      <td>NaN</td>\n",
              "      <td>NaN</td>\n",
              "    </tr>\n",
              "    <tr>\n",
              "      <th>2021-08</th>\n",
              "      <td>16.522</td>\n",
              "      <td>13.158</td>\n",
              "      <td>12.525</td>\n",
              "      <td>15.883</td>\n",
              "      <td>17.002</td>\n",
              "      <td>NaN</td>\n",
              "      <td>NaN</td>\n",
              "      <td>NaN</td>\n",
              "      <td>NaN</td>\n",
              "      <td>NaN</td>\n",
              "      <td>NaN</td>\n",
              "      <td>NaN</td>\n",
              "      <td>NaN</td>\n",
              "    </tr>\n",
              "    <tr>\n",
              "      <th>2021-09</th>\n",
              "      <td>18.813</td>\n",
              "      <td>12.286</td>\n",
              "      <td>14.148</td>\n",
              "      <td>14.269</td>\n",
              "      <td>NaN</td>\n",
              "      <td>NaN</td>\n",
              "      <td>NaN</td>\n",
              "      <td>NaN</td>\n",
              "      <td>NaN</td>\n",
              "      <td>NaN</td>\n",
              "      <td>NaN</td>\n",
              "      <td>NaN</td>\n",
              "      <td>NaN</td>\n",
              "    </tr>\n",
              "    <tr>\n",
              "      <th>2021-10</th>\n",
              "      <td>15.078</td>\n",
              "      <td>11.344</td>\n",
              "      <td>14.462</td>\n",
              "      <td>NaN</td>\n",
              "      <td>NaN</td>\n",
              "      <td>NaN</td>\n",
              "      <td>NaN</td>\n",
              "      <td>NaN</td>\n",
              "      <td>NaN</td>\n",
              "      <td>NaN</td>\n",
              "      <td>NaN</td>\n",
              "      <td>NaN</td>\n",
              "      <td>NaN</td>\n",
              "    </tr>\n",
              "    <tr>\n",
              "      <th>2021-11</th>\n",
              "      <td>12.484</td>\n",
              "      <td>13.839</td>\n",
              "      <td>NaN</td>\n",
              "      <td>NaN</td>\n",
              "      <td>NaN</td>\n",
              "      <td>NaN</td>\n",
              "      <td>NaN</td>\n",
              "      <td>NaN</td>\n",
              "      <td>NaN</td>\n",
              "      <td>NaN</td>\n",
              "      <td>NaN</td>\n",
              "      <td>NaN</td>\n",
              "      <td>NaN</td>\n",
              "    </tr>\n",
              "    <tr>\n",
              "      <th>2021-12</th>\n",
              "      <td>28.101</td>\n",
              "      <td>NaN</td>\n",
              "      <td>NaN</td>\n",
              "      <td>NaN</td>\n",
              "      <td>NaN</td>\n",
              "      <td>NaN</td>\n",
              "      <td>NaN</td>\n",
              "      <td>NaN</td>\n",
              "      <td>NaN</td>\n",
              "      <td>NaN</td>\n",
              "      <td>NaN</td>\n",
              "      <td>NaN</td>\n",
              "      <td>NaN</td>\n",
              "    </tr>\n",
              "  </tbody>\n",
              "</table>\n",
              "</div>"
            ],
            "text/plain": [
              "cohor_index      0       1       2       3       4       5       6        7   \\\n",
              "cohor_month                                                                    \n",
              "2020-12      22.219  27.263  26.860  27.186  21.192  28.136  28.338   27.431   \n",
              "2021-01      26.879  25.100  20.968  31.234  22.472  26.280  25.243   25.493   \n",
              "2021-02      17.866  20.848  21.447  19.355  17.692  16.968  22.166   22.902   \n",
              "2021-03      17.588  21.140  22.694  18.018  21.106  19.003  22.034   19.990   \n",
              "2021-04      16.951  21.029  19.493  18.737  19.548  14.999  15.252   15.967   \n",
              "2021-05      20.483  17.341  22.222  20.897  18.588  14.110  17.018  234.534   \n",
              "2021-06      23.984  16.286  19.950  20.449  15.345  16.705  13.220      NaN   \n",
              "2021-07      14.958  23.532  11.787  13.018  10.885  11.684     NaN      NaN   \n",
              "2021-08      16.522  13.158  12.525  15.883  17.002     NaN     NaN      NaN   \n",
              "2021-09      18.813  12.286  14.148  14.269     NaN     NaN     NaN      NaN   \n",
              "2021-10      15.078  11.344  14.462     NaN     NaN     NaN     NaN      NaN   \n",
              "2021-11      12.484  13.839     NaN     NaN     NaN     NaN     NaN      NaN   \n",
              "2021-12      28.101     NaN     NaN     NaN     NaN     NaN     NaN      NaN   \n",
              "\n",
              "cohor_index      8       9       10      11      12  \n",
              "cohor_month                                          \n",
              "2020-12      29.235  33.463  33.993  23.631  25.841  \n",
              "2021-01      19.069  22.332  19.720  19.781     NaN  \n",
              "2021-02      18.790  22.184  23.504     NaN     NaN  \n",
              "2021-03      16.796  13.197     NaN     NaN     NaN  \n",
              "2021-04      12.343     NaN     NaN     NaN     NaN  \n",
              "2021-05         NaN     NaN     NaN     NaN     NaN  \n",
              "2021-06         NaN     NaN     NaN     NaN     NaN  \n",
              "2021-07         NaN     NaN     NaN     NaN     NaN  \n",
              "2021-08         NaN     NaN     NaN     NaN     NaN  \n",
              "2021-09         NaN     NaN     NaN     NaN     NaN  \n",
              "2021-10         NaN     NaN     NaN     NaN     NaN  \n",
              "2021-11         NaN     NaN     NaN     NaN     NaN  \n",
              "2021-12         NaN     NaN     NaN     NaN     NaN  "
            ]
          },
          "metadata": {
            "tags": []
          },
          "execution_count": 30
        }
      ]
    },
    {
      "cell_type": "code",
      "metadata": {
        "colab": {
          "base_uri": "https://localhost:8080/",
          "height": 573
        },
        "id": "SkfUQLCkhB4X",
        "outputId": "ee6e6deb-e68f-4a90-d815-176bdac117bf"
      },
      "source": [
        "plt.figure(figsize = (11,9))\r\n",
        "plt.title('Average Sales')\r\n",
        "sns.heatmap(data = average_sales, \r\n",
        "            annot = True, \r\n",
        "            cmap = \"RdYlGn\")\r\n",
        "plt.show()"
      ],
      "execution_count": 31,
      "outputs": [
        {
          "output_type": "display_data",
          "data": {
            "image/png": "[encoded data removed]",
            "text/plain": [
              "<Figure size 792x648 with 2 Axes>"
            ]
          },
          "metadata": {
            "tags": []
          }
        }
      ]
    },
    {
      "cell_type": "markdown",
      "metadata": {
        "id": "iv7UI12trKFC"
      },
      "source": [
        "**RFM (Recency (Kebaruan/waktu), Frequency(Banyak pembelian), Monetary (Jumlah pemasukan)) modelling.**"
      ]
    },
    {
      "cell_type": "code",
      "metadata": {
        "colab": {
          "base_uri": "https://localhost:8080/"
        },
        "id": "y58-D61XtaJs",
        "outputId": "852a07eb-9c55-482f-f614-e0bb2d521169"
      },
      "source": [
        "print(data2['InvoiceDate'].tail())"
      ],
      "execution_count": 32,
      "outputs": [
        {
          "output_type": "stream",
          "text": [
            "541904   2021-12-09 12:50:00\n",
            "541905   2021-12-09 12:50:00\n",
            "541906   2021-12-09 12:50:00\n",
            "541907   2021-12-09 12:50:00\n",
            "541908   2021-12-09 12:50:00\n",
            "Name: InvoiceDate, dtype: datetime64[ns]\n"
          ],
          "name": "stdout"
        }
      ]
    },
    {
      "cell_type": "code",
      "metadata": {
        "id": "PbV3N1LburMB",
        "colab": {
          "base_uri": "https://localhost:8080/"
        },
        "outputId": "dea70800-d6c9-4963-9d11-d93032b41bab"
      },
      "source": [
        "#Input Tanggal pembelian terbaru\r\n",
        "from datetime import date,datetime\r\n",
        "import datetime as dt\r\n",
        "date_latest = dt.date(2021,12,10)\r\n",
        "date_new = pd.to_datetime(date_latest)\r\n",
        "print(date_new)"
      ],
      "execution_count": 33,
      "outputs": [
        {
          "output_type": "stream",
          "text": [
            "2021-12-10 00:00:00\n"
          ],
          "name": "stdout"
        }
      ]
    },
    {
      "cell_type": "code",
      "metadata": {
        "colab": {
          "base_uri": "https://localhost:8080/"
        },
        "id": "2ZX24JyLREUU",
        "outputId": "d78badde-a425-4dbc-c6f4-337bdc820883"
      },
      "source": [
        "data2['InvoiceDate']=pd.to_datetime(data2['InvoiceDate'])\r\n",
        "print(data2['InvoiceDate'].head())"
      ],
      "execution_count": 34,
      "outputs": [
        {
          "output_type": "stream",
          "text": [
            "0   2020-12-01 08:26:00\n",
            "1   2020-12-01 08:26:00\n",
            "2   2020-12-01 08:26:00\n",
            "3   2020-12-01 08:26:00\n",
            "4   2020-12-01 08:26:00\n",
            "Name: InvoiceDate, dtype: datetime64[ns]\n"
          ],
          "name": "stdout"
        }
      ]
    },
    {
      "cell_type": "code",
      "metadata": {
        "colab": {
          "base_uri": "https://localhost:8080/"
        },
        "id": "x1J1Bqe6rgVN",
        "outputId": "1df33a39-846f-40b0-b66a-1bc53c0c7515"
      },
      "source": [
        "RFMScores = data2.groupby('CustomerID').agg({'InvoiceDate': lambda x: (date_new - x.max()).days,'InvoiceNo': lambda x: len(x),'Revenue_Tot': lambda x: x.sum()})\r\n",
        "RFMScores['InvoiceDate'] = RFMScores['InvoiceDate'].astype(int)\r\n",
        "RFMScores.rename(columns={'InvoiceDate':'Recency','InvoiceNo':'Frequency','Revenue_Tot':'Monetary'},inplace=True)\r\n",
        "\r\n",
        "print(RFMScores.reset_index().head(10)) #.sort_values('Recency',ascending=False).head())"
      ],
      "execution_count": 35,
      "outputs": [
        {
          "output_type": "stream",
          "text": [
            "   CustomerID  Recency  Frequency  Monetary\n",
            "0     12346.0      325          1  77183.60\n",
            "1     12347.0        2        182   4310.00\n",
            "2     12348.0       75         31   1797.24\n",
            "3     12349.0       18         73   1757.55\n",
            "4     12350.0      310         17    334.40\n",
            "5     12352.0       36         85   2506.04\n",
            "6     12353.0      204          4     89.00\n",
            "7     12354.0      232         58   1079.40\n",
            "8     12355.0      214         13    459.40\n",
            "9     12356.0       22         59   2811.43\n"
          ],
          "name": "stdout"
        }
      ]
    },
    {
      "cell_type": "code",
      "metadata": {
        "id": "Y4nfi_T7SZQB",
        "colab": {
          "base_uri": "https://localhost:8080/",
          "height": 297
        },
        "outputId": "e524064d-f6db-4a4a-dc0b-8bcd561d341f"
      },
      "source": [
        "RFMScores.describe()"
      ],
      "execution_count": 36,
      "outputs": [
        {
          "output_type": "execute_result",
          "data": {
            "text/html": [
              "<div>\n",
              "<style scoped>\n",
              "    .dataframe tbody tr th:only-of-type {\n",
              "        vertical-align: middle;\n",
              "    }\n",
              "\n",
              "    .dataframe tbody tr th {\n",
              "        vertical-align: top;\n",
              "    }\n",
              "\n",
              "    .dataframe thead th {\n",
              "        text-align: right;\n",
              "    }\n",
              "</style>\n",
              "<table border=\"1\" class=\"dataframe\">\n",
              "  <thead>\n",
              "    <tr style=\"text-align: right;\">\n",
              "      <th></th>\n",
              "      <th>Recency</th>\n",
              "      <th>Frequency</th>\n",
              "      <th>Monetary</th>\n",
              "    </tr>\n",
              "  </thead>\n",
              "  <tbody>\n",
              "    <tr>\n",
              "      <th>count</th>\n",
              "      <td>4339.000000</td>\n",
              "      <td>4339.000000</td>\n",
              "      <td>4339.000000</td>\n",
              "    </tr>\n",
              "    <tr>\n",
              "      <th>mean</th>\n",
              "      <td>92.041484</td>\n",
              "      <td>90.512100</td>\n",
              "      <td>2048.215924</td>\n",
              "    </tr>\n",
              "    <tr>\n",
              "      <th>std</th>\n",
              "      <td>100.007757</td>\n",
              "      <td>225.515328</td>\n",
              "      <td>8984.248352</td>\n",
              "    </tr>\n",
              "    <tr>\n",
              "      <th>min</th>\n",
              "      <td>0.000000</td>\n",
              "      <td>1.000000</td>\n",
              "      <td>0.000000</td>\n",
              "    </tr>\n",
              "    <tr>\n",
              "      <th>25%</th>\n",
              "      <td>17.000000</td>\n",
              "      <td>17.000000</td>\n",
              "      <td>306.455000</td>\n",
              "    </tr>\n",
              "    <tr>\n",
              "      <th>50%</th>\n",
              "      <td>50.000000</td>\n",
              "      <td>41.000000</td>\n",
              "      <td>668.560000</td>\n",
              "    </tr>\n",
              "    <tr>\n",
              "      <th>75%</th>\n",
              "      <td>141.500000</td>\n",
              "      <td>98.000000</td>\n",
              "      <td>1660.315000</td>\n",
              "    </tr>\n",
              "    <tr>\n",
              "      <th>max</th>\n",
              "      <td>373.000000</td>\n",
              "      <td>7676.000000</td>\n",
              "      <td>280206.020000</td>\n",
              "    </tr>\n",
              "  </tbody>\n",
              "</table>\n",
              "</div>"
            ],
            "text/plain": [
              "           Recency    Frequency       Monetary\n",
              "count  4339.000000  4339.000000    4339.000000\n",
              "mean     92.041484    90.512100    2048.215924\n",
              "std     100.007757   225.515328    8984.248352\n",
              "min       0.000000     1.000000       0.000000\n",
              "25%      17.000000    17.000000     306.455000\n",
              "50%      50.000000    41.000000     668.560000\n",
              "75%     141.500000    98.000000    1660.315000\n",
              "max     373.000000  7676.000000  280206.020000"
            ]
          },
          "metadata": {
            "tags": []
          },
          "execution_count": 36
        }
      ]
    },
    {
      "cell_type": "code",
      "metadata": {
        "id": "GsJbyF5SQTHC",
        "colab": {
          "base_uri": "https://localhost:8080/",
          "height": 114
        },
        "outputId": "4960f56f-24e0-46df-c1c8-b16948cbf65e"
      },
      "source": [
        "#Membuktikan bahwa perhitungan recency sudah benar\r\n",
        "#pilih salah satu customerID\r\n",
        "data2[data2['CustomerID']==12346]"
      ],
      "execution_count": 37,
      "outputs": [
        {
          "output_type": "execute_result",
          "data": {
            "text/html": [
              "<div>\n",
              "<style scoped>\n",
              "    .dataframe tbody tr th:only-of-type {\n",
              "        vertical-align: middle;\n",
              "    }\n",
              "\n",
              "    .dataframe tbody tr th {\n",
              "        vertical-align: top;\n",
              "    }\n",
              "\n",
              "    .dataframe thead th {\n",
              "        text-align: right;\n",
              "    }\n",
              "</style>\n",
              "<table border=\"1\" class=\"dataframe\">\n",
              "  <thead>\n",
              "    <tr style=\"text-align: right;\">\n",
              "      <th></th>\n",
              "      <th>InvoiceNo</th>\n",
              "      <th>StockCode</th>\n",
              "      <th>Description</th>\n",
              "      <th>Quantity</th>\n",
              "      <th>InvoiceDate</th>\n",
              "      <th>UnitPrice</th>\n",
              "      <th>CustomerID</th>\n",
              "      <th>Country</th>\n",
              "      <th>Revenue_Tot</th>\n",
              "      <th>order_month</th>\n",
              "      <th>cohor_month</th>\n",
              "      <th>cohor_index</th>\n",
              "    </tr>\n",
              "  </thead>\n",
              "  <tbody>\n",
              "    <tr>\n",
              "      <th>61619</th>\n",
              "      <td>541431</td>\n",
              "      <td>23166</td>\n",
              "      <td>medium ceramic top storage jar</td>\n",
              "      <td>74215</td>\n",
              "      <td>2021-01-18 10:01:00</td>\n",
              "      <td>1.04</td>\n",
              "      <td>12346.0</td>\n",
              "      <td>United Kingdom</td>\n",
              "      <td>77183.6</td>\n",
              "      <td>2021-01</td>\n",
              "      <td>2021-01</td>\n",
              "      <td>0</td>\n",
              "    </tr>\n",
              "  </tbody>\n",
              "</table>\n",
              "</div>"
            ],
            "text/plain": [
              "      InvoiceNo StockCode                     Description  Quantity  \\\n",
              "61619    541431     23166  medium ceramic top storage jar     74215   \n",
              "\n",
              "              InvoiceDate  UnitPrice  CustomerID         Country  Revenue_Tot  \\\n",
              "61619 2021-01-18 10:01:00       1.04     12346.0  United Kingdom      77183.6   \n",
              "\n",
              "      order_month cohor_month  cohor_index  \n",
              "61619     2021-01     2021-01            0  "
            ]
          },
          "metadata": {
            "tags": []
          },
          "execution_count": 37
        }
      ]
    },
    {
      "cell_type": "code",
      "metadata": {
        "id": "2K05QZ8oQ99E",
        "colab": {
          "base_uri": "https://localhost:8080/"
        },
        "outputId": "b3fe3dd2-09bf-470f-94d8-0dd23aa001c7"
      },
      "source": [
        "#Hitung manual jumlah day sebagai penentu jumlah recency\r\n",
        "(date_latest-dt.date(2021,1,18)).days ==326"
      ],
      "execution_count": 38,
      "outputs": [
        {
          "output_type": "execute_result",
          "data": {
            "text/plain": [
              "True"
            ]
          },
          "metadata": {
            "tags": []
          },
          "execution_count": 38
        }
      ]
    },
    {
      "cell_type": "code",
      "metadata": {
        "id": "uHqbDRFumNmW",
        "colab": {
          "base_uri": "https://localhost:8080/",
          "height": 142
        },
        "outputId": "7eea2842-3120-450c-927c-dc07c4951940"
      },
      "source": [
        "#Split into four segments using quantiles\r\n",
        "quantiles = RFMScores.quantile(q=[0.25,0.5,0.75])\r\n",
        "quantiles = quantiles.to_dict()\r\n",
        "xx=pd.DataFrame(quantiles)\r\n",
        "xx"
      ],
      "execution_count": 39,
      "outputs": [
        {
          "output_type": "execute_result",
          "data": {
            "text/html": [
              "<div>\n",
              "<style scoped>\n",
              "    .dataframe tbody tr th:only-of-type {\n",
              "        vertical-align: middle;\n",
              "    }\n",
              "\n",
              "    .dataframe tbody tr th {\n",
              "        vertical-align: top;\n",
              "    }\n",
              "\n",
              "    .dataframe thead th {\n",
              "        text-align: right;\n",
              "    }\n",
              "</style>\n",
              "<table border=\"1\" class=\"dataframe\">\n",
              "  <thead>\n",
              "    <tr style=\"text-align: right;\">\n",
              "      <th></th>\n",
              "      <th>Recency</th>\n",
              "      <th>Frequency</th>\n",
              "      <th>Monetary</th>\n",
              "    </tr>\n",
              "  </thead>\n",
              "  <tbody>\n",
              "    <tr>\n",
              "      <th>0.25</th>\n",
              "      <td>17.0</td>\n",
              "      <td>17.0</td>\n",
              "      <td>306.455</td>\n",
              "    </tr>\n",
              "    <tr>\n",
              "      <th>0.50</th>\n",
              "      <td>50.0</td>\n",
              "      <td>41.0</td>\n",
              "      <td>668.560</td>\n",
              "    </tr>\n",
              "    <tr>\n",
              "      <th>0.75</th>\n",
              "      <td>141.5</td>\n",
              "      <td>98.0</td>\n",
              "      <td>1660.315</td>\n",
              "    </tr>\n",
              "  </tbody>\n",
              "</table>\n",
              "</div>"
            ],
            "text/plain": [
              "      Recency  Frequency  Monetary\n",
              "0.25     17.0       17.0   306.455\n",
              "0.50     50.0       41.0   668.560\n",
              "0.75    141.5       98.0  1660.315"
            ]
          },
          "metadata": {
            "tags": []
          },
          "execution_count": 39
        }
      ]
    },
    {
      "cell_type": "code",
      "metadata": {
        "colab": {
          "base_uri": "https://localhost:8080/"
        },
        "id": "FzD3Y-F2wWwH",
        "outputId": "10e6d470-c993-4d3c-ceb8-8eef2f6328b0"
      },
      "source": [
        "print(data2['InvoiceNo'].nunique())\r\n",
        "data2.count()\r\n",
        "data2.CustomerID.nunique()"
      ],
      "execution_count": 40,
      "outputs": [
        {
          "output_type": "stream",
          "text": [
            "18536\n"
          ],
          "name": "stdout"
        },
        {
          "output_type": "execute_result",
          "data": {
            "text/plain": [
              "4339"
            ]
          },
          "metadata": {
            "tags": []
          },
          "execution_count": 40
        }
      ]
    },
    {
      "cell_type": "code",
      "metadata": {
        "colab": {
          "base_uri": "https://localhost:8080/",
          "height": 235
        },
        "id": "JKuvjOd8h0rX",
        "outputId": "73b6666d-005d-488c-9036-33327e43bdaf"
      },
      "source": [
        "#SCORING RFM\r\n",
        "def Rscoring(x,p,d):\r\n",
        "  if x <= d[p][0.25]:\r\n",
        "    return 1\r\n",
        "  elif x <= d[p][0.50]:\r\n",
        "    return 2\r\n",
        "  elif x <= d[p][0.75]:\r\n",
        "    return 3\r\n",
        "  else:\r\n",
        "    return 4\r\n",
        "\r\n",
        "#Untuk Frequency dan monetari semakin besar nilai kuartilnya maka semakin besar nilainya.\r\n",
        "#misalkan 100*0.25 bisa menjadi 4 kali sehingga periodenya semakin banyak.\r\n",
        "def FMscoring (x,p,d):\r\n",
        "  if x <= d[p][0.25]:\r\n",
        "    return 4\r\n",
        "  elif x <= d[p][0.50]:\r\n",
        "    return 3\r\n",
        "  elif x <= d[p][0.75]:\r\n",
        "    return 2\r\n",
        "  else:\r\n",
        "    return 1\r\n",
        "\r\n",
        "RFMScores['R']=RFMScores['Recency'].apply(Rscoring, args=('Recency',quantiles))\r\n",
        "RFMScores['F']=RFMScores['Frequency'].apply(FMscoring, args=('Frequency',quantiles))\r\n",
        "RFMScores['M']=RFMScores['Monetary'].apply(FMscoring, args=('Monetary',quantiles))\r\n",
        "\r\n",
        "RFMScores['RFMgroup']=RFMScores.R.map(str)+RFMScores.F.map(str)+RFMScores.M.map(str)\r\n",
        "\r\n",
        "RFMScores['Score']=RFMScores[['R','F','M']].sum(axis=1)\r\n",
        "RFMScores.head()"
      ],
      "execution_count": 41,
      "outputs": [
        {
          "output_type": "execute_result",
          "data": {
            "text/html": [
              "<div>\n",
              "<style scoped>\n",
              "    .dataframe tbody tr th:only-of-type {\n",
              "        vertical-align: middle;\n",
              "    }\n",
              "\n",
              "    .dataframe tbody tr th {\n",
              "        vertical-align: top;\n",
              "    }\n",
              "\n",
              "    .dataframe thead th {\n",
              "        text-align: right;\n",
              "    }\n",
              "</style>\n",
              "<table border=\"1\" class=\"dataframe\">\n",
              "  <thead>\n",
              "    <tr style=\"text-align: right;\">\n",
              "      <th></th>\n",
              "      <th>Recency</th>\n",
              "      <th>Frequency</th>\n",
              "      <th>Monetary</th>\n",
              "      <th>R</th>\n",
              "      <th>F</th>\n",
              "      <th>M</th>\n",
              "      <th>RFMgroup</th>\n",
              "      <th>Score</th>\n",
              "    </tr>\n",
              "    <tr>\n",
              "      <th>CustomerID</th>\n",
              "      <th></th>\n",
              "      <th></th>\n",
              "      <th></th>\n",
              "      <th></th>\n",
              "      <th></th>\n",
              "      <th></th>\n",
              "      <th></th>\n",
              "      <th></th>\n",
              "    </tr>\n",
              "  </thead>\n",
              "  <tbody>\n",
              "    <tr>\n",
              "      <th>12346.0</th>\n",
              "      <td>325</td>\n",
              "      <td>1</td>\n",
              "      <td>77183.60</td>\n",
              "      <td>4</td>\n",
              "      <td>4</td>\n",
              "      <td>1</td>\n",
              "      <td>441</td>\n",
              "      <td>9</td>\n",
              "    </tr>\n",
              "    <tr>\n",
              "      <th>12347.0</th>\n",
              "      <td>2</td>\n",
              "      <td>182</td>\n",
              "      <td>4310.00</td>\n",
              "      <td>1</td>\n",
              "      <td>1</td>\n",
              "      <td>1</td>\n",
              "      <td>111</td>\n",
              "      <td>3</td>\n",
              "    </tr>\n",
              "    <tr>\n",
              "      <th>12348.0</th>\n",
              "      <td>75</td>\n",
              "      <td>31</td>\n",
              "      <td>1797.24</td>\n",
              "      <td>3</td>\n",
              "      <td>3</td>\n",
              "      <td>1</td>\n",
              "      <td>331</td>\n",
              "      <td>7</td>\n",
              "    </tr>\n",
              "    <tr>\n",
              "      <th>12349.0</th>\n",
              "      <td>18</td>\n",
              "      <td>73</td>\n",
              "      <td>1757.55</td>\n",
              "      <td>2</td>\n",
              "      <td>2</td>\n",
              "      <td>1</td>\n",
              "      <td>221</td>\n",
              "      <td>5</td>\n",
              "    </tr>\n",
              "    <tr>\n",
              "      <th>12350.0</th>\n",
              "      <td>310</td>\n",
              "      <td>17</td>\n",
              "      <td>334.40</td>\n",
              "      <td>4</td>\n",
              "      <td>4</td>\n",
              "      <td>3</td>\n",
              "      <td>443</td>\n",
              "      <td>11</td>\n",
              "    </tr>\n",
              "  </tbody>\n",
              "</table>\n",
              "</div>"
            ],
            "text/plain": [
              "            Recency  Frequency  Monetary  R  F  M RFMgroup  Score\n",
              "CustomerID                                                       \n",
              "12346.0         325          1  77183.60  4  4  1      441      9\n",
              "12347.0           2        182   4310.00  1  1  1      111      3\n",
              "12348.0          75         31   1797.24  3  3  1      331      7\n",
              "12349.0          18         73   1757.55  2  2  1      221      5\n",
              "12350.0         310         17    334.40  4  4  3      443     11"
            ]
          },
          "metadata": {
            "tags": []
          },
          "execution_count": 41
        }
      ]
    },
    {
      "cell_type": "code",
      "metadata": {
        "colab": {
          "base_uri": "https://localhost:8080/"
        },
        "id": "9nT6Ifn4iXW5",
        "outputId": "2ee0207d-db55-4548-82c0-835b28e1f453"
      },
      "source": [
        "#Resume kategorial level customer ideal dan jumlahnya\r\n",
        "print('Loyal Customers        : ',len(RFMScores[RFMScores['F']==4]))\r\n",
        "print(\"Big Spenders           : \",len(RFMScores[RFMScores['M']==4]))\r\n",
        "print(\"Best Customers         : \",len(RFMScores[RFMScores['RFMgroup']=='444']))\r\n",
        "print('Promising Customer     : ', len(RFMScores[RFMScores['RFMgroup']=='244']))\r\n",
        "print('almost Lost Customers  : ',len(RFMScores[RFMScores['RFMgroup']=='144']))\r\n",
        "print('Lost Customers         : ',len(RFMScores[RFMScores['RFMgroup']=='122']))\r\n",
        "print('Lost Cheap Customers   : ',len(RFMScores[RFMScores['RFMgroup']=='111']))"
      ],
      "execution_count": 63,
      "outputs": [
        {
          "output_type": "stream",
          "text": [
            "Loyal Customers        :  1112\n",
            "Big Spenders           :  1085\n",
            "Best Customers         :  381\n",
            "Promising Customer     :  124\n",
            "almost Lost Customers  :  66\n",
            "Lost Customers         :  147\n",
            "Lost Cheap Customers   :  443\n"
          ],
          "name": "stdout"
        }
      ]
    },
    {
      "cell_type": "code",
      "metadata": {
        "id": "1Yvfvppzi9B9",
        "colab": {
          "base_uri": "https://localhost:8080/"
        },
        "outputId": "d20a40a9-8660-4a1f-c201-57cc6b872a51"
      },
      "source": [
        "#Customer yang baru menjadi customer baru dengan visit sekali dan beli.\r\n",
        "new_cust = RFMScores[(RFMScores['Frequency']==1) & (RFMScores['Monetary']>0)].sort_values('Monetary',ascending=False)\r\n",
        "new_cust.Frequency.count()"
      ],
      "execution_count": 45,
      "outputs": [
        {
          "output_type": "execute_result",
          "data": {
            "text/plain": [
              "71"
            ]
          },
          "metadata": {
            "tags": []
          },
          "execution_count": 45
        }
      ]
    },
    {
      "cell_type": "code",
      "metadata": {
        "id": "2B0MnZCKkqYH",
        "colab": {
          "base_uri": "https://localhost:8080/"
        },
        "outputId": "b00bc2f2-e114-4891-b3cb-3f04e8b41136"
      },
      "source": [
        "#Penentuan label kelas pelanggan\r\n",
        "Loyalty_Level = ['Platinum', 'Gold', 'Silver', 'Bronze']\r\n",
        "def level_customer(x):\r\n",
        "  if x['Score'] <=12 and x['Score'] > 9:\r\n",
        "    return 'Platinum'\r\n",
        "  elif x['Score'] <=9 and x['Score'] > 6:\r\n",
        "    return 'Gold'\r\n",
        "  elif x['Score'] <=6 and x['Score'] > 3:\r\n",
        "    return 'Silver'\r\n",
        "  elif x['Score'] <= 3:\r\n",
        "    return 'Bronze'\r\n",
        "\r\n",
        "RFMScores['Customer_Level']=RFMScores.apply(level_customer,axis=1)\r\n",
        "print(RFMScores.head(15))\r\n",
        "print(RFMScores.Customer_Level.value_counts())"
      ],
      "execution_count": 46,
      "outputs": [
        {
          "output_type": "stream",
          "text": [
            "            Recency  Frequency  Monetary  R  F  M RFMgroup  Score  \\\n",
            "CustomerID                                                          \n",
            "12346.0         325          1  77183.60  4  4  1      441      9   \n",
            "12347.0           2        182   4310.00  1  1  1      111      3   \n",
            "12348.0          75         31   1797.24  3  3  1      331      7   \n",
            "12349.0          18         73   1757.55  2  2  1      221      5   \n",
            "12350.0         310         17    334.40  4  4  3      443     11   \n",
            "12352.0          36         85   2506.04  2  2  1      221      5   \n",
            "12353.0         204          4     89.00  4  4  4      444     12   \n",
            "12354.0         232         58   1079.40  4  2  2      422      8   \n",
            "12355.0         214         13    459.40  4  4  3      443     11   \n",
            "12356.0          22         59   2811.43  2  2  1      221      5   \n",
            "12357.0          33        131   6207.67  2  1  1      211      4   \n",
            "12358.0           1         19   1168.06  1  3  2      132      6   \n",
            "12359.0          57        245   6310.03  3  1  1      311      5   \n",
            "12360.0          52        129   2662.06  3  1  1      311      5   \n",
            "12361.0         287         10    189.90  4  4  4      444     12   \n",
            "\n",
            "           Customer_Level  \n",
            "CustomerID                 \n",
            "12346.0              Gold  \n",
            "12347.0            Bronze  \n",
            "12348.0              Gold  \n",
            "12349.0            Silver  \n",
            "12350.0          Platinum  \n",
            "12352.0            Silver  \n",
            "12353.0          Platinum  \n",
            "12354.0              Gold  \n",
            "12355.0          Platinum  \n",
            "12356.0            Silver  \n",
            "12357.0            Silver  \n",
            "12358.0            Silver  \n",
            "12359.0            Silver  \n",
            "12360.0            Silver  \n",
            "12361.0          Platinum  \n",
            "Gold        1377\n",
            "Platinum    1291\n",
            "Silver      1228\n",
            "Bronze       443\n",
            "Name: Customer_Level, dtype: int64\n"
          ],
          "name": "stdout"
        }
      ]
    },
    {
      "cell_type": "code",
      "metadata": {
        "colab": {
          "base_uri": "https://localhost:8080/",
          "height": 577
        },
        "id": "qB7hONvV3Y4L",
        "outputId": "3e888bad-eb50-4c7d-f9dd-ea81ea701f05"
      },
      "source": [
        "sct = RFMScores.query(\"Monetary < 50000 and Frequency < 1600\")\r\n",
        "\r\n",
        "plt.figure(figsize=(20,9))\r\n",
        "sns.scatterplot(x='Recency',y='Frequency', size='Monetary',hue='Customer_Level',data=sct)\r\n",
        "plt.show()"
      ],
      "execution_count": 47,
      "outputs": [
        {
          "output_type": "display_data",
          "data": {
            "image/png": "[encoded data removed]",
            "text/plain": [
              "<Figure size 1440x648 with 1 Axes>"
            ]
          },
          "metadata": {
            "tags": []
          }
        }
      ]
    },
    {
      "cell_type": "markdown",
      "metadata": {
        "id": "XlVdgXN0UiRR"
      },
      "source": [
        "**Bentuk Perbandingan Visualisasi distribusi data Recency, Frequency dan Monetary.**"
      ]
    },
    {
      "cell_type": "code",
      "metadata": {
        "id": "QZ8jMm_JtTxo",
        "colab": {
          "base_uri": "https://localhost:8080/",
          "height": 1000
        },
        "outputId": "ca2f0088-1d26-4af6-e8d1-e1df7f5f1def"
      },
      "source": [
        "#import chart_studio as cs\r\n",
        "import plotly.offline as po\r\n",
        "import plotly.graph_objs as gobj\r\n",
        "\r\n",
        "#Recency Vs Frequency\r\n",
        "graph = RFMScores.query(\"Monetary < 50000 and Frequency < 2000\")\r\n",
        "\r\n",
        "plot_data = [\r\n",
        "    gobj.Scatter(\r\n",
        "        x=graph.query(\"Customer_Level == 'Bronze'\")['Recency'],\r\n",
        "        y=graph.query(\"Customer_Level == 'Bronze'\")['Frequency'],\r\n",
        "        mode='markers',\r\n",
        "        name='Bronze',\r\n",
        "        marker= dict(size= 7,\r\n",
        "            line= dict(width=1),\r\n",
        "            color= 'blue',\r\n",
        "            opacity= 0.8\r\n",
        "           )\r\n",
        "    ),\r\n",
        "        gobj.Scatter(\r\n",
        "        x=graph.query(\"Customer_Level == 'Silver'\")['Recency'],\r\n",
        "        y=graph.query(\"Customer_Level == 'Silver'\")['Frequency'],\r\n",
        "        mode='markers',\r\n",
        "        name='Silver',\r\n",
        "        marker= dict(size= 9,\r\n",
        "            line= dict(width=1),\r\n",
        "            color= 'green',\r\n",
        "            opacity= 0.5\r\n",
        "           )\r\n",
        "    ),\r\n",
        "        gobj.Scatter(\r\n",
        "        x=graph.query(\"Customer_Level == 'Gold'\")['Recency'],\r\n",
        "        y=graph.query(\"Customer_Level == 'Gold'\")['Frequency'],\r\n",
        "        mode='markers',\r\n",
        "        name='Gold',\r\n",
        "        marker= dict(size= 11,\r\n",
        "            line= dict(width=1),\r\n",
        "            color= 'red',\r\n",
        "            opacity= 0.9\r\n",
        "           )\r\n",
        "    ),\r\n",
        "    gobj.Scatter(\r\n",
        "        x=graph.query(\"Customer_Level == 'Platinum'\")['Recency'],\r\n",
        "        y=graph.query(\"Customer_Level == 'Platinum'\")['Frequency'],\r\n",
        "        mode='markers',\r\n",
        "        name='Platinum',\r\n",
        "        marker= dict(size= 13,\r\n",
        "            line= dict(width=1),\r\n",
        "            color= 'black',\r\n",
        "            opacity= 0.9\r\n",
        "           )\r\n",
        "    ),\r\n",
        "]\r\n",
        "\r\n",
        "plot_layout = gobj.Layout(\r\n",
        "        yaxis= {'title': \"Frequency\"},\r\n",
        "        xaxis= {'title': \"Recency\"},\r\n",
        "        title='Perbandingan Frequency vs Recency'\r\n",
        "    )\r\n",
        "fig = gobj.Figure(data=plot_data, layout=plot_layout)\r\n",
        "po.iplot(fig)\r\n",
        "\r\n",
        "#Recency Vs Monetary\r\n",
        "graph = RFMScores.query(\"Monetary < 50000 and Frequency < 2000\")\r\n",
        "\r\n",
        "plot_data = [\r\n",
        "    gobj.Scatter(\r\n",
        "        x=graph.query(\"Customer_Level == 'Bronze'\")['Recency'],\r\n",
        "        y=graph.query(\"Customer_Level == 'Bronze'\")['Monetary'],\r\n",
        "        mode='markers',\r\n",
        "        name='Bronze',\r\n",
        "        marker= dict(size= 7,\r\n",
        "            line= dict(width=1),\r\n",
        "            color= 'blue',\r\n",
        "            opacity= 0.8\r\n",
        "           )\r\n",
        "    ),\r\n",
        "        gobj.Scatter(\r\n",
        "        x=graph.query(\"Customer_Level == 'Silver'\")['Recency'],\r\n",
        "        y=graph.query(\"Customer_Level == 'Silver'\")['Monetary'],\r\n",
        "        mode='markers',\r\n",
        "        name='Silver',\r\n",
        "        marker= dict(size= 9,\r\n",
        "            line= dict(width=1),\r\n",
        "            color= 'green',\r\n",
        "            opacity= 0.5\r\n",
        "           )\r\n",
        "    ),\r\n",
        "        gobj.Scatter(\r\n",
        "        x=graph.query(\"Customer_Level == 'Gold'\")['Recency'],\r\n",
        "        y=graph.query(\"Customer_Level == 'Gold'\")['Monetary'],\r\n",
        "        mode='markers',\r\n",
        "        name='Gold',\r\n",
        "        marker= dict(size= 11,\r\n",
        "            line= dict(width=1),\r\n",
        "            color= 'red',\r\n",
        "            opacity= 0.9\r\n",
        "           )\r\n",
        "    ),\r\n",
        "    gobj.Scatter(\r\n",
        "        x=graph.query(\"Customer_Level == 'Platinum'\")['Recency'],\r\n",
        "        y=graph.query(\"Customer_Level == 'Platinum'\")['Monetary'],\r\n",
        "        mode='markers',\r\n",
        "        name='Platinum',\r\n",
        "        marker= dict(size= 13,\r\n",
        "            line= dict(width=1),\r\n",
        "            color= 'black',\r\n",
        "            opacity= 0.9\r\n",
        "           )\r\n",
        "    ),\r\n",
        "]\r\n",
        "\r\n",
        "plot_layout = gobj.Layout(\r\n",
        "        yaxis= {'title': \"Monetary\"},\r\n",
        "        xaxis= {'title': \"Recency\"},\r\n",
        "        title='Perbandingan Monetary vs Recency'\r\n",
        "    )\r\n",
        "fig = gobj.Figure(data=plot_data, layout=plot_layout)\r\n",
        "po.iplot(fig)\r\n",
        "\r\n",
        "#Frequency Vs Monetary\r\n",
        "graph = RFMScores.query(\"Monetary < 50000 and Frequency < 2000\")\r\n",
        "\r\n",
        "plot_data = [\r\n",
        "    gobj.Scatter(\r\n",
        "        x=graph.query(\"Customer_Level == 'Bronze'\")['Frequency'],\r\n",
        "        y=graph.query(\"Customer_Level == 'Bronze'\")['Monetary'],\r\n",
        "        mode='markers',\r\n",
        "        name='Bronze',\r\n",
        "        marker= dict(size= 7,\r\n",
        "            line= dict(width=1),\r\n",
        "            color= 'blue',\r\n",
        "            opacity= 0.8\r\n",
        "           )\r\n",
        "    ),\r\n",
        "        gobj.Scatter(\r\n",
        "        x=graph.query(\"Customer_Level == 'Silver'\")['Frequency'],\r\n",
        "        y=graph.query(\"Customer_Level == 'Silver'\")['Monetary'],\r\n",
        "        mode='markers',\r\n",
        "        name='Silver',\r\n",
        "        marker= dict(size= 9,\r\n",
        "            line= dict(width=1),\r\n",
        "            color= 'green',\r\n",
        "            opacity= 0.5\r\n",
        "           )\r\n",
        "    ),\r\n",
        "        gobj.Scatter(\r\n",
        "        x=graph.query(\"Customer_Level == 'Gold'\")['Frequency'],\r\n",
        "        y=graph.query(\"Customer_Level == 'Gold'\")['Monetary'],\r\n",
        "        mode='markers',\r\n",
        "        name='Gold',\r\n",
        "        marker= dict(size= 11,\r\n",
        "            line= dict(width=1),\r\n",
        "            color= 'red',\r\n",
        "            opacity= 0.9\r\n",
        "           )\r\n",
        "    ),\r\n",
        "    gobj.Scatter(\r\n",
        "        x=graph.query(\"Customer_Level == 'Platinum'\")['Frequency'],\r\n",
        "        y=graph.query(\"Customer_Level == 'Platinum'\")['Monetary'],\r\n",
        "        mode='markers',\r\n",
        "        name='Platinum',\r\n",
        "        marker= dict(size= 13,\r\n",
        "            line= dict(width=1),\r\n",
        "            color= 'black',\r\n",
        "            opacity= 0.9\r\n",
        "           )\r\n",
        "    ),\r\n",
        "]\r\n",
        "\r\n",
        "plot_layout = gobj.Layout(\r\n",
        "        yaxis= {'title': \"Monetary\"},\r\n",
        "        xaxis= {'title': \"Frequency\"},\r\n",
        "        title='Perbandingan Monetary vs Frequency'\r\n",
        "    )\r\n",
        "fig = gobj.Figure(data=plot_data, layout=plot_layout)\r\n",
        "po.iplot(fig)"
      ],
      "execution_count": 48,
      "outputs": [
        {
          "output_type": "display_data",
          "data": {
            "text/html": [
              "<html>\n",
              "<head><meta charset=\"utf-8\" /></head>\n",
              "<body>\n",
              "    <div>\n",
              "            <script src=\"https://cdnjs.cloudflare.com/ajax/libs/mathjax/2.7.5/MathJax.js?config=TeX-AMS-MML_SVG\"></script><script type=\"text/javascript\">if (window.MathJax) {MathJax.Hub.Config({SVG: {font: \"STIX-Web\"}});}</script>\n",
              "                <script type=\"text/javascript\">window.PlotlyConfig = {MathJaxConfig: 'local'};</script>\n",
              "        <script src=\"https://cdn.plot.ly/plotly-latest.min.js\"></script>    \n",
              "            <div id=\"faa9c531-7c17-49ea-ad5b-226f6ffdee8c\" class=\"plotly-graph-div\" style=\"height:525px; width:100%;\"></div>\n",
              "            <script type=\"text/javascript\">\n",
              "                \n",
              "                    window.PLOTLYENV=window.PLOTLYENV || {};\n",
              "                    \n",
              "                if (document.getElementById(\"faa9c531-7c17-49ea-ad5b-226f6ffdee8c\")) {\n",
              "                    Plotly.newPlot(\n",
              "                        'faa9c531-7c17-49ea-ad5b-226f6ffdee8c',\n",
              "                        [{\"marker\": {\"color\": \"blue\", \"line\": {\"width\": 1}, \"opacity\": 0.8, \"size\": 7}, \"mode\": \"markers\", \"name\": \"Bronze\", \"type\": \"scatter\", \"x\": [2, 3, 15, 3, 0, 0, 1, 10, 2, 17, 15, 5, 0, 9, 8, 5, 8, 2, 2, 9, 2, 1, 10, 17, 0, 11, 14, 3, 4, 7, 7, 15, 15, 9, 2, 10, 2, 3, 15, 3, 4, 2, 4, 7, 8, 9, 2, 16, 1, 9, 3, 4, 11, 1, 10, 16, 4, 14, 14, 0, 3, 11, 8, 1, 1, 0, 11, 4, 10, 16, 16, 14, 11, 10, 3, 4, 1, 11, 2, 17, 1, 5, 9, 1, 1, 11, 0, 5, 14, 16, 7, 1, 1, 17, 3, 1, 2, 1, 12, 10, 15, 1, 16, 9, 2, 1, 5, 3, 16, 3, 2, 11, 2, 2, 0, 1, 8, 2, 3, 10, 1, 1, 2, 7, 4, 3, 10, 7, 2, 16, 0, 1, 4, 9, 2, 7, 16, 3, 3, 10, 2, 1, 8, 10, 2, 1, 4, 11, 1, 8, 7, 9, 8, 15, 3, 11, 1, 7, 8, 8, 17, 16, 8, 10, 10, 2, 4, 10, 1, 3, 0, 9, 5, 7, 3, 17, 17, 2, 2, 5, 3, 10, 3, 3, 1, 8, 10, 7, 4, 10, 1, 15, 10, 9, 1, 8, 16, 3, 9, 8, 2, 1, 3, 10, 3, 7, 3, 10, 15, 8, 3, 4, 15, 9, 9, 7, 10, 7, 8, 17, 9, 3, 1, 1, 3, 1, 10, 9, 7, 4, 2, 12, 4, 8, 14, 1, 1, 2, 15, 12, 8, 9, 7, 12, 7, 4, 15, 11, 10, 4, 15, 4, 8, 16, 2, 10, 1, 0, 11, 17, 4, 4, 12, 5, 4, 2, 8, 8, 3, 5, 16, 3, 9, 3, 3, 8, 8, 1, 2, 3, 1, 9, 8, 16, 9, 5, 14, 1, 4, 4, 2, 1, 12, 17, 2, 7, 2, 7, 1, 2, 10, 0, 15, 4, 17, 15, 0, 17, 17, 16, 2, 2, 8, 8, 0, 9, 14, 17, 4, 3, 10, 2, 10, 14, 10, 8, 4, 4, 5, 12, 5, 8, 12, 12, 17, 0, 2, 2, 12, 2, 5, 15, 4, 15, 12, 2, 1, 8, 1, 17, 3, 0, 12, 8, 0, 4, 11, 16, 8, 0, 2, 2, 1, 16, 1, 1, 1, 7, 8, 0, 3, 2, 7, 5, 1, 11, 17, 1, 1, 10, 16, 7, 16, 3, 4, 16, 3, 3, 2, 3, 5, 1, 12, 4, 14, 5, 5, 3, 2, 4, 5, 15, 11, 4, 7, 5, 8, 7, 1, 10, 8, 17, 12, 14, 4, 4, 1, 2, 4, 3, 11, 9, 7, 2, 3], \"y\": [182, 266, 100, 192, 125, 420, 200, 354, 459, 422, 233, 245, 124, 144, 191, 105, 168, 188, 247, 132, 105, 467, 230, 126, 230, 161, 638, 524, 344, 105, 268, 334, 207, 259, 354, 139, 103, 199, 364, 310, 103, 314, 414, 311, 116, 720, 129, 116, 180, 238, 305, 337, 404, 219, 110, 458, 131, 135, 403, 424, 358, 1028, 155, 572, 304, 201, 120, 140, 687, 170, 293, 179, 110, 226, 119, 587, 1667, 187, 211, 433, 315, 476, 166, 155, 478, 304, 157, 101, 167, 194, 382, 302, 254, 422, 162, 115, 296, 178, 340, 126, 174, 246, 146, 108, 463, 194, 134, 335, 313, 321, 142, 117, 368, 135, 197, 349, 110, 115, 178, 142, 110, 117, 160, 619, 351, 148, 208, 250, 143, 478, 210, 1088, 202, 111, 448, 214, 250, 156, 159, 166, 200, 134, 210, 240, 265, 259, 579, 108, 100, 141, 111, 111, 143, 222, 154, 101, 237, 100, 143, 117, 258, 162, 521, 186, 284, 348, 182, 106, 579, 124, 222, 377, 947, 120, 164, 785, 295, 971, 508, 397, 355, 203, 419, 262, 234, 253, 567, 324, 130, 327, 342, 196, 345, 338, 462, 147, 202, 194, 235, 135, 1062, 1132, 120, 99, 144, 498, 165, 312, 1112, 444, 553, 501, 390, 1477, 201, 440, 145, 106, 217, 341, 271, 125, 710, 212, 310, 110, 166, 111, 264, 204, 192, 219, 551, 132, 302, 372, 187, 512, 213, 166, 219, 259, 695, 887, 319, 212, 103, 410, 423, 155, 167, 476, 166, 301, 291, 141, 132, 263, 167, 138, 138, 628, 540, 459, 115, 258, 543, 210, 139, 1128, 121, 129, 279, 339, 117, 224, 128, 471, 134, 111, 123, 655, 292, 270, 258, 300, 317, 109, 636, 108, 327, 186, 168, 369, 353, 282, 202, 337, 290, 183, 925, 460, 126, 216, 172, 276, 179, 152, 258, 252, 114, 163, 308, 144, 270, 438, 196, 225, 444, 700, 157, 331, 183, 319, 189, 266, 279, 665, 199, 626, 886, 235, 277, 143, 120, 169, 252, 317, 296, 195, 134, 477, 271, 208, 531, 555, 387, 132, 471, 721, 483, 406, 465, 109, 213, 198, 206, 117, 271, 328, 134, 276, 100, 208, 109, 253, 390, 165, 402, 439, 212, 551, 567, 123, 157, 232, 158, 705, 303, 118, 127, 286, 142, 103, 382, 192, 165, 218, 690, 136, 184, 740, 304, 828, 348, 215, 197, 219, 270, 665, 477, 293, 458, 127, 358, 137, 223, 106, 441, 1263, 357, 159, 221, 189, 119, 159, 134, 114, 272, 269, 164, 104, 175, 166, 721]}, {\"marker\": {\"color\": \"green\", \"line\": {\"width\": 1}, \"opacity\": 0.5, \"size\": 9}, \"mode\": \"markers\", \"name\": \"Silver\", \"type\": \"scatter\", \"x\": [18, 36, 22, 33, 1, 57, 52, 7, 51, 44, 129, 21, 4, 184, 19, 35, 45, 22, 49, 32, 78, 15, 25, 9, 35, 42, 14, 21, 22, 73, 44, 66, 18, 10, 17, 32, 29, 22, 3, 28, 22, 17, 32, 9, 15, 23, 336, 95, 28, 79, 19, 0, 9, 59, 43, 22, 19, 29, 46, 50, 16, 22, 8, 35, 35, 21, 3, 37, 19, 29, 28, 60, 22, 57, 16, 14, 23, 4, 9, 58, 89, 67, 23, 25, 33, 4, 22, 11, 8, 150, 10, 5, 38, 24, 42, 0, 28, 113, 25, 7, 29, 28, 0, 3, 31, 3, 5, 28, 23, 51, 81, 22, 116, 7, 17, 19, 37, 2, 9, 10, 3, 2, 2, 37, 59, 33, 143, 65, 22, 31, 134, 78, 26, 26, 57, 3, 24, 11, 39, 23, 2, 4, 138, 8, 4, 35, 21, 24, 17, 15, 64, 30, 2, 8, 5, 8, 89, 7, 0, 3, 4, 22, 9, 53, 1, 11, 8, 31, 12, 1, 126, 275, 21, 32, 3, 44, 31, 21, 19, 89, 23, 85, 56, 22, 84, 29, 14, 33, 49, 8, 122, 46, 18, 36, 4, 26, 7, 39, 19, 9, 58, 30, 10, 19, 60, 3, 12, 17, 18, 11, 53, 23, 7, 4, 22, 7, 28, 22, 1, 37, 66, 78, 3, 36, 38, 82, 45, 67, 16, 17, 33, 60, 31, 30, 11, 29, 40, 64, 10, 18, 23, 26, 26, 24, 17, 10, 37, 45, 7, 17, 23, 72, 8, 21, 59, 58, 1, 33, 33, 12, 96, 25, 66, 73, 5, 81, 40, 17, 23, 25, 11, 108, 5, 45, 40, 12, 24, 30, 23, 5, 24, 33, 36, 52, 9, 16, 45, 43, 17, 2, 24, 31, 26, 7, 32, 15, 131, 49, 38, 36, 24, 5, 2, 50, 70, 64, 33, 7, 12, 9, 4, 138, 30, 5, 39, 22, 5, 32, 16, 25, 5, 58, 24, 51, 95, 1, 18, 31, 7, 123, 22, 53, 21, 2, 7, 28, 72, 79, 57, 17, 21, 11, 217, 7, 5, 18, 31, 39, 29, 19, 12, 42, 15, 45, 43, 9, 161, 46, 18, 28, 40, 26, 8, 31, 23, 29, 3, 4, 4, 12, 5, 51, 22, 3, 19, 1, 1, 3, 2, 19, 87, 59, 8, 40, 30, 10, 105, 53, 30, 3, 42, 110, 28, 26, 42, 22, 75, 43, 30, 219, 1, 64, 50, 21, 23, 8, 3, 17, 71, 88, 46, 44, 10, 16, 16, 45, 19, 31, 108, 26, 38, 32, 2, 33, 107, 71, 92, 42, 10, 23, 7, 8, 0, 0, 18, 18, 148, 66, 29, 17, 11, 103, 18, 26, 42, 26, 19, 47, 23, 11, 17, 31, 19, 25, 24, 60, 9, 58, 28, 24, 10, 19, 7, 95, 12, 5, 18, 15, 35, 21, 7, 19, 11, 15, 4, 1, 32, 23, 4, 52, 24, 4, 8, 17, 28, 60, 3, 16, 31, 25, 25, 30, 1, 32, 11, 2, 14, 24, 1, 10, 42, 4, 11, 16, 29, 15, 4, 51, 7, 16, 2, 47, 15, 39, 40, 36, 10, 29, 17, 89, 53, 43, 63, 21, 58, 78, 36, 12, 25, 8, 3, 12, 18, 9, 7, 23, 11, 21, 2, 16, 35, 30, 50, 108, 4, 81, 33, 29, 23, 59, 9, 35, 72, 115, 12, 11, 9, 8, 4, 58, 19, 25, 23, 4, 12, 25, 40, 8, 37, 78, 46, 9, 21, 18, 18, 17, 29, 9, 30, 17, 14, 25, 60, 50, 18, 14, 2, 52, 4, 1, 68, 8, 18, 1, 2, 10, 25, 1, 51, 36, 66, 217, 1, 29, 10, 44, 66, 134, 31, 36, 16, 100, 15, 4, 58, 43, 29, 25, 50, 50, 70, 39, 31, 25, 57, 40, 40, 169, 8, 4, 9, 16, 1, 33, 84, 26, 9, 64, 19, 33, 8, 12, 9, 26, 1, 19, 9, 2, 14, 40, 15, 30, 22, 95, 32, 21, 8, 52, 22, 11, 33, 64, 40, 2, 18, 22, 21, 25, 19, 77, 4, 11, 22, 2, 11, 37, 120, 24, 23, 26, 8, 36, 61, 28, 9, 32, 56, 43, 45, 105, 9, 45, 25, 168, 18, 88, 73, 18, 24, 9, 25, 0, 33, 2, 140, 35, 40, 9, 32, 24, 11, 35, 14, 18, 16, 19, 12, 39, 31, 88, 9, 32, 46, 26, 43, 107, 46, 23, 50, 306, 22, 16, 63, 49, 3, 73, 70, 44, 33, 15, 40, 8, 22, 14, 63, 1, 2, 1, 16, 9, 19, 3, 0, 16, 19, 21, 89, 8, 31, 8, 33, 15, 24, 17, 17, 39, 17, 88, 24, 22, 12, 44, 88, 36, 2, 29, 12, 47, 22, 35, 37, 3, 3, 46, 16, 46, 22, 40, 32, 65, 9, 16, 16, 56, 23, 11, 87, 42, 7, 17, 45, 57, 29, 17, 51, 42, 49, 17, 10, 8, 50, 15, 100, 22, 31, 44, 4, 30, 88, 29, 36, 44, 40, 24, 23, 52, 66, 45, 17, 2, 21, 5, 31, 21, 9, 25, 64, 28, 7, 24, 16, 11, 32, 21, 3, 7, 9, 32, 11, 17, 37, 2, 18, 82, 8, 60, 36, 26, 29, 5, 1, 63, 99, 28, 21, 19, 33, 23, 51, 63, 3, 8, 49, 21, 4, 52, 22, 17, 19, 2, 108, 42, 66, 26, 26, 4, 32, 31, 29, 32, 22, 31, 4, 58, 16, 22, 9, 23, 33, 72, 4, 47, 1, 37, 84, 19, 3, 18, 23, 26, 46, 38, 78, 29, 11, 86, 37, 17, 30, 114, 7, 19, 30, 57, 33, 3, 29, 1, 11, 23, 8, 2, 1, 31, 36, 42, 22, 22, 67, 12, 30, 15, 1, 1, 26, 7, 16, 116, 29, 4, 28, 9, 23, 49, 156, 21, 80, 3, 1, 52, 21, 3, 0, 38, 8, 3, 88, 3, 10, 46, 4, 50, 8, 28, 11, 78, 16, 26, 2, 32, 96, 28, 29, 73, 21, 28, 28, 17, 17, 33, 35, 123, 7, 28, 4, 50, 22, 15, 2, 18, 10, 33, 29, 5, 8, 15, 16, 1, 22, 32, 21, 31, 28, 32, 5, 44, 56, 7, 11, 28, 35, 23, 35, 26, 40, 60, 24, 7, 18, 12, 3, 4, 42, 130, 60, 26, 9, 31, 3, 11, 14, 10, 31, 24, 8, 15, 17, 151, 29, 15, 14, 8, 17, 23, 17, 40, 23, 11, 7, 19, 39, 22, 126, 4, 1, 333, 16, 12, 2, 29, 19, 36, 147, 15, 43, 22, 10, 16, 44, 3, 0, 9, 206, 57, 28, 15, 17, 29, 1, 4, 29, 43, 1, 19, 14, 8, 50, 4, 7, 109, 60, 2, 73, 12, 23, 40, 53, 22, 5, 14, 18, 31, 36, 60, 25, 36, 10, 73, 25, 3, 66, 42, 15, 50, 1, 4, 30, 38, 30, 35, 22, 37, 26, 96, 15, 19, 11, 0, 19, 17, 50, 8, 96, 24, 152, 26, 40, 22, 22, 37, 82, 11, 16, 12, 71, 22, 2, 42, 26, 372, 4, 59, 12, 30, 30, 80, 3, 3, 31, 21, 71, 3, 64, 11, 35, 29, 5, 8, 49, 21, 37, 37, 24, 35, 74, 12, 32, 35, 21, 35, 24, 21, 26, 114, 23, 45, 25, 2, 81, 11, 67, 29, 15, 7, 12, 15, 31, 9, 15, 95, 71, 22, 44, 9, 192, 71, 29, 2, 72, 39, 24, 172, 25, 42], \"y\": [73, 85, 59, 131, 19, 245, 129, 85, 166, 63, 219, 104, 87, 99, 156, 126, 85, 105, 77, 105, 109, 45, 294, 97, 235, 108, 98, 177, 191, 90, 125, 63, 62, 29, 47, 339, 167, 300, 36, 154, 216, 75, 343, 55, 77, 61, 149, 147, 279, 152, 106, 71, 92, 66, 261, 273, 478, 52, 69, 119, 33, 446, 60, 88, 146, 114, 96, 118, 206, 62, 64, 101, 106, 153, 90, 92, 294, 41, 64, 101, 101, 382, 53, 47, 73, 45, 122, 47, 37, 101, 92, 42, 83, 45, 165, 52, 157, 171, 72, 88, 157, 133, 38, 69, 161, 69, 53, 124, 274, 222, 53, 197, 97, 69, 66, 50, 149, 84, 57, 8, 59, 91, 56, 38, 174, 120, 113, 103, 84, 48, 78, 109, 95, 534, 85, 154, 42, 63, 91, 75, 24, 50, 103, 50, 45, 84, 82, 106, 62, 120, 47, 215, 23, 63, 79, 95, 108, 129, 76, 64, 61, 59, 88, 175, 40, 92, 43, 172, 68, 111, 73, 159, 24, 421, 20, 58, 145, 76, 79, 222, 44, 98, 127, 63, 135, 312, 86, 85, 87, 120, 79, 42, 65, 126, 43, 265, 94, 79, 46, 57, 148, 321, 55, 141, 108, 32, 202, 31, 136, 36, 90, 187, 59, 81, 54, 107, 72, 78, 62, 86, 124, 105, 21, 75, 108, 265, 134, 116, 40, 60, 128, 158, 172, 152, 51, 43, 102, 127, 67, 49, 59, 71, 433, 46, 63, 98, 79, 109, 48, 42, 65, 215, 44, 44, 141, 93, 418, 172, 217, 97, 123, 51, 109, 135, 169, 82, 169, 79, 46, 83, 87, 127, 146, 99, 97, 215, 195, 78, 59, 71, 145, 186, 63, 99, 78, 96, 63, 166, 57, 39, 53, 90, 194, 28, 102, 60, 85, 104, 42, 63, 195, 190, 41, 70, 207, 119, 173, 57, 113, 31, 45, 60, 135, 76, 69, 176, 96, 46, 72, 55, 165, 206, 55, 101, 81, 76, 139, 60, 33, 304, 336, 104, 165, 65, 59, 118, 149, 122, 148, 49, 45, 35, 137, 20, 147, 149, 329, 111, 107, 234, 82, 121, 86, 39, 171, 84, 161, 66, 242, 66, 229, 206, 32, 54, 283, 77, 323, 43, 177, 100, 58, 123, 160, 34, 72, 52, 46, 66, 40, 1175, 52, 149, 318, 157, 65, 87, 102, 112, 67, 59, 193, 113, 66, 175, 115, 147, 79, 112, 42, 108, 78, 106, 52, 27, 280, 47, 61, 62, 105, 180, 87, 101, 123, 60, 90, 128, 55, 117, 69, 126, 59, 139, 87, 100, 73, 54, 190, 43, 202, 224, 137, 55, 51, 277, 70, 250, 180, 233, 72, 89, 43, 265, 137, 140, 193, 190, 608, 107, 95, 68, 98, 197, 282, 213, 62, 328, 71, 105, 71, 111, 47, 113, 74, 127, 123, 302, 371, 176, 158, 151, 52, 102, 47, 81, 20, 92, 133, 122, 150, 172, 105, 186, 49, 126, 157, 90, 74, 97, 42, 258, 390, 71, 200, 112, 393, 28, 136, 71, 235, 259, 54, 60, 59, 26, 89, 38, 102, 117, 30, 46, 80, 383, 46, 231, 254, 53, 29, 42, 67, 108, 138, 145, 130, 388, 143, 126, 65, 58, 48, 70, 93, 122, 53, 73, 55, 109, 96, 350, 69, 27, 87, 78, 44, 127, 41, 87, 364, 170, 63, 138, 192, 155, 214, 115, 180, 121, 152, 48, 110, 125, 444, 76, 142, 69, 114, 266, 237, 115, 155, 82, 104, 54, 57, 108, 101, 100, 84, 97, 197, 45, 79, 127, 102, 84, 52, 73, 68, 80, 67, 55, 101, 110, 93, 91, 1, 32, 142, 42, 117, 58, 125, 143, 99, 50, 49, 78, 110, 89, 350, 44, 53, 77, 41, 47, 139, 88, 58, 103, 194, 242, 95, 57, 499, 114, 95, 94, 116, 194, 36, 84, 85, 73, 50, 148, 122, 98, 39, 192, 275, 292, 55, 291, 214, 60, 279, 97, 52, 73, 11, 44, 97, 85, 50, 154, 289, 122, 68, 97, 161, 158, 308, 210, 185, 156, 162, 662, 107, 251, 83, 114, 61, 27, 113, 53, 57, 43, 147, 44, 122, 52, 47, 67, 77, 60, 43, 45, 100, 185, 60, 119, 21, 47, 90, 115, 78, 138, 114, 202, 110, 78, 53, 78, 168, 230, 117, 205, 273, 53, 931, 128, 84, 67, 71, 173, 86, 62, 90, 405, 61, 180, 43, 83, 266, 200, 75, 117, 64, 299, 48, 195, 133, 72, 49, 123, 33, 115, 269, 50, 62, 188, 139, 147, 20, 108, 120, 126, 49, 84, 111, 74, 150, 226, 266, 151, 122, 74, 76, 60, 97, 41, 84, 97, 183, 111, 35, 176, 65, 43, 97, 112, 128, 52, 127, 504, 9, 103, 201, 381, 82, 94, 138, 181, 224, 160, 46, 101, 70, 299, 84, 178, 64, 101, 21, 223, 167, 63, 67, 57, 48, 31, 342, 204, 117, 89, 78, 117, 89, 34, 98, 85, 125, 84, 162, 218, 295, 67, 172, 97, 46, 84, 95, 134, 46, 135, 90, 69, 123, 135, 119, 130, 106, 166, 103, 118, 79, 162, 151, 151, 45, 77, 43, 85, 222, 57, 94, 66, 104, 77, 52, 51, 127, 69, 117, 221, 122, 206, 231, 71, 107, 132, 171, 99, 110, 132, 82, 230, 146, 171, 164, 146, 88, 95, 136, 159, 35, 111, 77, 4, 176, 45, 251, 52, 207, 57, 87, 62, 66, 96, 117, 69, 94, 50, 34, 118, 69, 73, 192, 156, 89, 44, 30, 544, 62, 123, 79, 394, 22, 619, 198, 178, 263, 656, 116, 190, 236, 355, 42, 69, 25, 165, 42, 63, 221, 140, 254, 93, 314, 278, 156, 149, 426, 86, 47, 165, 116, 378, 127, 137, 112, 156, 174, 96, 186, 97, 157, 123, 79, 44, 140, 545, 100, 57, 136, 128, 326, 81, 204, 77, 44, 305, 249, 60, 54, 101, 28, 89, 400, 128, 93, 43, 44, 52, 72, 214, 228, 148, 30, 69, 97, 102, 308, 83, 514, 99, 78, 143, 140, 174, 77, 81, 149, 186, 96, 115, 61, 124, 74, 48, 211, 65, 42, 416, 116, 123, 39, 27, 52, 48, 81, 67, 101, 229, 104, 144, 86, 63, 125, 73, 84, 236, 32, 96, 148, 211, 157, 101, 467, 62, 47, 105, 56, 111, 114, 89, 291, 122, 140, 104, 96, 55, 79, 66, 24, 131, 99, 195, 49, 521, 407, 83, 213, 70, 125, 107, 86, 251, 404, 78, 28, 76, 27, 89, 206, 59, 82, 111, 64, 41, 66, 269, 43, 135, 135, 54, 111, 106, 41, 88, 78, 82, 76, 28, 127, 364, 105, 135, 82, 45, 73, 19, 74, 141, 88, 105, 63, 142, 271, 50, 35, 208, 253, 196, 157, 82, 265, 233, 135, 306, 67, 50, 306, 70, 296, 91, 259, 44, 91, 82, 86, 18, 117, 68, 53, 110, 218, 77, 252, 115, 74, 55, 245, 274, 50, 115, 66, 97, 47, 89, 404, 90, 71, 98, 153, 190, 128, 189, 81, 111, 404, 103, 140, 43, 61, 133, 48, 67, 59, 162, 117, 297, 54, 148, 90, 370, 68, 43, 142, 113, 102, 65, 192, 75, 142, 31, 39, 90, 72, 43, 18, 249, 325, 68, 165, 138, 164, 57, 122, 164, 110, 49, 115, 46, 457, 72, 142, 123, 70, 89, 70, 196, 371, 192, 70, 43, 122, 80, 73, 90, 71, 139, 192, 64, 242, 86, 123, 104, 49, 61, 78, 118, 42, 133, 61, 70]}, {\"marker\": {\"color\": \"red\", \"line\": {\"width\": 1}, \"opacity\": 0.9, \"size\": 11}, \"mode\": \"markers\", \"name\": \"Gold\", \"type\": \"scatter\", \"x\": [75, 232, 109, 4, 71, 25, 10, 315, 81, 28, 79, 21, 72, 63, 119, 49, 148, 308, 74, 66, 112, 63, 95, 162, 78, 21, 84, 79, 3, 57, 44, 16, 134, 56, 71, 94, 53, 187, 53, 11, 38, 81, 21, 18, 134, 26, 142, 112, 267, 77, 81, 14, 30, 130, 91, 29, 36, 75, 79, 38, 7, 86, 39, 78, 234, 17, 7, 28, 211, 92, 108, 51, 21, 78, 52, 74, 95, 29, 106, 211, 57, 33, 128, 129, 107, 3, 331, 148, 10, 18, 11, 58, 58, 28, 127, 70, 7, 28, 79, 96, 106, 151, 5, 85, 71, 113, 315, 78, 63, 134, 235, 280, 52, 138, 316, 238, 59, 63, 9, 53, 18, 36, 147, 95, 70, 74, 59, 5, 32, 70, 29, 96, 210, 185, 326, 236, 44, 9, 63, 67, 24, 30, 42, 18, 17, 88, 78, 54, 131, 35, 143, 9, 7, 9, 358, 211, 157, 29, 73, 292, 31, 23, 23, 106, 73, 7, 64, 113, 22, 30, 52, 54, 73, 138, 80, 30, 78, 24, 10, 129, 4, 4, 28, 70, 59, 138, 94, 196, 108, 19, 39, 10, 295, 5, 94, 63, 26, 21, 46, 11, 18, 95, 15, 93, 56, 78, 240, 74, 212, 24, 96, 203, 50, 17, 124, 92, 156, 9, 14, 61, 37, 63, 15, 40, 122, 18, 155, 38, 189, 1, 103, 4, 1, 17, 81, 31, 92, 14, 77, 200, 260, 10, 60, 71, 122, 80, 257, 63, 371, 89, 88, 99, 26, 131, 72, 127, 17, 1, 74, 24, 133, 43, 4, 108, 19, 10, 67, 1, 23, 38, 58, 60, 191, 178, 78, 57, 51, 136, 10, 288, 16, 72, 85, 40, 14, 33, 43, 85, 39, 28, 7, 84, 144, 19, 205, 50, 14, 155, 63, 14, 64, 52, 47, 64, 26, 29, 89, 40, 59, 99, 67, 15, 74, 215, 31, 114, 164, 10, 205, 85, 75, 18, 63, 267, 281, 116, 36, 28, 135, 28, 71, 95, 95, 53, 124, 287, 33, 54, 63, 81, 75, 127, 116, 66, 52, 28, 42, 92, 23, 29, 301, 144, 18, 57, 11, 92, 129, 57, 58, 119, 54, 119, 26, 297, 23, 50, 16, 183, 37, 11, 49, 49, 59, 53, 92, 74, 10, 95, 109, 263, 23, 176, 1, 79, 49, 14, 73, 26, 17, 65, 134, 115, 198, 110, 77, 52, 16, 7, 22, 78, 109, 305, 19, 106, 63, 129, 40, 101, 302, 2, 36, 73, 239, 30, 14, 7, 122, 60, 319, 129, 46, 46, 35, 75, 239, 19, 40, 215, 70, 39, 98, 10, 33, 86, 66, 67, 18, 60, 2, 16, 89, 4, 177, 92, 51, 183, 49, 110, 260, 109, 162, 73, 51, 98, 30, 8, 51, 64, 114, 124, 22, 21, 127, 120, 10, 157, 5, 79, 43, 22, 44, 52, 9, 65, 65, 130, 91, 22, 99, 57, 17, 50, 21, 319, 204, 53, 9, 60, 10, 155, 246, 46, 71, 19, 11, 50, 38, 67, 22, 61, 33, 1, 24, 37, 60, 236, 64, 15, 57, 85, 75, 110, 56, 1, 179, 3, 16, 169, 50, 44, 10, 9, 196, 91, 50, 36, 50, 170, 67, 67, 5, 19, 241, 280, 234, 44, 137, 14, 29, 43, 5, 24, 373, 47, 3, 197, 112, 43, 87, 44, 75, 144, 29, 17, 232, 58, 127, 54, 10, 61, 162, 8, 200, 73, 21, 180, 196, 10, 23, 24, 119, 59, 7, 185, 107, 77, 26, 131, 79, 85, 204, 25, 2, 70, 115, 212, 297, 56, 14, 19, 79, 25, 12, 64, 8, 96, 14, 49, 30, 68, 107, 57, 19, 15, 38, 46, 170, 47, 147, 51, 35, 53, 43, 33, 38, 33, 80, 30, 256, 72, 31, 65, 275, 71, 53, 179, 93, 105, 77, 172, 212, 22, 67, 103, 4, 182, 84, 8, 31, 196, 141, 23, 18, 133, 50, 114, 127, 46, 164, 10, 133, 31, 75, 45, 18, 66, 29, 70, 14, 119, 60, 59, 87, 85, 10, 60, 46, 225, 113, 74, 65, 66, 64, 151, 22, 23, 57, 37, 66, 22, 10, 67, 64, 60, 64, 75, 64, 3, 44, 85, 103, 32, 366, 156, 66, 80, 129, 87, 0, 45, 158, 254, 39, 95, 75, 21, 137, 40, 16, 92, 148, 31, 313, 85, 58, 15, 26, 22, 54, 30, 29, 283, 338, 85, 51, 50, 113, 77, 116, 28, 17, 171, 189, 1, 32, 24, 173, 7, 11, 54, 36, 60, 24, 28, 103, 31, 177, 68, 50, 46, 100, 35, 10, 4, 116, 103, 74, 17, 89, 134, 166, 18, 36, 91, 92, 190, 50, 40, 81, 49, 4, 17, 172, 63, 11, 145, 15, 65, 114, 40, 235, 51, 61, 65, 65, 115, 5, 241, 25, 10, 10, 14, 149, 113, 75, 46, 36, 78, 107, 207, 44, 56, 99, 37, 58, 254, 64, 58, 72, 38, 19, 136, 25, 40, 101, 32, 369, 92, 156, 226, 23, 8, 67, 112, 82, 16, 31, 19, 23, 2, 84, 165, 77, 123, 19, 3, 54, 23, 245, 47, 39, 260, 12, 29, 43, 91, 92, 87, 269, 7, 65, 30, 37, 119, 54, 145, 45, 365, 22, 44, 100, 59, 114, 50, 70, 84, 8, 59, 73, 39, 21, 59, 18, 65, 88, 157, 133, 4, 268, 15, 65, 95, 126, 94, 50, 72, 64, 16, 15, 58, 23, 54, 25, 44, 88, 19, 170, 267, 318, 57, 87, 43, 71, 78, 56, 33, 211, 50, 73, 71, 353, 116, 373, 100, 72, 22, 138, 37, 106, 17, 3, 119, 35, 172, 1, 128, 46, 17, 107, 44, 17, 63, 33, 18, 33, 66, 61, 74, 89, 60, 28, 53, 56, 154, 19, 70, 18, 19, 44, 44, 112, 24, 213, 67, 46, 33, 197, 88, 25, 10, 75, 15, 77, 33, 46, 79, 296, 4, 106, 25, 31, 61, 186, 3, 5, 110, 290, 95, 163, 5, 53, 15, 194, 3, 127, 84, 71, 80, 71, 50, 75, 61, 15, 4, 40, 36, 74, 70, 15, 3, 51, 80, 79, 73, 177, 42, 71, 141, 16, 19, 68, 15, 28, 54, 61, 68, 226, 45, 218, 369, 26, 91, 302, 52, 31, 52, 46, 44, 372, 65, 273, 47, 67, 60, 80, 100, 123, 8, 365, 163, 65, 23, 173, 103, 142, 4, 103, 95, 15, 38, 51, 38, 100, 4, 10, 23, 14, 144, 31, 77, 66, 37, 35, 194, 64, 29, 81, 72, 36, 61, 26, 53, 54, 25, 211, 138, 56, 134, 17, 4, 39, 38, 77, 255, 60, 29, 5, 7, 30, 23, 85, 40, 110, 11, 86, 87, 30, 25, 113, 85, 117, 28, 81, 313, 58, 114, 36, 36, 25, 109, 159, 47, 3, 50, 152, 106, 105, 194, 75, 17, 7, 57, 178, 106, 58, 29, 175, 31, 65, 310, 96, 264, 2, 35, 25, 11, 108, 53, 15, 120, 116, 18, 40, 148, 52, 138, 2, 127, 107, 35, 227, 21, 28, 17, 101, 21, 78, 46, 100, 14, 22, 85, 156, 46, 36, 129, 50, 24, 303, 11, 49, 72, 40, 199, 4, 19, 14, 77, 306, 114, 36, 43, 42, 50, 46, 128, 313, 18, 88, 1, 40, 17, 192, 126, 94, 60, 10, 191, 77, 65, 58, 7, 17, 2, 161, 261, 24, 31, 53, 11, 53, 24, 60, 129, 14, 94, 19, 24, 29, 100, 85, 213, 17, 217, 33, 57, 21, 32, 1, 19, 31, 119, 219, 138, 25, 18, 1, 74, 52, 127, 131, 168, 10, 44, 127, 71, 79, 38, 53, 9, 9, 178, 21, 32, 158, 15, 198, 56, 10, 21, 72, 85, 73, 25, 179, 4, 298, 1, 49, 47, 42, 85, 81, 11, 1, 107, 185, 43, 12, 322, 172, 29, 21, 71, 9, 58, 45, 88, 133, 45, 11, 134, 51, 7, 72, 39, 31, 372, 29, 165, 22, 11, 121, 37, 3, 23, 70, 28, 4, 4, 32, 19, 45, 9, 23, 173, 133, 40, 18, 36, 16, 330, 98, 93, 11, 37, 37, 19, 12, 25, 24, 60, 19, 29, 63, 116, 50, 32, 134, 3, 75, 9, 57, 37, 23, 176, 33, 58, 86, 7, 128, 24, 15, 77, 71, 82, 199, 36, 25, 31, 29, 92, 56, 81, 218, 46, 23, 122, 17, 87, 50, 43, 72, 2, 43, 7], \"y\": [31, 58, 23, 11, 52, 33, 17, 77, 40, 27, 32, 93, 64, 27, 59, 5, 54, 26, 61, 38, 34, 29, 39, 30, 36, 31, 50, 36, 12, 58, 22, 22, 43, 15, 38, 35, 83, 38, 36, 31, 26, 14, 23, 9, 22, 68, 33, 35, 51, 26, 18, 17, 16, 63, 34, 21, 19, 50, 57, 20, 11, 19, 34, 29, 87, 11, 4, 35, 68, 18, 21, 27, 3, 60, 65, 19, 32, 41, 38, 86, 31, 39, 24, 31, 31, 20, 48, 43, 38, 36, 13, 33, 48, 32, 39, 37, 27, 41, 53, 77, 20, 55, 39, 53, 46, 26, 43, 38, 27, 131, 63, 4, 95, 18, 45, 32, 55, 25, 20, 45, 14, 28, 47, 29, 46, 5, 25, 25, 27, 34, 52, 47, 46, 107, 66, 47, 10, 13, 71, 82, 79, 31, 22, 71, 27, 30, 25, 96, 70, 30, 97, 17, 16, 10, 19, 22, 20, 20, 28, 83, 13, 31, 27, 31, 47, 1, 40, 26, 45, 10, 71, 37, 27, 48, 28, 35, 76, 48, 2, 22, 6, 18, 21, 25, 47, 30, 55, 1, 45, 23, 6, 4, 74, 15, 79, 13, 30, 46, 67, 2, 29, 63, 8, 22, 90, 21, 66, 43, 58, 36, 67, 57, 16, 25, 26, 23, 36, 13, 1, 81, 87, 30, 8, 46, 82, 37, 42, 31, 54, 2, 81, 26, 20, 25, 12, 17, 53, 21, 51, 54, 42, 16, 24, 51, 32, 42, 89, 23, 39, 23, 37, 53, 97, 35, 38, 39, 3, 11, 27, 28, 24, 19, 28, 78, 29, 71, 46, 12, 19, 27, 41, 21, 86, 58, 69, 34, 86, 50, 35, 52, 18, 59, 36, 27, 6, 66, 25, 37, 78, 34, 32, 49, 81, 38, 33, 25, 23, 53, 8, 21, 58, 26, 35, 23, 27, 40, 72, 44, 92, 11, 62, 8, 40, 57, 28, 56, 49, 16, 103, 52, 25, 60, 6, 48, 104, 43, 28, 20, 43, 33, 34, 63, 28, 24, 75, 35, 25, 57, 15, 22, 31, 11, 39, 23, 13, 35, 36, 57, 28, 24, 36, 59, 40, 92, 20, 5, 93, 23, 30, 23, 35, 39, 27, 21, 27, 17, 19, 43, 26, 33, 18, 30, 28, 20, 41, 21, 27, 58, 23, 31, 45, 39, 25, 90, 28, 15, 54, 16, 13, 41, 47, 30, 42, 34, 39, 20, 39, 31, 86, 92, 6, 85, 56, 10, 52, 44, 42, 65, 150, 68, 21, 35, 74, 34, 10, 15, 44, 46, 66, 28, 26, 11, 26, 49, 52, 46, 41, 104, 29, 50, 58, 29, 26, 41, 24, 42, 39, 37, 39, 24, 9, 7, 41, 60, 40, 50, 35, 75, 53, 31, 55, 33, 29, 64, 32, 9, 33, 24, 36, 28, 25, 21, 71, 60, 31, 47, 9, 33, 40, 37, 46, 56, 14, 45, 73, 20, 97, 14, 29, 27, 1, 17, 12, 32, 63, 93, 20, 105, 60, 37, 123, 29, 42, 10, 13, 14, 46, 46, 55, 69, 18, 4, 17, 18, 213, 64, 19, 32, 19, 16, 69, 4, 33, 12, 227, 24, 17, 98, 29, 50, 7, 16, 53, 24, 41, 28, 16, 31, 26, 101, 29, 98, 166, 123, 61, 48, 68, 22, 25, 51, 37, 47, 71, 45, 17, 89, 69, 5, 30, 41, 19, 71, 39, 5, 52, 60, 35, 27, 3, 57, 44, 12, 63, 48, 29, 70, 17, 6, 28, 9, 20, 60, 4, 36, 47, 46, 11, 15, 6, 23, 43, 20, 30, 77, 45, 57, 10, 34, 3, 19, 20, 54, 77, 59, 27, 81, 36, 6, 37, 34, 32, 72, 39, 4, 60, 26, 74, 77, 154, 132, 20, 122, 33, 20, 31, 67, 61, 35, 52, 119, 3, 94, 25, 57, 42, 70, 26, 41, 27, 49, 47, 33, 30, 47, 25, 3, 23, 8, 35, 67, 60, 35, 21, 21, 28, 82, 29, 26, 91, 20, 23, 22, 71, 7, 29, 16, 62, 21, 19, 51, 19, 13, 69, 37, 9, 52, 35, 20, 31, 22, 34, 47, 23, 82, 11, 2, 63, 41, 49, 20, 39, 7, 28, 23, 58, 47, 37, 33, 36, 42, 48, 13, 35, 98, 86, 17, 24, 21, 26, 20, 71, 61, 13, 29, 44, 4, 27, 12, 12, 12, 42, 53, 47, 28, 53, 6, 82, 29, 62, 30, 56, 58, 155, 57, 24, 24, 76, 29, 45, 35, 15, 45, 92, 18, 56, 1, 72, 41, 15, 80, 29, 55, 31, 19, 31, 97, 152, 48, 9, 24, 77, 22, 3, 16, 34, 64, 49, 15, 25, 25, 232, 52, 32, 21, 6, 48, 17, 33, 21, 33, 19, 18, 86, 55, 34, 117, 32, 70, 26, 20, 10, 28, 191, 45, 37, 27, 10, 21, 20, 14, 34, 12, 42, 8, 98, 31, 35, 89, 41, 40, 62, 68, 51, 39, 66, 54, 24, 27, 47, 22, 93, 80, 18, 40, 43, 74, 96, 18, 85, 60, 47, 30, 21, 18, 29, 19, 42, 28, 80, 20, 24, 96, 49, 37, 26, 3, 32, 33, 79, 32, 28, 71, 63, 28, 32, 16, 98, 55, 39, 26, 65, 6, 39, 83, 34, 70, 66, 73, 33, 21, 31, 39, 51, 39, 76, 48, 16, 30, 38, 40, 35, 37, 31, 35, 30, 29, 22, 18, 29, 18, 20, 69, 23, 58, 15, 28, 45, 31, 11, 35, 50, 63, 19, 66, 23, 41, 44, 37, 122, 96, 47, 37, 22, 20, 19, 51, 91, 18, 61, 45, 54, 25, 65, 23, 17, 27, 22, 4, 42, 37, 16, 69, 19, 56, 37, 111, 18, 39, 141, 37, 28, 39, 34, 18, 92, 109, 31, 98, 33, 57, 81, 34, 83, 82, 72, 23, 59, 44, 47, 95, 50, 18, 76, 24, 84, 63, 40, 28, 17, 35, 53, 18, 42, 29, 39, 56, 50, 11, 84, 83, 4, 40, 156, 17, 31, 54, 25, 32, 84, 31, 19, 18, 35, 5, 57, 42, 28, 28, 33, 27, 53, 85, 12, 7, 30, 29, 34, 30, 33, 9, 29, 48, 20, 60, 62, 19, 24, 29, 16, 32, 52, 20, 6, 93, 62, 59, 5, 27, 87, 44, 25, 42, 145, 82, 28, 52, 1, 95, 2, 22, 34, 54, 48, 71, 48, 59, 148, 5, 66, 75, 24, 60, 98, 93, 67, 28, 28, 26, 26, 28, 22, 23, 63, 20, 9, 19, 2, 52, 26, 7, 39, 26, 36, 135, 62, 56, 86, 18, 30, 55, 53, 48, 61, 56, 33, 19, 42, 86, 16, 31, 42, 41, 39, 81, 22, 3, 7, 12, 37, 23, 49, 16, 2, 22, 28, 75, 22, 6, 22, 65, 43, 83, 62, 69, 61, 62, 25, 28, 63, 52, 90, 29, 35, 35, 248, 23, 35, 14, 23, 20, 13, 54, 80, 60, 19, 29, 57, 25, 27, 48, 47, 69, 35, 25, 29, 19, 40, 31, 54, 69, 86, 18, 74, 116, 12, 122, 73, 37, 6, 25, 69, 44, 68, 49, 30, 59, 55, 9, 73, 33, 6, 28, 157, 31, 27, 8, 16, 44, 58, 15, 29, 33, 57, 69, 49, 15, 45, 15, 56, 38, 32, 6, 30, 30, 26, 39, 43, 48, 54, 9, 36, 19, 61, 19, 29, 27, 5, 174, 29, 21, 29, 27, 5, 38, 52, 88, 20, 87, 30, 33, 47, 25, 49, 2, 34, 27, 45, 49, 25, 23, 50, 55, 13, 63, 56, 98, 26, 33, 39, 20, 35, 40, 51, 52, 19, 43, 15, 27, 30, 46, 35, 31, 23, 29, 10, 40, 67, 35, 43, 25, 10, 35, 25, 19, 56, 21, 38, 54, 50, 81, 67, 68, 5, 52, 45, 33, 30, 23, 61, 24, 52, 1, 51, 24, 15, 40, 46, 26, 53, 91, 108, 19, 34, 33, 39, 58, 92, 23, 21, 23, 5, 65, 21, 2, 71, 20, 98, 57, 21, 30, 21, 38, 79, 91, 53, 22, 30, 30, 46, 9, 94, 19, 43, 3, 19, 27, 7, 37, 2, 17, 1, 29, 2, 36, 40, 38, 18, 37, 26, 72, 34, 52, 46, 20, 38, 61, 16, 37, 38, 21, 25, 34, 39, 24, 37, 130, 38, 54, 31, 1, 97, 41, 1, 68, 45, 7, 68, 32, 42, 26, 31, 19, 30, 37, 88, 6, 4, 47, 8, 16, 94, 21, 46, 3, 14, 12]}, {\"marker\": {\"color\": \"black\", \"line\": {\"width\": 1}, \"opacity\": 0.9, \"size\": 13}, \"mode\": \"markers\", \"name\": \"Platinum\", \"type\": \"scatter\", \"x\": [310, 204, 214, 287, 291, 311, 337, 303, 323, 217, 194, 43, 99, 366, 22, 243, 156, 336, 63, 165, 232, 284, 66, 353, 63, 142, 39, 197, 166, 357, 310, 302, 261, 288, 227, 315, 246, 39, 238, 39, 317, 189, 58, 79, 277, 21, 232, 276, 238, 115, 154, 334, 29, 324, 329, 371, 205, 19, 71, 291, 71, 371, 179, 234, 352, 332, 372, 128, 86, 210, 364, 65, 192, 373, 256, 334, 365, 186, 177, 260, 44, 101, 281, 261, 214, 336, 262, 145, 282, 173, 267, 294, 372, 52, 138, 283, 84, 282, 143, 275, 88, 214, 185, 204, 264, 176, 148, 128, 161, 64, 311, 25, 288, 306, 112, 197, 156, 242, 18, 85, 196, 318, 105, 173, 56, 323, 372, 357, 273, 291, 99, 64, 212, 24, 249, 253, 72, 191, 373, 82, 192, 266, 179, 157, 70, 99, 234, 39, 133, 372, 238, 269, 77, 94, 261, 273, 332, 26, 22, 313, 283, 64, 45, 267, 337, 61, 135, 267, 122, 127, 200, 273, 201, 81, 225, 261, 112, 92, 61, 268, 263, 366, 31, 113, 78, 59, 330, 359, 137, 268, 169, 155, 351, 120, 72, 316, 157, 177, 287, 70, 64, 66, 268, 71, 50, 256, 365, 280, 329, 74, 203, 185, 192, 107, 63, 149, 74, 255, 91, 259, 165, 29, 252, 184, 99, 236, 200, 232, 65, 241, 233, 105, 275, 311, 282, 71, 64, 316, 243, 260, 126, 73, 78, 30, 78, 205, 182, 319, 215, 173, 243, 309, 306, 35, 312, 318, 173, 116, 252, 120, 256, 35, 179, 60, 149, 50, 301, 151, 151, 187, 285, 182, 59, 38, 155, 318, 302, 271, 31, 218, 246, 269, 246, 217, 219, 200, 18, 240, 162, 373, 288, 151, 218, 103, 250, 367, 66, 309, 255, 63, 367, 305, 183, 176, 22, 19, 159, 211, 252, 64, 168, 57, 326, 247, 74, 358, 63, 86, 189, 71, 204, 92, 325, 351, 23, 169, 57, 294, 179, 169, 35, 79, 65, 360, 154, 21, 21, 308, 145, 70, 287, 206, 60, 213, 30, 211, 277, 155, 225, 121, 60, 63, 284, 176, 33, 266, 284, 124, 65, 266, 266, 320, 32, 124, 32, 364, 56, 324, 137, 154, 72, 273, 143, 84, 373, 133, 78, 233, 220, 266, 173, 275, 297, 331, 201, 106, 218, 239, 94, 42, 247, 80, 373, 326, 183, 234, 278, 318, 141, 154, 331, 225, 196, 213, 40, 18, 117, 222, 242, 106, 206, 242, 163, 67, 161, 242, 218, 38, 260, 274, 164, 215, 365, 319, 295, 358, 185, 191, 296, 218, 149, 119, 310, 362, 218, 302, 98, 365, 306, 180, 190, 310, 110, 98, 74, 257, 253, 164, 281, 207, 175, 25, 50, 311, 309, 88, 183, 187, 100, 64, 108, 259, 57, 185, 150, 311, 18, 151, 280, 372, 40, 276, 371, 305, 274, 72, 242, 245, 205, 184, 57, 262, 266, 21, 58, 156, 201, 77, 169, 86, 26, 24, 71, 187, 106, 208, 264, 218, 214, 198, 24, 147, 274, 249, 297, 58, 263, 46, 112, 280, 319, 26, 28, 63, 21, 166, 52, 51, 75, 369, 197, 64, 366, 53, 267, 148, 311, 19, 52, 29, 261, 210, 19, 252, 207, 336, 253, 148, 157, 74, 91, 245, 32, 365, 72, 253, 147, 270, 247, 128, 37, 57, 246, 198, 211, 159, 172, 266, 71, 89, 170, 199, 151, 269, 273, 319, 213, 372, 256, 281, 308, 215, 42, 333, 311, 245, 134, 245, 22, 65, 169, 239, 239, 225, 240, 357, 373, 320, 25, 331, 322, 71, 260, 367, 154, 92, 357, 225, 241, 318, 87, 176, 366, 318, 358, 234, 310, 239, 276, 298, 238, 122, 127, 148, 283, 168, 135, 323, 106, 338, 46, 354, 172, 49, 201, 290, 95, 274, 110, 199, 326, 283, 333, 52, 208, 53, 332, 366, 72, 373, 29, 361, 372, 128, 213, 169, 186, 270, 172, 325, 112, 289, 189, 264, 171, 24, 323, 38, 254, 23, 213, 262, 131, 248, 264, 330, 312, 362, 262, 25, 354, 94, 29, 161, 92, 362, 81, 330, 155, 44, 233, 84, 33, 254, 163, 114, 288, 217, 277, 351, 50, 18, 151, 162, 176, 255, 70, 53, 78, 52, 336, 184, 51, 36, 141, 52, 191, 157, 204, 336, 243, 22, 43, 317, 106, 39, 217, 296, 52, 117, 119, 252, 28, 266, 264, 201, 283, 143, 234, 364, 201, 212, 212, 282, 66, 49, 77, 134, 304, 24, 218, 64, 68, 245, 133, 183, 358, 142, 51, 319, 372, 172, 50, 303, 46, 186, 51, 18, 277, 312, 198, 60, 80, 253, 149, 194, 368, 173, 178, 247, 190, 154, 172, 373, 372, 194, 239, 64, 311, 133, 276, 365, 74, 303, 366, 30, 211, 309, 196, 373, 173, 220, 260, 288, 297, 283, 81, 299, 154, 106, 264, 240, 61, 248, 65, 218, 143, 183, 170, 211, 189, 51, 317, 367, 262, 249, 246, 296, 281, 252, 232, 59, 138, 60, 73, 67, 40, 236, 75, 360, 78, 80, 235, 203, 225, 189, 170, 61, 261, 266, 176, 196, 176, 339, 169, 121, 268, 126, 213, 330, 217, 72, 196, 36, 157, 284, 75, 158, 290, 332, 197, 53, 267, 247, 322, 269, 94, 264, 312, 302, 53, 56, 21, 191, 302, 263, 106, 57, 64, 28, 135, 198, 149, 87, 44, 218, 177, 73, 74, 274, 164, 192, 173, 161, 360, 19, 296, 372, 30, 277, 25, 171, 81, 190, 53, 164, 242, 35, 24, 364, 182, 113, 373, 248, 232, 68, 285, 219, 186, 182, 235, 263, 245, 274, 222, 105, 245, 169, 368, 189, 362, 366, 43, 75, 72, 256, 135, 241, 78, 266, 262, 364, 53, 297, 176, 372, 58, 214, 318, 96, 198, 294, 260, 57, 74, 372, 19, 282, 57, 89, 99, 192, 360, 227, 93, 156, 184, 227, 128, 39, 197, 50, 43, 52, 186, 333, 368, 59, 140, 84, 66, 187, 366, 299, 290, 276, 371, 115, 235, 109, 30, 184, 239, 87, 116, 187, 226, 189, 267, 218, 288, 149, 18, 30, 31, 45, 60, 185, 63, 245, 137, 157, 194, 130, 266, 78, 22, 322, 261, 165, 288, 317, 233, 119, 161, 185, 334, 275, 247, 239, 51, 24, 21, 284, 38, 289, 78, 217, 201, 57, 46, 226, 273, 53, 53, 53, 253, 234, 308, 182, 312, 204, 362, 107, 208, 241, 57, 308, 361, 95, 138, 280, 123, 302, 94, 355, 86, 179, 311, 239, 238, 218, 70, 65, 163, 219, 163, 184, 79, 71, 32, 253, 156, 219, 176, 203, 365, 158, 79, 261, 248, 358, 75, 289, 220, 75, 280, 72, 128, 308, 361, 359, 190, 53, 280, 177, 25, 269, 233, 23, 197, 359, 205, 332, 71, 242, 218, 252, 236, 239, 78, 130, 173, 312, 59, 81, 169, 276, 86, 373, 65, 21, 277, 141, 227, 263, 23, 43, 358, 137, 141, 236, 260, 252, 185, 187, 169, 320, 200, 232, 372, 113, 240, 112, 359, 263, 254, 159, 53, 281, 29, 73, 36, 51, 33, 303, 106, 218, 185, 372, 304, 368, 323, 142, 204, 170, 173, 364, 304, 129, 212, 162, 56, 225, 44, 23, 85, 159, 190, 247, 373, 310, 282, 372, 138, 159, 130, 233, 37, 147, 198, 249, 66, 116, 171, 142, 371, 373, 166, 211, 241, 51, 365, 145, 56, 185, 236, 225, 281, 362, 235, 256, 373, 155, 81, 108, 51, 152, 98, 334, 65, 154, 53, 203, 359, 70, 288, 75, 289, 257, 185, 373, 217, 274, 61, 312, 127, 329, 254, 368, 290, 367, 214, 149, 243, 212, 295, 157, 140, 45, 301, 177, 60, 358, 227, 249, 192, 261, 165, 106, 157, 28, 326, 236, 89, 211, 226, 263, 217, 325, 310, 89, 140, 134, 366, 38, 30, 58, 73, 277, 180], \"y\": [17, 4, 13, 10, 22, 14, 10, 5, 11, 18, 30, 11, 16, 11, 4, 26, 8, 15, 20, 22, 23, 7, 31, 16, 17, 38, 12, 8, 5, 10, 21, 16, 21, 9, 28, 11, 24, 15, 22, 10, 26, 28, 12, 16, 20, 11, 11, 18, 22, 10, 21, 9, 5, 3, 10, 7, 16, 12, 21, 33, 19, 24, 12, 22, 4, 4, 11, 15, 4, 12, 14, 4, 21, 2, 25, 24, 13, 25, 25, 31, 15, 2, 4, 14, 6, 11, 9, 24, 18, 12, 27, 17, 3, 5, 3, 26, 11, 4, 2, 7, 7, 5, 3, 4, 10, 2, 22, 2, 28, 28, 8, 9, 23, 19, 5, 8, 9, 28, 4, 3, 28, 7, 6, 26, 4, 14, 3, 11, 13, 33, 18, 14, 18, 8, 8, 15, 10, 11, 14, 15, 9, 7, 6, 22, 6, 1, 8, 8, 1, 10, 1, 50, 15, 2, 3, 7, 3, 17, 4, 8, 41, 17, 11, 1, 37, 25, 3, 5, 4, 5, 5, 16, 9, 2, 10, 22, 13, 27, 8, 9, 11, 1, 15, 16, 9, 7, 13, 10, 5, 5, 20, 1, 21, 1, 11, 17, 19, 19, 20, 8, 14, 16, 29, 10, 1, 29, 14, 15, 35, 13, 1, 21, 26, 18, 16, 8, 10, 54, 13, 2, 17, 17, 9, 17, 10, 62, 15, 11, 10, 8, 23, 14, 8, 18, 19, 17, 22, 26, 12, 15, 10, 4, 8, 5, 15, 22, 75, 4, 14, 43, 27, 10, 24, 16, 19, 23, 13, 19, 19, 5, 23, 6, 13, 12, 83, 9, 6, 25, 16, 3, 29, 8, 9, 12, 14, 1, 20, 49, 8, 13, 10, 21, 12, 6, 38, 30, 3, 23, 25, 1, 9, 12, 7, 9, 17, 7, 13, 33, 17, 10, 7, 12, 13, 10, 15, 3, 28, 18, 1, 9, 14, 11, 28, 20, 7, 18, 7, 3, 28, 16, 19, 15, 12, 7, 11, 9, 17, 16, 26, 9, 7, 11, 5, 3, 33, 12, 11, 35, 2, 15, 11, 10, 11, 16, 5, 15, 11, 22, 28, 16, 6, 15, 38, 28, 6, 21, 14, 4, 6, 8, 7, 24, 13, 12, 4, 29, 13, 1, 25, 21, 9, 15, 3, 5, 22, 7, 5, 3, 28, 6, 25, 24, 31, 3, 7, 6, 2, 20, 10, 12, 21, 15, 9, 8, 10, 16, 20, 8, 5, 17, 29, 10, 8, 16, 5, 3, 13, 17, 20, 8, 31, 8, 12, 15, 31, 14, 6, 6, 18, 18, 1, 6, 11, 8, 4, 4, 66, 11, 7, 5, 25, 8, 14, 22, 3, 17, 9, 5, 9, 40, 22, 4, 16, 6, 7, 17, 18, 30, 9, 30, 17, 7, 6, 19, 29, 7, 10, 23, 12, 16, 12, 18, 10, 5, 4, 56, 10, 57, 29, 1, 6, 19, 3, 25, 2, 4, 3, 20, 26, 21, 13, 8, 20, 7, 2, 30, 28, 29, 80, 30, 4, 14, 7, 2, 15, 13, 8, 22, 8, 1, 10, 28, 10, 18, 5, 11, 21, 6, 9, 41, 6, 15, 6, 2, 14, 6, 12, 13, 11, 29, 4, 13, 2, 39, 4, 13, 21, 11, 6, 11, 13, 28, 17, 18, 20, 10, 7, 33, 17, 9, 12, 10, 11, 17, 14, 12, 41, 5, 13, 18, 17, 11, 8, 83, 40, 12, 20, 66, 7, 27, 66, 5, 12, 22, 3, 28, 5, 1, 5, 15, 23, 26, 11, 3, 17, 28, 1, 14, 15, 16, 22, 9, 13, 14, 28, 4, 27, 39, 5, 5, 11, 23, 3, 6, 29, 10, 9, 20, 5, 24, 2, 9, 5, 5, 14, 23, 8, 23, 14, 15, 33, 6, 18, 6, 7, 34, 19, 10, 12, 6, 12, 19, 16, 3, 24, 31, 12, 19, 1, 24, 1, 16, 29, 10, 16, 35, 17, 5, 9, 5, 14, 7, 16, 3, 8, 41, 31, 10, 1, 7, 14, 6, 8, 34, 10, 8, 6, 2, 17, 10, 41, 45, 25, 2, 5, 9, 28, 25, 58, 7, 56, 11, 7, 84, 2, 66, 13, 1, 7, 15, 27, 10, 4, 26, 24, 29, 28, 17, 14, 1, 8, 7, 39, 13, 31, 29, 5, 14, 2, 17, 13, 16, 6, 6, 19, 15, 33, 35, 24, 2, 34, 1, 11, 5, 9, 13, 1, 12, 12, 10, 9, 2, 12, 22, 5, 6, 6, 19, 7, 38, 11, 5, 14, 10, 8, 9, 3, 28, 1, 9, 7, 11, 25, 7, 18, 29, 25, 1, 8, 17, 1, 20, 10, 8, 11, 22, 30, 14, 15, 29, 23, 12, 12, 37, 11, 22, 4, 7, 19, 12, 40, 60, 24, 11, 21, 12, 12, 7, 1, 14, 6, 2, 7, 11, 4, 14, 8, 29, 22, 8, 10, 8, 23, 23, 1, 1, 10, 38, 18, 1, 12, 10, 28, 13, 6, 18, 16, 30, 8, 34, 30, 16, 11, 13, 21, 37, 1, 1, 14, 2, 6, 3, 8, 11, 11, 15, 6, 19, 15, 18, 6, 14, 15, 8, 6, 35, 16, 7, 24, 13, 2, 33, 6, 11, 8, 17, 20, 11, 41, 14, 3, 12, 1, 10, 11, 18, 15, 2, 9, 8, 31, 5, 5, 23, 4, 43, 29, 57, 10, 5, 30, 31, 7, 5, 21, 9, 2, 6, 8, 17, 34, 19, 11, 14, 2, 9, 32, 3, 2, 13, 18, 19, 25, 15, 19, 3, 13, 13, 6, 17, 13, 15, 14, 30, 5, 3, 17, 17, 11, 3, 9, 6, 14, 8, 13, 10, 10, 6, 10, 26, 5, 14, 5, 23, 9, 12, 27, 14, 8, 2, 9, 3, 10, 13, 12, 3, 10, 21, 19, 2, 37, 44, 1, 1, 13, 9, 34, 13, 7, 13, 23, 1, 38, 26, 16, 17, 3, 12, 16, 18, 23, 15, 15, 38, 8, 11, 12, 24, 10, 11, 25, 11, 12, 14, 8, 19, 10, 6, 11, 3, 1, 37, 45, 37, 8, 9, 14, 6, 21, 16, 1, 25, 16, 7, 14, 7, 26, 21, 2, 1, 12, 4, 11, 15, 7, 3, 9, 4, 11, 28, 15, 22, 42, 13, 5, 2, 8, 14, 1, 12, 9, 10, 18, 7, 9, 31, 14, 24, 18, 15, 9, 14, 5, 10, 12, 16, 15, 4, 15, 23, 2, 10, 29, 38, 13, 7, 4, 9, 21, 14, 15, 9, 37, 16, 23, 15, 9, 1, 53, 12, 14, 6, 1, 11, 9, 17, 1, 8, 19, 35, 33, 28, 24, 2, 3, 4, 2, 13, 14, 2, 14, 17, 5, 1, 9, 8, 17, 9, 14, 24, 12, 10, 17, 40, 18, 14, 22, 6, 40, 11, 6, 9, 14, 9, 13, 3, 9, 25, 5, 6, 42, 39, 6, 29, 12, 8, 5, 45, 29, 9, 11, 14, 3, 74, 4, 5, 26, 7, 5, 8, 7, 8, 22, 38, 11, 16, 11, 15, 19, 16, 15, 19, 8, 24, 5, 34, 7, 10, 1, 6, 18, 15, 6, 1, 1, 1, 3, 12, 13, 14, 10, 10, 17, 13, 2, 37, 5, 26, 15, 17, 23, 52, 11, 9, 10, 12, 6, 26, 8, 10, 20, 34, 28, 15, 15, 2, 28, 31, 6, 12, 54, 37, 1, 1, 29, 12, 2, 20, 9, 1, 19, 1, 31, 7, 26, 34, 42, 81, 14, 29, 30, 15, 12, 48, 1, 13, 29, 5, 2, 37, 31, 14, 28, 31, 3, 29, 5, 21, 21, 5, 33, 19, 7, 7, 5, 20, 19, 10, 1, 25, 18, 13, 29, 7, 37, 21, 19, 37, 17, 1, 28, 29, 17, 31, 14, 1, 8, 15, 10, 7, 23, 10, 9, 30, 37, 17, 15, 7, 16, 30, 19, 8, 34, 15, 13, 20, 2, 10, 5, 1, 21, 6, 13, 1, 7, 11, 11, 8, 9, 10, 7]}],\n",
              "                        {\"template\": {\"data\": {\"bar\": [{\"error_x\": {\"color\": \"#2a3f5f\"}, \"error_y\": {\"color\": \"#2a3f5f\"}, \"marker\": {\"line\": {\"color\": \"#E5ECF6\", \"width\": 0.5}}, \"type\": \"bar\"}], \"barpolar\": [{\"marker\": {\"line\": {\"color\": \"#E5ECF6\", \"width\": 0.5}}, \"type\": \"barpolar\"}], \"carpet\": [{\"aaxis\": {\"endlinecolor\": \"#2a3f5f\", \"gridcolor\": \"white\", \"linecolor\": \"white\", \"minorgridcolor\": \"white\", \"startlinecolor\": \"#2a3f5f\"}, \"baxis\": {\"endlinecolor\": \"#2a3f5f\", \"gridcolor\": \"white\", \"linecolor\": \"white\", \"minorgridcolor\": \"white\", \"startlinecolor\": \"#2a3f5f\"}, \"type\": \"carpet\"}], \"choropleth\": [{\"colorbar\": {\"outlinewidth\": 0, \"ticks\": \"\"}, \"type\": \"choropleth\"}], \"contour\": [{\"colorbar\": {\"outlinewidth\": 0, \"ticks\": \"\"}, \"colorscale\": [[0.0, \"#0d0887\"], [0.1111111111111111, \"#46039f\"], [0.2222222222222222, \"#7201a8\"], [0.3333333333333333, \"#9c179e\"], [0.4444444444444444, \"#bd3786\"], [0.5555555555555556, \"#d8576b\"], [0.6666666666666666, \"#ed7953\"], [0.7777777777777778, \"#fb9f3a\"], [0.8888888888888888, \"#fdca26\"], [1.0, \"#f0f921\"]], \"type\": \"contour\"}], \"contourcarpet\": [{\"colorbar\": {\"outlinewidth\": 0, \"ticks\": \"\"}, \"type\": \"contourcarpet\"}], \"heatmap\": [{\"colorbar\": {\"outlinewidth\": 0, \"ticks\": \"\"}, \"colorscale\": [[0.0, \"#0d0887\"], [0.1111111111111111, \"#46039f\"], [0.2222222222222222, \"#7201a8\"], [0.3333333333333333, \"#9c179e\"], [0.4444444444444444, \"#bd3786\"], [0.5555555555555556, \"#d8576b\"], [0.6666666666666666, \"#ed7953\"], [0.7777777777777778, \"#fb9f3a\"], [0.8888888888888888, \"#fdca26\"], [1.0, \"#f0f921\"]], \"type\": \"heatmap\"}], \"heatmapgl\": [{\"colorbar\": {\"outlinewidth\": 0, \"ticks\": \"\"}, \"colorscale\": [[0.0, \"#0d0887\"], [0.1111111111111111, \"#46039f\"], [0.2222222222222222, \"#7201a8\"], [0.3333333333333333, \"#9c179e\"], [0.4444444444444444, \"#bd3786\"], [0.5555555555555556, \"#d8576b\"], [0.6666666666666666, \"#ed7953\"], [0.7777777777777778, \"#fb9f3a\"], [0.8888888888888888, \"#fdca26\"], [1.0, \"#f0f921\"]], \"type\": \"heatmapgl\"}], \"histogram\": [{\"marker\": {\"colorbar\": {\"outlinewidth\": 0, \"ticks\": \"\"}}, \"type\": \"histogram\"}], \"histogram2d\": [{\"colorbar\": {\"outlinewidth\": 0, \"ticks\": \"\"}, \"colorscale\": [[0.0, \"#0d0887\"], [0.1111111111111111, \"#46039f\"], [0.2222222222222222, \"#7201a8\"], [0.3333333333333333, \"#9c179e\"], [0.4444444444444444, \"#bd3786\"], [0.5555555555555556, \"#d8576b\"], [0.6666666666666666, \"#ed7953\"], [0.7777777777777778, \"#fb9f3a\"], [0.8888888888888888, \"#fdca26\"], [1.0, \"#f0f921\"]], \"type\": \"histogram2d\"}], \"histogram2dcontour\": [{\"colorbar\": {\"outlinewidth\": 0, \"ticks\": \"\"}, \"colorscale\": [[0.0, \"#0d0887\"], [0.1111111111111111, \"#46039f\"], [0.2222222222222222, \"#7201a8\"], [0.3333333333333333, \"#9c179e\"], [0.4444444444444444, \"#bd3786\"], [0.5555555555555556, \"#d8576b\"], [0.6666666666666666, \"#ed7953\"], [0.7777777777777778, \"#fb9f3a\"], [0.8888888888888888, \"#fdca26\"], [1.0, \"#f0f921\"]], \"type\": \"histogram2dcontour\"}], \"mesh3d\": [{\"colorbar\": {\"outlinewidth\": 0, \"ticks\": \"\"}, \"type\": \"mesh3d\"}], \"parcoords\": [{\"line\": {\"colorbar\": {\"outlinewidth\": 0, \"ticks\": \"\"}}, \"type\": \"parcoords\"}], \"pie\": [{\"automargin\": true, \"type\": \"pie\"}], \"scatter\": [{\"marker\": {\"colorbar\": {\"outlinewidth\": 0, \"ticks\": \"\"}}, \"type\": \"scatter\"}], \"scatter3d\": [{\"line\": {\"colorbar\": {\"outlinewidth\": 0, \"ticks\": \"\"}}, \"marker\": {\"colorbar\": {\"outlinewidth\": 0, \"ticks\": \"\"}}, \"type\": \"scatter3d\"}], \"scattercarpet\": [{\"marker\": {\"colorbar\": {\"outlinewidth\": 0, \"ticks\": \"\"}}, \"type\": \"scattercarpet\"}], \"scattergeo\": [{\"marker\": {\"colorbar\": {\"outlinewidth\": 0, \"ticks\": \"\"}}, \"type\": \"scattergeo\"}], \"scattergl\": [{\"marker\": {\"colorbar\": {\"outlinewidth\": 0, \"ticks\": \"\"}}, \"type\": \"scattergl\"}], \"scattermapbox\": [{\"marker\": {\"colorbar\": {\"outlinewidth\": 0, \"ticks\": \"\"}}, \"type\": \"scattermapbox\"}], \"scatterpolar\": [{\"marker\": {\"colorbar\": {\"outlinewidth\": 0, \"ticks\": \"\"}}, \"type\": \"scatterpolar\"}], \"scatterpolargl\": [{\"marker\": {\"colorbar\": {\"outlinewidth\": 0, \"ticks\": \"\"}}, \"type\": \"scatterpolargl\"}], \"scatterternary\": [{\"marker\": {\"colorbar\": {\"outlinewidth\": 0, \"ticks\": \"\"}}, \"type\": \"scatterternary\"}], \"surface\": [{\"colorbar\": {\"outlinewidth\": 0, \"ticks\": \"\"}, \"colorscale\": [[0.0, \"#0d0887\"], [0.1111111111111111, \"#46039f\"], [0.2222222222222222, \"#7201a8\"], [0.3333333333333333, \"#9c179e\"], [0.4444444444444444, \"#bd3786\"], [0.5555555555555556, \"#d8576b\"], [0.6666666666666666, \"#ed7953\"], [0.7777777777777778, \"#fb9f3a\"], [0.8888888888888888, \"#fdca26\"], [1.0, \"#f0f921\"]], \"type\": \"surface\"}], \"table\": [{\"cells\": {\"fill\": {\"color\": \"#EBF0F8\"}, \"line\": {\"color\": \"white\"}}, \"header\": {\"fill\": {\"color\": \"#C8D4E3\"}, \"line\": {\"color\": \"white\"}}, \"type\": \"table\"}]}, \"layout\": {\"annotationdefaults\": {\"arrowcolor\": \"#2a3f5f\", \"arrowhead\": 0, \"arrowwidth\": 1}, \"coloraxis\": {\"colorbar\": {\"outlinewidth\": 0, \"ticks\": \"\"}}, \"colorscale\": {\"diverging\": [[0, \"#8e0152\"], [0.1, \"#c51b7d\"], [0.2, \"#de77ae\"], [0.3, \"#f1b6da\"], [0.4, \"#fde0ef\"], [0.5, \"#f7f7f7\"], [0.6, \"#e6f5d0\"], [0.7, \"#b8e186\"], [0.8, \"#7fbc41\"], [0.9, \"#4d9221\"], [1, \"#276419\"]], \"sequential\": [[0.0, \"#0d0887\"], [0.1111111111111111, \"#46039f\"], [0.2222222222222222, \"#7201a8\"], [0.3333333333333333, \"#9c179e\"], [0.4444444444444444, \"#bd3786\"], [0.5555555555555556, \"#d8576b\"], [0.6666666666666666, \"#ed7953\"], [0.7777777777777778, \"#fb9f3a\"], [0.8888888888888888, \"#fdca26\"], [1.0, \"#f0f921\"]], \"sequentialminus\": [[0.0, \"#0d0887\"], [0.1111111111111111, \"#46039f\"], [0.2222222222222222, \"#7201a8\"], [0.3333333333333333, \"#9c179e\"], [0.4444444444444444, \"#bd3786\"], [0.5555555555555556, \"#d8576b\"], [0.6666666666666666, \"#ed7953\"], [0.7777777777777778, \"#fb9f3a\"], [0.8888888888888888, \"#fdca26\"], [1.0, \"#f0f921\"]]}, \"colorway\": [\"#636efa\", \"#EF553B\", \"#00cc96\", \"#ab63fa\", \"#FFA15A\", \"#19d3f3\", \"#FF6692\", \"#B6E880\", \"#FF97FF\", \"#FECB52\"], \"font\": {\"color\": \"#2a3f5f\"}, \"geo\": {\"bgcolor\": \"white\", \"lakecolor\": \"white\", \"landcolor\": \"#E5ECF6\", \"showlakes\": true, \"showland\": true, \"subunitcolor\": \"white\"}, \"hoverlabel\": {\"align\": \"left\"}, \"hovermode\": \"closest\", \"mapbox\": {\"style\": \"light\"}, \"paper_bgcolor\": \"white\", \"plot_bgcolor\": \"#E5ECF6\", \"polar\": {\"angularaxis\": {\"gridcolor\": \"white\", \"linecolor\": \"white\", \"ticks\": \"\"}, \"bgcolor\": \"#E5ECF6\", \"radialaxis\": {\"gridcolor\": \"white\", \"linecolor\": \"white\", \"ticks\": \"\"}}, \"scene\": {\"xaxis\": {\"backgroundcolor\": \"#E5ECF6\", \"gridcolor\": \"white\", \"gridwidth\": 2, \"linecolor\": \"white\", \"showbackground\": true, \"ticks\": \"\", \"zerolinecolor\": \"white\"}, \"yaxis\": {\"backgroundcolor\": \"#E5ECF6\", \"gridcolor\": \"white\", \"gridwidth\": 2, \"linecolor\": \"white\", \"showbackground\": true, \"ticks\": \"\", \"zerolinecolor\": \"white\"}, \"zaxis\": {\"backgroundcolor\": \"#E5ECF6\", \"gridcolor\": \"white\", \"gridwidth\": 2, \"linecolor\": \"white\", \"showbackground\": true, \"ticks\": \"\", \"zerolinecolor\": \"white\"}}, \"shapedefaults\": {\"line\": {\"color\": \"#2a3f5f\"}}, \"ternary\": {\"aaxis\": {\"gridcolor\": \"white\", \"linecolor\": \"white\", \"ticks\": \"\"}, \"baxis\": {\"gridcolor\": \"white\", \"linecolor\": \"white\", \"ticks\": \"\"}, \"bgcolor\": \"#E5ECF6\", \"caxis\": {\"gridcolor\": \"white\", \"linecolor\": \"white\", \"ticks\": \"\"}}, \"title\": {\"x\": 0.05}, \"xaxis\": {\"automargin\": true, \"gridcolor\": \"white\", \"linecolor\": \"white\", \"ticks\": \"\", \"title\": {\"standoff\": 15}, \"zerolinecolor\": \"white\", \"zerolinewidth\": 2}, \"yaxis\": {\"automargin\": true, \"gridcolor\": \"white\", \"linecolor\": \"white\", \"ticks\": \"\", \"title\": {\"standoff\": 15}, \"zerolinecolor\": \"white\", \"zerolinewidth\": 2}}}, \"title\": {\"text\": \"Perbandingan Frequency vs Recency\"}, \"xaxis\": {\"title\": {\"text\": \"Recency\"}}, \"yaxis\": {\"title\": {\"text\": \"Frequency\"}}},\n",
              "                        {\"responsive\": true}\n",
              "                    ).then(function(){\n",
              "                            \n",
              "var gd = document.getElementById('faa9c531-7c17-49ea-ad5b-226f6ffdee8c');\n",
              "var x = new MutationObserver(function (mutations, observer) {{\n",
              "        var display = window.getComputedStyle(gd).display;\n",
              "        if (!display || display === 'none') {{\n",
              "            console.log([gd, 'removed!']);\n",
              "            Plotly.purge(gd);\n",
              "            observer.disconnect();\n",
              "        }}\n",
              "}});\n",
              "\n",
              "// Listen for the removal of the full notebook cells\n",
              "var notebookContainer = gd.closest('#notebook-container');\n",
              "if (notebookContainer) {{\n",
              "    x.observe(notebookContainer, {childList: true});\n",
              "}}\n",
              "\n",
              "// Listen for the clearing of the current output cell\n",
              "var outputEl = gd.closest('.output');\n",
              "if (outputEl) {{\n",
              "    x.observe(outputEl, {childList: true});\n",
              "}}\n",
              "\n",
              "                        })\n",
              "                };\n",
              "                \n",
              "            </script>\n",
              "        </div>\n",
              "</body>\n",
              "</html>"
            ]
          },
          "metadata": {
            "tags": []
          }
        },
        {
          "output_type": "display_data",
          "data": {
            "text/html": [
              "<html>\n",
              "<head><meta charset=\"utf-8\" /></head>\n",
              "<body>\n",
              "    <div>\n",
              "            <script src=\"https://cdnjs.cloudflare.com/ajax/libs/mathjax/2.7.5/MathJax.js?config=TeX-AMS-MML_SVG\"></script><script type=\"text/javascript\">if (window.MathJax) {MathJax.Hub.Config({SVG: {font: \"STIX-Web\"}});}</script>\n",
              "                <script type=\"text/javascript\">window.PlotlyConfig = {MathJaxConfig: 'local'};</script>\n",
              "        <script src=\"https://cdn.plot.ly/plotly-latest.min.js\"></script>    \n",
              "            <div id=\"bfdffa6c-29dc-41cc-8eec-65380631172b\" class=\"plotly-graph-div\" style=\"height:525px; width:100%;\"></div>\n",
              "            <script type=\"text/javascript\">\n",
              "                \n",
              "                    window.PLOTLYENV=window.PLOTLYENV || {};\n",
              "                    \n",
              "                if (document.getElementById(\"bfdffa6c-29dc-41cc-8eec-65380631172b\")) {\n",
              "                    Plotly.newPlot(\n",
              "                        'bfdffa6c-29dc-41cc-8eec-65380631172b',\n",
              "                        [{\"marker\": {\"color\": \"blue\", \"line\": {\"width\": 1}, \"opacity\": 0.8, \"size\": 7}, \"mode\": \"markers\", \"name\": \"Bronze\", \"type\": \"scatter\", \"x\": [2, 3, 15, 3, 0, 0, 1, 10, 2, 17, 15, 5, 0, 9, 8, 5, 8, 2, 2, 9, 2, 1, 10, 17, 0, 11, 14, 3, 4, 7, 7, 15, 15, 9, 2, 10, 2, 3, 15, 3, 4, 2, 4, 7, 8, 9, 2, 16, 1, 9, 3, 4, 11, 1, 10, 16, 4, 14, 14, 0, 3, 11, 8, 1, 1, 0, 11, 4, 10, 16, 16, 14, 11, 10, 3, 4, 1, 11, 2, 17, 1, 5, 9, 1, 1, 11, 0, 5, 14, 16, 7, 1, 1, 17, 3, 1, 2, 1, 12, 10, 15, 1, 16, 9, 2, 1, 5, 3, 16, 3, 2, 11, 2, 2, 0, 1, 8, 2, 3, 10, 1, 1, 2, 7, 4, 3, 10, 7, 2, 16, 0, 1, 4, 9, 2, 7, 16, 3, 3, 10, 2, 1, 8, 10, 2, 1, 4, 11, 1, 8, 7, 9, 8, 15, 3, 11, 1, 7, 8, 8, 17, 16, 8, 10, 10, 2, 4, 10, 1, 3, 0, 9, 5, 7, 3, 17, 17, 2, 2, 5, 3, 10, 3, 3, 1, 8, 10, 7, 4, 10, 1, 15, 10, 9, 1, 8, 16, 3, 9, 8, 2, 1, 3, 10, 3, 7, 3, 10, 15, 8, 3, 4, 15, 9, 9, 7, 10, 7, 8, 17, 9, 3, 1, 1, 3, 1, 10, 9, 7, 4, 2, 12, 4, 8, 14, 1, 1, 2, 15, 12, 8, 9, 7, 12, 7, 4, 15, 11, 10, 4, 15, 4, 8, 16, 2, 10, 1, 0, 11, 17, 4, 4, 12, 5, 4, 2, 8, 8, 3, 5, 16, 3, 9, 3, 3, 8, 8, 1, 2, 3, 1, 9, 8, 16, 9, 5, 14, 1, 4, 4, 2, 1, 12, 17, 2, 7, 2, 7, 1, 2, 10, 0, 15, 4, 17, 15, 0, 17, 17, 16, 2, 2, 8, 8, 0, 9, 14, 17, 4, 3, 10, 2, 10, 14, 10, 8, 4, 4, 5, 12, 5, 8, 12, 12, 17, 0, 2, 2, 12, 2, 5, 15, 4, 15, 12, 2, 1, 8, 1, 17, 3, 0, 12, 8, 0, 4, 11, 16, 8, 0, 2, 2, 1, 16, 1, 1, 1, 7, 8, 0, 3, 2, 7, 5, 1, 11, 17, 1, 1, 10, 16, 7, 16, 3, 4, 16, 3, 3, 2, 3, 5, 1, 12, 4, 14, 5, 5, 3, 2, 4, 5, 15, 11, 4, 7, 5, 8, 7, 1, 10, 8, 17, 12, 14, 4, 4, 1, 2, 4, 3, 11, 9, 7, 2, 3], \"y\": [4310.000000000001, 5226.23, 2780.6600000000003, 3649.1000000000004, 1859.31, 13375.87, 4951.41, 9035.52, 19788.65, 7324.089999999999, 6816.42, 5417.93, 2056.89, 4485.719999999999, 3692.2799999999997, 2134.01, 3781.74, 4124.6900000000005, 7281.379999999999, 3023.08, 2291.1899999999996, 13689.67, 4478.530000000001, 4051.17, 3849.7799999999997, 3807.15, 13787.54, 12279.82, 8476.57, 2283.63, 4939.99, 6868.290000000001, 9706.52, 4708.860000000001, 5781.730000000001, 3980.7000000000003, 4196.009999999999, 4090.88, 7834.650000000001, 6989.63, 2330.9200000000005, 5591.42, 3991.5800000000004, 2170.7799999999997, 17654.539999999997, 16587.09, 2160.7, 2064.95, 4757.160000000001, 4017.54, 11189.91, 9785.970000000001, 5655.91, 4810.94, 3466.2799999999997, 7277.700000000001, 2616.38, 1819.4099999999999, 5836.860000000001, 4431.4400000000005, 12627.939999999999, 28337.379999999997, 8910.819999999998, 28882.44, 6424.089999999999, 12245.96, 2294.7799999999997, 2099.64, 3603.29, 5064.9400000000005, 2742.8200000000006, 1668.95, 1797.78, 3401.24, 9817.119999999999, 2755.6299999999997, 7436.93, 3834.26, 4521.49, 3174.75, 5343.280000000001, 10845.55, 3090.7400000000002, 2520.0200000000004, 28117.04, 6127.43, 3641.3199999999997, 3809.89, 3408.0600000000004, 3534.6900000000005, 9646.57, 5704.969999999999, 2501.84, 8968.31, 2479.16, 1791.56, 5870.08, 3444.39, 2088.94, 6717.34, 2478.95, 5149.92, 2624.26, 2639.1700000000005, 6309.83, 3719.12, 2308.0600000000004, 6307.650000000001, 3107.8700000000003, 2108.06, 5189.52, 3190.55, 17220.36, 2796.51, 25977.160000000003, 37153.85, 8109.52, 2770.94, 17159.52, 2674.48, 1883.8100000000004, 1838.85, 2427.3199999999997, 9024.17, 7060.13, 2274.1400000000003, 3901.81, 17286.86, 2975.59, 5578.72, 15610.390000000003, 8152.710000000001, 6140.42, 10464.850000000002, 4421.290000000001, 4076.91, 3104.17, 5683.1500000000015, 2780.15, 2720.63, 3586.0299999999997, 4690.3099999999995, 4191.0, 4748.52, 4654.08, 4684.76, 11349.52, 1789.72, 2004.9799999999998, 2588.7699999999995, 1904.05, 12669.98, 2618.2299999999996, 4188.0, 3701.4400000000005, 2314.6499999999996, 3883.25, 4871.929999999999, 3965.62, 2352.53, 4975.24, 2552.2100000000005, 9227.82, 3212.84, 4642.57, 3479.91, 4051.4799999999996, 2599.03, 5855.57, 1937.25, 4263.639999999999, 2248.5, 3017.28, 2383.2400000000002, 3543.26, 5859.43, 1960.6499999999999, 8507.130000000001, 4397.3, 2573.9300000000003, 3974.7500000000005, 2279.4900000000002, 5006.77, 2804.54, 1926.6499999999999, 2529.93, 9175.04, 5579.1, 2078.95, 2526.09, 3251.79, 4921.040000000001, 2839.62, 2662.2000000000003, 1897.5700000000002, 2702.49, 9585.91, 6065.6900000000005, 5010.280000000001, 2473.37, 10416.98, 7975.49, 2221.0100000000007, 14389.900000000001, 2953.59, 11138.71, 3501.1000000000004, 7044.68, 6295.37, 1871.77, 6720.41, 2557.18, 4274.16, 19766.59, 5090.42, 9743.11, 2420.84, 2199.3100000000004, 6580.4400000000005, 5291.33, 4745.6900000000005, 1936.0700000000004, 18641.010000000002, 16225.390000000003, 7616.530000000001, 1661.44, 5756.89, 10484.99, 2493.34, 7943.219999999999, 4799.9, 1934.6600000000003, 8347.2, 2415.9100000000003, 5955.709999999999, 3213.59, 3590.4100000000003, 13316.400000000001, 10384.929999999998, 4023.72, 1972.3899999999999, 3546.7100000000005, 4910.6, 4794.86, 4148.82, 2533.42, 1771.7800000000002, 6776.56, 10399.74, 2870.24, 3285.3100000000004, 12416.109999999999, 2993.1, 5159.0599999999995, 2463.05, 2364.25, 2708.61, 4206.389999999999, 33643.079999999994, 3711.77, 2969.12, 16143.64, 3146.92, 3810.1400000000003, 2495.8700000000003, 2780.63, 2777.67, 3352.96, 37130.600000000006, 8778.82, 2263.12, 2234.73, 1660.8799999999999, 14589.039999999999, 2424.94, 3799.4900000000002, 3092.04, 5533.67, 5180.52, 1863.4700000000003, 21086.300000000003, 2590.3100000000004, 3579.8599999999997, 2619.91, 5447.0, 3039.2200000000003, 3820.27, 2027.5, 3450.41, 2157.4000000000005, 3040.96, 4098.32, 2079.6800000000003, 34684.4, 1863.76, 3640.6699999999996, 3482.7400000000007, 1810.65, 9418.470000000001, 13027.45, 4034.9, 8338.490000000002, 3738.4, 4113.68, 3347.71, 5493.46, 4413.1, 2883.1000000000004, 3789.52, 4095.9, 8134.94, 3109.99, 5076.550000000001, 5398.299999999999, 14034.990000000002, 3611.31, 1770.22, 4730.8099999999995, 6680.110000000001, 2790.9500000000003, 1691.5100000000002, 10611.720000000001, 2267.95, 6416.700000000001, 3349.5699999999997, 16594.35, 7123.620000000001, 3653.7500000000005, 3037.6, 7069.08, 4554.870000000001, 2711.6800000000003, 1904.99, 1905.8700000000001, 5464.119999999999, 3989.5699999999997, 8694.26, 5655.030000000001, 4552.139999999999, 3827.7600000000007, 2463.17, 10650.77, 1951.97, 1906.09, 3124.72, 3719.1000000000004, 8540.05, 1854.06, 6281.23, 6493.54, 2622.88, 4462.68, 4767.360000000001, 20275.61, 31833.68, 31906.819999999996, 4226.57, 1979.3700000000001, 5037.26, 17256.85, 2373.8199999999997, 2519.21, 1721.4, 1875.86, 3558.8700000000003, 3628.5, 2367.12, 4331.48, 3564.83, 11025.24, 3923.86, 5054.42, 3961.12, 1814.12, 2895.64, 3945.0, 2999.46, 20374.28, 16345.38, 2474.3299999999995, 3155.8299999999995, 5739.460000000001, 2534.64, 1823.52, 10504.49, 3439.08, 2876.01, 5298.48, 13110.02, 2322.4, 1710.4499999999998, 5593.39, 3957.43, 7761.82, 1698.0700000000002, 1987.33, 5140.66, 2097.88, 1865.8899999999999, 4119.5, 2314.1299999999997, 4483.26, 4097.37, 2088.6, 6761.34, 2392.83, 2584.41, 2662.4, 8004.92, 5625.08, 1793.0600000000002, 8438.34, 2861.55, 7561.68, 1843.7500000000005, 5425.560000000001, 2621.38, 2069.77, 6484.54, 5504.960000000001, 7276.9, 2073.09, 2567.0600000000004, 3078.58, 2045.53]}, {\"marker\": {\"color\": \"green\", \"line\": {\"width\": 1}, \"opacity\": 0.5, \"size\": 9}, \"mode\": \"markers\", \"name\": \"Silver\", \"type\": \"scatter\", \"x\": [18, 36, 22, 33, 1, 57, 52, 7, 51, 44, 129, 21, 4, 184, 19, 35, 45, 22, 49, 32, 78, 15, 25, 9, 35, 42, 14, 21, 22, 73, 44, 66, 18, 10, 17, 32, 29, 22, 3, 28, 22, 17, 32, 9, 15, 23, 336, 95, 28, 79, 19, 0, 9, 59, 43, 22, 19, 29, 46, 50, 16, 22, 8, 35, 35, 21, 3, 37, 19, 29, 28, 60, 22, 57, 16, 14, 23, 4, 9, 58, 89, 67, 23, 25, 33, 4, 22, 11, 8, 150, 10, 5, 38, 24, 42, 0, 28, 113, 25, 7, 29, 28, 0, 3, 31, 3, 5, 28, 23, 51, 81, 22, 116, 7, 17, 19, 37, 2, 9, 10, 3, 2, 2, 37, 59, 33, 143, 65, 22, 31, 134, 78, 26, 26, 57, 3, 24, 11, 39, 23, 2, 4, 138, 8, 4, 35, 21, 24, 17, 15, 64, 30, 2, 8, 5, 8, 89, 7, 0, 3, 4, 22, 9, 53, 1, 11, 8, 31, 12, 1, 126, 275, 21, 32, 3, 44, 31, 21, 19, 89, 23, 85, 56, 22, 84, 29, 14, 33, 49, 8, 122, 46, 18, 36, 4, 26, 7, 39, 19, 9, 58, 30, 10, 19, 60, 3, 12, 17, 18, 11, 53, 23, 7, 4, 22, 7, 28, 22, 1, 37, 66, 78, 3, 36, 38, 82, 45, 67, 16, 17, 33, 60, 31, 30, 11, 29, 40, 64, 10, 18, 23, 26, 26, 24, 17, 10, 37, 45, 7, 17, 23, 72, 8, 21, 59, 58, 1, 33, 33, 12, 96, 25, 66, 73, 5, 81, 40, 17, 23, 25, 11, 108, 5, 45, 40, 12, 24, 30, 23, 5, 24, 33, 36, 52, 9, 16, 45, 43, 17, 2, 24, 31, 26, 7, 32, 15, 131, 49, 38, 36, 24, 5, 2, 50, 70, 64, 33, 7, 12, 9, 4, 138, 30, 5, 39, 22, 5, 32, 16, 25, 5, 58, 24, 51, 95, 1, 18, 31, 7, 123, 22, 53, 21, 2, 7, 28, 72, 79, 57, 17, 21, 11, 217, 7, 5, 18, 31, 39, 29, 19, 12, 42, 15, 45, 43, 9, 161, 46, 18, 28, 40, 26, 8, 31, 23, 29, 3, 4, 4, 12, 5, 51, 22, 3, 19, 1, 1, 3, 2, 19, 87, 59, 8, 40, 30, 10, 105, 53, 30, 3, 42, 110, 28, 26, 42, 22, 75, 43, 30, 219, 1, 64, 50, 21, 23, 8, 3, 17, 71, 88, 46, 44, 10, 16, 16, 45, 19, 31, 108, 26, 38, 32, 2, 33, 107, 71, 92, 42, 10, 23, 7, 8, 0, 0, 18, 18, 148, 66, 29, 17, 11, 103, 18, 26, 42, 26, 19, 47, 23, 11, 17, 31, 19, 25, 24, 60, 9, 58, 28, 24, 10, 19, 7, 95, 12, 5, 18, 15, 35, 21, 7, 19, 11, 15, 4, 1, 32, 23, 4, 52, 24, 4, 8, 17, 28, 60, 3, 16, 31, 25, 25, 30, 1, 32, 11, 2, 14, 24, 1, 10, 42, 4, 11, 16, 29, 15, 4, 51, 7, 16, 2, 47, 15, 39, 40, 36, 10, 29, 17, 89, 53, 43, 63, 21, 58, 78, 36, 12, 25, 8, 3, 12, 18, 9, 7, 23, 11, 21, 2, 16, 35, 30, 50, 108, 4, 81, 33, 29, 23, 59, 9, 35, 72, 115, 12, 11, 9, 8, 4, 58, 19, 25, 23, 4, 12, 25, 40, 8, 37, 78, 46, 9, 21, 18, 18, 17, 29, 9, 30, 17, 14, 25, 60, 50, 18, 14, 2, 52, 4, 1, 68, 8, 18, 1, 2, 10, 25, 1, 51, 36, 66, 217, 1, 29, 10, 44, 66, 134, 31, 36, 16, 100, 15, 4, 58, 43, 29, 25, 50, 50, 70, 39, 31, 25, 57, 40, 40, 169, 8, 4, 9, 16, 1, 33, 84, 26, 9, 64, 19, 33, 8, 12, 9, 26, 1, 19, 9, 2, 14, 40, 15, 30, 22, 95, 32, 21, 8, 52, 22, 11, 33, 64, 40, 2, 18, 22, 21, 25, 19, 77, 4, 11, 22, 2, 11, 37, 120, 24, 23, 26, 8, 36, 61, 28, 9, 32, 56, 43, 45, 105, 9, 45, 25, 168, 18, 88, 73, 18, 24, 9, 25, 0, 33, 2, 140, 35, 40, 9, 32, 24, 11, 35, 14, 18, 16, 19, 12, 39, 31, 88, 9, 32, 46, 26, 43, 107, 46, 23, 50, 306, 22, 16, 63, 49, 3, 73, 70, 44, 33, 15, 40, 8, 22, 14, 63, 1, 2, 1, 16, 9, 19, 3, 0, 16, 19, 21, 89, 8, 31, 8, 33, 15, 24, 17, 17, 39, 17, 88, 24, 22, 12, 44, 88, 36, 2, 29, 12, 47, 22, 35, 37, 3, 3, 46, 16, 46, 22, 40, 32, 65, 9, 16, 16, 56, 23, 11, 87, 42, 7, 17, 45, 57, 29, 17, 51, 42, 49, 17, 10, 8, 50, 15, 100, 22, 31, 44, 4, 30, 88, 29, 36, 44, 40, 24, 23, 52, 66, 45, 17, 2, 21, 5, 31, 21, 9, 25, 64, 28, 7, 24, 16, 11, 32, 21, 3, 7, 9, 32, 11, 17, 37, 2, 18, 82, 8, 60, 36, 26, 29, 5, 1, 63, 99, 28, 21, 19, 33, 23, 51, 63, 3, 8, 49, 21, 4, 52, 22, 17, 19, 2, 108, 42, 66, 26, 26, 4, 32, 31, 29, 32, 22, 31, 4, 58, 16, 22, 9, 23, 33, 72, 4, 47, 1, 37, 84, 19, 3, 18, 23, 26, 46, 38, 78, 29, 11, 86, 37, 17, 30, 114, 7, 19, 30, 57, 33, 3, 29, 1, 11, 23, 8, 2, 1, 31, 36, 42, 22, 22, 67, 12, 30, 15, 1, 1, 26, 7, 16, 116, 29, 4, 28, 9, 23, 49, 156, 21, 80, 3, 1, 52, 21, 3, 0, 38, 8, 3, 88, 3, 10, 46, 4, 50, 8, 28, 11, 78, 16, 26, 2, 32, 96, 28, 29, 73, 21, 28, 28, 17, 17, 33, 35, 123, 7, 28, 4, 50, 22, 15, 2, 18, 10, 33, 29, 5, 8, 15, 16, 1, 22, 32, 21, 31, 28, 32, 5, 44, 56, 7, 11, 28, 35, 23, 35, 26, 40, 60, 24, 7, 18, 12, 3, 4, 42, 130, 60, 26, 9, 31, 3, 11, 14, 10, 31, 24, 8, 15, 17, 151, 29, 15, 14, 8, 17, 23, 17, 40, 23, 11, 7, 19, 39, 22, 126, 4, 1, 333, 16, 12, 2, 29, 19, 36, 147, 15, 43, 22, 10, 16, 44, 3, 0, 9, 206, 57, 28, 15, 17, 29, 1, 4, 29, 43, 1, 19, 14, 8, 50, 4, 7, 109, 60, 2, 73, 12, 23, 40, 53, 22, 5, 14, 18, 31, 36, 60, 25, 36, 10, 73, 25, 3, 66, 42, 15, 50, 1, 4, 30, 38, 30, 35, 22, 37, 26, 96, 15, 19, 11, 0, 19, 17, 50, 8, 96, 24, 152, 26, 40, 22, 22, 37, 82, 11, 16, 12, 71, 22, 2, 42, 26, 372, 4, 59, 12, 30, 30, 80, 3, 3, 31, 21, 71, 3, 64, 11, 35, 29, 5, 8, 49, 21, 37, 37, 24, 35, 74, 12, 32, 35, 21, 35, 24, 21, 26, 114, 23, 45, 25, 2, 81, 11, 67, 29, 15, 7, 12, 15, 31, 9, 15, 95, 71, 22, 44, 9, 192, 71, 29, 2, 72, 39, 24, 172, 25, 42], \"y\": [1757.5500000000002, 2506.0400000000004, 2811.43, 6207.67, 1168.06, 6310.030000000001, 2662.06, 1313.1000000000001, 3541.94, 1887.96, 4008.62, 2724.8100000000004, 1845.3100000000004, 1850.5600000000002, 3018.63, 2409.9000000000005, 1635.6599999999999, 3415.3, 1708.1199999999997, 2888.55, 11072.67, 807.0400000000001, 7956.46, 3750.4, 6419.950000000001, 5059.319999999999, 2906.8500000000004, 5005.46, 4067.2900000000004, 2466.8599999999997, 3181.04, 2363.23, 1189.5900000000001, 1212.05, 742.19, 6572.110000000001, 3928.05, 13219.740000000002, 680.9900000000001, 3281.6299999999997, 5579.82, 2484.98, 4527.32, 1298.6600000000003, 1246.1, 4257.820000000001, 2169.3900000000003, 3723.87, 2481.6, 2634.26, 1789.77, 1316.6600000000003, 1933.4800000000002, 1662.28, 12601.830000000002, 5568.349999999999, 13400.24, 981.1800000000002, 1161.5, 599.56, 11990.96, 9401.279999999999, 1020.42, 1315.83, 626.5999999999999, 2794.5099999999998, 2338.1500000000005, 3338.2200000000003, 3811.2199999999993, 1032.5800000000004, 2599.04, 1579.51, 2099.54, 3344.38, 3641.24, 1339.41, 6620.48, 786.4599999999999, 1270.88, 2163.98, 1689.1800000000003, 6002.9, 1174.58, 1013.26, 1775.1800000000003, 1346.97, 3722.82, 1643.18, 4881.88, 2744.03, 2996.0500000000006, 610.52, 1970.6000000000001, 1331.39, 17628.46, 862.8100000000002, 2863.08, 4873.8099999999995, 1247.61, 2340.8399999999997, 2712.91, 4396.13, 848.5500000000001, 1053.4900000000002, 2656.13, 725.07, 1031.4099999999999, 2609.1, 18895.91, 21279.29, 4366.780000000001, 21429.39, 2791.59, 1898.5200000000004, 1386.0400000000002, 822.23, 3981.3599999999997, 2225.91, 532.8199999999999, 6977.04, 942.34, 1474.72, 1018.71, 6814.640000000001, 2610.3599999999997, 671.95, 2726.77, 1702.2600000000002, 843.6399999999999, 1010.2900000000001, 1957.1000000000004, 1316.2500000000002, 1568.23, 4009.3399999999997, 2218.020000000001, 1535.7700000000002, 703.47, 2919.81, 2178.67, 3075.0400000000004, 1662.3, 2483.6299999999997, 2944.95, 1335.19, 694.05, 2062.7, 42055.96, 607.53, 1063.8999999999999, 1504.2700000000002, 11581.800000000001, 4167.22, 1843.0, 1064.07, 1387.79, 1856.63, 769.8100000000001, 405.47, 1239.3799999999999, 6924.110000000001, 974.42, 1226.89, 1646.84, 3339.6400000000003, 975.36, 752.4399999999999, 676.99, 3237.54, 1105.5900000000001, 728.0200000000001, 3613.6299999999997, 7832.470000000001, 1927.3200000000002, 6003.22, 1098.48, 1531.6200000000003, 1488.67, 984.9100000000001, 1197.81, 3756.33, 1073.2999999999997, 1793.5800000000002, 2607.6099999999997, 962.39, 2388.75, 3683.26, 1676.0600000000002, 971.7600000000002, 1741.2199999999998, 1429.3500000000001, 1688.2899999999997, 1021.48, 791.3299999999999, 1299.5900000000001, 353.65000000000003, 5725.469999999999, 3957.7800000000007, 1575.89, 870.0900000000001, 869.4599999999999, 1217.6499999999999, 5891.61, 1095.4199999999996, 786.83, 2155.9499999999994, 6463.84, 1328.35, 700.7299999999999, 1961.52, 672.83, 2092.6600000000003, 2709.1200000000003, 2089.85, 2000.8599999999997, 1385.51, 1456.79, 1132.0300000000002, 1555.32, 775.94, 5732.93, 2273.6800000000003, 1532.1999999999998, 787.8499999999999, 7121.95, 3627.77, 3502.32, 10736.48, 2511.6900000000005, 979.12, 992.5, 2225.37, 3312.2500000000005, 3639.31, 4151.93, 797.9599999999999, 1360.99, 1833.7099999999998, 2626.3, 1006.7999999999998, 679.4499999999999, 1129.1400000000003, 2043.72, 2898.2599999999998, 1058.3400000000001, 1766.72, 1071.91, 1454.5800000000002, 1804.5600000000002, 2044.87, 1159.11, 1166.77, 4393.63, 979.72, 1389.4100000000003, 2128.42, 3624.3499999999995, 1071.73, 3964.88, 2242.36, 621.09, 678.16, 918.1999999999999, 3740.0699999999997, 4098.88, 594.52, 1799.33, 856.8400000000001, 338.61999999999995, 732.07, 1687.6000000000001, 1981.9199999999994, 2011.8800000000006, 664.11, 693.32, 675.5100000000001, 1082.33, 1585.46, 727.7399999999999, 7792.360000000001, 2031.7800000000002, 2118.9300000000003, 1547.3599999999997, 949.12, 804.3, 1648.1200000000003, 1836.3400000000001, 1095.08, 2707.33, 827.83, 3119.44, 1488.32, 2504.13, 2248.63, 711.86, 1445.0100000000002, 1041.68, 2375.41, 1980.56, 1079.6599999999999, 1016.1400000000001, 2883.5399999999995, 729.8, 1341.6, 1070.65, 1519.42, 2634.45, 1122.63, 360.01000000000005, 908.8599999999999, 2462.7899999999995, 348.79999999999995, 4599.42, 2588.39, 1747.6600000000003, 1366.8600000000001, 4027.36, 632.0, 1698.94, 2198.45, 834.57, 674.82, 3385.6200000000003, 865.0600000000002, 1537.95, 2651.4599999999996, 1245.9, 2209.36, 1005.0899999999999, 3192.54, 3083.65, 6403.25, 1786.79, 3219.7700000000004, 1191.13, 787.6000000000001, 2593.0699999999997, 2867.2, 2369.55, 2580.91, 839.14, 5112.96, 745.0600000000001, 3251.071, 3515.6799999999994, 1019.2700000000001, 2758.26, 2461.24, 1871.81, 2603.4300000000003, 4147.96, 852.88, 3466.3600000000006, 1393.69, 2043.0800000000002, 4582.639999999999, 2874.72, 4341.21, 1421.61, 2358.8399999999997, 1428.0200000000002, 3560.32, 646.4200000000001, 1308.6100000000001, 746.3599999999999, 6211.66, 1334.3399999999997, 1437.5700000000002, 942.26, 1002.9000000000001, 433.85999999999996, 1105.8799999999999, 2703.23, 2915.15, 1840.4199999999998, 1382.7399999999998, 1123.8600000000001, 965.8800000000002, 935.05, 915.1300000000001, 4630.35, 2445.9100000000003, 3222.3, 1600.2600000000002, 701.5699999999999, 2054.36, 2073.4300000000003, 1905.8400000000001, 2241.1000000000004, 1004.3800000000001, 1839.3000000000002, 3432.8, 1009.73, 2214.7899999999995, 3350.96, 2048.07, 754.1200000000001, 3144.86, 2380.8500000000004, 890.3400000000001, 1693.4499999999998, 2879.7, 3099.7200000000003, 1163.45, 1910.0100000000002, 4628.75, 911.26, 1046.56, 1305.3299999999997, 1858.9600000000003, 2995.72, 1611.59, 2481.13, 1530.7500000000002, 454.85999999999996, 1614.91, 2166.9799999999996, 912.1800000000001, 2118.03, 3717.35, 615.4899999999999, 1247.69, 1727.6000000000001, 2612.96, 1449.3200000000002, 2157.73, 2059.4500000000003, 1100.2700000000002, 770.0300000000001, 1051.79, 4481.67, 1224.0600000000002, 2357.6800000000003, 1712.8900000000003, 1010.35, 1163.2300000000002, 885.8000000000001, 2103.0599999999995, 1980.57, 2272.4, 596.2600000000001, 461.19000000000005, 1852.67, 2022.81, 1165.48, 1957.3200000000002, 808.44, 2429.83, 673.26, 1367.8799999999997, 1314.8100000000002, 2076.8900000000003, 1843.83, 4215.900000000001, 2862.11, 1949.7200000000003, 2854.84, 952.66, 1453.35, 3599.73, 2004.3000000000004, 757.3700000000001, 859.2700000000001, 2237.7699999999995, 3099.1200000000003, 859.7100000000002, 986.9599999999999, 1580.29, 1320.21, 557.9399999999999, 617.15, 363.3299999999999, 1740.6000000000001, 866.2400000000001, 16209.5, 1785.1499999999999, 1788.3600000000004, 886.7, 2791.27, 955.2600000000001, 2984.49, 2107.38, 1402.59, 1932.23, 848.22, 741.3699999999999, 1835.6999999999998, 1736.4, 596.36, 2548.2400000000002, 28754.11, 1201.5099999999998, 2114.33, 1217.27, 2195.0999999999995, 1493.96, 1126.37, 599.48, 867.3800000000001, 1581.8400000000001, 1122.3600000000001, 1314.45, 3902.2799999999997, 1400.3400000000001, 1099.98, 1415.75, 738.9599999999998, 1625.97, 2538.2999999999997, 679.4399999999998, 745.0600000000001, 1319.91, 4331.790000000001, 546.4000000000001, 2718.6, 2085.33, 778.5, 1127.7100000000003, 697.55, 1720.3, 1649.5000000000002, 3295.7599999999998, 2824.6899999999996, 3189.8100000000004, 7930.54, 2836.69, 2740.03, 1290.53, 1353.74, 841.2, 721.45, 501.28, 1476.0900000000001, 761.5899999999999, 1237.8500000000001, 1366.38, 1269.31, 1421.29, 2795.33, 1025.44, 867.85, 1227.43, 1316.0700000000002, 749.1, 2362.9600000000005, 1257.68, 1890.94, 8137.020000000001, 5900.25, 1101.97, 8099.489999999999, 1472.34, 1097.98, 1921.3700000000003, 1641.7599999999998, 1259.4299999999998, 852.39, 1636.4299999999998, 627.1300000000001, 653.19, 685.74, 7634.7300000000005, 1737.69, 1383.3600000000001, 693.9499999999999, 302.1, 2102.54, 1337.7199999999998, 294.25000000000006, 3158.13, 1744.76, 553.36, 1043.4099999999999, 1160.0699999999997, 4597.0199999999995, 2298.9300000000003, 1422.52, 1567.4799999999998, 3509.4299999999994, 2760.5599999999995, 1352.75, 1551.7800000000002, 11528.480000000001, 1471.0, 3447.4, 977.93, 1387.99, 1286.7000000000003, 2354.25, 1194.7300000000002, 961.4899999999999, 824.58, 1624.05, 2206.9500000000003, 4777.180000000001, 3861.0, 1079.6100000000001, 1827.8, 870.12, 1778.9599999999996, 1219.4, 3386.71, 2247.51, 1412.3200000000002, 1071.99, 780.59, 1706.57, 1756.44, 2515.84, 6688.459999999999, 740.78, 918.1999999999998, 1810.77, 2379.49, 716.57, 2332.1499999999996, 2306.5200000000004, 939.78, 4668.300000000001, 3672.8599999999997, 5049.949999999999, 2748.3100000000004, 1049.7, 2718.0300000000007, 2314.32, 1877.5900000000004, 2386.05, 1221.5599999999997, 3703.29, 1690.26, 1535.53, 2183.5400000000004, 1345.5300000000002, 815.77, 1046.74, 3450.8400000000006, 1348.9300000000003, 774.9, 3984.3199999999997, 1404.07, 1430.54, 1041.48, 1067.75, 1411.2100000000003, 974.5200000000001, 1371.77, 7354.619999999999, 524.88, 454.48, 1771.2, 1399.9199999999998, 10879.76, 2564.5, 1134.28, 3100.09, 1953.4099999999999, 1280.58, 1131.5600000000002, 3610.96, 972.0799999999999, 900.53, 14758.22, 1921.5500000000002, 3000.2000000000003, 734.3699999999999, 2428.5300000000007, 3962.6, 1497.3100000000002, 1564.73, 807.57, 1681.46, 575.6300000000002, 800.5899999999999, 1400.44, 758.29, 650.4300000000001, 921.37, 3675.77, 682.9100000000001, 720.8600000000001, 761.74, 1297.8700000000001, 1198.23, 2920.16, 1093.68, 1591.4500000000003, 776.8510000000002, 1553.1799999999998, 3709.5600000000004, 1186.35, 1887.2, 922.5300000000001, 748.5, 1600.86, 2222.2099999999996, 2657.13, 2726.2300000000005, 2446.6000000000004, 3435.7599999999998, 781.2800000000001, 1333.6799999999998, 1426.16, 6479.4, 2711.1099999999997, 1529.0, 2293.62, 916.9799999999998, 3235.25, 1072.36, 5030.07, 598.73, 471.4000000000001, 2211.2100000000005, 1188.12, 4812.42, 775.9599999999999, 1094.59, 946.6399999999999, 2626.6000000000004, 1086.9200000000003, 3279.97, 2614.7400000000002, 2328.9700000000003, 4919.0, 933.26, 1612.69, 696.89, 1063.95, 5488.18, 903.9000000000001, 3651.27, 2218.62, 1945.33, 2100.6, 1905.4500000000003, 885.4699999999999, 1836.09, 2225.15, 954.09, 1048.49, 1427.5700000000002, 965.1599999999999, 832.88, 1936.3200000000004, 316.25000000000006, 4405.88, 490.33, 396.47999999999996, 1383.8299999999997, 351.73, 5126.76, 1567.6899999999998, 882.72, 1228.88, 1502.8600000000001, 525.6899999999999, 1107.4600000000003, 6115.009999999999, 955.2400000000001, 1744.71, 708.22, 781.9100000000001, 1657.28, 4416.26, 808.87, 4199.85, 3442.15, 1054.73, 2398.8599999999997, 3408.48, 1465.12, 1432.77, 792.1100000000001, 1032.58, 3080.2200000000003, 12393.699999999999, 2735.37, 578.71, 1693.81, 972.1100000000001, 1415.29, 646.8299999999999, 704.55, 1465.51, 3786.24, 851.01, 719.81, 1177.47, 1074.81, 1511.9500000000003, 1453.1599999999999, 1153.62, 1521.0400000000004, 1352.0000000000002, 2799.42, 981.51, 1078.2299999999998, 2005.63, 1842.14, 1429.6399999999999, 3204.16, 1320.9500000000003, 854.66, 6287.77, 1880.2199999999998, 3506.540000000001, 2053.02, 1824.23, 822.48, 3787.6000000000004, 1822.9700000000003, 1885.0500000000004, 1418.32, 10254.18, 4006.9400000000005, 6911.4400000000005, 981.8599999999999, 1068.87, 757.63, 2262.6199999999994, 3084.68, 860.86, 1096.3200000000002, 867.3099999999998, 3718.8, 1413.66, 1800.0700000000002, 3683.8599999999997, 5203.510000000001, 728.5400000000001, 1404.64, 1502.78, 1570.81, 812.68, 2248.99, 1328.5500000000004, 5360.630000000001, 2938.91, 1582.8, 26626.8, 1971.87, 328.58000000000004, 847.45, 1415.65, 1116.47, 6675.710000000001, 1750.9200000000003, 891.21, 709.99, 705.7899999999998, 1540.42, 800.6699999999996, 479.90999999999997, 1545.4100000000003, 1301.9099999999999, 974.9599999999999, 1482.0600000000002, 2022.9800000000002, 1051.4, 1511.8000000000002, 798.35, 609.3, 1841.18, 2158.1800000000003, 811.23, 1422.4, 1298.66, 1595.96, 625.4200000000001, 752.77, 2494.46, 648.26, 1599.52, 2965.69, 918.33, 874.5899999999999, 1624.14, 1244.59, 6748.8, 1082.81, 1388.81, 2298.97, 837.0999999999999, 3313.79, 841.4100000000001, 1421.69, 813.5199999999999, 1187.6599999999999, 2647.5899999999997, 2188.05, 1154.4700000000003, 1680.72, 1257.51, 688.33, 6773.97, 1212.6600000000003, 8625.800000000001, 874.43, 1348.88, 1592.12, 1770.3400000000001, 1027.9999999999998, 2959.88, 1260.86, 531.3499999999999, 3029.8700000000003, 2467.99, 1651.03, 6910.78, 3843.0800000000004, 1358.7400000000002, 1048.28, 7205.33, 2247.4100000000003, 2213.13, 1291.9099999999999, 7180.7, 836.06, 1515.8999999999999, 1764.7199999999998, 1475.4299999999998, 789.79, 1207.24, 5575.5599999999995, 757.0999999999999, 2242.6099999999997, 1545.6200000000001, 1705.7799999999997, 1196.5, 1162.65, 914.69, 1652.18, 1604.75, 1106.53, 3170.9799999999996, 1869.82, 10196.570000000002, 817.1200000000001, 2812.34, 2095.53, 846.62, 1491.43, 450.4100000000001, 742.4300000000001, 518.19, 501.03, 1271.06, 887.11, 1706.88, 928.76, 1508.9599999999998, 2555.5800000000004, 621.6800000000001, 562.41, 1068.8200000000002, 2592.25, 829.8900000000001, 2814.7, 1295.3899999999999, 563.23, 3049.88, 4345.5, 1286.2700000000002, 2085.08, 507.05, 2154.9700000000003, 1852.0, 4459.52, 1616.8000000000002, 1614.3099999999997, 1312.14, 781.78, 889.9299999999998, 583.4300000000001, 1838.6100000000001, 1258.08, 877.56, 745.5200000000001, 1071.49, 1036.5800000000002, 1735.18, 3185.64, 1356.3300000000002, 3080.39, 5232.23, 1461.14, 2709.7, 2429.03, 1446.0900000000001, 834.1199999999999, 2003.85, 2747.99, 1562.4, 2050.08, 1991.0100000000002, 1974.6500000000003, 1774.0300000000002, 1324.1599999999999, 1022.1299999999999, 954.42, 971.74, 1621.73, 10797.48, 881.29, 801.12, 837.4999999999997, 4892.240000000001, 1139.73, 984.5699999999999, 1714.59, 1266.97, 1538.88, 3518.0299999999997, 1715.46, 2467.35, 3766.5999999999995, 1443.69, 783.9700000000003, 3347.31, 2474.23, 2093.68, 1699.3000000000002, 692.2199999999999, 3560.08, 2317.2200000000003, 2781.2300000000005, 1059.12, 3187.5499999999997, 334.48, 939.3199999999999, 916.1300000000001, 381.97, 271.19, 2148.6300000000006, 1685.46, 1647.48, 1049.0600000000002, 1417.63, 931.02, 513.01, 656.61, 1135.63, 8631.310000000001, 2328.84, 2527.92, 657.16, 906.52, 986.4799999999999, 1981.06, 12353.29, 519.69, 1156.6, 1281.3200000000004, 568.2400000000001, 1878.8700000000001, 418.40000000000003, 1337.18, 4058.32, 389.72, 2686.4200000000005, 746.81, 7330.8, 681.41, 2097.84, 2633.8499999999995, 1031.41, 2184.42, 1214.72, 778.9399999999999, 1258.0600000000002, 6893.42, 759.1700000000001, 2248.56, 2940.04, 316.49999999999994, 657.3, 735.82, 763.28, 1870.9700000000003, 1125.0700000000002, 1255.59, 2092.32, 689.0999999999999, 2997.03, 6083.639999999999, 2924.99, 764.8799999999999, 1844.02, 723.21, 1070.71, 1195.9, 887.67, 642.3199999999999, 1952.4499999999998, 480.31, 1122.3799999999999, 869.77, 1425.67, 448.8999999999999, 1242.3000000000002, 1116.68, 2404.17, 1468.02, 2203.67, 386.69000000000005, 2806.69, 1105.78, 2048.45, 4544.55, 930.2800000000001, 843.48, 2020.4, 1324.8400000000001, 2358.59, 1797.5, 4867.72, 1207.56, 2638.9400000000005, 1674.6900000000003, 1802.9100000000003, 728.1599999999999, 2055.51, 3406.72, 1572.7100000000003, 3178.17, 1594.9699999999998, 1371.18, 4726.8, 2285.7100000000005, 1824.37, 798.74, 5655.99, 5396.04, 1195.94, 2424.04, 1060.25, 1879.05, 2791.3500000000004, 1664.6499999999999, 3408.2000000000003, 819.96, 772.5500000000001, 2081.9, 1213.73, 647.56, 1817.54, 1964.3000000000002, 690.0, 780.4300000000002, 3039.17, 1187.21, 1285.04, 546.04, 5411.91, 699.81, 3704.87, 1820.0900000000001, 342.23999999999995, 1541.23, 2720.8, 5391.210000000001, 26879.04, 3160.0, 554.85, 10526.32, 1157.8700000000001, 1848.9600000000005, 664.34, 695.07, 869.28, 716.0, 1118.96, 329.35999999999996, 820.2299999999999, 2962.500000000001, 1740.4799999999998, 1331.57, 380.13, 4301.22, 4020.04, 1296.44, 2599.1899999999996, 1098.4299999999998, 703.99, 732.41, 1962.46, 415.13, 1477.66, 612.72, 418.6799999999999, 713.8900000000001, 529.29, 2119.41, 2009.24, 3859.82, 2611.75, 3613.1499999999996, 680.8399999999999, 9068.26, 3017.3, 849.06, 1403.1100000000001, 1131.75, 1059.3899999999999, 2888.7500000000005, 675.64, 1618.69, 1340.87, 1793.1700000000003, 2001.0399999999997, 686.6300000000001, 1975.35, 1041.6100000000001, 5228.050000000001, 2810.1999999999994, 2071.7699999999995, 1796.4800000000002, 882.24, 987.1000000000001, 2232.4900000000002, 2337.6300000000006, 2338.6000000000004, 2628.3499999999995, 1213.1599999999999, 1837.2800000000002]}, {\"marker\": {\"color\": \"red\", \"line\": {\"width\": 1}, \"opacity\": 0.9, \"size\": 11}, \"mode\": \"markers\", \"name\": \"Gold\", \"type\": \"scatter\", \"x\": [75, 232, 109, 4, 71, 25, 10, 315, 81, 28, 79, 21, 72, 63, 119, 49, 148, 308, 74, 66, 112, 63, 95, 162, 78, 21, 84, 79, 3, 57, 44, 16, 134, 56, 71, 94, 53, 187, 53, 11, 38, 81, 21, 18, 134, 26, 142, 112, 267, 77, 81, 14, 30, 130, 91, 29, 36, 75, 79, 38, 7, 86, 39, 78, 234, 17, 7, 28, 211, 92, 108, 51, 21, 78, 52, 74, 95, 29, 106, 211, 57, 33, 128, 129, 107, 3, 331, 148, 10, 18, 11, 58, 58, 28, 127, 70, 7, 28, 79, 96, 106, 151, 5, 85, 71, 113, 315, 78, 63, 134, 235, 280, 52, 138, 316, 238, 59, 63, 9, 53, 18, 36, 147, 95, 70, 74, 59, 5, 32, 70, 29, 96, 210, 185, 326, 236, 44, 9, 63, 67, 24, 30, 42, 18, 17, 88, 78, 54, 131, 35, 143, 9, 7, 9, 358, 211, 157, 29, 73, 292, 31, 23, 23, 106, 73, 7, 64, 113, 22, 30, 52, 54, 73, 138, 80, 30, 78, 24, 10, 129, 4, 4, 28, 70, 59, 138, 94, 196, 108, 19, 39, 10, 295, 5, 94, 63, 26, 21, 46, 11, 18, 95, 15, 93, 56, 78, 240, 74, 212, 24, 96, 203, 50, 17, 124, 92, 156, 9, 14, 61, 37, 63, 15, 40, 122, 18, 155, 38, 189, 1, 103, 4, 1, 17, 81, 31, 92, 14, 77, 200, 260, 10, 60, 71, 122, 80, 257, 63, 371, 89, 88, 99, 26, 131, 72, 127, 17, 1, 74, 24, 133, 43, 4, 108, 19, 10, 67, 1, 23, 38, 58, 60, 191, 178, 78, 57, 51, 136, 10, 288, 16, 72, 85, 40, 14, 33, 43, 85, 39, 28, 7, 84, 144, 19, 205, 50, 14, 155, 63, 14, 64, 52, 47, 64, 26, 29, 89, 40, 59, 99, 67, 15, 74, 215, 31, 114, 164, 10, 205, 85, 75, 18, 63, 267, 281, 116, 36, 28, 135, 28, 71, 95, 95, 53, 124, 287, 33, 54, 63, 81, 75, 127, 116, 66, 52, 28, 42, 92, 23, 29, 301, 144, 18, 57, 11, 92, 129, 57, 58, 119, 54, 119, 26, 297, 23, 50, 16, 183, 37, 11, 49, 49, 59, 53, 92, 74, 10, 95, 109, 263, 23, 176, 1, 79, 49, 14, 73, 26, 17, 65, 134, 115, 198, 110, 77, 52, 16, 7, 22, 78, 109, 305, 19, 106, 63, 129, 40, 101, 302, 2, 36, 73, 239, 30, 14, 7, 122, 60, 319, 129, 46, 46, 35, 75, 239, 19, 40, 215, 70, 39, 98, 10, 33, 86, 66, 67, 18, 60, 2, 16, 89, 4, 177, 92, 51, 183, 49, 110, 260, 109, 162, 73, 51, 98, 30, 8, 51, 64, 114, 124, 22, 21, 127, 120, 10, 157, 5, 79, 43, 22, 44, 52, 9, 65, 65, 130, 91, 22, 99, 57, 17, 50, 21, 319, 204, 53, 9, 60, 10, 155, 246, 46, 71, 19, 11, 50, 38, 67, 22, 61, 33, 1, 24, 37, 60, 236, 64, 15, 57, 85, 75, 110, 56, 1, 179, 3, 16, 169, 50, 44, 10, 9, 196, 91, 50, 36, 50, 170, 67, 67, 5, 19, 241, 280, 234, 44, 137, 14, 29, 43, 5, 24, 373, 47, 3, 197, 112, 43, 87, 44, 75, 144, 29, 17, 232, 58, 127, 54, 10, 61, 162, 8, 200, 73, 21, 180, 196, 10, 23, 24, 119, 59, 7, 185, 107, 77, 26, 131, 79, 85, 204, 25, 2, 70, 115, 212, 297, 56, 14, 19, 79, 25, 12, 64, 8, 96, 14, 49, 30, 68, 107, 57, 19, 15, 38, 46, 170, 47, 147, 51, 35, 53, 43, 33, 38, 33, 80, 30, 256, 72, 31, 65, 275, 71, 53, 179, 93, 105, 77, 172, 212, 22, 67, 103, 4, 182, 84, 8, 31, 196, 141, 23, 18, 133, 50, 114, 127, 46, 164, 10, 133, 31, 75, 45, 18, 66, 29, 70, 14, 119, 60, 59, 87, 85, 10, 60, 46, 225, 113, 74, 65, 66, 64, 151, 22, 23, 57, 37, 66, 22, 10, 67, 64, 60, 64, 75, 64, 3, 44, 85, 103, 32, 366, 156, 66, 80, 129, 87, 0, 45, 158, 254, 39, 95, 75, 21, 137, 40, 16, 92, 148, 31, 313, 85, 58, 15, 26, 22, 54, 30, 29, 283, 338, 85, 51, 50, 113, 77, 116, 28, 17, 171, 189, 1, 32, 24, 173, 7, 11, 54, 36, 60, 24, 28, 103, 31, 177, 68, 50, 46, 100, 35, 10, 4, 116, 103, 74, 17, 89, 134, 166, 18, 36, 91, 92, 190, 50, 40, 81, 49, 4, 17, 172, 63, 11, 145, 15, 65, 114, 40, 235, 51, 61, 65, 65, 115, 5, 241, 25, 10, 10, 14, 149, 113, 75, 46, 36, 78, 107, 207, 44, 56, 99, 37, 58, 254, 64, 58, 72, 38, 19, 136, 25, 40, 101, 32, 369, 92, 156, 226, 23, 8, 67, 112, 82, 16, 31, 19, 23, 2, 84, 165, 77, 123, 19, 3, 54, 23, 245, 47, 39, 260, 12, 29, 43, 91, 92, 87, 269, 7, 65, 30, 37, 119, 54, 145, 45, 365, 22, 44, 100, 59, 114, 50, 70, 84, 8, 59, 73, 39, 21, 59, 18, 65, 88, 157, 133, 4, 268, 15, 65, 95, 126, 94, 50, 72, 64, 16, 15, 58, 23, 54, 25, 44, 88, 19, 170, 267, 318, 57, 87, 43, 71, 78, 56, 33, 211, 50, 73, 71, 353, 116, 373, 100, 72, 22, 138, 37, 106, 17, 3, 119, 35, 172, 1, 128, 46, 17, 107, 44, 17, 63, 33, 18, 33, 66, 61, 74, 89, 60, 28, 53, 56, 154, 19, 70, 18, 19, 44, 44, 112, 24, 213, 67, 46, 33, 197, 88, 25, 10, 75, 15, 77, 33, 46, 79, 296, 4, 106, 25, 31, 61, 186, 3, 5, 110, 290, 95, 163, 5, 53, 15, 194, 3, 127, 84, 71, 80, 71, 50, 75, 61, 15, 4, 40, 36, 74, 70, 15, 3, 51, 80, 79, 73, 177, 42, 71, 141, 16, 19, 68, 15, 28, 54, 61, 68, 226, 45, 218, 369, 26, 91, 302, 52, 31, 52, 46, 44, 372, 65, 273, 47, 67, 60, 80, 100, 123, 8, 365, 163, 65, 23, 173, 103, 142, 4, 103, 95, 15, 38, 51, 38, 100, 4, 10, 23, 14, 144, 31, 77, 66, 37, 35, 194, 64, 29, 81, 72, 36, 61, 26, 53, 54, 25, 211, 138, 56, 134, 17, 4, 39, 38, 77, 255, 60, 29, 5, 7, 30, 23, 85, 40, 110, 11, 86, 87, 30, 25, 113, 85, 117, 28, 81, 313, 58, 114, 36, 36, 25, 109, 159, 47, 3, 50, 152, 106, 105, 194, 75, 17, 7, 57, 178, 106, 58, 29, 175, 31, 65, 310, 96, 264, 2, 35, 25, 11, 108, 53, 15, 120, 116, 18, 40, 148, 52, 138, 2, 127, 107, 35, 227, 21, 28, 17, 101, 21, 78, 46, 100, 14, 22, 85, 156, 46, 36, 129, 50, 24, 303, 11, 49, 72, 40, 199, 4, 19, 14, 77, 306, 114, 36, 43, 42, 50, 46, 128, 313, 18, 88, 1, 40, 17, 192, 126, 94, 60, 10, 191, 77, 65, 58, 7, 17, 2, 161, 261, 24, 31, 53, 11, 53, 24, 60, 129, 14, 94, 19, 24, 29, 100, 85, 213, 17, 217, 33, 57, 21, 32, 1, 19, 31, 119, 219, 138, 25, 18, 1, 74, 52, 127, 131, 168, 10, 44, 127, 71, 79, 38, 53, 9, 9, 178, 21, 32, 158, 15, 198, 56, 10, 21, 72, 85, 73, 25, 179, 4, 298, 1, 49, 47, 42, 85, 81, 11, 1, 107, 185, 43, 12, 322, 172, 29, 21, 71, 9, 58, 45, 88, 133, 45, 11, 134, 51, 7, 72, 39, 31, 372, 29, 165, 22, 11, 121, 37, 3, 23, 70, 28, 4, 4, 32, 19, 45, 9, 23, 173, 133, 40, 18, 36, 16, 330, 98, 93, 11, 37, 37, 19, 12, 25, 24, 60, 19, 29, 63, 116, 50, 32, 134, 3, 75, 9, 57, 37, 23, 176, 33, 58, 86, 7, 128, 24, 15, 77, 71, 82, 199, 36, 25, 31, 29, 92, 56, 81, 218, 46, 23, 122, 17, 87, 50, 43, 72, 2, 43, 7], \"y\": [1797.24, 1079.3999999999999, 552.0, 168.89999999999998, 1298.0400000000002, 742.93, 457.5, 1628.12, 852.24, 585.2700000000001, 549.84, 439.66, 1582.6000000000001, 1272.48, 1108.65, 427.7, 1710.3900000000003, 693.3299999999999, 1226.88, 758.1, 668.58, 600.3900000000001, 803.5599999999998, 1760.9599999999996, 777.1999999999999, 825.8, 806.14, 7829.890000000001, 172.06, 1002.3100000000001, 449.4500000000001, 430.57, 707.0899999999999, 3528.34, 947.4, 826.88, 1344.7800000000002, 729.54, 723.3799999999999, 527.2, 460.40000000000003, 1043.1, 403.7, 482.04999999999995, 1304.81, 397.88, 982.5699999999999, 612.2900000000001, 1017.6800000000001, 1312.06, 348.71000000000004, 125.22, 349.83000000000004, 1089.18, 716.35, 363.95, 372.70000000000005, 1000.39, 964.83, 437.82, 269.96000000000004, 351.65, 519.61, 440.41999999999996, 2040.0999999999997, 196.94000000000003, 144.0, 646.6800000000001, 9864.26, 437.6, 418.0999999999999, 618.27, 739.1999999999999, 1126.8500000000001, 1193.32, 704.04, 713.3, 352.97999999999996, 641.13, 2683.82, 640.5, 671.69, 3344.6399999999994, 477.90999999999997, 623.51, 314.44, 919.98, 2209.85, 601.9799999999999, 686.05, 245.10000000000002, 620.1300000000001, 1113.02, 1035.8, 855.91, 869.67, 582.1, 957.5899999999999, 797.71, 1149.0200000000002, 343.35999999999996, 1030.98, 644.95, 997.6300000000001, 836.3299999999999, 453.01000000000005, 779.57, 1013.0400000000001, 427.59999999999997, 540.13, 3010.7400000000002, 3811.9499999999994, 1531.4400000000003, 494.08000000000004, 1693.88, 1143.6, 892.4700000000001, 826.74, 463.65999999999997, 860.41, 430.48, 483.65000000000003, 1063.46, 572.2, 948.8800000000002, 1759.5, 397.11999999999995, 430.15, 383.03000000000003, 1118.99, 325.96, 131.80999999999997, 1106.4, 1607.0600000000002, 599.9700000000001, 854.99, 573.22, 1463.0399999999997, 1175.2199999999998, 1378.3999999999999, 376.71999999999997, 176.54999999999998, 372.8, 496.06, 162.77999999999997, 933.7000000000002, 415.8, 899.69, 675.6, 604.5099999999999, 1603.99, 329.85, 266.39, 160.18, 1660.9, 738.6, 7374.9, 372.2199999999999, 558.7, 505.82000000000005, 409.5000000000001, 503.76000000000005, 414.75999999999993, 534.8500000000001, 789.8899999999999, 204.0, 689.9000000000001, 6912.0, 661.3200000000002, 1247.5, 1010.1800000000002, 642.7700000000001, 921.88, 881.07, 908.46, 629.31, 1214.41, 470.79999999999995, 344.0, 919.6100000000001, 220.09999999999997, 303.75, 345.82000000000005, 477.83000000000004, 786.54, 501.14, 922.39, 3096.0, 422.47, 307.0899999999999, 618.52, 712.8000000000001, 1257.8700000000003, 486.22, 1201.06, 712.88, 108.81, 468.40999999999997, 481.49000000000007, 114.60000000000001, 260.67999999999995, 911.9400000000002, 250.26000000000002, 353.48, 1520.58, 819.29, 847.4100000000001, 605.1199999999999, 1031.0700000000002, 744.85, 663.6500000000001, 585.12, 430.5, 501.11999999999995, 465.67999999999995, 711.41, 1030.3999999999999, 399.51, 0.0, 283.18, 211.48999999999992, 590.93, 258.4, 542.73, 798.46, 1132.14, 361.11, 578.9399999999999, 873.74, 360.0, 618.09, 598.57, 640.7600000000001, 199.48, 675.3, 789.0, 1140.93, 350.9, 795.1200000000001, 860.12, 775.8499999999999, 247.32, 397.97999999999996, 743.5300000000001, 674.7, 768.2400000000001, 609.4000000000001, 439.55999999999995, 754.8700000000001, 378.63999999999993, 778.65, 1019.76, 572.56, 677.1, 1544.1299999999999, 621.2300000000002, 75.0, 252.49, 572.4509999999999, 1003.0600000000002, 1390.5, 712.5, 640.83, 1624.2100000000003, 582.6, 201.78, 1269.1, 196.88999999999996, 291.88000000000005, 1445.0000000000002, 674.6800000000001, 422.64000000000004, 1431.7800000000002, 1238.47, 1122.4099999999999, 575.4000000000001, 1215.8199999999997, 1269.84, 653.3299999999999, 1340.32, 291.99999999999994, 891.12, 627.1600000000001, 680.1800000000001, 628.78, 210.30999999999995, 1280.8500000000001, 631.34, 276.06, 584.06, 171.42, 777.53, 1724.67, 240.22, 1384.2499999999998, 290.25, 467.0400000000001, 781.03, 712.4, 379.65000000000003, 1117.1299999999997, 396.97, 160.04000000000005, 428.89, 164.34, 276.75, 1154.4, 544.1800000000001, 1638.47, 3070.42, 1071.03, 122.64, 1033.3400000000001, 312.28000000000003, 519.44, 932.97, 379.65000000000003, 382.14, 1563.0, 881.26, 349.7, 387.44000000000005, 910.0, 806.41, 1077.3899999999999, 799.9, 524.1400000000001, 333.48, 752.6, 491.86000000000007, 668.4300000000001, 1080.52, 948.2499999999999, 1647.26, 1175.3799999999999, 741.26, 659.41, 286.78999999999996, 1714.9599999999998, 345.0, 309.04, 1516.0, 688.8600000000001, 324.79999999999995, 924.5999999999999, 1499.0100000000002, 539.0, 1579.1200000000001, 571.6700000000001, 382.97999999999996, 1140.35, 385.64, 957.66, 409.8, 361.62, 1255.0, 1595.4800000000002, 1090.1399999999999, 501.56, 389.59999999999997, 1271.5699999999997, 595.67, 632.97, 821.1000000000001, 564.6200000000001, 311.15999999999997, 388.52, 740.9499999999999, 332.64000000000004, 626.45, 272.03999999999996, 1212.8400000000004, 384.81000000000006, 351.13000000000005, 678.25, 348.99000000000007, 464.57, 1237.53, 608.7899999999998, 922.0999999999999, 568.55, 674.4499999999998, 439.92, 594.04, 413.59, 196.79, 869.8699999999998, 920.51, 320.46000000000004, 1266.08, 529.7299999999999, 962.1899999999999, 695.6099999999999, 473.02, 505.18, 917.34, 642.8000000000001, 584.0699999999999, 648.8900000000001, 1560.3799999999994, 1659.75, 409.93, 225.36, 725.6400000000001, 374.7, 118.67, 499.4200000000001, 1049.37, 921.62, 191.47, 147.34999999999997, 5976.790000000001, 1266.23, 597.9100000000001, 692.85, 706.1300000000001, 709.7099999999999, 637.5000000000002, 480.9100000000001, 605.6399999999999, 415.81999999999994, 3742.2, 658.64, 621.29, 1345.62, 424.89000000000004, 507.65999999999997, 1097.62, 1631.7700000000004, 562.59, 363.79, 450.8400000000001, 134.46, 549.46, 452.89, 853.3900000000001, 701.4, 747.4400000000002, 150.60999999999996, 466.70000000000005, 1070.48, 89.94, 683.1700000000001, 991.1300000000001, 1547.2, 925.71, 1462.7200000000003, 1474.0600000000002, 969.06, 530.18, 1516.24, 437.96000000000004, 559.97, 1119.7400000000002, 595.25, 176.63, 2093.3199999999997, 508.58, 605.0600000000001, 462.65999999999997, 840.21, 668.5600000000002, 889.9300000000002, 1021.58, 133.5, 1078.9600000000003, 163.62, 701.23, 225.12, 151.50000000000003, 348.1, 202.68, 202.10999999999999, 1043.46, 487.99000000000007, 1475.8100000000002, 1496.98, 490.2200000000001, 387.52, 813.1100000000001, 322.08, 363.34000000000003, 1372.8, 2661.24, 1589.82, 1420.2, 375.35, 643.9000000000001, 259.05, 1837.92, 1038.44, 547.6600000000001, 925.8499999999999, 1309.6000000000001, 279.05, 321.92, 162.8, 1064.2800000000002, 268.05000000000007, 990.2, 330.45000000000005, 270.6, 974.54, 364.21999999999997, 578.6099999999999, 932.8500000000001, 388.24999999999994, 537.48, 312.54, 788.38, 1080.76, 1432.0, 1530.3600000000001, 227.38999999999996, 1639.8200000000002, 168.63, 138.6, 1033.0600000000002, 157.05, 221.97, 213.96000000000004, 553.44, 899.63, 671.9599999999999, 1006.98, 609.8500000000001, 443.6, 693.81, 830.76, 653.7499999999998, 247.14999999999998, 636.24, 1259.2400000000002, 392.86, 765.55, 355.05000000000007, 591.5500000000001, 318.16999999999996, 917.07, 307.50999999999993, 663.8100000000002, 655.5800000000002, 313.49000000000007, 380.02000000000004, 1164.55, 1448.2099999999998, 1220.2600000000002, 389.63999999999993, 563.1499999999999, 638.05, 420.50000000000006, 1484.06, 254.11, 192.60000000000002, 876.42, 1011.8999999999999, 730.8599999999999, 447.68, 77.4, 189.34, 845.55, 353.27, 1110.3400000000001, 657.8, 507.28999999999996, 321.42999999999995, 2139.76, 102.44999999999999, 511.3499999999999, 475.79999999999995, 645.65, 1173.12, 52.2, 710.28, 1465.3199999999997, 690.59, 589.7, 765.3199999999999, 1862.0, 655.7499999999999, 468.77000000000004, 332.66, 434.35, 1268.98, 1610.1499999999996, 977.77, 1784.71, 1621.88, 100.9, 371.2, 311.69000000000005, 285.67, 294.84999999999997, 695.4199999999998, 221.26999999999998, 596.09, 183.01999999999998, 463.8, 147.59000000000003, 1592.06, 1314.4499999999998, 790.86, 202.37, 326.4, 231.98000000000002, 546.2, 414.87, 490.52000000000004, 1220.77, 480.38000000000005, 308.94, 405.04, 257.66999999999996, 125.58000000000001, 496.21, 361.96, 469.0, 1066.15, 4959.1, 429.56, 537.0, 381.0, 1489.5, 987.86, 893.59, 1109.5300000000002, 982.07, 735.6700000000001, 773.03, 880.8499999999999, 895.61, 504.79999999999995, 480.71, 1370.6, 248.07999999999998, 39916.5, 410.48, 317.53, 703.3599999999999, 993.5400000000001, 1300.25, 996.1, 340.11, 358.8199999999999, 457.72, 1633.7799999999997, 982.4199999999998, 498.74000000000007, 1327.16, 301.29, 520.8, 329.25, 254.27999999999997, 401.4000000000001, 304.4699999999999, 689.48, 402.2, 310.62, 411.41, 1044.3200000000002, 499.31999999999994, 1268.6999999999998, 1236.54, 653.24, 420.3, 894.41, 734.9399999999999, 755.75, 612.0600000000001, 316.68, 631.5699999999999, 890.85, 393.7400000000001, 1506.12, 1717.36, 408.8, 721.94, 615.14, 128.63, 486.69, 641.94, 4507.01, 496.43999999999994, 694.4000000000002, 1174.35, 924.85, 570.5000000000001, 312.62, 267.13000000000005, 679.68, 161.74, 714.9599999999999, 1661.06, 350.82, 574.0699999999999, 2020.52, 406.09, 364.5, 563.9399999999999, 393.53999999999996, 463.9099999999999, 770.1200000000001, 427.92999999999995, 913.1900000000002, 602.5100000000001, 446.94000000000005, 2007.4, 316.88, 231.86, 716.2, 626.77, 510.71000000000004, 559.6099999999998, 508.80000000000007, 950.36, 93.78, 397.35, 149.29000000000002, 383.68, 429.84, 528.48, 434.59000000000003, 1044.65, 334.53000000000003, 467.51, 538.5500000000001, 371.5600000000001, 454.10999999999996, 905.5, 659.4599999999998, 1262.2, 475.86000000000007, 1000.2700000000001, 343.5, 397.98999999999995, 440.0, 502.90000000000003, 538.46, 213.30000000000004, 288.97, 436.05999999999995, 428.92999999999995, 279.77, 468.90999999999997, 1375.71, 591.1899999999999, 675.64, 327.59999999999997, 913.6800000000001, 388.58, 1406.5900000000001, 324.57, 336.40000000000003, 1293.03, 588.13, 1534.26, 675.8000000000001, 243.55, 724.76, 425.32, 803.54, 612.01, 646.3, 337.74, 877.4399999999999, 1024.1, 386.43, 684.34, 323.69, 657.23, 239.76, 309.6499999999999, 696.6799999999998, 1060.56, 330.03, 1101.1100000000001, 415.25, 1120.88, 1339.45, 144.35999999999999, 44534.3, 458.57, 528.01, 714.4200000000001, 583.75, 621.83, 635.6800000000001, 1047.1100000000001, 345.46000000000004, 246.3, 218.75000000000003, 965.6099999999999, 610.01, 2207.4, 884.14, 784.5799999999999, 515.77, 1391.98, 1801.14, 1303.9099999999999, 570.9599999999999, 1654.3100000000002, 636.1399999999998, 576.0, 794.64, 836.7900000000001, 391.98, 355.55999999999995, 1224.06, 389.2699999999999, 234.88, 712.24, 68.84, 895.13, 211.89, 351.44000000000005, 329.03, 379.35, 420.07, 511.67999999999995, 337.28000000000003, 164.67999999999998, 426.63000000000005, 404.58, 1708.24, 364.72, 428.89000000000004, 470.76000000000005, 397.67999999999995, 666.0999999999999, 371.01, 427.64000000000004, 1098.78, 1142.4199999999998, 156.78, 41.989999999999995, 414.27000000000004, 478.78000000000003, 392.4, 211.88, 408.90000000000003, 602.6300000000001, 251.03, 439.65999999999997, 236.09, 934.6199999999999, 547.9000000000001, 758.9199999999998, 855.0200000000001, 471.78, 1313.5500000000002, 3166.4, 773.99, 1340.7, 362.05999999999995, 783.9000000000001, 650.75, 367.14, 852.15, 326.24, 1317.62, 1121.3899999999999, 817.86, 731.8999999999997, 1290.6999999999998, 842.5, 423.36, 1309.14, 684.42, 656.25, 618.09, 709.3800000000002, 635.4100000000001, 725.1800000000001, 620.4, 734.1299999999999, 374.99999999999994, 280.52000000000004, 1829.0399999999997, 656.6899999999999, 1025.44, 1140.2100000000003, 1009.55, 1037.5900000000001, 331.95, 6617.65, 1158.79, 529.4100000000001, 215.47999999999996, 592.9, 384.18, 537.0600000000001, 394.38, 664.26, 547.0200000000001, 690.3399999999999, 1062.75, 914.9299999999998, 773.5500000000001, 1295.3, 1010.5999999999998, 990.8799999999999, 536.68, 432.19999999999993, 414.2, 409.1, 1522.75, 1035.45, 861.8899999999999, 667.6500000000001, 1141.2399999999996, 411.7, 351.75, 566.38, 2062.0600000000004, 598.1999999999999, 361.21999999999986, 2560.0, 706.57, 616.26, 274.15000000000003, 1341.65, 328.15, 1038.46, 326.74999999999994, 408.58999999999986, 594.24, 251.91, 534.31, 565.46, 494.44, 395.8, 658.88, 327.3, 355.72999999999996, 466.72999999999996, 1743.15, 643.7599999999999, 584.5, 554.8599999999999, 302.56999999999994, 1382.0699999999997, 1555.3400000000001, 1705.8, 408.02, 443.05000000000007, 154.35000000000002, 211.7, 200.26999999999995, 631.1200000000001, 958.71, 346.12, 623.2799999999999, 381.2, 654.6700000000001, 230.51000000000002, 707.69, 544.3, 331.0, 300.83, 769.29, 220.62, 363.65, 498.79999999999995, 731.5, 1351.63, 826.5299999999999, 400.86, 1431.9299999999998, 465.88000000000005, 777.6, 484.32000000000005, 1046.57, 244.41000000000003, 593.75, 548.12, 787.15, 922.12, 5719.82, 511.12, 1077.74, 614.6600000000001, 865.6, 124.2, 1009.6, 663.61, 451.43999999999994, 936.0799999999998, 459.24, 330.03000000000003, 181.09, 360.15999999999997, 250.14999999999998, 90.04000000000002, 242.69999999999996, 528.0799999999999, 482.47, 618.5900000000001, 500.42, 178.96, 813.4800000000001, 810.5699999999999, 322.80000000000007, 408.63, 833.78, 290.65999999999997, 518.4200000000001, 601.2699999999999, 1267.6499999999999, 118.97999999999999, 567.18, 306.71999999999997, 1692.27, 304.24, 324.24, 477.85999999999996, 1998.0, 656.6300000000001, 1129.06, 606.0500000000001, 152.95, 576.4, 758.27, 743.11, 603.7499999999999, 646.76, 464.9, 623.9300000000001, 2002.4, 369.34000000000003, 1145.5999999999997, 478.0899999999999, 661.52, 371.54, 222.62, 422.24, 594.3899999999999, 80.8, 414.87999999999994, 1594.23, 332.3, 536.99, 460.5899999999999, 762.1600000000001, 1121.59, 547.0699999999999, 417.06000000000006, 497.61, 460.64, 775.1800000000001, 341.70000000000005, 325.90999999999997, 1264.19, 342.45000000000005, 144.91, 328.40000000000003, 35.400000000000006, 747.8100000000001, 502.8, 680.02, 705.12, 429.84000000000003, 192.33, 1578.67, 202.26999999999998, 363.2, 559.5900000000003, 379.14, 183.75999999999996, 154.18, 378.89, 150.23, 931.0300000000002, 261.90000000000003, 816.7299999999999, 435.02000000000004, 1178.56, 1277.7500000000002, 308.74, 439.43, 650.4100000000001, 357.21, 344.3299999999999, 1028.46, 384.06, 1873.2, 126.12, 1133.25, 1456.9600000000003, 484.82, 1493.7300000000002, 920.1, 716.0, 380.35, 1030.14, 1267.32, 112.40000000000002, 948.48, 339.43999999999994, 1100.8999999999999, 925.35, 399.0899999999999, 1179.8899999999999, 533.3299999999999, 855.4499999999999, 304.23999999999995, 841.0799999999999, 378.20000000000005, 288.91, 1405.78, 665.7799999999999, 231.60999999999999, 606.91, 230.5, 989.45, 413.2, 749.78, 1689.5, 329.34, 251.69999999999993, 319.0, 835.7800000000002, 711.79, 383.75000000000006, 444.74, 1013.01, 1564.56, 114.23, 328.65, 416.89, 318.76000000000005, 3638.41, 417.77, 190.88, 550.0600000000002, 314.69, 1135.04, 954.9, 280.09000000000003, 318.65000000000003, 348.90999999999997, 178.26, 291.47999999999996, 581.2299999999999, 1253.3600000000001, 550.0100000000001, 296.58, 317.2, 763.64, 107.82, 1065.3500000000001, 151.37, 547.0, 128.18, 498.42, 163.24, 1384.85, 2600.34, 1200.6200000000001, 523.11, 363.9, 494.25, 682.29, 157.61999999999998, 587.15, 1740.0, 1393.06, 384.39, 360.80999999999995, 127.85999999999999, 488.20000000000005, 446.17999999999995, 646.9200000000001, 400.09999999999997, 193.39, 336.4, 256.11, 1259.5600000000002, 417.27, 653.38, 263.92, 778.0, 463.46, 598.83, 698.41, 524.9200000000001, 403.3, 365.76, 303.15999999999997, 216.3, 541.53, 486.71999999999997, 517.53, 1737.7, 622.43, 675.6899999999999, 137.0, 697.5400000000001, 511.82, 414.04, 376.63999999999993, 497.56000000000006, 1138.0, 558.9599999999999, 1145.84, 605.58, 308.48, 639.02, 546.81, 652.74, 939.37, 578.9, 930.41, 1487.6, 541.4599999999999, 854.9500000000002, 165.11999999999998, 454.01, 380.59999999999997, 1240.2, 993.1800000000001, 2044.37, 161.67000000000002, 309.35999999999996, 191.99, 386.32, 1379.8999999999999, 527.0500000000001, 528.3300000000002, 285.55999999999995, 547.0600000000001, 712.29, 1008.39, 868.49, 595.42, 604.64, 347.75, 551.0400000000001, 1992.1100000000001, 740.9399999999998, 765.3400000000001, 885.1899999999999, 385.1, 522.91, 3276.4, 1033.0, 1240.11, 692.1899999999999, 700.63, 377.44, 168.24, 674.52, 287.59000000000003, 712.78, 367.63, 271.20000000000005, 1143.2699999999998, 245.81000000000003, 173.45, 650.32, 283.4699999999999, 266.8500000000001, 1117.9, 300.34, 342.82999999999987, 387.68, 889.24, 398.69999999999993, 155.37000000000003, 110.21, 318.15000000000003, 2033.1, 901.2, 114.34, 1418.0300000000002, 428.18, 683.4600000000002, 379.45, 156.34, 586.8900000000001, 541.8100000000002, 110.38, 181.07, 798.99, 366.23, 408.65, 335.03000000000003, 1304.0400000000002, 397.29, 212.54000000000002, 843.0, 408.36, 704.25, 77.50000000000001, 482.2, 1008.5400000000003, 463.21, 321.78999999999996, 288.14, 811.45, 631.3499999999999, 201.11999999999998, 674.89, 380.39000000000004, 226.47, 444.68, 2116.19, 162.22, 120.03000000000002, 230.64999999999998, 403.12000000000006, 357.2, 178.33999999999997, 170.16, 306.46, 720.5200000000001, 814.0, 396.33000000000004, 1231.5, 343.45, 90.47999999999999, 689.9499999999999, 4055.7199999999993, 2106.52, 222.4, 754.6400000000001, 113.48000000000002, 198.8, 352.69000000000005, 315.65, 574.4399999999999, 200.92000000000002, 347.08, 681.9100000000001, 784.3299999999998, 1000.1600000000001, 612.0799999999999, 566.5800000000002, 653.3499999999999, 399.18999999999994, 371.62000000000006, 453.4, 638.0600000000002, 399.65, 1384.86, 1160.04, 980.3100000000001, 1231.31, 2106.8400000000006, 104.0, 1590.81, 366.84999999999997, 49.8, 1090.2400000000002, 957.9699999999999, 973.8399999999999, 1396.9900000000002, 517.3599999999999, 600.07, 481.74999999999994, 621.7500000000001, 443.0, 779.9, 592.97, 1561.6100000000001, 422.58000000000004, 596.0999999999999, 804.02, 95.34, 4314.72, 518.27, 324.24, 801.5100000000001, 204.0, 335.8599999999999, 178.05]}, {\"marker\": {\"color\": \"black\", \"line\": {\"width\": 1}, \"opacity\": 0.9, \"size\": 13}, \"mode\": \"markers\", \"name\": \"Platinum\", \"type\": \"scatter\", \"x\": [310, 204, 214, 287, 291, 311, 337, 303, 323, 217, 194, 43, 99, 366, 22, 243, 156, 336, 63, 165, 232, 284, 66, 353, 63, 142, 39, 197, 166, 357, 310, 302, 261, 288, 227, 315, 246, 39, 238, 39, 317, 189, 58, 79, 277, 21, 232, 276, 238, 115, 154, 334, 29, 324, 329, 371, 205, 19, 71, 291, 71, 371, 179, 234, 352, 332, 372, 128, 86, 210, 364, 65, 192, 373, 256, 334, 365, 186, 177, 260, 44, 101, 281, 261, 214, 336, 262, 145, 282, 173, 267, 294, 372, 52, 138, 283, 84, 282, 143, 275, 88, 214, 185, 204, 264, 176, 148, 128, 161, 64, 311, 25, 288, 306, 112, 197, 156, 242, 18, 85, 196, 318, 105, 173, 56, 323, 372, 357, 273, 291, 99, 64, 212, 24, 249, 253, 72, 191, 373, 82, 192, 266, 179, 157, 70, 99, 234, 39, 133, 372, 238, 269, 77, 94, 261, 273, 332, 26, 22, 313, 283, 64, 45, 267, 337, 61, 135, 267, 122, 127, 200, 273, 201, 81, 225, 261, 112, 92, 61, 268, 263, 366, 31, 113, 78, 59, 330, 359, 137, 268, 169, 155, 351, 120, 72, 316, 157, 177, 287, 70, 64, 66, 268, 71, 50, 256, 365, 280, 329, 74, 203, 185, 192, 107, 63, 149, 74, 255, 91, 259, 165, 29, 252, 184, 99, 236, 200, 232, 65, 241, 233, 105, 275, 311, 282, 71, 64, 316, 243, 260, 126, 73, 78, 30, 78, 205, 182, 319, 215, 173, 243, 309, 306, 35, 312, 318, 173, 116, 252, 120, 256, 35, 179, 60, 149, 50, 301, 151, 151, 187, 285, 182, 59, 38, 155, 318, 302, 271, 31, 218, 246, 269, 246, 217, 219, 200, 18, 240, 162, 373, 288, 151, 218, 103, 250, 367, 66, 309, 255, 63, 367, 305, 183, 176, 22, 19, 159, 211, 252, 64, 168, 57, 326, 247, 74, 358, 63, 86, 189, 71, 204, 92, 325, 351, 23, 169, 57, 294, 179, 169, 35, 79, 65, 360, 154, 21, 21, 308, 145, 70, 287, 206, 60, 213, 30, 211, 277, 155, 225, 121, 60, 63, 284, 176, 33, 266, 284, 124, 65, 266, 266, 320, 32, 124, 32, 364, 56, 324, 137, 154, 72, 273, 143, 84, 373, 133, 78, 233, 220, 266, 173, 275, 297, 331, 201, 106, 218, 239, 94, 42, 247, 80, 373, 326, 183, 234, 278, 318, 141, 154, 331, 225, 196, 213, 40, 18, 117, 222, 242, 106, 206, 242, 163, 67, 161, 242, 218, 38, 260, 274, 164, 215, 365, 319, 295, 358, 185, 191, 296, 218, 149, 119, 310, 362, 218, 302, 98, 365, 306, 180, 190, 310, 110, 98, 74, 257, 253, 164, 281, 207, 175, 25, 50, 311, 309, 88, 183, 187, 100, 64, 108, 259, 57, 185, 150, 311, 18, 151, 280, 372, 40, 276, 371, 305, 274, 72, 242, 245, 205, 184, 57, 262, 266, 21, 58, 156, 201, 77, 169, 86, 26, 24, 71, 187, 106, 208, 264, 218, 214, 198, 24, 147, 274, 249, 297, 58, 263, 46, 112, 280, 319, 26, 28, 63, 21, 166, 52, 51, 75, 369, 197, 64, 366, 53, 267, 148, 311, 19, 52, 29, 261, 210, 19, 252, 207, 336, 253, 148, 157, 74, 91, 245, 32, 365, 72, 253, 147, 270, 247, 128, 37, 57, 246, 198, 211, 159, 172, 266, 71, 89, 170, 199, 151, 269, 273, 319, 213, 372, 256, 281, 308, 215, 42, 333, 311, 245, 134, 245, 22, 65, 169, 239, 239, 225, 240, 357, 373, 320, 25, 331, 322, 71, 260, 367, 154, 92, 357, 225, 241, 318, 87, 176, 366, 318, 358, 234, 310, 239, 276, 298, 238, 122, 127, 148, 283, 168, 135, 323, 106, 338, 46, 354, 172, 49, 201, 290, 95, 274, 110, 199, 326, 283, 333, 52, 208, 53, 332, 366, 72, 373, 29, 361, 372, 128, 213, 169, 186, 270, 172, 325, 112, 289, 189, 264, 171, 24, 323, 38, 254, 23, 213, 262, 131, 248, 264, 330, 312, 362, 262, 25, 354, 94, 29, 161, 92, 362, 81, 330, 155, 44, 233, 84, 33, 254, 163, 114, 288, 217, 277, 351, 50, 18, 151, 162, 176, 255, 70, 53, 78, 52, 336, 184, 51, 36, 141, 52, 191, 157, 204, 336, 243, 22, 43, 317, 106, 39, 217, 296, 52, 117, 119, 252, 28, 266, 264, 201, 283, 143, 234, 364, 201, 212, 212, 282, 66, 49, 77, 134, 304, 24, 218, 64, 68, 245, 133, 183, 358, 142, 51, 319, 372, 172, 50, 303, 46, 186, 51, 18, 277, 312, 198, 60, 80, 253, 149, 194, 368, 173, 178, 247, 190, 154, 172, 373, 372, 194, 239, 64, 311, 133, 276, 365, 74, 303, 366, 30, 211, 309, 196, 373, 173, 220, 260, 288, 297, 283, 81, 299, 154, 106, 264, 240, 61, 248, 65, 218, 143, 183, 170, 211, 189, 51, 317, 367, 262, 249, 246, 296, 281, 252, 232, 59, 138, 60, 73, 67, 40, 236, 75, 360, 78, 80, 235, 203, 225, 189, 170, 61, 261, 266, 176, 196, 176, 339, 169, 121, 268, 126, 213, 330, 217, 72, 196, 36, 157, 284, 75, 158, 290, 332, 197, 53, 267, 247, 322, 269, 94, 264, 312, 302, 53, 56, 21, 191, 302, 263, 106, 57, 64, 28, 135, 198, 149, 87, 44, 218, 177, 73, 74, 274, 164, 192, 173, 161, 360, 19, 296, 372, 30, 277, 25, 171, 81, 190, 53, 164, 242, 35, 24, 364, 182, 113, 373, 248, 232, 68, 285, 219, 186, 182, 235, 263, 245, 274, 222, 105, 245, 169, 368, 189, 362, 366, 43, 75, 72, 256, 135, 241, 78, 266, 262, 364, 53, 297, 176, 372, 58, 214, 318, 96, 198, 294, 260, 57, 74, 372, 19, 282, 57, 89, 99, 192, 360, 227, 93, 156, 184, 227, 128, 39, 197, 50, 43, 52, 186, 333, 368, 59, 140, 84, 66, 187, 366, 299, 290, 276, 371, 115, 235, 109, 30, 184, 239, 87, 116, 187, 226, 189, 267, 218, 288, 149, 18, 30, 31, 45, 60, 185, 63, 245, 137, 157, 194, 130, 266, 78, 22, 322, 261, 165, 288, 317, 233, 119, 161, 185, 334, 275, 247, 239, 51, 24, 21, 284, 38, 289, 78, 217, 201, 57, 46, 226, 273, 53, 53, 53, 253, 234, 308, 182, 312, 204, 362, 107, 208, 241, 57, 308, 361, 95, 138, 280, 123, 302, 94, 355, 86, 179, 311, 239, 238, 218, 70, 65, 163, 219, 163, 184, 79, 71, 32, 253, 156, 219, 176, 203, 365, 158, 79, 261, 248, 358, 75, 289, 220, 75, 280, 72, 128, 308, 361, 359, 190, 53, 280, 177, 25, 269, 233, 23, 197, 359, 205, 332, 71, 242, 218, 252, 236, 239, 78, 130, 173, 312, 59, 81, 169, 276, 86, 373, 65, 21, 277, 141, 227, 263, 23, 43, 358, 137, 141, 236, 260, 252, 185, 187, 169, 320, 200, 232, 372, 113, 240, 112, 359, 263, 254, 159, 53, 281, 29, 73, 36, 51, 33, 303, 106, 218, 185, 372, 304, 368, 323, 142, 204, 170, 173, 364, 304, 129, 212, 162, 56, 225, 44, 23, 85, 159, 190, 247, 373, 310, 282, 372, 138, 159, 130, 233, 37, 147, 198, 249, 66, 116, 171, 142, 371, 373, 166, 211, 241, 51, 365, 145, 56, 185, 236, 225, 281, 362, 235, 256, 373, 155, 81, 108, 51, 152, 98, 334, 65, 154, 53, 203, 359, 70, 288, 75, 289, 257, 185, 373, 217, 274, 61, 312, 127, 329, 254, 368, 290, 367, 214, 149, 243, 212, 295, 157, 140, 45, 301, 177, 60, 358, 227, 249, 192, 261, 165, 106, 157, 28, 326, 236, 89, 211, 226, 263, 217, 325, 310, 89, 140, 134, 366, 38, 30, 58, 73, 277, 180], \"y\": [334.40000000000003, 89.0, 459.4, 189.89999999999998, 641.3799999999999, 364.6, 401.9, 84.3, 225.6, 562.41, 582.73, 256.4, 509.01000000000005, 173.55, 133.4, 476.49, 197.88, 334.92999999999995, 263.21, 433.74, 73.50000000000001, 176.5, 132.18, 383.70000000000005, 330.84000000000003, 599.68, 192.72000000000003, 207.8, 95.19999999999999, 168.0, 561.7099999999999, 238.85, 456.90000000000003, 145.92000000000002, 160.54, 218.45000000000002, 415.70000000000005, 197.70999999999998, 511.3599999999999, 214.89999999999998, 452.84999999999997, 577.0600000000001, 153.12, 254.17999999999998, 315.59999999999997, 177.31, 180.09999999999997, 305.1, 486.1, 185.9, 318.04999999999995, 114.0, 91.68, 63.0, 225.9, 89.14, 389.01, 219.0, 283.55, 603.42, 238.25, 427.8, 236.26000000000005, 383.95000000000005, 110.39999999999999, 234.00000000000003, 155.35, 275.88, 112.08000000000001, 1351.4499999999998, 311.95, 91.85000000000001, 324.9200000000001, 192.60000000000002, 400.53999999999996, 545.48, 254.03, 427.58, 489.31, 514.8499999999999, 229.64, 125.92, 166.04, 1542.08, 92.72, 293.0, 215.05, 417.38, 312.38, 134.1, 354.09, 311.55, 38.1, 521.2, 147.12, 559.12, 380.64000000000004, 374.0, 343.2300000000001, 298.0, 309.05000000000007, 354.12, 331.0, 216.5, 138.67999999999998, 750.0, 363.65, 594.0, 405.38, 172.81999999999996, 117.85, 114.13999999999999, 462.95000000000005, 108.07, 135.95, 144.8, 39.24, 390.53999999999996, 97.5, 211.32, 455.88, 120.94999999999999, 149.05, 513.6999999999999, 81.57, 229.47000000000003, 50.550000000000004, 190.54999999999998, 516.4200000000001, 560.47, 305.28, 656.6800000000002, 348.15000000000003, 271.4, 183.4, 307.53000000000003, 248.61, 346.98, 205.85999999999999, 115.46000000000001, 228.8, 177.14999999999998, 58.08, 416.08000000000004, 74.4, 207.35999999999999, 101.19, 243.94, 76.5, 350.05999999999995, 30.599999999999998, 283.72999999999996, 259.16999999999996, 64.0, 77.3, 109.80000000000001, 110.94999999999999, 228.91, 91.8, 112.75, 417.20000000000005, 282.45, 121.18, 71.4, 236.01999999999998, 112.08, 60.7, 333.74, 533.98, 62.64, 163.20000000000002, 108.21, 257.7, 358.0, 160.95, 329.56, 270.40000000000003, 121.74, 557.62, 944.1, 200.29, 590.0, 276.56000000000006, 138.98, 137.75, 93.66, 201.19, 201.2, 87.4, 142.5, 371.89, 63.75, 300.41999999999996, 15.0, 567.36, 1308.48, 487.02000000000004, 353.43, 389.5, 341.36, 233.76, 373.94, 439.03000000000003, 134.96, 56.160000000000004, 623.4, 308.28, 222.99, 534.5699999999999, 544.08, 59.8, 307.71999999999997, 457.34000000000003, 213.55, 221.06, 159.85, 534.24, 283.71, 296.64000000000004, 590.0, 356.97999999999996, 183.44, 151.5, 307.90000000000003, 165.0, 226.83999999999995, 300.95, 184.64, 140.34, 313.8, 454.24, 449.52, 618.63, 316.26000000000005, 348.04999999999995, 216.85000000000002, 295.93000000000006, 458.52, 110.97000000000003, 251.20999999999998, 205.09999999999997, 152.20000000000002, 122.75, 125.80000000000001, 307.76, 483.80000000000007, 269.09000000000003, 91.80000000000001, 141.86, 187.04999999999998, 239.49000000000004, 118.0, 142.4, 247.95999999999998, 219.51999999999998, 417.6900000000001, 177.34, 213.85, 257.22999999999996, 252.1, 346.6, 94.2, 189.46999999999997, 84.65, 299.04999999999995, 218.55, 186.39, 486.82000000000005, 232.6, 59.5, 65.13000000000001, 72.0, 172.25, 151.3, 308.58, 99.5, 330.79, 285.3299999999999, 180.48, 252.06000000000003, 228.83999999999997, 138.28, 306.55, 199.85000000000002, 610.59, 339.6, 216.9, 350.75, 300.03999999999996, 79.6, 296.25, 282.6, 306.72, 178.7, 127.84, 230.4, 195.54999999999995, 558.32, 277.07000000000005, 256.38, 112.6, 155.05, 814.5, 189.5, 209.49000000000004, 52.199999999999996, 383.8499999999999, 266.59000000000003, 85.0, 312.98, 388.5, 216.17000000000002, 201.16, 305.78, 145.67, 540.45, 122.69999999999999, 117.24000000000001, 506.8, 243.56, 349.54999999999995, 416.9, 155.93, 172.24999999999997, 223.85000000000002, 842.65, 337.34, 307.4, 376.5799999999999, 158.85, 71.66, 561.57, 90.6, 101.99999999999999, 322.96, 230.22, 169.55, 664.5400000000001, 80.7, 190.25000000000003, 264.7, 357.98, 200.14000000000001, 311.3, 76.8, 635.6600000000001, 328.8, 631.9000000000001, 440.0, 327.70000000000005, 104.82000000000002, 467.66, 626.65, 147.2, 152.2, 141.41, 154.99, 260.25, 92.46, 183.6, 152.55, 265.85, 151.04, 375.0999999999999, 45.599999999999994, 182.24999999999997, 158.75, 76.32000000000001, 191.95000000000002, 216.20999999999998, 144.2, 386.53, 90.0, 419.58000000000004, 311.81, 115.8, 483.4, 157.2, 446.62000000000006, 118.75, 289.36, 120.44, 576.9, 197.65, 1011.9999999999998, 335.52, 185.39999999999998, 328.15999999999997, 151.73999999999998, 169.48000000000002, 632.3999999999999, 490.86, 161.00000000000003, 146.85, 213.70000000000005, 280.55, 136.76999999999998, 302.58, 120.0, 333.97, 492.65, 112.32, 134.04, 426.6, 166.2, 43.2, 640.1400000000001, 383.45000000000005, 310.26, 120.0, 477.78999999999996, 183.85000000000002, 311.65000000000003, 415.2, 588.2199999999999, 309.52, 134.7, 108.97999999999999, 409.57, 282.92999999999995, 51.0, 90.6, 174.4, 155.0, 100.5, 76.55, 235.56, 617.05, 142.4, 67.94999999999999, 574.6999999999999, 156.75, 1063.0, 121.05000000000001, 265.2, 470.36, 89.06, 63.0, 131.9, 483.24999999999994, 119.93, 113.64, 434.34000000000003, 529.62, 234.34, 193.0, 316.24999999999994, 636.51, 137.1, 463.38, 340.93, 139.56, 123.79999999999998, 538.8100000000001, 475.37, 356.85, 251.21, 275.28, 455.59000000000003, 174.37, 241.09, 170.95, 355.56000000000006, 103.25000000000001, 652.8, 289.24, 186.23000000000002, 164.22, 218.06, 35.400000000000006, 114.11, 237.36, 39.75, 393.33, 660.0, 601.5600000000001, 406.08000000000004, 394.43999999999994, 412.78000000000003, 320.58, 225.84999999999997, 114.56, 344.9000000000001, 110.46, 96.12, 597.0899999999999, 236.04, 114.18, 291.05, 285.73999999999995, 107.95, 195.25, 498.95, 52.0, 628.3799999999999, 112.80000000000001, 172.9, 188.60999999999996, 109.13000000000001, 179.0, 160.19, 180.42, 268.58, 328.19999999999993, 89.2, 255.89999999999998, 300.52, 278.3, 139.26, 386.15, 200.10000000000002, 289.99, 197.64000000000001, 6.2, 228.99, 131.45, 173.74, 157.70000000000002, 193.39, 152.87999999999997, 271.85, 272.07, 48.800000000000004, 188.88, 62.85, 309.4, 325.75, 170.32, 125.79000000000002, 266.76, 327.24999999999994, 519.6800000000001, 255.4, 364.79999999999995, 369.2, 135.9, 125.65, 554.38, 616.15, 277.79999999999995, 307.48, 310.05, 223.88, 363.53, 290.82000000000005, 58.49, 483.73, 126.70000000000002, 206.21, 114.77, 89.94, 279.94, 102.12, 292.01, 334.53999999999996, 156.91000000000003, 170.04, 252.81, 518.28, 252.73000000000002, 179.92999999999998, 135.93, 735.6600000000001, 343.61999999999995, 121.17000000000002, 207.73000000000002, 370.79999999999995, 106.2, 88.19999999999999, 306.94, 381.32, 457.80999999999995, 219.39, 876.0, 319.5, 484.9500000000001, 244.8, 266.4, 184.19000000000003, 406.53000000000003, 330.11000000000007, 139.04999999999998, 178.96, 259.45, 623.5, 158.16000000000003, 487.75, 158.79999999999998, 106.56, 1289.5, 135.75, 224.14000000000004, 40.5, 87.5, 622.8499999999998, 193.64, 316.58, 331.18, 101.79999999999998, 328.35, 96.6, 305.75, 403.25, 585.0, 322.0799999999999, 409.4000000000001, 154.41, 429.6, 197.00000000000006, 321.04999999999995, 514.15, 356.0, 300.36000000000007, 98.45, 317.15, 623.1600000000001, 254.81999999999996, 178.95000000000002, 156.50999999999996, 119.30000000000001, 255.89999999999998, 290.51, 113.12, 240.55, 178.39, 574.02, 205.3, 310.46999999999997, 52.0, 327.96999999999997, 165.0, 204.5, 311.7099999999999, 208.75, 1028.56, 170.22, 252.42000000000002, 201.59999999999997, 158.04, 115.65, 277.05000000000007, 418.9200000000001, 326.0, 168.0, 596.85, 642.41, 394.14, 140.54, 500.0, 107.45000000000002, 288.17999999999995, 94.0, 349.1, 267.18, 190.53, 135.85999999999999, 97.7, 43.5, 383.34000000000003, 171.19, 533.3, 200.16, 156.57999999999998, 594.0, 113.5, 155.17, 494.64, 179.10000000000002, 237.07, 161.64, 214.26, 234.6, 126.14, 225.26000000000002, 91.32000000000001, 141.04, 52.83, 250.0, 121.0, 62.43, 267.03000000000003, 412.01, 148.44, 229.32999999999998, 110.92000000000002, 85.13, 127.86, 90.12, 217.2, 134.55, 173.16000000000003, 186.01000000000002, 258.88000000000005, 127.1, 455.29999999999995, 478.53, 199.8, 240.68, 48.480000000000004, 216.39, 104.76, 298.48, 112.46, 195.15, 301.03, 223.36, 664.0, 447.64, 639.5, 816.0, 560.6700000000001, 30.0, 306.45000000000005, 309.8, 138.14, 301.32000000000005, 76.32000000000001, 173.05, 352.70000000000005, 193.75, 254.1, 136.8, 191.03999999999996, 409.98, 211.5, 143.10000000000002, 133.25, 356.7, 150.3, 190.70000000000002, 218.25, 85.0, 294.11999999999995, 162.3, 449.12, 154.88000000000002, 34.8, 196.88000000000002, 79.2, 205.25, 253.04000000000002, 315.05999999999995, 270.79999999999995, 104.9, 241.61999999999998, 475.28, 351.3, 451.42, 415.82000000000005, 206.98, 15.0, 532.94, 137.37, 118.95000000000002, 130.73999999999998, 160.70999999999998, 110.80000000000001, 296.99999999999994, 149.64000000000001, 501.39000000000004, 516.36, 181.09000000000003, 168.31, 258.25, 179.17000000000002, 208.59000000000003, 56.25, 191.93999999999997, 264.61999999999995, 123.10000000000001, 334.23, 167.5, 323.03, 369.50000000000006, 127.08000000000001, 207.14999999999998, 416.86, 145.35, 35.8, 337.43999999999994, 325.1, 181.0, 104.35, 314.1, 307.82, 168.11999999999998, 101.4, 331.24, 437.69999999999993, 256.44000000000005, 137.89999999999998, 134.8, 335.32000000000005, 584.32, 122.39999999999999, 79.2, 217.16000000000003, 436.18, 315.06, 17.0, 320.62, 185.05, 298.21000000000004, 336.96, 108.38, 611.8800000000001, 195.74, 161.38, 135.75000000000003, 612.7800000000001, 232.21, 307.78000000000003, 249.0, 289.35, 517.5500000000001, 535.3399999999999, 175.2, 76.32000000000001, 348.2000000000001, 37.4, 856.6000000000001, 73.2, 197.9, 215.83, 305.5400000000001, 338.7100000000001, 215.08, 314.45000000000005, 400.681, 365.27, 159.0, 242.35000000000002, 304.25000000000006, 255.12, 314.22, 542.03, 114.56, 152.94, 389.44, 752.4300000000002, 46.95, 559.87, 810.6000000000001, 168.3, 142.5, 302.25, 301.90000000000003, 233.22, 632.27, 226.37, 404.40000000000003, 373.65, 207.50000000000003, 151.05, 214.8, 94.05000000000001, 322.41, 101.10000000000001, 53.5, 153.9, 211.77, 109.36000000000001, 676.2, 362.9500000000001, 94.36, 217.89, 303.93, 293.45, 177.5, 167.25, 135.99, 262.2, 126.25, 133.56, 302.69999999999993, 241.06, 284.55, 300.85, 287.4, 184.26, 255.91, 182.99, 311.92, 266.97, 6.9, 208.35999999999999, 142.92, 136.0, 74.9, 223.95, 316.11, 139.35, 404.30000000000007, 100.97000000000001, 365.45000000000005, 90.30000000000001, 363.70000000000005, 248.10000000000002, 101.7, 162.70000000000005, 215.08, 290.35999999999996, 228.06000000000003, 455.25, 119.62, 339.3, 379.73, 285.89, 281.84999999999997, 173.7, 105.84, 313.61999999999995, 233.45000000000002, 463.95, 225.14999999999995, 213.5, 145.05, 75.66, 129.49, 506.19, 151.85000000000002, 226.21, 129.45, 333.08, 217.9, 231.10000000000002, 487.51, 214.06, 123.24, 39.12, 135.39999999999998, 129.75, 183.7, 422.59999999999997, 225.57999999999996, 1276.0, 657.9000000000001, 112.75000000000001, 301.71999999999997, 901.2, 292.46999999999997, 256.31999999999994, 417.59999999999997, 3.75, 323.00000000000006, 207.5, 223.92, 239.40000000000003, 106.83, 316.62, 611.8500000000001, 34.0, 361.5399999999999, 171.59, 245.94, 311.25, 107.6, 110.38000000000001, 243.84, 305.61999999999995, 288.42, 309.53999999999996, 479.3500000000001, 358.37999999999994, 128.5, 197.22, 199.15, 413.46000000000004, 180.85000000000002, 251.87, 588.85, 214.32000000000002, 193.44, 281.42, 124.57, 332.41, 375.69000000000005, 173.76, 207.73999999999998, 13.3, 432.0, 272.47999999999996, 145.93, 289.78, 113.44, 391.52000000000004, 230.25000000000003, 543.0500000000001, 406.48, 167.60999999999999, 20.8, 518.67, 416.64, 117.35000000000001, 234.17000000000002, 110.55000000000001, 201.18999999999994, 319.02, 251.51999999999998, 179.0, 702.0, 295.0, 195.36, 270.9, 71.0, 95.85, 357.77, 154.82999999999998, 146.87000000000003, 433.53, 449.72999999999996, 642.0199999999999, 240.89, 498.47999999999996, 234.24, 118.80000000000001, 287.62, 301.99999999999994, 25.5, 163.3, 116.19999999999999, 157.02, 307.46000000000004, 138.32, 345.29999999999995, 294.24, 157.08999999999997, 380.5, 454.12, 578.9999999999999, 124.88, 213.77999999999997, 293.1, 158.68, 206.33999999999997, 224.91, 317.76, 59.9, 306.13, 239.91999999999996, 144.0, 203.95, 262.62, 289.78000000000003, 384.08, 204.24, 226.85, 113.49999999999999, 393.48999999999995, 149.89, 382.50000000000006, 171.45, 269.83000000000004, 240.0, 63.440000000000005, 246.04000000000002, 187.82999999999998, 550.8000000000001, 250.03999999999996, 82.75, 644.3, 96.8, 175.2, 307.02000000000004, 243.36, 193.64, 228.96, 98.25, 178.21999999999997, 312.22999999999996, 167.54999999999998, 495.7699999999999, 203.2, 65.4, 508.8, 203.86999999999995, 32.65, 771.8499999999999, 507.8399999999999, 100.8, 265.76000000000005, 388.45000000000005, 186.42, 534.24, 120.90000000000002, 131.7, 249.86, 289.96000000000004, 194.36999999999995, 396.87, 374.57, 271.05, 272.22, 622.88, 288.59999999999997, 302.20000000000005, 387.31, 513.2, 208.65, 153.94, 145.0, 422.7, 296.7, 223.36, 164.39999999999998, 76.5, 98.42, 170.75, 103.3, 148.86, 267.1600000000001, 290.34, 157.9, 344.13999999999993, 226.75, 185.64999999999998, 143.45999999999998, 215.71999999999997, 175.27, 116.00999999999999, 394.71999999999997, 329.6000000000001, 571.2, 214.36999999999998, 81.44, 75.75000000000001, 503.59999999999997, 108.5, 621.6600000000001, 101.55, 133.06, 166.07999999999998, 117.55000000000001, 178.75000000000003, 205.7, 298.11, 184.39999999999998, 239.41, 290.4, 200.46999999999997, 283.12, 338.95000000000005, 154.95, 417.95000000000005, 152.39999999999998, 263.33, 137.45, 153.0, 326.4, 139.35, 303.96999999999997, 355.11, 110.25000000000001, 71.4, 80.64, 15.0, 56.4, 188.01999999999998, 131.94, 225.9, 106.1, 512.31, 36.559999999999995, 298.4, 35.400000000000006, 205.48000000000002, 51.56, 605.8000000000001, 311.26, 208.97, 141.92000000000002, 226.45, 330.9, 329.65, 155.90000000000003, 237.61, 178.51999999999998, 458.91999999999996, 133.35000000000002, 111.35, 201.37, 203.85999999999996, 244.10000000000002, 107.21000000000002, 95.44999999999999, 256.32, 152.06, 154.55, 112.19999999999999, 72.9, 232.02999999999994, 310.06, 207.50000000000003, 244.08, 145.79000000000002, 99.14000000000001, 304.56, 149.58, 176.67999999999998, 358.56000000000006, 557.3, 12.75, 111.67999999999999, 508.4599999999999, 73.78, 102.41, 112.26999999999998, 265.09999999999997, 228.20000000000002, 562.7900000000001, 135.19, 337.03999999999996, 300.91999999999996, 152.68, 20.8, 198.57, 630.84, 93.35, 76.1, 157.91999999999996, 247.39000000000001, 174.79999999999998, 102.79, 187.29, 523.0, 122.14, 38.45, 389.78, 115.30999999999999, 73.5, 93.82000000000001, 70.02, 165.04999999999998, 172.29000000000002, 74.4, 300.0200000000001, 363.65, 318.0, 101.69999999999999, 453.0, 247.44, 489.6, 336.13, 101.33999999999999, 166.02999999999997, 580.05, 168.31, 421.9, 271.0, 76.32000000000001, 220.1, 180.69999999999996, 111.14999999999999, 653.3000000000001, 112.55, 931.4999999999999, 152.65, 1019.52, 160.35, 179.33999999999997, 530.1500000000001, 302.46000000000004, 202.65, 476.35, 632.0700000000002, 304.25, 284.46, 207.79999999999998, 243.76, 150.35, 160.42000000000002, 139.10000000000002, 216.07, 232.48000000000002, 299.34, 641.9200000000001, 305.28000000000003, 158.95000000000002, 93.75, 440.0, 349.27000000000004, 103.3, 149.48, 25.5, 168.6, 283.15000000000003, 175.92000000000002, 110.38, 173.89999999999998, 180.6, 80.82]}],\n",
              "                        {\"template\": {\"data\": {\"bar\": [{\"error_x\": {\"color\": \"#2a3f5f\"}, \"error_y\": {\"color\": \"#2a3f5f\"}, \"marker\": {\"line\": {\"color\": \"#E5ECF6\", \"width\": 0.5}}, \"type\": \"bar\"}], \"barpolar\": [{\"marker\": {\"line\": {\"color\": \"#E5ECF6\", \"width\": 0.5}}, \"type\": \"barpolar\"}], \"carpet\": [{\"aaxis\": {\"endlinecolor\": \"#2a3f5f\", \"gridcolor\": \"white\", \"linecolor\": \"white\", \"minorgridcolor\": \"white\", \"startlinecolor\": \"#2a3f5f\"}, \"baxis\": {\"endlinecolor\": \"#2a3f5f\", \"gridcolor\": \"white\", \"linecolor\": \"white\", \"minorgridcolor\": \"white\", \"startlinecolor\": \"#2a3f5f\"}, \"type\": \"carpet\"}], \"choropleth\": [{\"colorbar\": {\"outlinewidth\": 0, \"ticks\": \"\"}, \"type\": \"choropleth\"}], \"contour\": [{\"colorbar\": {\"outlinewidth\": 0, \"ticks\": \"\"}, \"colorscale\": [[0.0, \"#0d0887\"], [0.1111111111111111, \"#46039f\"], [0.2222222222222222, \"#7201a8\"], [0.3333333333333333, \"#9c179e\"], [0.4444444444444444, \"#bd3786\"], [0.5555555555555556, \"#d8576b\"], [0.6666666666666666, \"#ed7953\"], [0.7777777777777778, \"#fb9f3a\"], [0.8888888888888888, \"#fdca26\"], [1.0, \"#f0f921\"]], \"type\": \"contour\"}], \"contourcarpet\": [{\"colorbar\": {\"outlinewidth\": 0, \"ticks\": \"\"}, \"type\": \"contourcarpet\"}], \"heatmap\": [{\"colorbar\": {\"outlinewidth\": 0, \"ticks\": \"\"}, \"colorscale\": [[0.0, \"#0d0887\"], [0.1111111111111111, \"#46039f\"], [0.2222222222222222, \"#7201a8\"], [0.3333333333333333, \"#9c179e\"], [0.4444444444444444, \"#bd3786\"], [0.5555555555555556, \"#d8576b\"], [0.6666666666666666, \"#ed7953\"], [0.7777777777777778, \"#fb9f3a\"], [0.8888888888888888, \"#fdca26\"], [1.0, \"#f0f921\"]], \"type\": \"heatmap\"}], \"heatmapgl\": [{\"colorbar\": {\"outlinewidth\": 0, \"ticks\": \"\"}, \"colorscale\": [[0.0, \"#0d0887\"], [0.1111111111111111, \"#46039f\"], [0.2222222222222222, \"#7201a8\"], [0.3333333333333333, \"#9c179e\"], [0.4444444444444444, \"#bd3786\"], [0.5555555555555556, \"#d8576b\"], [0.6666666666666666, \"#ed7953\"], [0.7777777777777778, \"#fb9f3a\"], [0.8888888888888888, \"#fdca26\"], [1.0, \"#f0f921\"]], \"type\": \"heatmapgl\"}], \"histogram\": [{\"marker\": {\"colorbar\": {\"outlinewidth\": 0, \"ticks\": \"\"}}, \"type\": \"histogram\"}], \"histogram2d\": [{\"colorbar\": {\"outlinewidth\": 0, \"ticks\": \"\"}, \"colorscale\": [[0.0, \"#0d0887\"], [0.1111111111111111, \"#46039f\"], [0.2222222222222222, \"#7201a8\"], [0.3333333333333333, \"#9c179e\"], [0.4444444444444444, \"#bd3786\"], [0.5555555555555556, \"#d8576b\"], [0.6666666666666666, \"#ed7953\"], [0.7777777777777778, \"#fb9f3a\"], [0.8888888888888888, \"#fdca26\"], [1.0, \"#f0f921\"]], \"type\": \"histogram2d\"}], \"histogram2dcontour\": [{\"colorbar\": {\"outlinewidth\": 0, \"ticks\": \"\"}, \"colorscale\": [[0.0, \"#0d0887\"], [0.1111111111111111, \"#46039f\"], [0.2222222222222222, \"#7201a8\"], [0.3333333333333333, \"#9c179e\"], [0.4444444444444444, \"#bd3786\"], [0.5555555555555556, \"#d8576b\"], [0.6666666666666666, \"#ed7953\"], [0.7777777777777778, \"#fb9f3a\"], [0.8888888888888888, \"#fdca26\"], [1.0, \"#f0f921\"]], \"type\": \"histogram2dcontour\"}], \"mesh3d\": [{\"colorbar\": {\"outlinewidth\": 0, \"ticks\": \"\"}, \"type\": \"mesh3d\"}], \"parcoords\": [{\"line\": {\"colorbar\": {\"outlinewidth\": 0, \"ticks\": \"\"}}, \"type\": \"parcoords\"}], \"pie\": [{\"automargin\": true, \"type\": \"pie\"}], \"scatter\": [{\"marker\": {\"colorbar\": {\"outlinewidth\": 0, \"ticks\": \"\"}}, \"type\": \"scatter\"}], \"scatter3d\": [{\"line\": {\"colorbar\": {\"outlinewidth\": 0, \"ticks\": \"\"}}, \"marker\": {\"colorbar\": {\"outlinewidth\": 0, \"ticks\": \"\"}}, \"type\": \"scatter3d\"}], \"scattercarpet\": [{\"marker\": {\"colorbar\": {\"outlinewidth\": 0, \"ticks\": \"\"}}, \"type\": \"scattercarpet\"}], \"scattergeo\": [{\"marker\": {\"colorbar\": {\"outlinewidth\": 0, \"ticks\": \"\"}}, \"type\": \"scattergeo\"}], \"scattergl\": [{\"marker\": {\"colorbar\": {\"outlinewidth\": 0, \"ticks\": \"\"}}, \"type\": \"scattergl\"}], \"scattermapbox\": [{\"marker\": {\"colorbar\": {\"outlinewidth\": 0, \"ticks\": \"\"}}, \"type\": \"scattermapbox\"}], \"scatterpolar\": [{\"marker\": {\"colorbar\": {\"outlinewidth\": 0, \"ticks\": \"\"}}, \"type\": \"scatterpolar\"}], \"scatterpolargl\": [{\"marker\": {\"colorbar\": {\"outlinewidth\": 0, \"ticks\": \"\"}}, \"type\": \"scatterpolargl\"}], \"scatterternary\": [{\"marker\": {\"colorbar\": {\"outlinewidth\": 0, \"ticks\": \"\"}}, \"type\": \"scatterternary\"}], \"surface\": [{\"colorbar\": {\"outlinewidth\": 0, \"ticks\": \"\"}, \"colorscale\": [[0.0, \"#0d0887\"], [0.1111111111111111, \"#46039f\"], [0.2222222222222222, \"#7201a8\"], [0.3333333333333333, \"#9c179e\"], [0.4444444444444444, \"#bd3786\"], [0.5555555555555556, \"#d8576b\"], [0.6666666666666666, \"#ed7953\"], [0.7777777777777778, \"#fb9f3a\"], [0.8888888888888888, \"#fdca26\"], [1.0, \"#f0f921\"]], \"type\": \"surface\"}], \"table\": [{\"cells\": {\"fill\": {\"color\": \"#EBF0F8\"}, \"line\": {\"color\": \"white\"}}, \"header\": {\"fill\": {\"color\": \"#C8D4E3\"}, \"line\": {\"color\": \"white\"}}, \"type\": \"table\"}]}, \"layout\": {\"annotationdefaults\": {\"arrowcolor\": \"#2a3f5f\", \"arrowhead\": 0, \"arrowwidth\": 1}, \"coloraxis\": {\"colorbar\": {\"outlinewidth\": 0, \"ticks\": \"\"}}, \"colorscale\": {\"diverging\": [[0, \"#8e0152\"], [0.1, \"#c51b7d\"], [0.2, \"#de77ae\"], [0.3, \"#f1b6da\"], [0.4, \"#fde0ef\"], [0.5, \"#f7f7f7\"], [0.6, \"#e6f5d0\"], [0.7, \"#b8e186\"], [0.8, \"#7fbc41\"], [0.9, \"#4d9221\"], [1, \"#276419\"]], \"sequential\": [[0.0, \"#0d0887\"], [0.1111111111111111, \"#46039f\"], [0.2222222222222222, \"#7201a8\"], [0.3333333333333333, \"#9c179e\"], [0.4444444444444444, \"#bd3786\"], [0.5555555555555556, \"#d8576b\"], [0.6666666666666666, \"#ed7953\"], [0.7777777777777778, \"#fb9f3a\"], [0.8888888888888888, \"#fdca26\"], [1.0, \"#f0f921\"]], \"sequentialminus\": [[0.0, \"#0d0887\"], [0.1111111111111111, \"#46039f\"], [0.2222222222222222, \"#7201a8\"], [0.3333333333333333, \"#9c179e\"], [0.4444444444444444, \"#bd3786\"], [0.5555555555555556, \"#d8576b\"], [0.6666666666666666, \"#ed7953\"], [0.7777777777777778, \"#fb9f3a\"], [0.8888888888888888, \"#fdca26\"], [1.0, \"#f0f921\"]]}, \"colorway\": [\"#636efa\", \"#EF553B\", \"#00cc96\", \"#ab63fa\", \"#FFA15A\", \"#19d3f3\", \"#FF6692\", \"#B6E880\", \"#FF97FF\", \"#FECB52\"], \"font\": {\"color\": \"#2a3f5f\"}, \"geo\": {\"bgcolor\": \"white\", \"lakecolor\": \"white\", \"landcolor\": \"#E5ECF6\", \"showlakes\": true, \"showland\": true, \"subunitcolor\": \"white\"}, \"hoverlabel\": {\"align\": \"left\"}, \"hovermode\": \"closest\", \"mapbox\": {\"style\": \"light\"}, \"paper_bgcolor\": \"white\", \"plot_bgcolor\": \"#E5ECF6\", \"polar\": {\"angularaxis\": {\"gridcolor\": \"white\", \"linecolor\": \"white\", \"ticks\": \"\"}, \"bgcolor\": \"#E5ECF6\", \"radialaxis\": {\"gridcolor\": \"white\", \"linecolor\": \"white\", \"ticks\": \"\"}}, \"scene\": {\"xaxis\": {\"backgroundcolor\": \"#E5ECF6\", \"gridcolor\": \"white\", \"gridwidth\": 2, \"linecolor\": \"white\", \"showbackground\": true, \"ticks\": \"\", \"zerolinecolor\": \"white\"}, \"yaxis\": {\"backgroundcolor\": \"#E5ECF6\", \"gridcolor\": \"white\", \"gridwidth\": 2, \"linecolor\": \"white\", \"showbackground\": true, \"ticks\": \"\", \"zerolinecolor\": \"white\"}, \"zaxis\": {\"backgroundcolor\": \"#E5ECF6\", \"gridcolor\": \"white\", \"gridwidth\": 2, \"linecolor\": \"white\", \"showbackground\": true, \"ticks\": \"\", \"zerolinecolor\": \"white\"}}, \"shapedefaults\": {\"line\": {\"color\": \"#2a3f5f\"}}, \"ternary\": {\"aaxis\": {\"gridcolor\": \"white\", \"linecolor\": \"white\", \"ticks\": \"\"}, \"baxis\": {\"gridcolor\": \"white\", \"linecolor\": \"white\", \"ticks\": \"\"}, \"bgcolor\": \"#E5ECF6\", \"caxis\": {\"gridcolor\": \"white\", \"linecolor\": \"white\", \"ticks\": \"\"}}, \"title\": {\"x\": 0.05}, \"xaxis\": {\"automargin\": true, \"gridcolor\": \"white\", \"linecolor\": \"white\", \"ticks\": \"\", \"title\": {\"standoff\": 15}, \"zerolinecolor\": \"white\", \"zerolinewidth\": 2}, \"yaxis\": {\"automargin\": true, \"gridcolor\": \"white\", \"linecolor\": \"white\", \"ticks\": \"\", \"title\": {\"standoff\": 15}, \"zerolinecolor\": \"white\", \"zerolinewidth\": 2}}}, \"title\": {\"text\": \"Perbandingan Monetary vs Recency\"}, \"xaxis\": {\"title\": {\"text\": \"Recency\"}}, \"yaxis\": {\"title\": {\"text\": \"Monetary\"}}},\n",
              "                        {\"responsive\": true}\n",
              "                    ).then(function(){\n",
              "                            \n",
              "var gd = document.getElementById('bfdffa6c-29dc-41cc-8eec-65380631172b');\n",
              "var x = new MutationObserver(function (mutations, observer) {{\n",
              "        var display = window.getComputedStyle(gd).display;\n",
              "        if (!display || display === 'none') {{\n",
              "            console.log([gd, 'removed!']);\n",
              "            Plotly.purge(gd);\n",
              "            observer.disconnect();\n",
              "        }}\n",
              "}});\n",
              "\n",
              "// Listen for the removal of the full notebook cells\n",
              "var notebookContainer = gd.closest('#notebook-container');\n",
              "if (notebookContainer) {{\n",
              "    x.observe(notebookContainer, {childList: true});\n",
              "}}\n",
              "\n",
              "// Listen for the clearing of the current output cell\n",
              "var outputEl = gd.closest('.output');\n",
              "if (outputEl) {{\n",
              "    x.observe(outputEl, {childList: true});\n",
              "}}\n",
              "\n",
              "                        })\n",
              "                };\n",
              "                \n",
              "            </script>\n",
              "        </div>\n",
              "</body>\n",
              "</html>"
            ]
          },
          "metadata": {
            "tags": []
          }
        },
        {
          "output_type": "display_data",
          "data": {
            "text/html": [
              "<html>\n",
              "<head><meta charset=\"utf-8\" /></head>\n",
              "<body>\n",
              "    <div>\n",
              "            <script src=\"https://cdnjs.cloudflare.com/ajax/libs/mathjax/2.7.5/MathJax.js?config=TeX-AMS-MML_SVG\"></script><script type=\"text/javascript\">if (window.MathJax) {MathJax.Hub.Config({SVG: {font: \"STIX-Web\"}});}</script>\n",
              "                <script type=\"text/javascript\">window.PlotlyConfig = {MathJaxConfig: 'local'};</script>\n",
              "        <script src=\"https://cdn.plot.ly/plotly-latest.min.js\"></script>    \n",
              "            <div id=\"861bc656-fd2e-479b-81a0-d428fa4d25bc\" class=\"plotly-graph-div\" style=\"height:525px; width:100%;\"></div>\n",
              "            <script type=\"text/javascript\">\n",
              "                \n",
              "                    window.PLOTLYENV=window.PLOTLYENV || {};\n",
              "                    \n",
              "                if (document.getElementById(\"861bc656-fd2e-479b-81a0-d428fa4d25bc\")) {\n",
              "                    Plotly.newPlot(\n",
              "                        '861bc656-fd2e-479b-81a0-d428fa4d25bc',\n",
              "                        [{\"marker\": {\"color\": \"blue\", \"line\": {\"width\": 1}, \"opacity\": 0.8, \"size\": 7}, \"mode\": \"markers\", \"name\": \"Bronze\", \"type\": \"scatter\", \"x\": [182, 266, 100, 192, 125, 420, 200, 354, 459, 422, 233, 245, 124, 144, 191, 105, 168, 188, 247, 132, 105, 467, 230, 126, 230, 161, 638, 524, 344, 105, 268, 334, 207, 259, 354, 139, 103, 199, 364, 310, 103, 314, 414, 311, 116, 720, 129, 116, 180, 238, 305, 337, 404, 219, 110, 458, 131, 135, 403, 424, 358, 1028, 155, 572, 304, 201, 120, 140, 687, 170, 293, 179, 110, 226, 119, 587, 1667, 187, 211, 433, 315, 476, 166, 155, 478, 304, 157, 101, 167, 194, 382, 302, 254, 422, 162, 115, 296, 178, 340, 126, 174, 246, 146, 108, 463, 194, 134, 335, 313, 321, 142, 117, 368, 135, 197, 349, 110, 115, 178, 142, 110, 117, 160, 619, 351, 148, 208, 250, 143, 478, 210, 1088, 202, 111, 448, 214, 250, 156, 159, 166, 200, 134, 210, 240, 265, 259, 579, 108, 100, 141, 111, 111, 143, 222, 154, 101, 237, 100, 143, 117, 258, 162, 521, 186, 284, 348, 182, 106, 579, 124, 222, 377, 947, 120, 164, 785, 295, 971, 508, 397, 355, 203, 419, 262, 234, 253, 567, 324, 130, 327, 342, 196, 345, 338, 462, 147, 202, 194, 235, 135, 1062, 1132, 120, 99, 144, 498, 165, 312, 1112, 444, 553, 501, 390, 1477, 201, 440, 145, 106, 217, 341, 271, 125, 710, 212, 310, 110, 166, 111, 264, 204, 192, 219, 551, 132, 302, 372, 187, 512, 213, 166, 219, 259, 695, 887, 319, 212, 103, 410, 423, 155, 167, 476, 166, 301, 291, 141, 132, 263, 167, 138, 138, 628, 540, 459, 115, 258, 543, 210, 139, 1128, 121, 129, 279, 339, 117, 224, 128, 471, 134, 111, 123, 655, 292, 270, 258, 300, 317, 109, 636, 108, 327, 186, 168, 369, 353, 282, 202, 337, 290, 183, 925, 460, 126, 216, 172, 276, 179, 152, 258, 252, 114, 163, 308, 144, 270, 438, 196, 225, 444, 700, 157, 331, 183, 319, 189, 266, 279, 665, 199, 626, 886, 235, 277, 143, 120, 169, 252, 317, 296, 195, 134, 477, 271, 208, 531, 555, 387, 132, 471, 721, 483, 406, 465, 109, 213, 198, 206, 117, 271, 328, 134, 276, 100, 208, 109, 253, 390, 165, 402, 439, 212, 551, 567, 123, 157, 232, 158, 705, 303, 118, 127, 286, 142, 103, 382, 192, 165, 218, 690, 136, 184, 740, 304, 828, 348, 215, 197, 219, 270, 665, 477, 293, 458, 127, 358, 137, 223, 106, 441, 1263, 357, 159, 221, 189, 119, 159, 134, 114, 272, 269, 164, 104, 175, 166, 721], \"y\": [4310.000000000001, 5226.23, 2780.6600000000003, 3649.1000000000004, 1859.31, 13375.87, 4951.41, 9035.52, 19788.65, 7324.089999999999, 6816.42, 5417.93, 2056.89, 4485.719999999999, 3692.2799999999997, 2134.01, 3781.74, 4124.6900000000005, 7281.379999999999, 3023.08, 2291.1899999999996, 13689.67, 4478.530000000001, 4051.17, 3849.7799999999997, 3807.15, 13787.54, 12279.82, 8476.57, 2283.63, 4939.99, 6868.290000000001, 9706.52, 4708.860000000001, 5781.730000000001, 3980.7000000000003, 4196.009999999999, 4090.88, 7834.650000000001, 6989.63, 2330.9200000000005, 5591.42, 3991.5800000000004, 2170.7799999999997, 17654.539999999997, 16587.09, 2160.7, 2064.95, 4757.160000000001, 4017.54, 11189.91, 9785.970000000001, 5655.91, 4810.94, 3466.2799999999997, 7277.700000000001, 2616.38, 1819.4099999999999, 5836.860000000001, 4431.4400000000005, 12627.939999999999, 28337.379999999997, 8910.819999999998, 28882.44, 6424.089999999999, 12245.96, 2294.7799999999997, 2099.64, 3603.29, 5064.9400000000005, 2742.8200000000006, 1668.95, 1797.78, 3401.24, 9817.119999999999, 2755.6299999999997, 7436.93, 3834.26, 4521.49, 3174.75, 5343.280000000001, 10845.55, 3090.7400000000002, 2520.0200000000004, 28117.04, 6127.43, 3641.3199999999997, 3809.89, 3408.0600000000004, 3534.6900000000005, 9646.57, 5704.969999999999, 2501.84, 8968.31, 2479.16, 1791.56, 5870.08, 3444.39, 2088.94, 6717.34, 2478.95, 5149.92, 2624.26, 2639.1700000000005, 6309.83, 3719.12, 2308.0600000000004, 6307.650000000001, 3107.8700000000003, 2108.06, 5189.52, 3190.55, 17220.36, 2796.51, 25977.160000000003, 37153.85, 8109.52, 2770.94, 17159.52, 2674.48, 1883.8100000000004, 1838.85, 2427.3199999999997, 9024.17, 7060.13, 2274.1400000000003, 3901.81, 17286.86, 2975.59, 5578.72, 15610.390000000003, 8152.710000000001, 6140.42, 10464.850000000002, 4421.290000000001, 4076.91, 3104.17, 5683.1500000000015, 2780.15, 2720.63, 3586.0299999999997, 4690.3099999999995, 4191.0, 4748.52, 4654.08, 4684.76, 11349.52, 1789.72, 2004.9799999999998, 2588.7699999999995, 1904.05, 12669.98, 2618.2299999999996, 4188.0, 3701.4400000000005, 2314.6499999999996, 3883.25, 4871.929999999999, 3965.62, 2352.53, 4975.24, 2552.2100000000005, 9227.82, 3212.84, 4642.57, 3479.91, 4051.4799999999996, 2599.03, 5855.57, 1937.25, 4263.639999999999, 2248.5, 3017.28, 2383.2400000000002, 3543.26, 5859.43, 1960.6499999999999, 8507.130000000001, 4397.3, 2573.9300000000003, 3974.7500000000005, 2279.4900000000002, 5006.77, 2804.54, 1926.6499999999999, 2529.93, 9175.04, 5579.1, 2078.95, 2526.09, 3251.79, 4921.040000000001, 2839.62, 2662.2000000000003, 1897.5700000000002, 2702.49, 9585.91, 6065.6900000000005, 5010.280000000001, 2473.37, 10416.98, 7975.49, 2221.0100000000007, 14389.900000000001, 2953.59, 11138.71, 3501.1000000000004, 7044.68, 6295.37, 1871.77, 6720.41, 2557.18, 4274.16, 19766.59, 5090.42, 9743.11, 2420.84, 2199.3100000000004, 6580.4400000000005, 5291.33, 4745.6900000000005, 1936.0700000000004, 18641.010000000002, 16225.390000000003, 7616.530000000001, 1661.44, 5756.89, 10484.99, 2493.34, 7943.219999999999, 4799.9, 1934.6600000000003, 8347.2, 2415.9100000000003, 5955.709999999999, 3213.59, 3590.4100000000003, 13316.400000000001, 10384.929999999998, 4023.72, 1972.3899999999999, 3546.7100000000005, 4910.6, 4794.86, 4148.82, 2533.42, 1771.7800000000002, 6776.56, 10399.74, 2870.24, 3285.3100000000004, 12416.109999999999, 2993.1, 5159.0599999999995, 2463.05, 2364.25, 2708.61, 4206.389999999999, 33643.079999999994, 3711.77, 2969.12, 16143.64, 3146.92, 3810.1400000000003, 2495.8700000000003, 2780.63, 2777.67, 3352.96, 37130.600000000006, 8778.82, 2263.12, 2234.73, 1660.8799999999999, 14589.039999999999, 2424.94, 3799.4900000000002, 3092.04, 5533.67, 5180.52, 1863.4700000000003, 21086.300000000003, 2590.3100000000004, 3579.8599999999997, 2619.91, 5447.0, 3039.2200000000003, 3820.27, 2027.5, 3450.41, 2157.4000000000005, 3040.96, 4098.32, 2079.6800000000003, 34684.4, 1863.76, 3640.6699999999996, 3482.7400000000007, 1810.65, 9418.470000000001, 13027.45, 4034.9, 8338.490000000002, 3738.4, 4113.68, 3347.71, 5493.46, 4413.1, 2883.1000000000004, 3789.52, 4095.9, 8134.94, 3109.99, 5076.550000000001, 5398.299999999999, 14034.990000000002, 3611.31, 1770.22, 4730.8099999999995, 6680.110000000001, 2790.9500000000003, 1691.5100000000002, 10611.720000000001, 2267.95, 6416.700000000001, 3349.5699999999997, 16594.35, 7123.620000000001, 3653.7500000000005, 3037.6, 7069.08, 4554.870000000001, 2711.6800000000003, 1904.99, 1905.8700000000001, 5464.119999999999, 3989.5699999999997, 8694.26, 5655.030000000001, 4552.139999999999, 3827.7600000000007, 2463.17, 10650.77, 1951.97, 1906.09, 3124.72, 3719.1000000000004, 8540.05, 1854.06, 6281.23, 6493.54, 2622.88, 4462.68, 4767.360000000001, 20275.61, 31833.68, 31906.819999999996, 4226.57, 1979.3700000000001, 5037.26, 17256.85, 2373.8199999999997, 2519.21, 1721.4, 1875.86, 3558.8700000000003, 3628.5, 2367.12, 4331.48, 3564.83, 11025.24, 3923.86, 5054.42, 3961.12, 1814.12, 2895.64, 3945.0, 2999.46, 20374.28, 16345.38, 2474.3299999999995, 3155.8299999999995, 5739.460000000001, 2534.64, 1823.52, 10504.49, 3439.08, 2876.01, 5298.48, 13110.02, 2322.4, 1710.4499999999998, 5593.39, 3957.43, 7761.82, 1698.0700000000002, 1987.33, 5140.66, 2097.88, 1865.8899999999999, 4119.5, 2314.1299999999997, 4483.26, 4097.37, 2088.6, 6761.34, 2392.83, 2584.41, 2662.4, 8004.92, 5625.08, 1793.0600000000002, 8438.34, 2861.55, 7561.68, 1843.7500000000005, 5425.560000000001, 2621.38, 2069.77, 6484.54, 5504.960000000001, 7276.9, 2073.09, 2567.0600000000004, 3078.58, 2045.53]}, {\"marker\": {\"color\": \"green\", \"line\": {\"width\": 1}, \"opacity\": 0.5, \"size\": 9}, \"mode\": \"markers\", \"name\": \"Silver\", \"type\": \"scatter\", \"x\": [73, 85, 59, 131, 19, 245, 129, 85, 166, 63, 219, 104, 87, 99, 156, 126, 85, 105, 77, 105, 109, 45, 294, 97, 235, 108, 98, 177, 191, 90, 125, 63, 62, 29, 47, 339, 167, 300, 36, 154, 216, 75, 343, 55, 77, 61, 149, 147, 279, 152, 106, 71, 92, 66, 261, 273, 478, 52, 69, 119, 33, 446, 60, 88, 146, 114, 96, 118, 206, 62, 64, 101, 106, 153, 90, 92, 294, 41, 64, 101, 101, 382, 53, 47, 73, 45, 122, 47, 37, 101, 92, 42, 83, 45, 165, 52, 157, 171, 72, 88, 157, 133, 38, 69, 161, 69, 53, 124, 274, 222, 53, 197, 97, 69, 66, 50, 149, 84, 57, 8, 59, 91, 56, 38, 174, 120, 113, 103, 84, 48, 78, 109, 95, 534, 85, 154, 42, 63, 91, 75, 24, 50, 103, 50, 45, 84, 82, 106, 62, 120, 47, 215, 23, 63, 79, 95, 108, 129, 76, 64, 61, 59, 88, 175, 40, 92, 43, 172, 68, 111, 73, 159, 24, 421, 20, 58, 145, 76, 79, 222, 44, 98, 127, 63, 135, 312, 86, 85, 87, 120, 79, 42, 65, 126, 43, 265, 94, 79, 46, 57, 148, 321, 55, 141, 108, 32, 202, 31, 136, 36, 90, 187, 59, 81, 54, 107, 72, 78, 62, 86, 124, 105, 21, 75, 108, 265, 134, 116, 40, 60, 128, 158, 172, 152, 51, 43, 102, 127, 67, 49, 59, 71, 433, 46, 63, 98, 79, 109, 48, 42, 65, 215, 44, 44, 141, 93, 418, 172, 217, 97, 123, 51, 109, 135, 169, 82, 169, 79, 46, 83, 87, 127, 146, 99, 97, 215, 195, 78, 59, 71, 145, 186, 63, 99, 78, 96, 63, 166, 57, 39, 53, 90, 194, 28, 102, 60, 85, 104, 42, 63, 195, 190, 41, 70, 207, 119, 173, 57, 113, 31, 45, 60, 135, 76, 69, 176, 96, 46, 72, 55, 165, 206, 55, 101, 81, 76, 139, 60, 33, 304, 336, 104, 165, 65, 59, 118, 149, 122, 148, 49, 45, 35, 137, 20, 147, 149, 329, 111, 107, 234, 82, 121, 86, 39, 171, 84, 161, 66, 242, 66, 229, 206, 32, 54, 283, 77, 323, 43, 177, 100, 58, 123, 160, 34, 72, 52, 46, 66, 40, 1175, 52, 149, 318, 157, 65, 87, 102, 112, 67, 59, 193, 113, 66, 175, 115, 147, 79, 112, 42, 108, 78, 106, 52, 27, 280, 47, 61, 62, 105, 180, 87, 101, 123, 60, 90, 128, 55, 117, 69, 126, 59, 139, 87, 100, 73, 54, 190, 43, 202, 224, 137, 55, 51, 277, 70, 250, 180, 233, 72, 89, 43, 265, 137, 140, 193, 190, 608, 107, 95, 68, 98, 197, 282, 213, 62, 328, 71, 105, 71, 111, 47, 113, 74, 127, 123, 302, 371, 176, 158, 151, 52, 102, 47, 81, 20, 92, 133, 122, 150, 172, 105, 186, 49, 126, 157, 90, 74, 97, 42, 258, 390, 71, 200, 112, 393, 28, 136, 71, 235, 259, 54, 60, 59, 26, 89, 38, 102, 117, 30, 46, 80, 383, 46, 231, 254, 53, 29, 42, 67, 108, 138, 145, 130, 388, 143, 126, 65, 58, 48, 70, 93, 122, 53, 73, 55, 109, 96, 350, 69, 27, 87, 78, 44, 127, 41, 87, 364, 170, 63, 138, 192, 155, 214, 115, 180, 121, 152, 48, 110, 125, 444, 76, 142, 69, 114, 266, 237, 115, 155, 82, 104, 54, 57, 108, 101, 100, 84, 97, 197, 45, 79, 127, 102, 84, 52, 73, 68, 80, 67, 55, 101, 110, 93, 91, 1, 32, 142, 42, 117, 58, 125, 143, 99, 50, 49, 78, 110, 89, 350, 44, 53, 77, 41, 47, 139, 88, 58, 103, 194, 242, 95, 57, 499, 114, 95, 94, 116, 194, 36, 84, 85, 73, 50, 148, 122, 98, 39, 192, 275, 292, 55, 291, 214, 60, 279, 97, 52, 73, 11, 44, 97, 85, 50, 154, 289, 122, 68, 97, 161, 158, 308, 210, 185, 156, 162, 662, 107, 251, 83, 114, 61, 27, 113, 53, 57, 43, 147, 44, 122, 52, 47, 67, 77, 60, 43, 45, 100, 185, 60, 119, 21, 47, 90, 115, 78, 138, 114, 202, 110, 78, 53, 78, 168, 230, 117, 205, 273, 53, 931, 128, 84, 67, 71, 173, 86, 62, 90, 405, 61, 180, 43, 83, 266, 200, 75, 117, 64, 299, 48, 195, 133, 72, 49, 123, 33, 115, 269, 50, 62, 188, 139, 147, 20, 108, 120, 126, 49, 84, 111, 74, 150, 226, 266, 151, 122, 74, 76, 60, 97, 41, 84, 97, 183, 111, 35, 176, 65, 43, 97, 112, 128, 52, 127, 504, 9, 103, 201, 381, 82, 94, 138, 181, 224, 160, 46, 101, 70, 299, 84, 178, 64, 101, 21, 223, 167, 63, 67, 57, 48, 31, 342, 204, 117, 89, 78, 117, 89, 34, 98, 85, 125, 84, 162, 218, 295, 67, 172, 97, 46, 84, 95, 134, 46, 135, 90, 69, 123, 135, 119, 130, 106, 166, 103, 118, 79, 162, 151, 151, 45, 77, 43, 85, 222, 57, 94, 66, 104, 77, 52, 51, 127, 69, 117, 221, 122, 206, 231, 71, 107, 132, 171, 99, 110, 132, 82, 230, 146, 171, 164, 146, 88, 95, 136, 159, 35, 111, 77, 4, 176, 45, 251, 52, 207, 57, 87, 62, 66, 96, 117, 69, 94, 50, 34, 118, 69, 73, 192, 156, 89, 44, 30, 544, 62, 123, 79, 394, 22, 619, 198, 178, 263, 656, 116, 190, 236, 355, 42, 69, 25, 165, 42, 63, 221, 140, 254, 93, 314, 278, 156, 149, 426, 86, 47, 165, 116, 378, 127, 137, 112, 156, 174, 96, 186, 97, 157, 123, 79, 44, 140, 545, 100, 57, 136, 128, 326, 81, 204, 77, 44, 305, 249, 60, 54, 101, 28, 89, 400, 128, 93, 43, 44, 52, 72, 214, 228, 148, 30, 69, 97, 102, 308, 83, 514, 99, 78, 143, 140, 174, 77, 81, 149, 186, 96, 115, 61, 124, 74, 48, 211, 65, 42, 416, 116, 123, 39, 27, 52, 48, 81, 67, 101, 229, 104, 144, 86, 63, 125, 73, 84, 236, 32, 96, 148, 211, 157, 101, 467, 62, 47, 105, 56, 111, 114, 89, 291, 122, 140, 104, 96, 55, 79, 66, 24, 131, 99, 195, 49, 521, 407, 83, 213, 70, 125, 107, 86, 251, 404, 78, 28, 76, 27, 89, 206, 59, 82, 111, 64, 41, 66, 269, 43, 135, 135, 54, 111, 106, 41, 88, 78, 82, 76, 28, 127, 364, 105, 135, 82, 45, 73, 19, 74, 141, 88, 105, 63, 142, 271, 50, 35, 208, 253, 196, 157, 82, 265, 233, 135, 306, 67, 50, 306, 70, 296, 91, 259, 44, 91, 82, 86, 18, 117, 68, 53, 110, 218, 77, 252, 115, 74, 55, 245, 274, 50, 115, 66, 97, 47, 89, 404, 90, 71, 98, 153, 190, 128, 189, 81, 111, 404, 103, 140, 43, 61, 133, 48, 67, 59, 162, 117, 297, 54, 148, 90, 370, 68, 43, 142, 113, 102, 65, 192, 75, 142, 31, 39, 90, 72, 43, 18, 249, 325, 68, 165, 138, 164, 57, 122, 164, 110, 49, 115, 46, 457, 72, 142, 123, 70, 89, 70, 196, 371, 192, 70, 43, 122, 80, 73, 90, 71, 139, 192, 64, 242, 86, 123, 104, 49, 61, 78, 118, 42, 133, 61, 70], \"y\": [1757.5500000000002, 2506.0400000000004, 2811.43, 6207.67, 1168.06, 6310.030000000001, 2662.06, 1313.1000000000001, 3541.94, 1887.96, 4008.62, 2724.8100000000004, 1845.3100000000004, 1850.5600000000002, 3018.63, 2409.9000000000005, 1635.6599999999999, 3415.3, 1708.1199999999997, 2888.55, 11072.67, 807.0400000000001, 7956.46, 3750.4, 6419.950000000001, 5059.319999999999, 2906.8500000000004, 5005.46, 4067.2900000000004, 2466.8599999999997, 3181.04, 2363.23, 1189.5900000000001, 1212.05, 742.19, 6572.110000000001, 3928.05, 13219.740000000002, 680.9900000000001, 3281.6299999999997, 5579.82, 2484.98, 4527.32, 1298.6600000000003, 1246.1, 4257.820000000001, 2169.3900000000003, 3723.87, 2481.6, 2634.26, 1789.77, 1316.6600000000003, 1933.4800000000002, 1662.28, 12601.830000000002, 5568.349999999999, 13400.24, 981.1800000000002, 1161.5, 599.56, 11990.96, 9401.279999999999, 1020.42, 1315.83, 626.5999999999999, 2794.5099999999998, 2338.1500000000005, 3338.2200000000003, 3811.2199999999993, 1032.5800000000004, 2599.04, 1579.51, 2099.54, 3344.38, 3641.24, 1339.41, 6620.48, 786.4599999999999, 1270.88, 2163.98, 1689.1800000000003, 6002.9, 1174.58, 1013.26, 1775.1800000000003, 1346.97, 3722.82, 1643.18, 4881.88, 2744.03, 2996.0500000000006, 610.52, 1970.6000000000001, 1331.39, 17628.46, 862.8100000000002, 2863.08, 4873.8099999999995, 1247.61, 2340.8399999999997, 2712.91, 4396.13, 848.5500000000001, 1053.4900000000002, 2656.13, 725.07, 1031.4099999999999, 2609.1, 18895.91, 21279.29, 4366.780000000001, 21429.39, 2791.59, 1898.5200000000004, 1386.0400000000002, 822.23, 3981.3599999999997, 2225.91, 532.8199999999999, 6977.04, 942.34, 1474.72, 1018.71, 6814.640000000001, 2610.3599999999997, 671.95, 2726.77, 1702.2600000000002, 843.6399999999999, 1010.2900000000001, 1957.1000000000004, 1316.2500000000002, 1568.23, 4009.3399999999997, 2218.020000000001, 1535.7700000000002, 703.47, 2919.81, 2178.67, 3075.0400000000004, 1662.3, 2483.6299999999997, 2944.95, 1335.19, 694.05, 2062.7, 42055.96, 607.53, 1063.8999999999999, 1504.2700000000002, 11581.800000000001, 4167.22, 1843.0, 1064.07, 1387.79, 1856.63, 769.8100000000001, 405.47, 1239.3799999999999, 6924.110000000001, 974.42, 1226.89, 1646.84, 3339.6400000000003, 975.36, 752.4399999999999, 676.99, 3237.54, 1105.5900000000001, 728.0200000000001, 3613.6299999999997, 7832.470000000001, 1927.3200000000002, 6003.22, 1098.48, 1531.6200000000003, 1488.67, 984.9100000000001, 1197.81, 3756.33, 1073.2999999999997, 1793.5800000000002, 2607.6099999999997, 962.39, 2388.75, 3683.26, 1676.0600000000002, 971.7600000000002, 1741.2199999999998, 1429.3500000000001, 1688.2899999999997, 1021.48, 791.3299999999999, 1299.5900000000001, 353.65000000000003, 5725.469999999999, 3957.7800000000007, 1575.89, 870.0900000000001, 869.4599999999999, 1217.6499999999999, 5891.61, 1095.4199999999996, 786.83, 2155.9499999999994, 6463.84, 1328.35, 700.7299999999999, 1961.52, 672.83, 2092.6600000000003, 2709.1200000000003, 2089.85, 2000.8599999999997, 1385.51, 1456.79, 1132.0300000000002, 1555.32, 775.94, 5732.93, 2273.6800000000003, 1532.1999999999998, 787.8499999999999, 7121.95, 3627.77, 3502.32, 10736.48, 2511.6900000000005, 979.12, 992.5, 2225.37, 3312.2500000000005, 3639.31, 4151.93, 797.9599999999999, 1360.99, 1833.7099999999998, 2626.3, 1006.7999999999998, 679.4499999999999, 1129.1400000000003, 2043.72, 2898.2599999999998, 1058.3400000000001, 1766.72, 1071.91, 1454.5800000000002, 1804.5600000000002, 2044.87, 1159.11, 1166.77, 4393.63, 979.72, 1389.4100000000003, 2128.42, 3624.3499999999995, 1071.73, 3964.88, 2242.36, 621.09, 678.16, 918.1999999999999, 3740.0699999999997, 4098.88, 594.52, 1799.33, 856.8400000000001, 338.61999999999995, 732.07, 1687.6000000000001, 1981.9199999999994, 2011.8800000000006, 664.11, 693.32, 675.5100000000001, 1082.33, 1585.46, 727.7399999999999, 7792.360000000001, 2031.7800000000002, 2118.9300000000003, 1547.3599999999997, 949.12, 804.3, 1648.1200000000003, 1836.3400000000001, 1095.08, 2707.33, 827.83, 3119.44, 1488.32, 2504.13, 2248.63, 711.86, 1445.0100000000002, 1041.68, 2375.41, 1980.56, 1079.6599999999999, 1016.1400000000001, 2883.5399999999995, 729.8, 1341.6, 1070.65, 1519.42, 2634.45, 1122.63, 360.01000000000005, 908.8599999999999, 2462.7899999999995, 348.79999999999995, 4599.42, 2588.39, 1747.6600000000003, 1366.8600000000001, 4027.36, 632.0, 1698.94, 2198.45, 834.57, 674.82, 3385.6200000000003, 865.0600000000002, 1537.95, 2651.4599999999996, 1245.9, 2209.36, 1005.0899999999999, 3192.54, 3083.65, 6403.25, 1786.79, 3219.7700000000004, 1191.13, 787.6000000000001, 2593.0699999999997, 2867.2, 2369.55, 2580.91, 839.14, 5112.96, 745.0600000000001, 3251.071, 3515.6799999999994, 1019.2700000000001, 2758.26, 2461.24, 1871.81, 2603.4300000000003, 4147.96, 852.88, 3466.3600000000006, 1393.69, 2043.0800000000002, 4582.639999999999, 2874.72, 4341.21, 1421.61, 2358.8399999999997, 1428.0200000000002, 3560.32, 646.4200000000001, 1308.6100000000001, 746.3599999999999, 6211.66, 1334.3399999999997, 1437.5700000000002, 942.26, 1002.9000000000001, 433.85999999999996, 1105.8799999999999, 2703.23, 2915.15, 1840.4199999999998, 1382.7399999999998, 1123.8600000000001, 965.8800000000002, 935.05, 915.1300000000001, 4630.35, 2445.9100000000003, 3222.3, 1600.2600000000002, 701.5699999999999, 2054.36, 2073.4300000000003, 1905.8400000000001, 2241.1000000000004, 1004.3800000000001, 1839.3000000000002, 3432.8, 1009.73, 2214.7899999999995, 3350.96, 2048.07, 754.1200000000001, 3144.86, 2380.8500000000004, 890.3400000000001, 1693.4499999999998, 2879.7, 3099.7200000000003, 1163.45, 1910.0100000000002, 4628.75, 911.26, 1046.56, 1305.3299999999997, 1858.9600000000003, 2995.72, 1611.59, 2481.13, 1530.7500000000002, 454.85999999999996, 1614.91, 2166.9799999999996, 912.1800000000001, 2118.03, 3717.35, 615.4899999999999, 1247.69, 1727.6000000000001, 2612.96, 1449.3200000000002, 2157.73, 2059.4500000000003, 1100.2700000000002, 770.0300000000001, 1051.79, 4481.67, 1224.0600000000002, 2357.6800000000003, 1712.8900000000003, 1010.35, 1163.2300000000002, 885.8000000000001, 2103.0599999999995, 1980.57, 2272.4, 596.2600000000001, 461.19000000000005, 1852.67, 2022.81, 1165.48, 1957.3200000000002, 808.44, 2429.83, 673.26, 1367.8799999999997, 1314.8100000000002, 2076.8900000000003, 1843.83, 4215.900000000001, 2862.11, 1949.7200000000003, 2854.84, 952.66, 1453.35, 3599.73, 2004.3000000000004, 757.3700000000001, 859.2700000000001, 2237.7699999999995, 3099.1200000000003, 859.7100000000002, 986.9599999999999, 1580.29, 1320.21, 557.9399999999999, 617.15, 363.3299999999999, 1740.6000000000001, 866.2400000000001, 16209.5, 1785.1499999999999, 1788.3600000000004, 886.7, 2791.27, 955.2600000000001, 2984.49, 2107.38, 1402.59, 1932.23, 848.22, 741.3699999999999, 1835.6999999999998, 1736.4, 596.36, 2548.2400000000002, 28754.11, 1201.5099999999998, 2114.33, 1217.27, 2195.0999999999995, 1493.96, 1126.37, 599.48, 867.3800000000001, 1581.8400000000001, 1122.3600000000001, 1314.45, 3902.2799999999997, 1400.3400000000001, 1099.98, 1415.75, 738.9599999999998, 1625.97, 2538.2999999999997, 679.4399999999998, 745.0600000000001, 1319.91, 4331.790000000001, 546.4000000000001, 2718.6, 2085.33, 778.5, 1127.7100000000003, 697.55, 1720.3, 1649.5000000000002, 3295.7599999999998, 2824.6899999999996, 3189.8100000000004, 7930.54, 2836.69, 2740.03, 1290.53, 1353.74, 841.2, 721.45, 501.28, 1476.0900000000001, 761.5899999999999, 1237.8500000000001, 1366.38, 1269.31, 1421.29, 2795.33, 1025.44, 867.85, 1227.43, 1316.0700000000002, 749.1, 2362.9600000000005, 1257.68, 1890.94, 8137.020000000001, 5900.25, 1101.97, 8099.489999999999, 1472.34, 1097.98, 1921.3700000000003, 1641.7599999999998, 1259.4299999999998, 852.39, 1636.4299999999998, 627.1300000000001, 653.19, 685.74, 7634.7300000000005, 1737.69, 1383.3600000000001, 693.9499999999999, 302.1, 2102.54, 1337.7199999999998, 294.25000000000006, 3158.13, 1744.76, 553.36, 1043.4099999999999, 1160.0699999999997, 4597.0199999999995, 2298.9300000000003, 1422.52, 1567.4799999999998, 3509.4299999999994, 2760.5599999999995, 1352.75, 1551.7800000000002, 11528.480000000001, 1471.0, 3447.4, 977.93, 1387.99, 1286.7000000000003, 2354.25, 1194.7300000000002, 961.4899999999999, 824.58, 1624.05, 2206.9500000000003, 4777.180000000001, 3861.0, 1079.6100000000001, 1827.8, 870.12, 1778.9599999999996, 1219.4, 3386.71, 2247.51, 1412.3200000000002, 1071.99, 780.59, 1706.57, 1756.44, 2515.84, 6688.459999999999, 740.78, 918.1999999999998, 1810.77, 2379.49, 716.57, 2332.1499999999996, 2306.5200000000004, 939.78, 4668.300000000001, 3672.8599999999997, 5049.949999999999, 2748.3100000000004, 1049.7, 2718.0300000000007, 2314.32, 1877.5900000000004, 2386.05, 1221.5599999999997, 3703.29, 1690.26, 1535.53, 2183.5400000000004, 1345.5300000000002, 815.77, 1046.74, 3450.8400000000006, 1348.9300000000003, 774.9, 3984.3199999999997, 1404.07, 1430.54, 1041.48, 1067.75, 1411.2100000000003, 974.5200000000001, 1371.77, 7354.619999999999, 524.88, 454.48, 1771.2, 1399.9199999999998, 10879.76, 2564.5, 1134.28, 3100.09, 1953.4099999999999, 1280.58, 1131.5600000000002, 3610.96, 972.0799999999999, 900.53, 14758.22, 1921.5500000000002, 3000.2000000000003, 734.3699999999999, 2428.5300000000007, 3962.6, 1497.3100000000002, 1564.73, 807.57, 1681.46, 575.6300000000002, 800.5899999999999, 1400.44, 758.29, 650.4300000000001, 921.37, 3675.77, 682.9100000000001, 720.8600000000001, 761.74, 1297.8700000000001, 1198.23, 2920.16, 1093.68, 1591.4500000000003, 776.8510000000002, 1553.1799999999998, 3709.5600000000004, 1186.35, 1887.2, 922.5300000000001, 748.5, 1600.86, 2222.2099999999996, 2657.13, 2726.2300000000005, 2446.6000000000004, 3435.7599999999998, 781.2800000000001, 1333.6799999999998, 1426.16, 6479.4, 2711.1099999999997, 1529.0, 2293.62, 916.9799999999998, 3235.25, 1072.36, 5030.07, 598.73, 471.4000000000001, 2211.2100000000005, 1188.12, 4812.42, 775.9599999999999, 1094.59, 946.6399999999999, 2626.6000000000004, 1086.9200000000003, 3279.97, 2614.7400000000002, 2328.9700000000003, 4919.0, 933.26, 1612.69, 696.89, 1063.95, 5488.18, 903.9000000000001, 3651.27, 2218.62, 1945.33, 2100.6, 1905.4500000000003, 885.4699999999999, 1836.09, 2225.15, 954.09, 1048.49, 1427.5700000000002, 965.1599999999999, 832.88, 1936.3200000000004, 316.25000000000006, 4405.88, 490.33, 396.47999999999996, 1383.8299999999997, 351.73, 5126.76, 1567.6899999999998, 882.72, 1228.88, 1502.8600000000001, 525.6899999999999, 1107.4600000000003, 6115.009999999999, 955.2400000000001, 1744.71, 708.22, 781.9100000000001, 1657.28, 4416.26, 808.87, 4199.85, 3442.15, 1054.73, 2398.8599999999997, 3408.48, 1465.12, 1432.77, 792.1100000000001, 1032.58, 3080.2200000000003, 12393.699999999999, 2735.37, 578.71, 1693.81, 972.1100000000001, 1415.29, 646.8299999999999, 704.55, 1465.51, 3786.24, 851.01, 719.81, 1177.47, 1074.81, 1511.9500000000003, 1453.1599999999999, 1153.62, 1521.0400000000004, 1352.0000000000002, 2799.42, 981.51, 1078.2299999999998, 2005.63, 1842.14, 1429.6399999999999, 3204.16, 1320.9500000000003, 854.66, 6287.77, 1880.2199999999998, 3506.540000000001, 2053.02, 1824.23, 822.48, 3787.6000000000004, 1822.9700000000003, 1885.0500000000004, 1418.32, 10254.18, 4006.9400000000005, 6911.4400000000005, 981.8599999999999, 1068.87, 757.63, 2262.6199999999994, 3084.68, 860.86, 1096.3200000000002, 867.3099999999998, 3718.8, 1413.66, 1800.0700000000002, 3683.8599999999997, 5203.510000000001, 728.5400000000001, 1404.64, 1502.78, 1570.81, 812.68, 2248.99, 1328.5500000000004, 5360.630000000001, 2938.91, 1582.8, 26626.8, 1971.87, 328.58000000000004, 847.45, 1415.65, 1116.47, 6675.710000000001, 1750.9200000000003, 891.21, 709.99, 705.7899999999998, 1540.42, 800.6699999999996, 479.90999999999997, 1545.4100000000003, 1301.9099999999999, 974.9599999999999, 1482.0600000000002, 2022.9800000000002, 1051.4, 1511.8000000000002, 798.35, 609.3, 1841.18, 2158.1800000000003, 811.23, 1422.4, 1298.66, 1595.96, 625.4200000000001, 752.77, 2494.46, 648.26, 1599.52, 2965.69, 918.33, 874.5899999999999, 1624.14, 1244.59, 6748.8, 1082.81, 1388.81, 2298.97, 837.0999999999999, 3313.79, 841.4100000000001, 1421.69, 813.5199999999999, 1187.6599999999999, 2647.5899999999997, 2188.05, 1154.4700000000003, 1680.72, 1257.51, 688.33, 6773.97, 1212.6600000000003, 8625.800000000001, 874.43, 1348.88, 1592.12, 1770.3400000000001, 1027.9999999999998, 2959.88, 1260.86, 531.3499999999999, 3029.8700000000003, 2467.99, 1651.03, 6910.78, 3843.0800000000004, 1358.7400000000002, 1048.28, 7205.33, 2247.4100000000003, 2213.13, 1291.9099999999999, 7180.7, 836.06, 1515.8999999999999, 1764.7199999999998, 1475.4299999999998, 789.79, 1207.24, 5575.5599999999995, 757.0999999999999, 2242.6099999999997, 1545.6200000000001, 1705.7799999999997, 1196.5, 1162.65, 914.69, 1652.18, 1604.75, 1106.53, 3170.9799999999996, 1869.82, 10196.570000000002, 817.1200000000001, 2812.34, 2095.53, 846.62, 1491.43, 450.4100000000001, 742.4300000000001, 518.19, 501.03, 1271.06, 887.11, 1706.88, 928.76, 1508.9599999999998, 2555.5800000000004, 621.6800000000001, 562.41, 1068.8200000000002, 2592.25, 829.8900000000001, 2814.7, 1295.3899999999999, 563.23, 3049.88, 4345.5, 1286.2700000000002, 2085.08, 507.05, 2154.9700000000003, 1852.0, 4459.52, 1616.8000000000002, 1614.3099999999997, 1312.14, 781.78, 889.9299999999998, 583.4300000000001, 1838.6100000000001, 1258.08, 877.56, 745.5200000000001, 1071.49, 1036.5800000000002, 1735.18, 3185.64, 1356.3300000000002, 3080.39, 5232.23, 1461.14, 2709.7, 2429.03, 1446.0900000000001, 834.1199999999999, 2003.85, 2747.99, 1562.4, 2050.08, 1991.0100000000002, 1974.6500000000003, 1774.0300000000002, 1324.1599999999999, 1022.1299999999999, 954.42, 971.74, 1621.73, 10797.48, 881.29, 801.12, 837.4999999999997, 4892.240000000001, 1139.73, 984.5699999999999, 1714.59, 1266.97, 1538.88, 3518.0299999999997, 1715.46, 2467.35, 3766.5999999999995, 1443.69, 783.9700000000003, 3347.31, 2474.23, 2093.68, 1699.3000000000002, 692.2199999999999, 3560.08, 2317.2200000000003, 2781.2300000000005, 1059.12, 3187.5499999999997, 334.48, 939.3199999999999, 916.1300000000001, 381.97, 271.19, 2148.6300000000006, 1685.46, 1647.48, 1049.0600000000002, 1417.63, 931.02, 513.01, 656.61, 1135.63, 8631.310000000001, 2328.84, 2527.92, 657.16, 906.52, 986.4799999999999, 1981.06, 12353.29, 519.69, 1156.6, 1281.3200000000004, 568.2400000000001, 1878.8700000000001, 418.40000000000003, 1337.18, 4058.32, 389.72, 2686.4200000000005, 746.81, 7330.8, 681.41, 2097.84, 2633.8499999999995, 1031.41, 2184.42, 1214.72, 778.9399999999999, 1258.0600000000002, 6893.42, 759.1700000000001, 2248.56, 2940.04, 316.49999999999994, 657.3, 735.82, 763.28, 1870.9700000000003, 1125.0700000000002, 1255.59, 2092.32, 689.0999999999999, 2997.03, 6083.639999999999, 2924.99, 764.8799999999999, 1844.02, 723.21, 1070.71, 1195.9, 887.67, 642.3199999999999, 1952.4499999999998, 480.31, 1122.3799999999999, 869.77, 1425.67, 448.8999999999999, 1242.3000000000002, 1116.68, 2404.17, 1468.02, 2203.67, 386.69000000000005, 2806.69, 1105.78, 2048.45, 4544.55, 930.2800000000001, 843.48, 2020.4, 1324.8400000000001, 2358.59, 1797.5, 4867.72, 1207.56, 2638.9400000000005, 1674.6900000000003, 1802.9100000000003, 728.1599999999999, 2055.51, 3406.72, 1572.7100000000003, 3178.17, 1594.9699999999998, 1371.18, 4726.8, 2285.7100000000005, 1824.37, 798.74, 5655.99, 5396.04, 1195.94, 2424.04, 1060.25, 1879.05, 2791.3500000000004, 1664.6499999999999, 3408.2000000000003, 819.96, 772.5500000000001, 2081.9, 1213.73, 647.56, 1817.54, 1964.3000000000002, 690.0, 780.4300000000002, 3039.17, 1187.21, 1285.04, 546.04, 5411.91, 699.81, 3704.87, 1820.0900000000001, 342.23999999999995, 1541.23, 2720.8, 5391.210000000001, 26879.04, 3160.0, 554.85, 10526.32, 1157.8700000000001, 1848.9600000000005, 664.34, 695.07, 869.28, 716.0, 1118.96, 329.35999999999996, 820.2299999999999, 2962.500000000001, 1740.4799999999998, 1331.57, 380.13, 4301.22, 4020.04, 1296.44, 2599.1899999999996, 1098.4299999999998, 703.99, 732.41, 1962.46, 415.13, 1477.66, 612.72, 418.6799999999999, 713.8900000000001, 529.29, 2119.41, 2009.24, 3859.82, 2611.75, 3613.1499999999996, 680.8399999999999, 9068.26, 3017.3, 849.06, 1403.1100000000001, 1131.75, 1059.3899999999999, 2888.7500000000005, 675.64, 1618.69, 1340.87, 1793.1700000000003, 2001.0399999999997, 686.6300000000001, 1975.35, 1041.6100000000001, 5228.050000000001, 2810.1999999999994, 2071.7699999999995, 1796.4800000000002, 882.24, 987.1000000000001, 2232.4900000000002, 2337.6300000000006, 2338.6000000000004, 2628.3499999999995, 1213.1599999999999, 1837.2800000000002]}, {\"marker\": {\"color\": \"red\", \"line\": {\"width\": 1}, \"opacity\": 0.9, \"size\": 11}, \"mode\": \"markers\", \"name\": \"Gold\", \"type\": \"scatter\", \"x\": [31, 58, 23, 11, 52, 33, 17, 77, 40, 27, 32, 93, 64, 27, 59, 5, 54, 26, 61, 38, 34, 29, 39, 30, 36, 31, 50, 36, 12, 58, 22, 22, 43, 15, 38, 35, 83, 38, 36, 31, 26, 14, 23, 9, 22, 68, 33, 35, 51, 26, 18, 17, 16, 63, 34, 21, 19, 50, 57, 20, 11, 19, 34, 29, 87, 11, 4, 35, 68, 18, 21, 27, 3, 60, 65, 19, 32, 41, 38, 86, 31, 39, 24, 31, 31, 20, 48, 43, 38, 36, 13, 33, 48, 32, 39, 37, 27, 41, 53, 77, 20, 55, 39, 53, 46, 26, 43, 38, 27, 131, 63, 4, 95, 18, 45, 32, 55, 25, 20, 45, 14, 28, 47, 29, 46, 5, 25, 25, 27, 34, 52, 47, 46, 107, 66, 47, 10, 13, 71, 82, 79, 31, 22, 71, 27, 30, 25, 96, 70, 30, 97, 17, 16, 10, 19, 22, 20, 20, 28, 83, 13, 31, 27, 31, 47, 1, 40, 26, 45, 10, 71, 37, 27, 48, 28, 35, 76, 48, 2, 22, 6, 18, 21, 25, 47, 30, 55, 1, 45, 23, 6, 4, 74, 15, 79, 13, 30, 46, 67, 2, 29, 63, 8, 22, 90, 21, 66, 43, 58, 36, 67, 57, 16, 25, 26, 23, 36, 13, 1, 81, 87, 30, 8, 46, 82, 37, 42, 31, 54, 2, 81, 26, 20, 25, 12, 17, 53, 21, 51, 54, 42, 16, 24, 51, 32, 42, 89, 23, 39, 23, 37, 53, 97, 35, 38, 39, 3, 11, 27, 28, 24, 19, 28, 78, 29, 71, 46, 12, 19, 27, 41, 21, 86, 58, 69, 34, 86, 50, 35, 52, 18, 59, 36, 27, 6, 66, 25, 37, 78, 34, 32, 49, 81, 38, 33, 25, 23, 53, 8, 21, 58, 26, 35, 23, 27, 40, 72, 44, 92, 11, 62, 8, 40, 57, 28, 56, 49, 16, 103, 52, 25, 60, 6, 48, 104, 43, 28, 20, 43, 33, 34, 63, 28, 24, 75, 35, 25, 57, 15, 22, 31, 11, 39, 23, 13, 35, 36, 57, 28, 24, 36, 59, 40, 92, 20, 5, 93, 23, 30, 23, 35, 39, 27, 21, 27, 17, 19, 43, 26, 33, 18, 30, 28, 20, 41, 21, 27, 58, 23, 31, 45, 39, 25, 90, 28, 15, 54, 16, 13, 41, 47, 30, 42, 34, 39, 20, 39, 31, 86, 92, 6, 85, 56, 10, 52, 44, 42, 65, 150, 68, 21, 35, 74, 34, 10, 15, 44, 46, 66, 28, 26, 11, 26, 49, 52, 46, 41, 104, 29, 50, 58, 29, 26, 41, 24, 42, 39, 37, 39, 24, 9, 7, 41, 60, 40, 50, 35, 75, 53, 31, 55, 33, 29, 64, 32, 9, 33, 24, 36, 28, 25, 21, 71, 60, 31, 47, 9, 33, 40, 37, 46, 56, 14, 45, 73, 20, 97, 14, 29, 27, 1, 17, 12, 32, 63, 93, 20, 105, 60, 37, 123, 29, 42, 10, 13, 14, 46, 46, 55, 69, 18, 4, 17, 18, 213, 64, 19, 32, 19, 16, 69, 4, 33, 12, 227, 24, 17, 98, 29, 50, 7, 16, 53, 24, 41, 28, 16, 31, 26, 101, 29, 98, 166, 123, 61, 48, 68, 22, 25, 51, 37, 47, 71, 45, 17, 89, 69, 5, 30, 41, 19, 71, 39, 5, 52, 60, 35, 27, 3, 57, 44, 12, 63, 48, 29, 70, 17, 6, 28, 9, 20, 60, 4, 36, 47, 46, 11, 15, 6, 23, 43, 20, 30, 77, 45, 57, 10, 34, 3, 19, 20, 54, 77, 59, 27, 81, 36, 6, 37, 34, 32, 72, 39, 4, 60, 26, 74, 77, 154, 132, 20, 122, 33, 20, 31, 67, 61, 35, 52, 119, 3, 94, 25, 57, 42, 70, 26, 41, 27, 49, 47, 33, 30, 47, 25, 3, 23, 8, 35, 67, 60, 35, 21, 21, 28, 82, 29, 26, 91, 20, 23, 22, 71, 7, 29, 16, 62, 21, 19, 51, 19, 13, 69, 37, 9, 52, 35, 20, 31, 22, 34, 47, 23, 82, 11, 2, 63, 41, 49, 20, 39, 7, 28, 23, 58, 47, 37, 33, 36, 42, 48, 13, 35, 98, 86, 17, 24, 21, 26, 20, 71, 61, 13, 29, 44, 4, 27, 12, 12, 12, 42, 53, 47, 28, 53, 6, 82, 29, 62, 30, 56, 58, 155, 57, 24, 24, 76, 29, 45, 35, 15, 45, 92, 18, 56, 1, 72, 41, 15, 80, 29, 55, 31, 19, 31, 97, 152, 48, 9, 24, 77, 22, 3, 16, 34, 64, 49, 15, 25, 25, 232, 52, 32, 21, 6, 48, 17, 33, 21, 33, 19, 18, 86, 55, 34, 117, 32, 70, 26, 20, 10, 28, 191, 45, 37, 27, 10, 21, 20, 14, 34, 12, 42, 8, 98, 31, 35, 89, 41, 40, 62, 68, 51, 39, 66, 54, 24, 27, 47, 22, 93, 80, 18, 40, 43, 74, 96, 18, 85, 60, 47, 30, 21, 18, 29, 19, 42, 28, 80, 20, 24, 96, 49, 37, 26, 3, 32, 33, 79, 32, 28, 71, 63, 28, 32, 16, 98, 55, 39, 26, 65, 6, 39, 83, 34, 70, 66, 73, 33, 21, 31, 39, 51, 39, 76, 48, 16, 30, 38, 40, 35, 37, 31, 35, 30, 29, 22, 18, 29, 18, 20, 69, 23, 58, 15, 28, 45, 31, 11, 35, 50, 63, 19, 66, 23, 41, 44, 37, 122, 96, 47, 37, 22, 20, 19, 51, 91, 18, 61, 45, 54, 25, 65, 23, 17, 27, 22, 4, 42, 37, 16, 69, 19, 56, 37, 111, 18, 39, 141, 37, 28, 39, 34, 18, 92, 109, 31, 98, 33, 57, 81, 34, 83, 82, 72, 23, 59, 44, 47, 95, 50, 18, 76, 24, 84, 63, 40, 28, 17, 35, 53, 18, 42, 29, 39, 56, 50, 11, 84, 83, 4, 40, 156, 17, 31, 54, 25, 32, 84, 31, 19, 18, 35, 5, 57, 42, 28, 28, 33, 27, 53, 85, 12, 7, 30, 29, 34, 30, 33, 9, 29, 48, 20, 60, 62, 19, 24, 29, 16, 32, 52, 20, 6, 93, 62, 59, 5, 27, 87, 44, 25, 42, 145, 82, 28, 52, 1, 95, 2, 22, 34, 54, 48, 71, 48, 59, 148, 5, 66, 75, 24, 60, 98, 93, 67, 28, 28, 26, 26, 28, 22, 23, 63, 20, 9, 19, 2, 52, 26, 7, 39, 26, 36, 135, 62, 56, 86, 18, 30, 55, 53, 48, 61, 56, 33, 19, 42, 86, 16, 31, 42, 41, 39, 81, 22, 3, 7, 12, 37, 23, 49, 16, 2, 22, 28, 75, 22, 6, 22, 65, 43, 83, 62, 69, 61, 62, 25, 28, 63, 52, 90, 29, 35, 35, 248, 23, 35, 14, 23, 20, 13, 54, 80, 60, 19, 29, 57, 25, 27, 48, 47, 69, 35, 25, 29, 19, 40, 31, 54, 69, 86, 18, 74, 116, 12, 122, 73, 37, 6, 25, 69, 44, 68, 49, 30, 59, 55, 9, 73, 33, 6, 28, 157, 31, 27, 8, 16, 44, 58, 15, 29, 33, 57, 69, 49, 15, 45, 15, 56, 38, 32, 6, 30, 30, 26, 39, 43, 48, 54, 9, 36, 19, 61, 19, 29, 27, 5, 174, 29, 21, 29, 27, 5, 38, 52, 88, 20, 87, 30, 33, 47, 25, 49, 2, 34, 27, 45, 49, 25, 23, 50, 55, 13, 63, 56, 98, 26, 33, 39, 20, 35, 40, 51, 52, 19, 43, 15, 27, 30, 46, 35, 31, 23, 29, 10, 40, 67, 35, 43, 25, 10, 35, 25, 19, 56, 21, 38, 54, 50, 81, 67, 68, 5, 52, 45, 33, 30, 23, 61, 24, 52, 1, 51, 24, 15, 40, 46, 26, 53, 91, 108, 19, 34, 33, 39, 58, 92, 23, 21, 23, 5, 65, 21, 2, 71, 20, 98, 57, 21, 30, 21, 38, 79, 91, 53, 22, 30, 30, 46, 9, 94, 19, 43, 3, 19, 27, 7, 37, 2, 17, 1, 29, 2, 36, 40, 38, 18, 37, 26, 72, 34, 52, 46, 20, 38, 61, 16, 37, 38, 21, 25, 34, 39, 24, 37, 130, 38, 54, 31, 1, 97, 41, 1, 68, 45, 7, 68, 32, 42, 26, 31, 19, 30, 37, 88, 6, 4, 47, 8, 16, 94, 21, 46, 3, 14, 12], \"y\": [1797.24, 1079.3999999999999, 552.0, 168.89999999999998, 1298.0400000000002, 742.93, 457.5, 1628.12, 852.24, 585.2700000000001, 549.84, 439.66, 1582.6000000000001, 1272.48, 1108.65, 427.7, 1710.3900000000003, 693.3299999999999, 1226.88, 758.1, 668.58, 600.3900000000001, 803.5599999999998, 1760.9599999999996, 777.1999999999999, 825.8, 806.14, 7829.890000000001, 172.06, 1002.3100000000001, 449.4500000000001, 430.57, 707.0899999999999, 3528.34, 947.4, 826.88, 1344.7800000000002, 729.54, 723.3799999999999, 527.2, 460.40000000000003, 1043.1, 403.7, 482.04999999999995, 1304.81, 397.88, 982.5699999999999, 612.2900000000001, 1017.6800000000001, 1312.06, 348.71000000000004, 125.22, 349.83000000000004, 1089.18, 716.35, 363.95, 372.70000000000005, 1000.39, 964.83, 437.82, 269.96000000000004, 351.65, 519.61, 440.41999999999996, 2040.0999999999997, 196.94000000000003, 144.0, 646.6800000000001, 9864.26, 437.6, 418.0999999999999, 618.27, 739.1999999999999, 1126.8500000000001, 1193.32, 704.04, 713.3, 352.97999999999996, 641.13, 2683.82, 640.5, 671.69, 3344.6399999999994, 477.90999999999997, 623.51, 314.44, 919.98, 2209.85, 601.9799999999999, 686.05, 245.10000000000002, 620.1300000000001, 1113.02, 1035.8, 855.91, 869.67, 582.1, 957.5899999999999, 797.71, 1149.0200000000002, 343.35999999999996, 1030.98, 644.95, 997.6300000000001, 836.3299999999999, 453.01000000000005, 779.57, 1013.0400000000001, 427.59999999999997, 540.13, 3010.7400000000002, 3811.9499999999994, 1531.4400000000003, 494.08000000000004, 1693.88, 1143.6, 892.4700000000001, 826.74, 463.65999999999997, 860.41, 430.48, 483.65000000000003, 1063.46, 572.2, 948.8800000000002, 1759.5, 397.11999999999995, 430.15, 383.03000000000003, 1118.99, 325.96, 131.80999999999997, 1106.4, 1607.0600000000002, 599.9700000000001, 854.99, 573.22, 1463.0399999999997, 1175.2199999999998, 1378.3999999999999, 376.71999999999997, 176.54999999999998, 372.8, 496.06, 162.77999999999997, 933.7000000000002, 415.8, 899.69, 675.6, 604.5099999999999, 1603.99, 329.85, 266.39, 160.18, 1660.9, 738.6, 7374.9, 372.2199999999999, 558.7, 505.82000000000005, 409.5000000000001, 503.76000000000005, 414.75999999999993, 534.8500000000001, 789.8899999999999, 204.0, 689.9000000000001, 6912.0, 661.3200000000002, 1247.5, 1010.1800000000002, 642.7700000000001, 921.88, 881.07, 908.46, 629.31, 1214.41, 470.79999999999995, 344.0, 919.6100000000001, 220.09999999999997, 303.75, 345.82000000000005, 477.83000000000004, 786.54, 501.14, 922.39, 3096.0, 422.47, 307.0899999999999, 618.52, 712.8000000000001, 1257.8700000000003, 486.22, 1201.06, 712.88, 108.81, 468.40999999999997, 481.49000000000007, 114.60000000000001, 260.67999999999995, 911.9400000000002, 250.26000000000002, 353.48, 1520.58, 819.29, 847.4100000000001, 605.1199999999999, 1031.0700000000002, 744.85, 663.6500000000001, 585.12, 430.5, 501.11999999999995, 465.67999999999995, 711.41, 1030.3999999999999, 399.51, 0.0, 283.18, 211.48999999999992, 590.93, 258.4, 542.73, 798.46, 1132.14, 361.11, 578.9399999999999, 873.74, 360.0, 618.09, 598.57, 640.7600000000001, 199.48, 675.3, 789.0, 1140.93, 350.9, 795.1200000000001, 860.12, 775.8499999999999, 247.32, 397.97999999999996, 743.5300000000001, 674.7, 768.2400000000001, 609.4000000000001, 439.55999999999995, 754.8700000000001, 378.63999999999993, 778.65, 1019.76, 572.56, 677.1, 1544.1299999999999, 621.2300000000002, 75.0, 252.49, 572.4509999999999, 1003.0600000000002, 1390.5, 712.5, 640.83, 1624.2100000000003, 582.6, 201.78, 1269.1, 196.88999999999996, 291.88000000000005, 1445.0000000000002, 674.6800000000001, 422.64000000000004, 1431.7800000000002, 1238.47, 1122.4099999999999, 575.4000000000001, 1215.8199999999997, 1269.84, 653.3299999999999, 1340.32, 291.99999999999994, 891.12, 627.1600000000001, 680.1800000000001, 628.78, 210.30999999999995, 1280.8500000000001, 631.34, 276.06, 584.06, 171.42, 777.53, 1724.67, 240.22, 1384.2499999999998, 290.25, 467.0400000000001, 781.03, 712.4, 379.65000000000003, 1117.1299999999997, 396.97, 160.04000000000005, 428.89, 164.34, 276.75, 1154.4, 544.1800000000001, 1638.47, 3070.42, 1071.03, 122.64, 1033.3400000000001, 312.28000000000003, 519.44, 932.97, 379.65000000000003, 382.14, 1563.0, 881.26, 349.7, 387.44000000000005, 910.0, 806.41, 1077.3899999999999, 799.9, 524.1400000000001, 333.48, 752.6, 491.86000000000007, 668.4300000000001, 1080.52, 948.2499999999999, 1647.26, 1175.3799999999999, 741.26, 659.41, 286.78999999999996, 1714.9599999999998, 345.0, 309.04, 1516.0, 688.8600000000001, 324.79999999999995, 924.5999999999999, 1499.0100000000002, 539.0, 1579.1200000000001, 571.6700000000001, 382.97999999999996, 1140.35, 385.64, 957.66, 409.8, 361.62, 1255.0, 1595.4800000000002, 1090.1399999999999, 501.56, 389.59999999999997, 1271.5699999999997, 595.67, 632.97, 821.1000000000001, 564.6200000000001, 311.15999999999997, 388.52, 740.9499999999999, 332.64000000000004, 626.45, 272.03999999999996, 1212.8400000000004, 384.81000000000006, 351.13000000000005, 678.25, 348.99000000000007, 464.57, 1237.53, 608.7899999999998, 922.0999999999999, 568.55, 674.4499999999998, 439.92, 594.04, 413.59, 196.79, 869.8699999999998, 920.51, 320.46000000000004, 1266.08, 529.7299999999999, 962.1899999999999, 695.6099999999999, 473.02, 505.18, 917.34, 642.8000000000001, 584.0699999999999, 648.8900000000001, 1560.3799999999994, 1659.75, 409.93, 225.36, 725.6400000000001, 374.7, 118.67, 499.4200000000001, 1049.37, 921.62, 191.47, 147.34999999999997, 5976.790000000001, 1266.23, 597.9100000000001, 692.85, 706.1300000000001, 709.7099999999999, 637.5000000000002, 480.9100000000001, 605.6399999999999, 415.81999999999994, 3742.2, 658.64, 621.29, 1345.62, 424.89000000000004, 507.65999999999997, 1097.62, 1631.7700000000004, 562.59, 363.79, 450.8400000000001, 134.46, 549.46, 452.89, 853.3900000000001, 701.4, 747.4400000000002, 150.60999999999996, 466.70000000000005, 1070.48, 89.94, 683.1700000000001, 991.1300000000001, 1547.2, 925.71, 1462.7200000000003, 1474.0600000000002, 969.06, 530.18, 1516.24, 437.96000000000004, 559.97, 1119.7400000000002, 595.25, 176.63, 2093.3199999999997, 508.58, 605.0600000000001, 462.65999999999997, 840.21, 668.5600000000002, 889.9300000000002, 1021.58, 133.5, 1078.9600000000003, 163.62, 701.23, 225.12, 151.50000000000003, 348.1, 202.68, 202.10999999999999, 1043.46, 487.99000000000007, 1475.8100000000002, 1496.98, 490.2200000000001, 387.52, 813.1100000000001, 322.08, 363.34000000000003, 1372.8, 2661.24, 1589.82, 1420.2, 375.35, 643.9000000000001, 259.05, 1837.92, 1038.44, 547.6600000000001, 925.8499999999999, 1309.6000000000001, 279.05, 321.92, 162.8, 1064.2800000000002, 268.05000000000007, 990.2, 330.45000000000005, 270.6, 974.54, 364.21999999999997, 578.6099999999999, 932.8500000000001, 388.24999999999994, 537.48, 312.54, 788.38, 1080.76, 1432.0, 1530.3600000000001, 227.38999999999996, 1639.8200000000002, 168.63, 138.6, 1033.0600000000002, 157.05, 221.97, 213.96000000000004, 553.44, 899.63, 671.9599999999999, 1006.98, 609.8500000000001, 443.6, 693.81, 830.76, 653.7499999999998, 247.14999999999998, 636.24, 1259.2400000000002, 392.86, 765.55, 355.05000000000007, 591.5500000000001, 318.16999999999996, 917.07, 307.50999999999993, 663.8100000000002, 655.5800000000002, 313.49000000000007, 380.02000000000004, 1164.55, 1448.2099999999998, 1220.2600000000002, 389.63999999999993, 563.1499999999999, 638.05, 420.50000000000006, 1484.06, 254.11, 192.60000000000002, 876.42, 1011.8999999999999, 730.8599999999999, 447.68, 77.4, 189.34, 845.55, 353.27, 1110.3400000000001, 657.8, 507.28999999999996, 321.42999999999995, 2139.76, 102.44999999999999, 511.3499999999999, 475.79999999999995, 645.65, 1173.12, 52.2, 710.28, 1465.3199999999997, 690.59, 589.7, 765.3199999999999, 1862.0, 655.7499999999999, 468.77000000000004, 332.66, 434.35, 1268.98, 1610.1499999999996, 977.77, 1784.71, 1621.88, 100.9, 371.2, 311.69000000000005, 285.67, 294.84999999999997, 695.4199999999998, 221.26999999999998, 596.09, 183.01999999999998, 463.8, 147.59000000000003, 1592.06, 1314.4499999999998, 790.86, 202.37, 326.4, 231.98000000000002, 546.2, 414.87, 490.52000000000004, 1220.77, 480.38000000000005, 308.94, 405.04, 257.66999999999996, 125.58000000000001, 496.21, 361.96, 469.0, 1066.15, 4959.1, 429.56, 537.0, 381.0, 1489.5, 987.86, 893.59, 1109.5300000000002, 982.07, 735.6700000000001, 773.03, 880.8499999999999, 895.61, 504.79999999999995, 480.71, 1370.6, 248.07999999999998, 39916.5, 410.48, 317.53, 703.3599999999999, 993.5400000000001, 1300.25, 996.1, 340.11, 358.8199999999999, 457.72, 1633.7799999999997, 982.4199999999998, 498.74000000000007, 1327.16, 301.29, 520.8, 329.25, 254.27999999999997, 401.4000000000001, 304.4699999999999, 689.48, 402.2, 310.62, 411.41, 1044.3200000000002, 499.31999999999994, 1268.6999999999998, 1236.54, 653.24, 420.3, 894.41, 734.9399999999999, 755.75, 612.0600000000001, 316.68, 631.5699999999999, 890.85, 393.7400000000001, 1506.12, 1717.36, 408.8, 721.94, 615.14, 128.63, 486.69, 641.94, 4507.01, 496.43999999999994, 694.4000000000002, 1174.35, 924.85, 570.5000000000001, 312.62, 267.13000000000005, 679.68, 161.74, 714.9599999999999, 1661.06, 350.82, 574.0699999999999, 2020.52, 406.09, 364.5, 563.9399999999999, 393.53999999999996, 463.9099999999999, 770.1200000000001, 427.92999999999995, 913.1900000000002, 602.5100000000001, 446.94000000000005, 2007.4, 316.88, 231.86, 716.2, 626.77, 510.71000000000004, 559.6099999999998, 508.80000000000007, 950.36, 93.78, 397.35, 149.29000000000002, 383.68, 429.84, 528.48, 434.59000000000003, 1044.65, 334.53000000000003, 467.51, 538.5500000000001, 371.5600000000001, 454.10999999999996, 905.5, 659.4599999999998, 1262.2, 475.86000000000007, 1000.2700000000001, 343.5, 397.98999999999995, 440.0, 502.90000000000003, 538.46, 213.30000000000004, 288.97, 436.05999999999995, 428.92999999999995, 279.77, 468.90999999999997, 1375.71, 591.1899999999999, 675.64, 327.59999999999997, 913.6800000000001, 388.58, 1406.5900000000001, 324.57, 336.40000000000003, 1293.03, 588.13, 1534.26, 675.8000000000001, 243.55, 724.76, 425.32, 803.54, 612.01, 646.3, 337.74, 877.4399999999999, 1024.1, 386.43, 684.34, 323.69, 657.23, 239.76, 309.6499999999999, 696.6799999999998, 1060.56, 330.03, 1101.1100000000001, 415.25, 1120.88, 1339.45, 144.35999999999999, 44534.3, 458.57, 528.01, 714.4200000000001, 583.75, 621.83, 635.6800000000001, 1047.1100000000001, 345.46000000000004, 246.3, 218.75000000000003, 965.6099999999999, 610.01, 2207.4, 884.14, 784.5799999999999, 515.77, 1391.98, 1801.14, 1303.9099999999999, 570.9599999999999, 1654.3100000000002, 636.1399999999998, 576.0, 794.64, 836.7900000000001, 391.98, 355.55999999999995, 1224.06, 389.2699999999999, 234.88, 712.24, 68.84, 895.13, 211.89, 351.44000000000005, 329.03, 379.35, 420.07, 511.67999999999995, 337.28000000000003, 164.67999999999998, 426.63000000000005, 404.58, 1708.24, 364.72, 428.89000000000004, 470.76000000000005, 397.67999999999995, 666.0999999999999, 371.01, 427.64000000000004, 1098.78, 1142.4199999999998, 156.78, 41.989999999999995, 414.27000000000004, 478.78000000000003, 392.4, 211.88, 408.90000000000003, 602.6300000000001, 251.03, 439.65999999999997, 236.09, 934.6199999999999, 547.9000000000001, 758.9199999999998, 855.0200000000001, 471.78, 1313.5500000000002, 3166.4, 773.99, 1340.7, 362.05999999999995, 783.9000000000001, 650.75, 367.14, 852.15, 326.24, 1317.62, 1121.3899999999999, 817.86, 731.8999999999997, 1290.6999999999998, 842.5, 423.36, 1309.14, 684.42, 656.25, 618.09, 709.3800000000002, 635.4100000000001, 725.1800000000001, 620.4, 734.1299999999999, 374.99999999999994, 280.52000000000004, 1829.0399999999997, 656.6899999999999, 1025.44, 1140.2100000000003, 1009.55, 1037.5900000000001, 331.95, 6617.65, 1158.79, 529.4100000000001, 215.47999999999996, 592.9, 384.18, 537.0600000000001, 394.38, 664.26, 547.0200000000001, 690.3399999999999, 1062.75, 914.9299999999998, 773.5500000000001, 1295.3, 1010.5999999999998, 990.8799999999999, 536.68, 432.19999999999993, 414.2, 409.1, 1522.75, 1035.45, 861.8899999999999, 667.6500000000001, 1141.2399999999996, 411.7, 351.75, 566.38, 2062.0600000000004, 598.1999999999999, 361.21999999999986, 2560.0, 706.57, 616.26, 274.15000000000003, 1341.65, 328.15, 1038.46, 326.74999999999994, 408.58999999999986, 594.24, 251.91, 534.31, 565.46, 494.44, 395.8, 658.88, 327.3, 355.72999999999996, 466.72999999999996, 1743.15, 643.7599999999999, 584.5, 554.8599999999999, 302.56999999999994, 1382.0699999999997, 1555.3400000000001, 1705.8, 408.02, 443.05000000000007, 154.35000000000002, 211.7, 200.26999999999995, 631.1200000000001, 958.71, 346.12, 623.2799999999999, 381.2, 654.6700000000001, 230.51000000000002, 707.69, 544.3, 331.0, 300.83, 769.29, 220.62, 363.65, 498.79999999999995, 731.5, 1351.63, 826.5299999999999, 400.86, 1431.9299999999998, 465.88000000000005, 777.6, 484.32000000000005, 1046.57, 244.41000000000003, 593.75, 548.12, 787.15, 922.12, 5719.82, 511.12, 1077.74, 614.6600000000001, 865.6, 124.2, 1009.6, 663.61, 451.43999999999994, 936.0799999999998, 459.24, 330.03000000000003, 181.09, 360.15999999999997, 250.14999999999998, 90.04000000000002, 242.69999999999996, 528.0799999999999, 482.47, 618.5900000000001, 500.42, 178.96, 813.4800000000001, 810.5699999999999, 322.80000000000007, 408.63, 833.78, 290.65999999999997, 518.4200000000001, 601.2699999999999, 1267.6499999999999, 118.97999999999999, 567.18, 306.71999999999997, 1692.27, 304.24, 324.24, 477.85999999999996, 1998.0, 656.6300000000001, 1129.06, 606.0500000000001, 152.95, 576.4, 758.27, 743.11, 603.7499999999999, 646.76, 464.9, 623.9300000000001, 2002.4, 369.34000000000003, 1145.5999999999997, 478.0899999999999, 661.52, 371.54, 222.62, 422.24, 594.3899999999999, 80.8, 414.87999999999994, 1594.23, 332.3, 536.99, 460.5899999999999, 762.1600000000001, 1121.59, 547.0699999999999, 417.06000000000006, 497.61, 460.64, 775.1800000000001, 341.70000000000005, 325.90999999999997, 1264.19, 342.45000000000005, 144.91, 328.40000000000003, 35.400000000000006, 747.8100000000001, 502.8, 680.02, 705.12, 429.84000000000003, 192.33, 1578.67, 202.26999999999998, 363.2, 559.5900000000003, 379.14, 183.75999999999996, 154.18, 378.89, 150.23, 931.0300000000002, 261.90000000000003, 816.7299999999999, 435.02000000000004, 1178.56, 1277.7500000000002, 308.74, 439.43, 650.4100000000001, 357.21, 344.3299999999999, 1028.46, 384.06, 1873.2, 126.12, 1133.25, 1456.9600000000003, 484.82, 1493.7300000000002, 920.1, 716.0, 380.35, 1030.14, 1267.32, 112.40000000000002, 948.48, 339.43999999999994, 1100.8999999999999, 925.35, 399.0899999999999, 1179.8899999999999, 533.3299999999999, 855.4499999999999, 304.23999999999995, 841.0799999999999, 378.20000000000005, 288.91, 1405.78, 665.7799999999999, 231.60999999999999, 606.91, 230.5, 989.45, 413.2, 749.78, 1689.5, 329.34, 251.69999999999993, 319.0, 835.7800000000002, 711.79, 383.75000000000006, 444.74, 1013.01, 1564.56, 114.23, 328.65, 416.89, 318.76000000000005, 3638.41, 417.77, 190.88, 550.0600000000002, 314.69, 1135.04, 954.9, 280.09000000000003, 318.65000000000003, 348.90999999999997, 178.26, 291.47999999999996, 581.2299999999999, 1253.3600000000001, 550.0100000000001, 296.58, 317.2, 763.64, 107.82, 1065.3500000000001, 151.37, 547.0, 128.18, 498.42, 163.24, 1384.85, 2600.34, 1200.6200000000001, 523.11, 363.9, 494.25, 682.29, 157.61999999999998, 587.15, 1740.0, 1393.06, 384.39, 360.80999999999995, 127.85999999999999, 488.20000000000005, 446.17999999999995, 646.9200000000001, 400.09999999999997, 193.39, 336.4, 256.11, 1259.5600000000002, 417.27, 653.38, 263.92, 778.0, 463.46, 598.83, 698.41, 524.9200000000001, 403.3, 365.76, 303.15999999999997, 216.3, 541.53, 486.71999999999997, 517.53, 1737.7, 622.43, 675.6899999999999, 137.0, 697.5400000000001, 511.82, 414.04, 376.63999999999993, 497.56000000000006, 1138.0, 558.9599999999999, 1145.84, 605.58, 308.48, 639.02, 546.81, 652.74, 939.37, 578.9, 930.41, 1487.6, 541.4599999999999, 854.9500000000002, 165.11999999999998, 454.01, 380.59999999999997, 1240.2, 993.1800000000001, 2044.37, 161.67000000000002, 309.35999999999996, 191.99, 386.32, 1379.8999999999999, 527.0500000000001, 528.3300000000002, 285.55999999999995, 547.0600000000001, 712.29, 1008.39, 868.49, 595.42, 604.64, 347.75, 551.0400000000001, 1992.1100000000001, 740.9399999999998, 765.3400000000001, 885.1899999999999, 385.1, 522.91, 3276.4, 1033.0, 1240.11, 692.1899999999999, 700.63, 377.44, 168.24, 674.52, 287.59000000000003, 712.78, 367.63, 271.20000000000005, 1143.2699999999998, 245.81000000000003, 173.45, 650.32, 283.4699999999999, 266.8500000000001, 1117.9, 300.34, 342.82999999999987, 387.68, 889.24, 398.69999999999993, 155.37000000000003, 110.21, 318.15000000000003, 2033.1, 901.2, 114.34, 1418.0300000000002, 428.18, 683.4600000000002, 379.45, 156.34, 586.8900000000001, 541.8100000000002, 110.38, 181.07, 798.99, 366.23, 408.65, 335.03000000000003, 1304.0400000000002, 397.29, 212.54000000000002, 843.0, 408.36, 704.25, 77.50000000000001, 482.2, 1008.5400000000003, 463.21, 321.78999999999996, 288.14, 811.45, 631.3499999999999, 201.11999999999998, 674.89, 380.39000000000004, 226.47, 444.68, 2116.19, 162.22, 120.03000000000002, 230.64999999999998, 403.12000000000006, 357.2, 178.33999999999997, 170.16, 306.46, 720.5200000000001, 814.0, 396.33000000000004, 1231.5, 343.45, 90.47999999999999, 689.9499999999999, 4055.7199999999993, 2106.52, 222.4, 754.6400000000001, 113.48000000000002, 198.8, 352.69000000000005, 315.65, 574.4399999999999, 200.92000000000002, 347.08, 681.9100000000001, 784.3299999999998, 1000.1600000000001, 612.0799999999999, 566.5800000000002, 653.3499999999999, 399.18999999999994, 371.62000000000006, 453.4, 638.0600000000002, 399.65, 1384.86, 1160.04, 980.3100000000001, 1231.31, 2106.8400000000006, 104.0, 1590.81, 366.84999999999997, 49.8, 1090.2400000000002, 957.9699999999999, 973.8399999999999, 1396.9900000000002, 517.3599999999999, 600.07, 481.74999999999994, 621.7500000000001, 443.0, 779.9, 592.97, 1561.6100000000001, 422.58000000000004, 596.0999999999999, 804.02, 95.34, 4314.72, 518.27, 324.24, 801.5100000000001, 204.0, 335.8599999999999, 178.05]}, {\"marker\": {\"color\": \"black\", \"line\": {\"width\": 1}, \"opacity\": 0.9, \"size\": 13}, \"mode\": \"markers\", \"name\": \"Platinum\", \"type\": \"scatter\", \"x\": [17, 4, 13, 10, 22, 14, 10, 5, 11, 18, 30, 11, 16, 11, 4, 26, 8, 15, 20, 22, 23, 7, 31, 16, 17, 38, 12, 8, 5, 10, 21, 16, 21, 9, 28, 11, 24, 15, 22, 10, 26, 28, 12, 16, 20, 11, 11, 18, 22, 10, 21, 9, 5, 3, 10, 7, 16, 12, 21, 33, 19, 24, 12, 22, 4, 4, 11, 15, 4, 12, 14, 4, 21, 2, 25, 24, 13, 25, 25, 31, 15, 2, 4, 14, 6, 11, 9, 24, 18, 12, 27, 17, 3, 5, 3, 26, 11, 4, 2, 7, 7, 5, 3, 4, 10, 2, 22, 2, 28, 28, 8, 9, 23, 19, 5, 8, 9, 28, 4, 3, 28, 7, 6, 26, 4, 14, 3, 11, 13, 33, 18, 14, 18, 8, 8, 15, 10, 11, 14, 15, 9, 7, 6, 22, 6, 1, 8, 8, 1, 10, 1, 50, 15, 2, 3, 7, 3, 17, 4, 8, 41, 17, 11, 1, 37, 25, 3, 5, 4, 5, 5, 16, 9, 2, 10, 22, 13, 27, 8, 9, 11, 1, 15, 16, 9, 7, 13, 10, 5, 5, 20, 1, 21, 1, 11, 17, 19, 19, 20, 8, 14, 16, 29, 10, 1, 29, 14, 15, 35, 13, 1, 21, 26, 18, 16, 8, 10, 54, 13, 2, 17, 17, 9, 17, 10, 62, 15, 11, 10, 8, 23, 14, 8, 18, 19, 17, 22, 26, 12, 15, 10, 4, 8, 5, 15, 22, 75, 4, 14, 43, 27, 10, 24, 16, 19, 23, 13, 19, 19, 5, 23, 6, 13, 12, 83, 9, 6, 25, 16, 3, 29, 8, 9, 12, 14, 1, 20, 49, 8, 13, 10, 21, 12, 6, 38, 30, 3, 23, 25, 1, 9, 12, 7, 9, 17, 7, 13, 33, 17, 10, 7, 12, 13, 10, 15, 3, 28, 18, 1, 9, 14, 11, 28, 20, 7, 18, 7, 3, 28, 16, 19, 15, 12, 7, 11, 9, 17, 16, 26, 9, 7, 11, 5, 3, 33, 12, 11, 35, 2, 15, 11, 10, 11, 16, 5, 15, 11, 22, 28, 16, 6, 15, 38, 28, 6, 21, 14, 4, 6, 8, 7, 24, 13, 12, 4, 29, 13, 1, 25, 21, 9, 15, 3, 5, 22, 7, 5, 3, 28, 6, 25, 24, 31, 3, 7, 6, 2, 20, 10, 12, 21, 15, 9, 8, 10, 16, 20, 8, 5, 17, 29, 10, 8, 16, 5, 3, 13, 17, 20, 8, 31, 8, 12, 15, 31, 14, 6, 6, 18, 18, 1, 6, 11, 8, 4, 4, 66, 11, 7, 5, 25, 8, 14, 22, 3, 17, 9, 5, 9, 40, 22, 4, 16, 6, 7, 17, 18, 30, 9, 30, 17, 7, 6, 19, 29, 7, 10, 23, 12, 16, 12, 18, 10, 5, 4, 56, 10, 57, 29, 1, 6, 19, 3, 25, 2, 4, 3, 20, 26, 21, 13, 8, 20, 7, 2, 30, 28, 29, 80, 30, 4, 14, 7, 2, 15, 13, 8, 22, 8, 1, 10, 28, 10, 18, 5, 11, 21, 6, 9, 41, 6, 15, 6, 2, 14, 6, 12, 13, 11, 29, 4, 13, 2, 39, 4, 13, 21, 11, 6, 11, 13, 28, 17, 18, 20, 10, 7, 33, 17, 9, 12, 10, 11, 17, 14, 12, 41, 5, 13, 18, 17, 11, 8, 83, 40, 12, 20, 66, 7, 27, 66, 5, 12, 22, 3, 28, 5, 1, 5, 15, 23, 26, 11, 3, 17, 28, 1, 14, 15, 16, 22, 9, 13, 14, 28, 4, 27, 39, 5, 5, 11, 23, 3, 6, 29, 10, 9, 20, 5, 24, 2, 9, 5, 5, 14, 23, 8, 23, 14, 15, 33, 6, 18, 6, 7, 34, 19, 10, 12, 6, 12, 19, 16, 3, 24, 31, 12, 19, 1, 24, 1, 16, 29, 10, 16, 35, 17, 5, 9, 5, 14, 7, 16, 3, 8, 41, 31, 10, 1, 7, 14, 6, 8, 34, 10, 8, 6, 2, 17, 10, 41, 45, 25, 2, 5, 9, 28, 25, 58, 7, 56, 11, 7, 84, 2, 66, 13, 1, 7, 15, 27, 10, 4, 26, 24, 29, 28, 17, 14, 1, 8, 7, 39, 13, 31, 29, 5, 14, 2, 17, 13, 16, 6, 6, 19, 15, 33, 35, 24, 2, 34, 1, 11, 5, 9, 13, 1, 12, 12, 10, 9, 2, 12, 22, 5, 6, 6, 19, 7, 38, 11, 5, 14, 10, 8, 9, 3, 28, 1, 9, 7, 11, 25, 7, 18, 29, 25, 1, 8, 17, 1, 20, 10, 8, 11, 22, 30, 14, 15, 29, 23, 12, 12, 37, 11, 22, 4, 7, 19, 12, 40, 60, 24, 11, 21, 12, 12, 7, 1, 14, 6, 2, 7, 11, 4, 14, 8, 29, 22, 8, 10, 8, 23, 23, 1, 1, 10, 38, 18, 1, 12, 10, 28, 13, 6, 18, 16, 30, 8, 34, 30, 16, 11, 13, 21, 37, 1, 1, 14, 2, 6, 3, 8, 11, 11, 15, 6, 19, 15, 18, 6, 14, 15, 8, 6, 35, 16, 7, 24, 13, 2, 33, 6, 11, 8, 17, 20, 11, 41, 14, 3, 12, 1, 10, 11, 18, 15, 2, 9, 8, 31, 5, 5, 23, 4, 43, 29, 57, 10, 5, 30, 31, 7, 5, 21, 9, 2, 6, 8, 17, 34, 19, 11, 14, 2, 9, 32, 3, 2, 13, 18, 19, 25, 15, 19, 3, 13, 13, 6, 17, 13, 15, 14, 30, 5, 3, 17, 17, 11, 3, 9, 6, 14, 8, 13, 10, 10, 6, 10, 26, 5, 14, 5, 23, 9, 12, 27, 14, 8, 2, 9, 3, 10, 13, 12, 3, 10, 21, 19, 2, 37, 44, 1, 1, 13, 9, 34, 13, 7, 13, 23, 1, 38, 26, 16, 17, 3, 12, 16, 18, 23, 15, 15, 38, 8, 11, 12, 24, 10, 11, 25, 11, 12, 14, 8, 19, 10, 6, 11, 3, 1, 37, 45, 37, 8, 9, 14, 6, 21, 16, 1, 25, 16, 7, 14, 7, 26, 21, 2, 1, 12, 4, 11, 15, 7, 3, 9, 4, 11, 28, 15, 22, 42, 13, 5, 2, 8, 14, 1, 12, 9, 10, 18, 7, 9, 31, 14, 24, 18, 15, 9, 14, 5, 10, 12, 16, 15, 4, 15, 23, 2, 10, 29, 38, 13, 7, 4, 9, 21, 14, 15, 9, 37, 16, 23, 15, 9, 1, 53, 12, 14, 6, 1, 11, 9, 17, 1, 8, 19, 35, 33, 28, 24, 2, 3, 4, 2, 13, 14, 2, 14, 17, 5, 1, 9, 8, 17, 9, 14, 24, 12, 10, 17, 40, 18, 14, 22, 6, 40, 11, 6, 9, 14, 9, 13, 3, 9, 25, 5, 6, 42, 39, 6, 29, 12, 8, 5, 45, 29, 9, 11, 14, 3, 74, 4, 5, 26, 7, 5, 8, 7, 8, 22, 38, 11, 16, 11, 15, 19, 16, 15, 19, 8, 24, 5, 34, 7, 10, 1, 6, 18, 15, 6, 1, 1, 1, 3, 12, 13, 14, 10, 10, 17, 13, 2, 37, 5, 26, 15, 17, 23, 52, 11, 9, 10, 12, 6, 26, 8, 10, 20, 34, 28, 15, 15, 2, 28, 31, 6, 12, 54, 37, 1, 1, 29, 12, 2, 20, 9, 1, 19, 1, 31, 7, 26, 34, 42, 81, 14, 29, 30, 15, 12, 48, 1, 13, 29, 5, 2, 37, 31, 14, 28, 31, 3, 29, 5, 21, 21, 5, 33, 19, 7, 7, 5, 20, 19, 10, 1, 25, 18, 13, 29, 7, 37, 21, 19, 37, 17, 1, 28, 29, 17, 31, 14, 1, 8, 15, 10, 7, 23, 10, 9, 30, 37, 17, 15, 7, 16, 30, 19, 8, 34, 15, 13, 20, 2, 10, 5, 1, 21, 6, 13, 1, 7, 11, 11, 8, 9, 10, 7], \"y\": [334.40000000000003, 89.0, 459.4, 189.89999999999998, 641.3799999999999, 364.6, 401.9, 84.3, 225.6, 562.41, 582.73, 256.4, 509.01000000000005, 173.55, 133.4, 476.49, 197.88, 334.92999999999995, 263.21, 433.74, 73.50000000000001, 176.5, 132.18, 383.70000000000005, 330.84000000000003, 599.68, 192.72000000000003, 207.8, 95.19999999999999, 168.0, 561.7099999999999, 238.85, 456.90000000000003, 145.92000000000002, 160.54, 218.45000000000002, 415.70000000000005, 197.70999999999998, 511.3599999999999, 214.89999999999998, 452.84999999999997, 577.0600000000001, 153.12, 254.17999999999998, 315.59999999999997, 177.31, 180.09999999999997, 305.1, 486.1, 185.9, 318.04999999999995, 114.0, 91.68, 63.0, 225.9, 89.14, 389.01, 219.0, 283.55, 603.42, 238.25, 427.8, 236.26000000000005, 383.95000000000005, 110.39999999999999, 234.00000000000003, 155.35, 275.88, 112.08000000000001, 1351.4499999999998, 311.95, 91.85000000000001, 324.9200000000001, 192.60000000000002, 400.53999999999996, 545.48, 254.03, 427.58, 489.31, 514.8499999999999, 229.64, 125.92, 166.04, 1542.08, 92.72, 293.0, 215.05, 417.38, 312.38, 134.1, 354.09, 311.55, 38.1, 521.2, 147.12, 559.12, 380.64000000000004, 374.0, 343.2300000000001, 298.0, 309.05000000000007, 354.12, 331.0, 216.5, 138.67999999999998, 750.0, 363.65, 594.0, 405.38, 172.81999999999996, 117.85, 114.13999999999999, 462.95000000000005, 108.07, 135.95, 144.8, 39.24, 390.53999999999996, 97.5, 211.32, 455.88, 120.94999999999999, 149.05, 513.6999999999999, 81.57, 229.47000000000003, 50.550000000000004, 190.54999999999998, 516.4200000000001, 560.47, 305.28, 656.6800000000002, 348.15000000000003, 271.4, 183.4, 307.53000000000003, 248.61, 346.98, 205.85999999999999, 115.46000000000001, 228.8, 177.14999999999998, 58.08, 416.08000000000004, 74.4, 207.35999999999999, 101.19, 243.94, 76.5, 350.05999999999995, 30.599999999999998, 283.72999999999996, 259.16999999999996, 64.0, 77.3, 109.80000000000001, 110.94999999999999, 228.91, 91.8, 112.75, 417.20000000000005, 282.45, 121.18, 71.4, 236.01999999999998, 112.08, 60.7, 333.74, 533.98, 62.64, 163.20000000000002, 108.21, 257.7, 358.0, 160.95, 329.56, 270.40000000000003, 121.74, 557.62, 944.1, 200.29, 590.0, 276.56000000000006, 138.98, 137.75, 93.66, 201.19, 201.2, 87.4, 142.5, 371.89, 63.75, 300.41999999999996, 15.0, 567.36, 1308.48, 487.02000000000004, 353.43, 389.5, 341.36, 233.76, 373.94, 439.03000000000003, 134.96, 56.160000000000004, 623.4, 308.28, 222.99, 534.5699999999999, 544.08, 59.8, 307.71999999999997, 457.34000000000003, 213.55, 221.06, 159.85, 534.24, 283.71, 296.64000000000004, 590.0, 356.97999999999996, 183.44, 151.5, 307.90000000000003, 165.0, 226.83999999999995, 300.95, 184.64, 140.34, 313.8, 454.24, 449.52, 618.63, 316.26000000000005, 348.04999999999995, 216.85000000000002, 295.93000000000006, 458.52, 110.97000000000003, 251.20999999999998, 205.09999999999997, 152.20000000000002, 122.75, 125.80000000000001, 307.76, 483.80000000000007, 269.09000000000003, 91.80000000000001, 141.86, 187.04999999999998, 239.49000000000004, 118.0, 142.4, 247.95999999999998, 219.51999999999998, 417.6900000000001, 177.34, 213.85, 257.22999999999996, 252.1, 346.6, 94.2, 189.46999999999997, 84.65, 299.04999999999995, 218.55, 186.39, 486.82000000000005, 232.6, 59.5, 65.13000000000001, 72.0, 172.25, 151.3, 308.58, 99.5, 330.79, 285.3299999999999, 180.48, 252.06000000000003, 228.83999999999997, 138.28, 306.55, 199.85000000000002, 610.59, 339.6, 216.9, 350.75, 300.03999999999996, 79.6, 296.25, 282.6, 306.72, 178.7, 127.84, 230.4, 195.54999999999995, 558.32, 277.07000000000005, 256.38, 112.6, 155.05, 814.5, 189.5, 209.49000000000004, 52.199999999999996, 383.8499999999999, 266.59000000000003, 85.0, 312.98, 388.5, 216.17000000000002, 201.16, 305.78, 145.67, 540.45, 122.69999999999999, 117.24000000000001, 506.8, 243.56, 349.54999999999995, 416.9, 155.93, 172.24999999999997, 223.85000000000002, 842.65, 337.34, 307.4, 376.5799999999999, 158.85, 71.66, 561.57, 90.6, 101.99999999999999, 322.96, 230.22, 169.55, 664.5400000000001, 80.7, 190.25000000000003, 264.7, 357.98, 200.14000000000001, 311.3, 76.8, 635.6600000000001, 328.8, 631.9000000000001, 440.0, 327.70000000000005, 104.82000000000002, 467.66, 626.65, 147.2, 152.2, 141.41, 154.99, 260.25, 92.46, 183.6, 152.55, 265.85, 151.04, 375.0999999999999, 45.599999999999994, 182.24999999999997, 158.75, 76.32000000000001, 191.95000000000002, 216.20999999999998, 144.2, 386.53, 90.0, 419.58000000000004, 311.81, 115.8, 483.4, 157.2, 446.62000000000006, 118.75, 289.36, 120.44, 576.9, 197.65, 1011.9999999999998, 335.52, 185.39999999999998, 328.15999999999997, 151.73999999999998, 169.48000000000002, 632.3999999999999, 490.86, 161.00000000000003, 146.85, 213.70000000000005, 280.55, 136.76999999999998, 302.58, 120.0, 333.97, 492.65, 112.32, 134.04, 426.6, 166.2, 43.2, 640.1400000000001, 383.45000000000005, 310.26, 120.0, 477.78999999999996, 183.85000000000002, 311.65000000000003, 415.2, 588.2199999999999, 309.52, 134.7, 108.97999999999999, 409.57, 282.92999999999995, 51.0, 90.6, 174.4, 155.0, 100.5, 76.55, 235.56, 617.05, 142.4, 67.94999999999999, 574.6999999999999, 156.75, 1063.0, 121.05000000000001, 265.2, 470.36, 89.06, 63.0, 131.9, 483.24999999999994, 119.93, 113.64, 434.34000000000003, 529.62, 234.34, 193.0, 316.24999999999994, 636.51, 137.1, 463.38, 340.93, 139.56, 123.79999999999998, 538.8100000000001, 475.37, 356.85, 251.21, 275.28, 455.59000000000003, 174.37, 241.09, 170.95, 355.56000000000006, 103.25000000000001, 652.8, 289.24, 186.23000000000002, 164.22, 218.06, 35.400000000000006, 114.11, 237.36, 39.75, 393.33, 660.0, 601.5600000000001, 406.08000000000004, 394.43999999999994, 412.78000000000003, 320.58, 225.84999999999997, 114.56, 344.9000000000001, 110.46, 96.12, 597.0899999999999, 236.04, 114.18, 291.05, 285.73999999999995, 107.95, 195.25, 498.95, 52.0, 628.3799999999999, 112.80000000000001, 172.9, 188.60999999999996, 109.13000000000001, 179.0, 160.19, 180.42, 268.58, 328.19999999999993, 89.2, 255.89999999999998, 300.52, 278.3, 139.26, 386.15, 200.10000000000002, 289.99, 197.64000000000001, 6.2, 228.99, 131.45, 173.74, 157.70000000000002, 193.39, 152.87999999999997, 271.85, 272.07, 48.800000000000004, 188.88, 62.85, 309.4, 325.75, 170.32, 125.79000000000002, 266.76, 327.24999999999994, 519.6800000000001, 255.4, 364.79999999999995, 369.2, 135.9, 125.65, 554.38, 616.15, 277.79999999999995, 307.48, 310.05, 223.88, 363.53, 290.82000000000005, 58.49, 483.73, 126.70000000000002, 206.21, 114.77, 89.94, 279.94, 102.12, 292.01, 334.53999999999996, 156.91000000000003, 170.04, 252.81, 518.28, 252.73000000000002, 179.92999999999998, 135.93, 735.6600000000001, 343.61999999999995, 121.17000000000002, 207.73000000000002, 370.79999999999995, 106.2, 88.19999999999999, 306.94, 381.32, 457.80999999999995, 219.39, 876.0, 319.5, 484.9500000000001, 244.8, 266.4, 184.19000000000003, 406.53000000000003, 330.11000000000007, 139.04999999999998, 178.96, 259.45, 623.5, 158.16000000000003, 487.75, 158.79999999999998, 106.56, 1289.5, 135.75, 224.14000000000004, 40.5, 87.5, 622.8499999999998, 193.64, 316.58, 331.18, 101.79999999999998, 328.35, 96.6, 305.75, 403.25, 585.0, 322.0799999999999, 409.4000000000001, 154.41, 429.6, 197.00000000000006, 321.04999999999995, 514.15, 356.0, 300.36000000000007, 98.45, 317.15, 623.1600000000001, 254.81999999999996, 178.95000000000002, 156.50999999999996, 119.30000000000001, 255.89999999999998, 290.51, 113.12, 240.55, 178.39, 574.02, 205.3, 310.46999999999997, 52.0, 327.96999999999997, 165.0, 204.5, 311.7099999999999, 208.75, 1028.56, 170.22, 252.42000000000002, 201.59999999999997, 158.04, 115.65, 277.05000000000007, 418.9200000000001, 326.0, 168.0, 596.85, 642.41, 394.14, 140.54, 500.0, 107.45000000000002, 288.17999999999995, 94.0, 349.1, 267.18, 190.53, 135.85999999999999, 97.7, 43.5, 383.34000000000003, 171.19, 533.3, 200.16, 156.57999999999998, 594.0, 113.5, 155.17, 494.64, 179.10000000000002, 237.07, 161.64, 214.26, 234.6, 126.14, 225.26000000000002, 91.32000000000001, 141.04, 52.83, 250.0, 121.0, 62.43, 267.03000000000003, 412.01, 148.44, 229.32999999999998, 110.92000000000002, 85.13, 127.86, 90.12, 217.2, 134.55, 173.16000000000003, 186.01000000000002, 258.88000000000005, 127.1, 455.29999999999995, 478.53, 199.8, 240.68, 48.480000000000004, 216.39, 104.76, 298.48, 112.46, 195.15, 301.03, 223.36, 664.0, 447.64, 639.5, 816.0, 560.6700000000001, 30.0, 306.45000000000005, 309.8, 138.14, 301.32000000000005, 76.32000000000001, 173.05, 352.70000000000005, 193.75, 254.1, 136.8, 191.03999999999996, 409.98, 211.5, 143.10000000000002, 133.25, 356.7, 150.3, 190.70000000000002, 218.25, 85.0, 294.11999999999995, 162.3, 449.12, 154.88000000000002, 34.8, 196.88000000000002, 79.2, 205.25, 253.04000000000002, 315.05999999999995, 270.79999999999995, 104.9, 241.61999999999998, 475.28, 351.3, 451.42, 415.82000000000005, 206.98, 15.0, 532.94, 137.37, 118.95000000000002, 130.73999999999998, 160.70999999999998, 110.80000000000001, 296.99999999999994, 149.64000000000001, 501.39000000000004, 516.36, 181.09000000000003, 168.31, 258.25, 179.17000000000002, 208.59000000000003, 56.25, 191.93999999999997, 264.61999999999995, 123.10000000000001, 334.23, 167.5, 323.03, 369.50000000000006, 127.08000000000001, 207.14999999999998, 416.86, 145.35, 35.8, 337.43999999999994, 325.1, 181.0, 104.35, 314.1, 307.82, 168.11999999999998, 101.4, 331.24, 437.69999999999993, 256.44000000000005, 137.89999999999998, 134.8, 335.32000000000005, 584.32, 122.39999999999999, 79.2, 217.16000000000003, 436.18, 315.06, 17.0, 320.62, 185.05, 298.21000000000004, 336.96, 108.38, 611.8800000000001, 195.74, 161.38, 135.75000000000003, 612.7800000000001, 232.21, 307.78000000000003, 249.0, 289.35, 517.5500000000001, 535.3399999999999, 175.2, 76.32000000000001, 348.2000000000001, 37.4, 856.6000000000001, 73.2, 197.9, 215.83, 305.5400000000001, 338.7100000000001, 215.08, 314.45000000000005, 400.681, 365.27, 159.0, 242.35000000000002, 304.25000000000006, 255.12, 314.22, 542.03, 114.56, 152.94, 389.44, 752.4300000000002, 46.95, 559.87, 810.6000000000001, 168.3, 142.5, 302.25, 301.90000000000003, 233.22, 632.27, 226.37, 404.40000000000003, 373.65, 207.50000000000003, 151.05, 214.8, 94.05000000000001, 322.41, 101.10000000000001, 53.5, 153.9, 211.77, 109.36000000000001, 676.2, 362.9500000000001, 94.36, 217.89, 303.93, 293.45, 177.5, 167.25, 135.99, 262.2, 126.25, 133.56, 302.69999999999993, 241.06, 284.55, 300.85, 287.4, 184.26, 255.91, 182.99, 311.92, 266.97, 6.9, 208.35999999999999, 142.92, 136.0, 74.9, 223.95, 316.11, 139.35, 404.30000000000007, 100.97000000000001, 365.45000000000005, 90.30000000000001, 363.70000000000005, 248.10000000000002, 101.7, 162.70000000000005, 215.08, 290.35999999999996, 228.06000000000003, 455.25, 119.62, 339.3, 379.73, 285.89, 281.84999999999997, 173.7, 105.84, 313.61999999999995, 233.45000000000002, 463.95, 225.14999999999995, 213.5, 145.05, 75.66, 129.49, 506.19, 151.85000000000002, 226.21, 129.45, 333.08, 217.9, 231.10000000000002, 487.51, 214.06, 123.24, 39.12, 135.39999999999998, 129.75, 183.7, 422.59999999999997, 225.57999999999996, 1276.0, 657.9000000000001, 112.75000000000001, 301.71999999999997, 901.2, 292.46999999999997, 256.31999999999994, 417.59999999999997, 3.75, 323.00000000000006, 207.5, 223.92, 239.40000000000003, 106.83, 316.62, 611.8500000000001, 34.0, 361.5399999999999, 171.59, 245.94, 311.25, 107.6, 110.38000000000001, 243.84, 305.61999999999995, 288.42, 309.53999999999996, 479.3500000000001, 358.37999999999994, 128.5, 197.22, 199.15, 413.46000000000004, 180.85000000000002, 251.87, 588.85, 214.32000000000002, 193.44, 281.42, 124.57, 332.41, 375.69000000000005, 173.76, 207.73999999999998, 13.3, 432.0, 272.47999999999996, 145.93, 289.78, 113.44, 391.52000000000004, 230.25000000000003, 543.0500000000001, 406.48, 167.60999999999999, 20.8, 518.67, 416.64, 117.35000000000001, 234.17000000000002, 110.55000000000001, 201.18999999999994, 319.02, 251.51999999999998, 179.0, 702.0, 295.0, 195.36, 270.9, 71.0, 95.85, 357.77, 154.82999999999998, 146.87000000000003, 433.53, 449.72999999999996, 642.0199999999999, 240.89, 498.47999999999996, 234.24, 118.80000000000001, 287.62, 301.99999999999994, 25.5, 163.3, 116.19999999999999, 157.02, 307.46000000000004, 138.32, 345.29999999999995, 294.24, 157.08999999999997, 380.5, 454.12, 578.9999999999999, 124.88, 213.77999999999997, 293.1, 158.68, 206.33999999999997, 224.91, 317.76, 59.9, 306.13, 239.91999999999996, 144.0, 203.95, 262.62, 289.78000000000003, 384.08, 204.24, 226.85, 113.49999999999999, 393.48999999999995, 149.89, 382.50000000000006, 171.45, 269.83000000000004, 240.0, 63.440000000000005, 246.04000000000002, 187.82999999999998, 550.8000000000001, 250.03999999999996, 82.75, 644.3, 96.8, 175.2, 307.02000000000004, 243.36, 193.64, 228.96, 98.25, 178.21999999999997, 312.22999999999996, 167.54999999999998, 495.7699999999999, 203.2, 65.4, 508.8, 203.86999999999995, 32.65, 771.8499999999999, 507.8399999999999, 100.8, 265.76000000000005, 388.45000000000005, 186.42, 534.24, 120.90000000000002, 131.7, 249.86, 289.96000000000004, 194.36999999999995, 396.87, 374.57, 271.05, 272.22, 622.88, 288.59999999999997, 302.20000000000005, 387.31, 513.2, 208.65, 153.94, 145.0, 422.7, 296.7, 223.36, 164.39999999999998, 76.5, 98.42, 170.75, 103.3, 148.86, 267.1600000000001, 290.34, 157.9, 344.13999999999993, 226.75, 185.64999999999998, 143.45999999999998, 215.71999999999997, 175.27, 116.00999999999999, 394.71999999999997, 329.6000000000001, 571.2, 214.36999999999998, 81.44, 75.75000000000001, 503.59999999999997, 108.5, 621.6600000000001, 101.55, 133.06, 166.07999999999998, 117.55000000000001, 178.75000000000003, 205.7, 298.11, 184.39999999999998, 239.41, 290.4, 200.46999999999997, 283.12, 338.95000000000005, 154.95, 417.95000000000005, 152.39999999999998, 263.33, 137.45, 153.0, 326.4, 139.35, 303.96999999999997, 355.11, 110.25000000000001, 71.4, 80.64, 15.0, 56.4, 188.01999999999998, 131.94, 225.9, 106.1, 512.31, 36.559999999999995, 298.4, 35.400000000000006, 205.48000000000002, 51.56, 605.8000000000001, 311.26, 208.97, 141.92000000000002, 226.45, 330.9, 329.65, 155.90000000000003, 237.61, 178.51999999999998, 458.91999999999996, 133.35000000000002, 111.35, 201.37, 203.85999999999996, 244.10000000000002, 107.21000000000002, 95.44999999999999, 256.32, 152.06, 154.55, 112.19999999999999, 72.9, 232.02999999999994, 310.06, 207.50000000000003, 244.08, 145.79000000000002, 99.14000000000001, 304.56, 149.58, 176.67999999999998, 358.56000000000006, 557.3, 12.75, 111.67999999999999, 508.4599999999999, 73.78, 102.41, 112.26999999999998, 265.09999999999997, 228.20000000000002, 562.7900000000001, 135.19, 337.03999999999996, 300.91999999999996, 152.68, 20.8, 198.57, 630.84, 93.35, 76.1, 157.91999999999996, 247.39000000000001, 174.79999999999998, 102.79, 187.29, 523.0, 122.14, 38.45, 389.78, 115.30999999999999, 73.5, 93.82000000000001, 70.02, 165.04999999999998, 172.29000000000002, 74.4, 300.0200000000001, 363.65, 318.0, 101.69999999999999, 453.0, 247.44, 489.6, 336.13, 101.33999999999999, 166.02999999999997, 580.05, 168.31, 421.9, 271.0, 76.32000000000001, 220.1, 180.69999999999996, 111.14999999999999, 653.3000000000001, 112.55, 931.4999999999999, 152.65, 1019.52, 160.35, 179.33999999999997, 530.1500000000001, 302.46000000000004, 202.65, 476.35, 632.0700000000002, 304.25, 284.46, 207.79999999999998, 243.76, 150.35, 160.42000000000002, 139.10000000000002, 216.07, 232.48000000000002, 299.34, 641.9200000000001, 305.28000000000003, 158.95000000000002, 93.75, 440.0, 349.27000000000004, 103.3, 149.48, 25.5, 168.6, 283.15000000000003, 175.92000000000002, 110.38, 173.89999999999998, 180.6, 80.82]}],\n",
              "                        {\"template\": {\"data\": {\"bar\": [{\"error_x\": {\"color\": \"#2a3f5f\"}, \"error_y\": {\"color\": \"#2a3f5f\"}, \"marker\": {\"line\": {\"color\": \"#E5ECF6\", \"width\": 0.5}}, \"type\": \"bar\"}], \"barpolar\": [{\"marker\": {\"line\": {\"color\": \"#E5ECF6\", \"width\": 0.5}}, \"type\": \"barpolar\"}], \"carpet\": [{\"aaxis\": {\"endlinecolor\": \"#2a3f5f\", \"gridcolor\": \"white\", \"linecolor\": \"white\", \"minorgridcolor\": \"white\", \"startlinecolor\": \"#2a3f5f\"}, \"baxis\": {\"endlinecolor\": \"#2a3f5f\", \"gridcolor\": \"white\", \"linecolor\": \"white\", \"minorgridcolor\": \"white\", \"startlinecolor\": \"#2a3f5f\"}, \"type\": \"carpet\"}], \"choropleth\": [{\"colorbar\": {\"outlinewidth\": 0, \"ticks\": \"\"}, \"type\": \"choropleth\"}], \"contour\": [{\"colorbar\": {\"outlinewidth\": 0, \"ticks\": \"\"}, \"colorscale\": [[0.0, \"#0d0887\"], [0.1111111111111111, \"#46039f\"], [0.2222222222222222, \"#7201a8\"], [0.3333333333333333, \"#9c179e\"], [0.4444444444444444, \"#bd3786\"], [0.5555555555555556, \"#d8576b\"], [0.6666666666666666, \"#ed7953\"], [0.7777777777777778, \"#fb9f3a\"], [0.8888888888888888, \"#fdca26\"], [1.0, \"#f0f921\"]], \"type\": \"contour\"}], \"contourcarpet\": [{\"colorbar\": {\"outlinewidth\": 0, \"ticks\": \"\"}, \"type\": \"contourcarpet\"}], \"heatmap\": [{\"colorbar\": {\"outlinewidth\": 0, \"ticks\": \"\"}, \"colorscale\": [[0.0, \"#0d0887\"], [0.1111111111111111, \"#46039f\"], [0.2222222222222222, \"#7201a8\"], [0.3333333333333333, \"#9c179e\"], [0.4444444444444444, \"#bd3786\"], [0.5555555555555556, \"#d8576b\"], [0.6666666666666666, \"#ed7953\"], [0.7777777777777778, \"#fb9f3a\"], [0.8888888888888888, \"#fdca26\"], [1.0, \"#f0f921\"]], \"type\": \"heatmap\"}], \"heatmapgl\": [{\"colorbar\": {\"outlinewidth\": 0, \"ticks\": \"\"}, \"colorscale\": [[0.0, \"#0d0887\"], [0.1111111111111111, \"#46039f\"], [0.2222222222222222, \"#7201a8\"], [0.3333333333333333, \"#9c179e\"], [0.4444444444444444, \"#bd3786\"], [0.5555555555555556, \"#d8576b\"], [0.6666666666666666, \"#ed7953\"], [0.7777777777777778, \"#fb9f3a\"], [0.8888888888888888, \"#fdca26\"], [1.0, \"#f0f921\"]], \"type\": \"heatmapgl\"}], \"histogram\": [{\"marker\": {\"colorbar\": {\"outlinewidth\": 0, \"ticks\": \"\"}}, \"type\": \"histogram\"}], \"histogram2d\": [{\"colorbar\": {\"outlinewidth\": 0, \"ticks\": \"\"}, \"colorscale\": [[0.0, \"#0d0887\"], [0.1111111111111111, \"#46039f\"], [0.2222222222222222, \"#7201a8\"], [0.3333333333333333, \"#9c179e\"], [0.4444444444444444, \"#bd3786\"], [0.5555555555555556, \"#d8576b\"], [0.6666666666666666, \"#ed7953\"], [0.7777777777777778, \"#fb9f3a\"], [0.8888888888888888, \"#fdca26\"], [1.0, \"#f0f921\"]], \"type\": \"histogram2d\"}], \"histogram2dcontour\": [{\"colorbar\": {\"outlinewidth\": 0, \"ticks\": \"\"}, \"colorscale\": [[0.0, \"#0d0887\"], [0.1111111111111111, \"#46039f\"], [0.2222222222222222, \"#7201a8\"], [0.3333333333333333, \"#9c179e\"], [0.4444444444444444, \"#bd3786\"], [0.5555555555555556, \"#d8576b\"], [0.6666666666666666, \"#ed7953\"], [0.7777777777777778, \"#fb9f3a\"], [0.8888888888888888, \"#fdca26\"], [1.0, \"#f0f921\"]], \"type\": \"histogram2dcontour\"}], \"mesh3d\": [{\"colorbar\": {\"outlinewidth\": 0, \"ticks\": \"\"}, \"type\": \"mesh3d\"}], \"parcoords\": [{\"line\": {\"colorbar\": {\"outlinewidth\": 0, \"ticks\": \"\"}}, \"type\": \"parcoords\"}], \"pie\": [{\"automargin\": true, \"type\": \"pie\"}], \"scatter\": [{\"marker\": {\"colorbar\": {\"outlinewidth\": 0, \"ticks\": \"\"}}, \"type\": \"scatter\"}], \"scatter3d\": [{\"line\": {\"colorbar\": {\"outlinewidth\": 0, \"ticks\": \"\"}}, \"marker\": {\"colorbar\": {\"outlinewidth\": 0, \"ticks\": \"\"}}, \"type\": \"scatter3d\"}], \"scattercarpet\": [{\"marker\": {\"colorbar\": {\"outlinewidth\": 0, \"ticks\": \"\"}}, \"type\": \"scattercarpet\"}], \"scattergeo\": [{\"marker\": {\"colorbar\": {\"outlinewidth\": 0, \"ticks\": \"\"}}, \"type\": \"scattergeo\"}], \"scattergl\": [{\"marker\": {\"colorbar\": {\"outlinewidth\": 0, \"ticks\": \"\"}}, \"type\": \"scattergl\"}], \"scattermapbox\": [{\"marker\": {\"colorbar\": {\"outlinewidth\": 0, \"ticks\": \"\"}}, \"type\": \"scattermapbox\"}], \"scatterpolar\": [{\"marker\": {\"colorbar\": {\"outlinewidth\": 0, \"ticks\": \"\"}}, \"type\": \"scatterpolar\"}], \"scatterpolargl\": [{\"marker\": {\"colorbar\": {\"outlinewidth\": 0, \"ticks\": \"\"}}, \"type\": \"scatterpolargl\"}], \"scatterternary\": [{\"marker\": {\"colorbar\": {\"outlinewidth\": 0, \"ticks\": \"\"}}, \"type\": \"scatterternary\"}], \"surface\": [{\"colorbar\": {\"outlinewidth\": 0, \"ticks\": \"\"}, \"colorscale\": [[0.0, \"#0d0887\"], [0.1111111111111111, \"#46039f\"], [0.2222222222222222, \"#7201a8\"], [0.3333333333333333, \"#9c179e\"], [0.4444444444444444, \"#bd3786\"], [0.5555555555555556, \"#d8576b\"], [0.6666666666666666, \"#ed7953\"], [0.7777777777777778, \"#fb9f3a\"], [0.8888888888888888, \"#fdca26\"], [1.0, \"#f0f921\"]], \"type\": \"surface\"}], \"table\": [{\"cells\": {\"fill\": {\"color\": \"#EBF0F8\"}, \"line\": {\"color\": \"white\"}}, \"header\": {\"fill\": {\"color\": \"#C8D4E3\"}, \"line\": {\"color\": \"white\"}}, \"type\": \"table\"}]}, \"layout\": {\"annotationdefaults\": {\"arrowcolor\": \"#2a3f5f\", \"arrowhead\": 0, \"arrowwidth\": 1}, \"coloraxis\": {\"colorbar\": {\"outlinewidth\": 0, \"ticks\": \"\"}}, \"colorscale\": {\"diverging\": [[0, \"#8e0152\"], [0.1, \"#c51b7d\"], [0.2, \"#de77ae\"], [0.3, \"#f1b6da\"], [0.4, \"#fde0ef\"], [0.5, \"#f7f7f7\"], [0.6, \"#e6f5d0\"], [0.7, \"#b8e186\"], [0.8, \"#7fbc41\"], [0.9, \"#4d9221\"], [1, \"#276419\"]], \"sequential\": [[0.0, \"#0d0887\"], [0.1111111111111111, \"#46039f\"], [0.2222222222222222, \"#7201a8\"], [0.3333333333333333, \"#9c179e\"], [0.4444444444444444, \"#bd3786\"], [0.5555555555555556, \"#d8576b\"], [0.6666666666666666, \"#ed7953\"], [0.7777777777777778, \"#fb9f3a\"], [0.8888888888888888, \"#fdca26\"], [1.0, \"#f0f921\"]], \"sequentialminus\": [[0.0, \"#0d0887\"], [0.1111111111111111, \"#46039f\"], [0.2222222222222222, \"#7201a8\"], [0.3333333333333333, \"#9c179e\"], [0.4444444444444444, \"#bd3786\"], [0.5555555555555556, \"#d8576b\"], [0.6666666666666666, \"#ed7953\"], [0.7777777777777778, \"#fb9f3a\"], [0.8888888888888888, \"#fdca26\"], [1.0, \"#f0f921\"]]}, \"colorway\": [\"#636efa\", \"#EF553B\", \"#00cc96\", \"#ab63fa\", \"#FFA15A\", \"#19d3f3\", \"#FF6692\", \"#B6E880\", \"#FF97FF\", \"#FECB52\"], \"font\": {\"color\": \"#2a3f5f\"}, \"geo\": {\"bgcolor\": \"white\", \"lakecolor\": \"white\", \"landcolor\": \"#E5ECF6\", \"showlakes\": true, \"showland\": true, \"subunitcolor\": \"white\"}, \"hoverlabel\": {\"align\": \"left\"}, \"hovermode\": \"closest\", \"mapbox\": {\"style\": \"light\"}, \"paper_bgcolor\": \"white\", \"plot_bgcolor\": \"#E5ECF6\", \"polar\": {\"angularaxis\": {\"gridcolor\": \"white\", \"linecolor\": \"white\", \"ticks\": \"\"}, \"bgcolor\": \"#E5ECF6\", \"radialaxis\": {\"gridcolor\": \"white\", \"linecolor\": \"white\", \"ticks\": \"\"}}, \"scene\": {\"xaxis\": {\"backgroundcolor\": \"#E5ECF6\", \"gridcolor\": \"white\", \"gridwidth\": 2, \"linecolor\": \"white\", \"showbackground\": true, \"ticks\": \"\", \"zerolinecolor\": \"white\"}, \"yaxis\": {\"backgroundcolor\": \"#E5ECF6\", \"gridcolor\": \"white\", \"gridwidth\": 2, \"linecolor\": \"white\", \"showbackground\": true, \"ticks\": \"\", \"zerolinecolor\": \"white\"}, \"zaxis\": {\"backgroundcolor\": \"#E5ECF6\", \"gridcolor\": \"white\", \"gridwidth\": 2, \"linecolor\": \"white\", \"showbackground\": true, \"ticks\": \"\", \"zerolinecolor\": \"white\"}}, \"shapedefaults\": {\"line\": {\"color\": \"#2a3f5f\"}}, \"ternary\": {\"aaxis\": {\"gridcolor\": \"white\", \"linecolor\": \"white\", \"ticks\": \"\"}, \"baxis\": {\"gridcolor\": \"white\", \"linecolor\": \"white\", \"ticks\": \"\"}, \"bgcolor\": \"#E5ECF6\", \"caxis\": {\"gridcolor\": \"white\", \"linecolor\": \"white\", \"ticks\": \"\"}}, \"title\": {\"x\": 0.05}, \"xaxis\": {\"automargin\": true, \"gridcolor\": \"white\", \"linecolor\": \"white\", \"ticks\": \"\", \"title\": {\"standoff\": 15}, \"zerolinecolor\": \"white\", \"zerolinewidth\": 2}, \"yaxis\": {\"automargin\": true, \"gridcolor\": \"white\", \"linecolor\": \"white\", \"ticks\": \"\", \"title\": {\"standoff\": 15}, \"zerolinecolor\": \"white\", \"zerolinewidth\": 2}}}, \"title\": {\"text\": \"Perbandingan Monetary vs Frequency\"}, \"xaxis\": {\"title\": {\"text\": \"Frequency\"}}, \"yaxis\": {\"title\": {\"text\": \"Monetary\"}}},\n",
              "                        {\"responsive\": true}\n",
              "                    ).then(function(){\n",
              "                            \n",
              "var gd = document.getElementById('861bc656-fd2e-479b-81a0-d428fa4d25bc');\n",
              "var x = new MutationObserver(function (mutations, observer) {{\n",
              "        var display = window.getComputedStyle(gd).display;\n",
              "        if (!display || display === 'none') {{\n",
              "            console.log([gd, 'removed!']);\n",
              "            Plotly.purge(gd);\n",
              "            observer.disconnect();\n",
              "        }}\n",
              "}});\n",
              "\n",
              "// Listen for the removal of the full notebook cells\n",
              "var notebookContainer = gd.closest('#notebook-container');\n",
              "if (notebookContainer) {{\n",
              "    x.observe(notebookContainer, {childList: true});\n",
              "}}\n",
              "\n",
              "// Listen for the clearing of the current output cell\n",
              "var outputEl = gd.closest('.output');\n",
              "if (outputEl) {{\n",
              "    x.observe(outputEl, {childList: true});\n",
              "}}\n",
              "\n",
              "                        })\n",
              "                };\n",
              "                \n",
              "            </script>\n",
              "        </div>\n",
              "</body>\n",
              "</html>"
            ]
          },
          "metadata": {
            "tags": []
          }
        }
      ]
    },
    {
      "cell_type": "code",
      "metadata": {
        "colab": {
          "base_uri": "https://localhost:8080/",
          "height": 835
        },
        "id": "k3Um_u1YFruS",
        "outputId": "d0cd54c2-b459-40cb-ae88-177c3808d6f9"
      },
      "source": [
        "#Melihat distibusi data hasil RFMScore\r\n",
        "plt.figure(figsize=(10,10))\r\n",
        "\r\n",
        "plt.subplot(3,1,1)\r\n",
        "sns.distplot(RFMScores['Recency'],kde_kws={\"color\":\"b\",\"lw\":3,\"label\":\"KDE\"},hist_kws={\"color\":\"r\"})\r\n",
        "plt.subplot(3,1,2)\r\n",
        "sns.distplot(RFMScores['Frequency'],kde_kws={\"color\":\"b\",\"lw\":3,\"label\":\"KDE\"},hist_kws={\"color\":\"r\"})\r\n",
        "plt.subplot(3,1,3)\r\n",
        "sns.distplot(RFMScores['Monetary'],kde_kws={\"color\":\"b\",\"lw\":3,\"label\":\"KDE\"},hist_kws={\"color\":\"r\"})\r\n",
        "\r\n",
        "plt.legend()\r\n",
        "plt.show()"
      ],
      "execution_count": 49,
      "outputs": [
        {
          "output_type": "stream",
          "text": [
            "/usr/local/lib/python3.7/dist-packages/seaborn/distributions.py:2557: FutureWarning:\n",
            "\n",
            "`distplot` is a deprecated function and will be removed in a future version. Please adapt your code to use either `displot` (a figure-level function with similar flexibility) or `histplot` (an axes-level function for histograms).\n",
            "\n",
            "/usr/local/lib/python3.7/dist-packages/seaborn/distributions.py:2557: FutureWarning:\n",
            "\n",
            "`distplot` is a deprecated function and will be removed in a future version. Please adapt your code to use either `displot` (a figure-level function with similar flexibility) or `histplot` (an axes-level function for histograms).\n",
            "\n",
            "/usr/local/lib/python3.7/dist-packages/seaborn/distributions.py:2557: FutureWarning:\n",
            "\n",
            "`distplot` is a deprecated function and will be removed in a future version. Please adapt your code to use either `displot` (a figure-level function with similar flexibility) or `histplot` (an axes-level function for histograms).\n",
            "\n"
          ],
          "name": "stderr"
        },
        {
          "output_type": "display_data",
          "data": {
            "image/png": "[encoded data removed]",
            "text/plain": [
              "<Figure size 720x720 with 3 Axes>"
            ]
          },
          "metadata": {
            "tags": []
          }
        }
      ]
    },
    {
      "cell_type": "markdown",
      "metadata": {
        "id": "xuaIPM_mVwPN"
      },
      "source": [
        "**K-Mean Clustering**"
      ]
    },
    {
      "cell_type": "code",
      "metadata": {
        "id": "1W1zUWCYPLdc"
      },
      "source": [
        "from sklearn.cluster import KMeans\r\n",
        "from sklearn.preprocessing import MinMaxScaler"
      ],
      "execution_count": 50,
      "outputs": []
    },
    {
      "cell_type": "code",
      "metadata": {
        "id": "UE59ZGffYYNa",
        "colab": {
          "base_uri": "https://localhost:8080/",
          "height": 235
        },
        "outputId": "3b3eda8b-0c31-4c28-e007-588695eccbb8"
      },
      "source": [
        "#Sebelum dilakukan clustering data harus dalam kondisi normal dan standar (satu skala)\r\n",
        "clustering = RFMScores[['Recency',\"Frequency\",\"Monetary\"]].copy()\r\n",
        "clustering.head()"
      ],
      "execution_count": 51,
      "outputs": [
        {
          "output_type": "execute_result",
          "data": {
            "text/html": [
              "<div>\n",
              "<style scoped>\n",
              "    .dataframe tbody tr th:only-of-type {\n",
              "        vertical-align: middle;\n",
              "    }\n",
              "\n",
              "    .dataframe tbody tr th {\n",
              "        vertical-align: top;\n",
              "    }\n",
              "\n",
              "    .dataframe thead th {\n",
              "        text-align: right;\n",
              "    }\n",
              "</style>\n",
              "<table border=\"1\" class=\"dataframe\">\n",
              "  <thead>\n",
              "    <tr style=\"text-align: right;\">\n",
              "      <th></th>\n",
              "      <th>Recency</th>\n",
              "      <th>Frequency</th>\n",
              "      <th>Monetary</th>\n",
              "    </tr>\n",
              "    <tr>\n",
              "      <th>CustomerID</th>\n",
              "      <th></th>\n",
              "      <th></th>\n",
              "      <th></th>\n",
              "    </tr>\n",
              "  </thead>\n",
              "  <tbody>\n",
              "    <tr>\n",
              "      <th>12346.0</th>\n",
              "      <td>325</td>\n",
              "      <td>1</td>\n",
              "      <td>77183.60</td>\n",
              "    </tr>\n",
              "    <tr>\n",
              "      <th>12347.0</th>\n",
              "      <td>2</td>\n",
              "      <td>182</td>\n",
              "      <td>4310.00</td>\n",
              "    </tr>\n",
              "    <tr>\n",
              "      <th>12348.0</th>\n",
              "      <td>75</td>\n",
              "      <td>31</td>\n",
              "      <td>1797.24</td>\n",
              "    </tr>\n",
              "    <tr>\n",
              "      <th>12349.0</th>\n",
              "      <td>18</td>\n",
              "      <td>73</td>\n",
              "      <td>1757.55</td>\n",
              "    </tr>\n",
              "    <tr>\n",
              "      <th>12350.0</th>\n",
              "      <td>310</td>\n",
              "      <td>17</td>\n",
              "      <td>334.40</td>\n",
              "    </tr>\n",
              "  </tbody>\n",
              "</table>\n",
              "</div>"
            ],
            "text/plain": [
              "            Recency  Frequency  Monetary\n",
              "CustomerID                              \n",
              "12346.0         325          1  77183.60\n",
              "12347.0           2        182   4310.00\n",
              "12348.0          75         31   1797.24\n",
              "12349.0          18         73   1757.55\n",
              "12350.0         310         17    334.40"
            ]
          },
          "metadata": {
            "tags": []
          },
          "execution_count": 51
        }
      ]
    },
    {
      "cell_type": "code",
      "metadata": {
        "id": "ASBswRKiGDCt",
        "colab": {
          "base_uri": "https://localhost:8080/",
          "height": 1000
        },
        "outputId": "1bb5142e-d198-42d4-b49a-eb35aac9e964"
      },
      "source": [
        "import numpy as np\r\n",
        "\r\n",
        "def handle_o_n_min (num):\r\n",
        "  if num <=1:\r\n",
        "    return 1\r\n",
        "  else:\r\n",
        "    return num\r\n",
        "  \r\n",
        "clustering['Recency']=[handle_o_n_min(x) for x in clustering.Recency]\r\n",
        "clustering['Monetary']=[handle_o_n_min(x) for x in clustering.Monetary]\r\n",
        "\r\n",
        "#normalisasi dengan mengunakan log\r\n",
        "data_norm = clustering.apply(np.log,axis=1)\r\n",
        "\r\n",
        "#memebuktikan data sudah terdistribusi normal dengan visualisasi\r\n",
        "plt.figure(figsize=(10,20))\r\n",
        "plt.subplot(3,1,1)\r\n",
        "Recency_Plot = data_norm['Recency']\r\n",
        "sns.distplot(Recency_Plot,kde_kws={\"color\":\"b\",\"lw\":3,\"label\":\"KDE\"},hist_kws={\"linewidth\":3,\"color\":\"b\"})\r\n",
        "\r\n",
        "plt.subplot(3,1,2)\r\n",
        "Frequency_Plot = data_norm.query('Frequency < 1000')['Frequency']\r\n",
        "sns.distplot(Frequency_Plot,kde_kws={\"color\":\"r\",\"lw\":3,\"label\":\"KDE\"},hist_kws={\"color\":\"r\"})\r\n",
        "\r\n",
        "plt.subplot(3,1,3)\r\n",
        "Monetary_Plot = data_norm.query('Monetary < 10000')['Monetary']\r\n",
        "sns.distplot(Monetary_Plot,kde_kws={\"color\":\"g\",\"lw\":3,\"label\":\"KDE\"},hist_kws={\"color\":\"g\"})\r\n"
      ],
      "execution_count": 52,
      "outputs": [
        {
          "output_type": "stream",
          "text": [
            "/usr/local/lib/python3.7/dist-packages/seaborn/distributions.py:2557: FutureWarning:\n",
            "\n",
            "`distplot` is a deprecated function and will be removed in a future version. Please adapt your code to use either `displot` (a figure-level function with similar flexibility) or `histplot` (an axes-level function for histograms).\n",
            "\n",
            "/usr/local/lib/python3.7/dist-packages/seaborn/distributions.py:2557: FutureWarning:\n",
            "\n",
            "`distplot` is a deprecated function and will be removed in a future version. Please adapt your code to use either `displot` (a figure-level function with similar flexibility) or `histplot` (an axes-level function for histograms).\n",
            "\n",
            "/usr/local/lib/python3.7/dist-packages/seaborn/distributions.py:2557: FutureWarning:\n",
            "\n",
            "`distplot` is a deprecated function and will be removed in a future version. Please adapt your code to use either `displot` (a figure-level function with similar flexibility) or `histplot` (an axes-level function for histograms).\n",
            "\n"
          ],
          "name": "stderr"
        },
        {
          "output_type": "execute_result",
          "data": {
            "text/plain": [
              "<matplotlib.axes._subplots.AxesSubplot at 0x7f27a7c24f10>"
            ]
          },
          "metadata": {
            "tags": []
          },
          "execution_count": 52
        },
        {
          "output_type": "display_data",
          "data": {
            "image/png": "[encoded data removed]",
            "text/plain": [
              "<Figure size 720x1440 with 3 Axes>"
            ]
          },
          "metadata": {
            "tags": []
          }
        }
      ]
    },
    {
      "cell_type": "code",
      "metadata": {
        "id": "MkYUxy-QYy71",
        "colab": {
          "base_uri": "https://localhost:8080/",
          "height": 204
        },
        "outputId": "e395e3bf-1d9d-4601-8d10-ac87ba2ce139"
      },
      "source": [
        "min_max_scaler = MinMaxScaler()\r\n",
        "x_scaled = min_max_scaler.fit_transform(data_norm)\r\n",
        "data_scaled2 = pd.DataFrame(x_scaled)\r\n",
        "data_scaled2.head()"
      ],
      "execution_count": 53,
      "outputs": [
        {
          "output_type": "execute_result",
          "data": {
            "text/html": [
              "<div>\n",
              "<style scoped>\n",
              "    .dataframe tbody tr th:only-of-type {\n",
              "        vertical-align: middle;\n",
              "    }\n",
              "\n",
              "    .dataframe tbody tr th {\n",
              "        vertical-align: top;\n",
              "    }\n",
              "\n",
              "    .dataframe thead th {\n",
              "        text-align: right;\n",
              "    }\n",
              "</style>\n",
              "<table border=\"1\" class=\"dataframe\">\n",
              "  <thead>\n",
              "    <tr style=\"text-align: right;\">\n",
              "      <th></th>\n",
              "      <th>0</th>\n",
              "      <th>1</th>\n",
              "      <th>2</th>\n",
              "    </tr>\n",
              "  </thead>\n",
              "  <tbody>\n",
              "    <tr>\n",
              "      <th>0</th>\n",
              "      <td>0.976737</td>\n",
              "      <td>0.000000</td>\n",
              "      <td>0.897209</td>\n",
              "    </tr>\n",
              "    <tr>\n",
              "      <th>1</th>\n",
              "      <td>0.117054</td>\n",
              "      <td>0.581723</td>\n",
              "      <td>0.667185</td>\n",
              "    </tr>\n",
              "    <tr>\n",
              "      <th>2</th>\n",
              "      <td>0.729111</td>\n",
              "      <td>0.383864</td>\n",
              "      <td>0.597452</td>\n",
              "    </tr>\n",
              "    <tr>\n",
              "      <th>3</th>\n",
              "      <td>0.488108</td>\n",
              "      <td>0.479603</td>\n",
              "      <td>0.595672</td>\n",
              "    </tr>\n",
              "    <tr>\n",
              "      <th>4</th>\n",
              "      <td>0.968757</td>\n",
              "      <td>0.316707</td>\n",
              "      <td>0.463383</td>\n",
              "    </tr>\n",
              "  </tbody>\n",
              "</table>\n",
              "</div>"
            ],
            "text/plain": [
              "          0         1         2\n",
              "0  0.976737  0.000000  0.897209\n",
              "1  0.117054  0.581723  0.667185\n",
              "2  0.729111  0.383864  0.597452\n",
              "3  0.488108  0.479603  0.595672\n",
              "4  0.968757  0.316707  0.463383"
            ]
          },
          "metadata": {
            "tags": []
          },
          "execution_count": 53
        }
      ]
    },
    {
      "cell_type": "code",
      "metadata": {
        "id": "pQPO8uTWXwEW",
        "colab": {
          "base_uri": "https://localhost:8080/",
          "height": 457
        },
        "outputId": "b208fe66-eee6-4e1d-ef96-34a0c0b1f1a0"
      },
      "source": [
        "#Pengunaan elbow method berperan untuk menentukan jumlah cluster yang kita butuhkan\r\n",
        "N=[]\r\n",
        "for i in range(1,10): \r\n",
        "    kmeans = KMeans(n_clusters=i, init=\"k-means++\",random_state=0)\r\n",
        "    kmeans.fit(data_scaled2)\r\n",
        "    N.append(kmeans.inertia_)  \r\n",
        "\r\n",
        "sns.lineplot(x=range(1,10),y=N,marker=\"o\",c='blue')\r\n",
        "plt.title(\"Elbow plot for optimal number of clusters\")"
      ],
      "execution_count": 54,
      "outputs": [
        {
          "output_type": "stream",
          "text": [
            "/usr/local/lib/python3.7/dist-packages/seaborn/relational.py:514: MatplotlibDeprecationWarning:\n",
            "\n",
            "Saw kwargs ['c', 'color'] which are all aliases for 'color'.  Kept value from 'color'.  Passing multiple aliases for the same property will raise a TypeError in 3.3.\n",
            "\n",
            "/usr/local/lib/python3.7/dist-packages/seaborn/relational.py:529: MatplotlibDeprecationWarning:\n",
            "\n",
            "Saw kwargs ['c', 'color'] which are all aliases for 'color'.  Kept value from 'color'.  Passing multiple aliases for the same property will raise a TypeError in 3.3.\n",
            "\n"
          ],
          "name": "stderr"
        },
        {
          "output_type": "execute_result",
          "data": {
            "text/plain": [
              "Text(0.5, 1.0, 'Elbow plot for optimal number of clusters')"
            ]
          },
          "metadata": {
            "tags": []
          },
          "execution_count": 54
        },
        {
          "output_type": "display_data",
          "data": {
            "image/png": "[encoded data removed]",
            "text/plain": [
              "<Figure size 432x288 with 1 Axes>"
            ]
          },
          "metadata": {
            "tags": []
          }
        }
      ]
    },
    {
      "cell_type": "code",
      "metadata": {
        "id": "fKmmoRvLZ3io"
      },
      "source": [
        "kmeans = KMeans(n_clusters=4, random_state=0,init='k-means++', n_init =10,max_iter = 300).fit(data_scaled2)\r\n",
        "pred = kmeans.predict(data_scaled2)"
      ],
      "execution_count": 55,
      "outputs": []
    },
    {
      "cell_type": "code",
      "metadata": {
        "id": "KZ8Mh2kvaXQ8",
        "colab": {
          "base_uri": "https://localhost:8080/"
        },
        "outputId": "68cbc4b6-5390-40eb-9a7d-4c6789759e33"
      },
      "source": [
        "np.unique(kmeans.labels_)"
      ],
      "execution_count": 56,
      "outputs": [
        {
          "output_type": "execute_result",
          "data": {
            "text/plain": [
              "array([0, 1, 2, 3], dtype=int32)"
            ]
          },
          "metadata": {
            "tags": []
          },
          "execution_count": 56
        }
      ]
    },
    {
      "cell_type": "code",
      "metadata": {
        "id": "FxkWLBchakTm",
        "colab": {
          "base_uri": "https://localhost:8080/",
          "height": 359
        },
        "outputId": "c75b61e5-1d07-474d-de54-d7a48bb90b7e"
      },
      "source": [
        "data_scaled2['cluster'] = kmeans.labels_\r\n",
        "data_scaled2.head(10)"
      ],
      "execution_count": 57,
      "outputs": [
        {
          "output_type": "execute_result",
          "data": {
            "text/html": [
              "<div>\n",
              "<style scoped>\n",
              "    .dataframe tbody tr th:only-of-type {\n",
              "        vertical-align: middle;\n",
              "    }\n",
              "\n",
              "    .dataframe tbody tr th {\n",
              "        vertical-align: top;\n",
              "    }\n",
              "\n",
              "    .dataframe thead th {\n",
              "        text-align: right;\n",
              "    }\n",
              "</style>\n",
              "<table border=\"1\" class=\"dataframe\">\n",
              "  <thead>\n",
              "    <tr style=\"text-align: right;\">\n",
              "      <th></th>\n",
              "      <th>0</th>\n",
              "      <th>1</th>\n",
              "      <th>2</th>\n",
              "      <th>cluster</th>\n",
              "    </tr>\n",
              "  </thead>\n",
              "  <tbody>\n",
              "    <tr>\n",
              "      <th>0</th>\n",
              "      <td>0.976737</td>\n",
              "      <td>0.000000</td>\n",
              "      <td>0.897209</td>\n",
              "      <td>3</td>\n",
              "    </tr>\n",
              "    <tr>\n",
              "      <th>1</th>\n",
              "      <td>0.117054</td>\n",
              "      <td>0.581723</td>\n",
              "      <td>0.667185</td>\n",
              "      <td>2</td>\n",
              "    </tr>\n",
              "    <tr>\n",
              "      <th>2</th>\n",
              "      <td>0.729111</td>\n",
              "      <td>0.383864</td>\n",
              "      <td>0.597452</td>\n",
              "      <td>1</td>\n",
              "    </tr>\n",
              "    <tr>\n",
              "      <th>3</th>\n",
              "      <td>0.488108</td>\n",
              "      <td>0.479603</td>\n",
              "      <td>0.595672</td>\n",
              "      <td>1</td>\n",
              "    </tr>\n",
              "    <tr>\n",
              "      <th>4</th>\n",
              "      <td>0.968757</td>\n",
              "      <td>0.316707</td>\n",
              "      <td>0.463383</td>\n",
              "      <td>3</td>\n",
              "    </tr>\n",
              "    <tr>\n",
              "      <th>5</th>\n",
              "      <td>0.605163</td>\n",
              "      <td>0.496616</td>\n",
              "      <td>0.623956</td>\n",
              "      <td>1</td>\n",
              "    </tr>\n",
              "    <tr>\n",
              "      <th>6</th>\n",
              "      <td>0.898092</td>\n",
              "      <td>0.154965</td>\n",
              "      <td>0.357852</td>\n",
              "      <td>3</td>\n",
              "    </tr>\n",
              "    <tr>\n",
              "      <th>7</th>\n",
              "      <td>0.919812</td>\n",
              "      <td>0.453891</td>\n",
              "      <td>0.556805</td>\n",
              "      <td>3</td>\n",
              "    </tr>\n",
              "    <tr>\n",
              "      <th>8</th>\n",
              "      <td>0.906173</td>\n",
              "      <td>0.286719</td>\n",
              "      <td>0.488702</td>\n",
              "      <td>3</td>\n",
              "    </tr>\n",
              "    <tr>\n",
              "      <th>9</th>\n",
              "      <td>0.521996</td>\n",
              "      <td>0.455802</td>\n",
              "      <td>0.633124</td>\n",
              "      <td>1</td>\n",
              "    </tr>\n",
              "  </tbody>\n",
              "</table>\n",
              "</div>"
            ],
            "text/plain": [
              "          0         1         2  cluster\n",
              "0  0.976737  0.000000  0.897209        3\n",
              "1  0.117054  0.581723  0.667185        2\n",
              "2  0.729111  0.383864  0.597452        1\n",
              "3  0.488108  0.479603  0.595672        1\n",
              "4  0.968757  0.316707  0.463383        3\n",
              "5  0.605163  0.496616  0.623956        1\n",
              "6  0.898092  0.154965  0.357852        3\n",
              "7  0.919812  0.453891  0.556805        3\n",
              "8  0.906173  0.286719  0.488702        3\n",
              "9  0.521996  0.455802  0.633124        1"
            ]
          },
          "metadata": {
            "tags": []
          },
          "execution_count": 57
        }
      ]
    },
    {
      "cell_type": "code",
      "metadata": {
        "id": "07aPdiQzGAGw",
        "colab": {
          "base_uri": "https://localhost:8080/",
          "height": 390
        },
        "outputId": "9176e630-0cf5-4586-9009-a921b22c9bb5"
      },
      "source": [
        "RFMScores['Cluster']=kmeans.labels_\r\n",
        "RFMScores.head(10)"
      ],
      "execution_count": 58,
      "outputs": [
        {
          "output_type": "execute_result",
          "data": {
            "text/html": [
              "<div>\n",
              "<style scoped>\n",
              "    .dataframe tbody tr th:only-of-type {\n",
              "        vertical-align: middle;\n",
              "    }\n",
              "\n",
              "    .dataframe tbody tr th {\n",
              "        vertical-align: top;\n",
              "    }\n",
              "\n",
              "    .dataframe thead th {\n",
              "        text-align: right;\n",
              "    }\n",
              "</style>\n",
              "<table border=\"1\" class=\"dataframe\">\n",
              "  <thead>\n",
              "    <tr style=\"text-align: right;\">\n",
              "      <th></th>\n",
              "      <th>Recency</th>\n",
              "      <th>Frequency</th>\n",
              "      <th>Monetary</th>\n",
              "      <th>R</th>\n",
              "      <th>F</th>\n",
              "      <th>M</th>\n",
              "      <th>RFMgroup</th>\n",
              "      <th>Score</th>\n",
              "      <th>Customer_Level</th>\n",
              "      <th>Cluster</th>\n",
              "    </tr>\n",
              "    <tr>\n",
              "      <th>CustomerID</th>\n",
              "      <th></th>\n",
              "      <th></th>\n",
              "      <th></th>\n",
              "      <th></th>\n",
              "      <th></th>\n",
              "      <th></th>\n",
              "      <th></th>\n",
              "      <th></th>\n",
              "      <th></th>\n",
              "      <th></th>\n",
              "    </tr>\n",
              "  </thead>\n",
              "  <tbody>\n",
              "    <tr>\n",
              "      <th>12346.0</th>\n",
              "      <td>325</td>\n",
              "      <td>1</td>\n",
              "      <td>77183.60</td>\n",
              "      <td>4</td>\n",
              "      <td>4</td>\n",
              "      <td>1</td>\n",
              "      <td>441</td>\n",
              "      <td>9</td>\n",
              "      <td>Gold</td>\n",
              "      <td>3</td>\n",
              "    </tr>\n",
              "    <tr>\n",
              "      <th>12347.0</th>\n",
              "      <td>2</td>\n",
              "      <td>182</td>\n",
              "      <td>4310.00</td>\n",
              "      <td>1</td>\n",
              "      <td>1</td>\n",
              "      <td>1</td>\n",
              "      <td>111</td>\n",
              "      <td>3</td>\n",
              "      <td>Bronze</td>\n",
              "      <td>2</td>\n",
              "    </tr>\n",
              "    <tr>\n",
              "      <th>12348.0</th>\n",
              "      <td>75</td>\n",
              "      <td>31</td>\n",
              "      <td>1797.24</td>\n",
              "      <td>3</td>\n",
              "      <td>3</td>\n",
              "      <td>1</td>\n",
              "      <td>331</td>\n",
              "      <td>7</td>\n",
              "      <td>Gold</td>\n",
              "      <td>1</td>\n",
              "    </tr>\n",
              "    <tr>\n",
              "      <th>12349.0</th>\n",
              "      <td>18</td>\n",
              "      <td>73</td>\n",
              "      <td>1757.55</td>\n",
              "      <td>2</td>\n",
              "      <td>2</td>\n",
              "      <td>1</td>\n",
              "      <td>221</td>\n",
              "      <td>5</td>\n",
              "      <td>Silver</td>\n",
              "      <td>1</td>\n",
              "    </tr>\n",
              "    <tr>\n",
              "      <th>12350.0</th>\n",
              "      <td>310</td>\n",
              "      <td>17</td>\n",
              "      <td>334.40</td>\n",
              "      <td>4</td>\n",
              "      <td>4</td>\n",
              "      <td>3</td>\n",
              "      <td>443</td>\n",
              "      <td>11</td>\n",
              "      <td>Platinum</td>\n",
              "      <td>3</td>\n",
              "    </tr>\n",
              "    <tr>\n",
              "      <th>12352.0</th>\n",
              "      <td>36</td>\n",
              "      <td>85</td>\n",
              "      <td>2506.04</td>\n",
              "      <td>2</td>\n",
              "      <td>2</td>\n",
              "      <td>1</td>\n",
              "      <td>221</td>\n",
              "      <td>5</td>\n",
              "      <td>Silver</td>\n",
              "      <td>1</td>\n",
              "    </tr>\n",
              "    <tr>\n",
              "      <th>12353.0</th>\n",
              "      <td>204</td>\n",
              "      <td>4</td>\n",
              "      <td>89.00</td>\n",
              "      <td>4</td>\n",
              "      <td>4</td>\n",
              "      <td>4</td>\n",
              "      <td>444</td>\n",
              "      <td>12</td>\n",
              "      <td>Platinum</td>\n",
              "      <td>3</td>\n",
              "    </tr>\n",
              "    <tr>\n",
              "      <th>12354.0</th>\n",
              "      <td>232</td>\n",
              "      <td>58</td>\n",
              "      <td>1079.40</td>\n",
              "      <td>4</td>\n",
              "      <td>2</td>\n",
              "      <td>2</td>\n",
              "      <td>422</td>\n",
              "      <td>8</td>\n",
              "      <td>Gold</td>\n",
              "      <td>3</td>\n",
              "    </tr>\n",
              "    <tr>\n",
              "      <th>12355.0</th>\n",
              "      <td>214</td>\n",
              "      <td>13</td>\n",
              "      <td>459.40</td>\n",
              "      <td>4</td>\n",
              "      <td>4</td>\n",
              "      <td>3</td>\n",
              "      <td>443</td>\n",
              "      <td>11</td>\n",
              "      <td>Platinum</td>\n",
              "      <td>3</td>\n",
              "    </tr>\n",
              "    <tr>\n",
              "      <th>12356.0</th>\n",
              "      <td>22</td>\n",
              "      <td>59</td>\n",
              "      <td>2811.43</td>\n",
              "      <td>2</td>\n",
              "      <td>2</td>\n",
              "      <td>1</td>\n",
              "      <td>221</td>\n",
              "      <td>5</td>\n",
              "      <td>Silver</td>\n",
              "      <td>1</td>\n",
              "    </tr>\n",
              "  </tbody>\n",
              "</table>\n",
              "</div>"
            ],
            "text/plain": [
              "            Recency  Frequency  Monetary  R  F  M RFMgroup  Score  \\\n",
              "CustomerID                                                          \n",
              "12346.0         325          1  77183.60  4  4  1      441      9   \n",
              "12347.0           2        182   4310.00  1  1  1      111      3   \n",
              "12348.0          75         31   1797.24  3  3  1      331      7   \n",
              "12349.0          18         73   1757.55  2  2  1      221      5   \n",
              "12350.0         310         17    334.40  4  4  3      443     11   \n",
              "12352.0          36         85   2506.04  2  2  1      221      5   \n",
              "12353.0         204          4     89.00  4  4  4      444     12   \n",
              "12354.0         232         58   1079.40  4  2  2      422      8   \n",
              "12355.0         214         13    459.40  4  4  3      443     11   \n",
              "12356.0          22         59   2811.43  2  2  1      221      5   \n",
              "\n",
              "           Customer_Level  Cluster  \n",
              "CustomerID                          \n",
              "12346.0              Gold        3  \n",
              "12347.0            Bronze        2  \n",
              "12348.0              Gold        1  \n",
              "12349.0            Silver        1  \n",
              "12350.0          Platinum        3  \n",
              "12352.0            Silver        1  \n",
              "12353.0          Platinum        3  \n",
              "12354.0              Gold        3  \n",
              "12355.0          Platinum        3  \n",
              "12356.0            Silver        1  "
            ]
          },
          "metadata": {
            "tags": []
          },
          "execution_count": 58
        }
      ]
    },
    {
      "cell_type": "code",
      "metadata": {
        "id": "oNTiGo92RP7X",
        "colab": {
          "base_uri": "https://localhost:8080/",
          "height": 204
        },
        "outputId": "f4fc7ac5-5617-4008-b0f3-1e52d2d49b35"
      },
      "source": [
        "##Cluster pelanggan setia.\r\n",
        "RFMScores.groupby('Cluster').mean().sort_values('Score',ascending=False)"
      ],
      "execution_count": 59,
      "outputs": [
        {
          "output_type": "execute_result",
          "data": {
            "text/html": [
              "<div>\n",
              "<style scoped>\n",
              "    .dataframe tbody tr th:only-of-type {\n",
              "        vertical-align: middle;\n",
              "    }\n",
              "\n",
              "    .dataframe tbody tr th {\n",
              "        vertical-align: top;\n",
              "    }\n",
              "\n",
              "    .dataframe thead th {\n",
              "        text-align: right;\n",
              "    }\n",
              "</style>\n",
              "<table border=\"1\" class=\"dataframe\">\n",
              "  <thead>\n",
              "    <tr style=\"text-align: right;\">\n",
              "      <th></th>\n",
              "      <th>Recency</th>\n",
              "      <th>Frequency</th>\n",
              "      <th>Monetary</th>\n",
              "      <th>R</th>\n",
              "      <th>F</th>\n",
              "      <th>M</th>\n",
              "      <th>Score</th>\n",
              "    </tr>\n",
              "    <tr>\n",
              "      <th>Cluster</th>\n",
              "      <th></th>\n",
              "      <th></th>\n",
              "      <th></th>\n",
              "      <th></th>\n",
              "      <th></th>\n",
              "      <th></th>\n",
              "      <th></th>\n",
              "    </tr>\n",
              "  </thead>\n",
              "  <tbody>\n",
              "    <tr>\n",
              "      <th>3</th>\n",
              "      <td>216.093458</td>\n",
              "      <td>26.007189</td>\n",
              "      <td>616.175845</td>\n",
              "      <td>3.766355</td>\n",
              "      <td>3.273185</td>\n",
              "      <td>3.208483</td>\n",
              "      <td>10.248023</td>\n",
              "    </tr>\n",
              "    <tr>\n",
              "      <th>0</th>\n",
              "      <td>40.471658</td>\n",
              "      <td>20.917647</td>\n",
              "      <td>436.991072</td>\n",
              "      <td>2.176471</td>\n",
              "      <td>3.388235</td>\n",
              "      <td>3.284492</td>\n",
              "      <td>8.849198</td>\n",
              "    </tr>\n",
              "    <tr>\n",
              "      <th>1</th>\n",
              "      <td>45.724940</td>\n",
              "      <td>128.457097</td>\n",
              "      <td>2419.763209</td>\n",
              "      <td>2.230152</td>\n",
              "      <td>1.572574</td>\n",
              "      <td>1.684844</td>\n",
              "      <td>5.487570</td>\n",
              "    </tr>\n",
              "    <tr>\n",
              "      <th>2</th>\n",
              "      <td>5.120104</td>\n",
              "      <td>230.825065</td>\n",
              "      <td>6010.544282</td>\n",
              "      <td>1.000000</td>\n",
              "      <td>1.591384</td>\n",
              "      <td>1.583551</td>\n",
              "      <td>4.174935</td>\n",
              "    </tr>\n",
              "  </tbody>\n",
              "</table>\n",
              "</div>"
            ],
            "text/plain": [
              "            Recency   Frequency     Monetary         R         F         M  \\\n",
              "Cluster                                                                      \n",
              "3        216.093458   26.007189   616.175845  3.766355  3.273185  3.208483   \n",
              "0         40.471658   20.917647   436.991072  2.176471  3.388235  3.284492   \n",
              "1         45.724940  128.457097  2419.763209  2.230152  1.572574  1.684844   \n",
              "2          5.120104  230.825065  6010.544282  1.000000  1.591384  1.583551   \n",
              "\n",
              "             Score  \n",
              "Cluster             \n",
              "3        10.248023  \n",
              "0         8.849198  \n",
              "1         5.487570  \n",
              "2         4.174935  "
            ]
          },
          "metadata": {
            "tags": []
          },
          "execution_count": 59
        }
      ]
    },
    {
      "cell_type": "markdown",
      "metadata": {
        "id": "q7M-yOtEqI3l"
      },
      "source": [
        "Reference for Cohorts analysis\r\n",
        "https://towardsdatascience.com/a-step-by-step-introduction-to-cohort-analysis-in-python-a2cbbd8460ea \r\n",
        "\r\n",
        "https://towardsdatascience.com/customer-segmentation-in-online-retail-1fc707a6f9e6\r\n",
        "\r\n",
        "https://henryfeng.medium.com/know-users-behaviors-better-with-cohort-analysis-in-python-6c0dfc373963\r\n"
      ]
    }
  ]
}